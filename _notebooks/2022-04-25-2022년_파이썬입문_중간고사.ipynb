{
 "cells": [
  {
   "cell_type": "markdown",
   "id": "706c4d2c",
   "metadata": {},
   "source": [
    "# 2022년 파이썬 입문 중간고사"
   ]
  },
  {
   "cell_type": "markdown",
   "id": "7491658d-9021-4f83-8f96-644d0a5504c3",
   "metadata": {
    "tags": []
   },
   "source": [
    "## `0`. imports\n",
    "아래코드를 이용하여 numpy 와 matplotlib을 import하라. \n",
    "```python\n",
    "import numpy as np\n",
    "import matplotlib.pyplot as plt \n",
    "```"
   ]
  },
  {
   "cell_type": "markdown",
   "id": "5eb8a9cf-afcb-4bb2-a431-2013074ff88d",
   "metadata": {},
   "source": [
    "## `1`. 코드구현 I (40점)"
   ]
  },
  {
   "cell_type": "markdown",
   "id": "2fd10731-6d21-4ee4-bede-6928640a6ffc",
   "metadata": {},
   "source": [
    "**주의:** 문제에 조건이 있는 경우 조건을 준수할 것"
   ]
  },
  {
   "cell_type": "markdown",
   "id": "fe851d5b-7bf4-454f-bb8b-b644cadfa7f8",
   "metadata": {},
   "source": [
    "`(1)` a의 type을 bool로 바꾸어라. "
   ]
  },
  {
   "cell_type": "code",
   "execution_count": 63,
   "id": "5c7c7da0-a6d3-4b41-b597-e580e495bb48",
   "metadata": {},
   "outputs": [],
   "source": [
    "a=1.0"
   ]
  },
  {
   "cell_type": "markdown",
   "id": "dc45ae73-e22e-4134-a5e2-606f2eea5ce7",
   "metadata": {},
   "source": [
    "---"
   ]
  },
  {
   "cell_type": "markdown",
   "id": "ddc29ff7-fdb7-48e9-9117-063c1f6296c2",
   "metadata": {},
   "source": [
    "**(2)-(6)**\n",
    "\n",
    "아래의 문자열을 고려하자. \n",
    "\n",
    "```python\n",
    "test_arr = 'ssh-rsa AAAAB3NzaC1yc2EAAAABIwAAAQEAklOUpkDHrfHY17SbrmTIpNLTGK9Tjom/BWDSUGPl+nafzlHDTYW7hdI4yZ5ew18JH4JW9jbhUFrviQzM7xlELEVf4h9lFX5QVkbPppSwg0cda3Pbv7kOdJ/MTyBlWXFCR+HAo3FXRitBqxiX1nKhXpHAZsMciLq8V6RjsNAQwdsdMFvSlVK/7XAt3FaoJoAsncM1Q9x5+3V0Ww68/eIFmb1zuUFljQJKprrX88XypNDvjYNby6vw/Pb0rwert/EnmZ+AW4OZPnTPI89ZPmVMLuayrD2cE86Z/il8b+gw3r3+1nKatmIkjn2so1d01QraTlMqVSsbxNrRFi9wrf+M7Q== schacon@mylaptop.local'\n",
    "```"
   ]
  },
  {
   "cell_type": "markdown",
   "id": "fa4958eb-bbd4-4c96-805d-36cce67c101b",
   "metadata": {},
   "source": [
    "`(2)` 위 문자열에서 짝수번째 원소를 출력하는 코드를 작성하라. "
   ]
  },
  {
   "cell_type": "markdown",
   "id": "60e217df-ac78-4bd9-be08-d3a728618881",
   "metadata": {},
   "source": [
    "`(3)` 위 문자열에서 마지막 10개의 원소를 출력하는 코드를 작성하라. "
   ]
  },
  {
   "cell_type": "markdown",
   "id": "c0cc2d74-a327-4682-90ef-f9e6ddf2d9d0",
   "metadata": {},
   "source": [
    "`(4)` 위 문자열을 뒤집은 문자열을 구하는 코드를 작성하라. 즉 아래를 출력하는 코드를 작성하라. \n",
    "```\n",
    "'lacol.potpalym@nocahcs ==Q7M+frw9iFRrNxbsSVqMlTarQ10d1os2njkImtaKn1+3r3wg+b8li/Z68Ec2DryauLMVmPZ98IPTnPZO4WA+ZmnE/trewr0bP/wv6ybNYjvDNpyX88XrrpKJQjlFUuz1bmFIe/86wW0V3+5x9Q1McnsAoJoaF3tAX7/KVlSvFMdsdwQANsjR6V8qLicMsZAHpXhKn1XixqBtiRXF3oAH+RCFXWlByTM/JdOk7vbP3adc0gwSppPbkVQ5XFl9h4fVELElx7MzQivrFUhbj9WJ4HJ81we5Zy4Idh7WYTDHlzfan+lPGUSDWB/mojT9KGTLNpITmrbS71YHfrHDkpUOlkAEQAAAwIBAAAAE2cy1CazN3BAAAA asr-hss'\n",
    "```"
   ]
  },
  {
   "cell_type": "markdown",
   "id": "9d470a3f-cef0-40d2-9a8f-89e9963b4cbc",
   "metadata": {},
   "source": [
    "`(5)` 위 문자열에서 대문자의 수를 count하라."
   ]
  },
  {
   "cell_type": "markdown",
   "id": "6e4d0ff3-60f6-4d50-8b06-253e0c43438a",
   "metadata": {},
   "source": [
    "**hint** .isupper() 메소드를 이용할 것. "
   ]
  },
  {
   "cell_type": "code",
   "execution_count": 93,
   "id": "f5ad493d-260d-44c8-89bc-44618391419c",
   "metadata": {},
   "outputs": [
    {
     "data": {
      "text/plain": [
       "False"
      ]
     },
     "execution_count": 93,
     "metadata": {},
     "output_type": "execute_result"
    }
   ],
   "source": [
    "'a'.isupper()"
   ]
  },
  {
   "cell_type": "code",
   "execution_count": 98,
   "id": "8cde9d15-3112-4cac-a5ea-9c5022daa20d",
   "metadata": {},
   "outputs": [
    {
     "data": {
      "text/plain": [
       "True"
      ]
     },
     "execution_count": 98,
     "metadata": {},
     "output_type": "execute_result"
    }
   ],
   "source": [
    "'A'.isupper()"
   ]
  },
  {
   "cell_type": "code",
   "execution_count": 99,
   "id": "62835757-59d8-45ea-9de8-9321d3bf1f13",
   "metadata": {},
   "outputs": [
    {
     "data": {
      "text/plain": [
       "False"
      ]
     },
     "execution_count": 99,
     "metadata": {},
     "output_type": "execute_result"
    }
   ],
   "source": [
    "'='.isupper()"
   ]
  },
  {
   "cell_type": "code",
   "execution_count": 100,
   "id": "769098d8-aa32-4ef8-8960-985750740dcd",
   "metadata": {},
   "outputs": [
    {
     "data": {
      "text/plain": [
       "False"
      ]
     },
     "execution_count": 100,
     "metadata": {},
     "output_type": "execute_result"
    }
   ],
   "source": [
    "'@'.isupper()"
   ]
  },
  {
   "cell_type": "markdown",
   "id": "0dfb1a55-1d87-47c3-b496-babeade2a928",
   "metadata": {},
   "source": [
    "`(6)` 위 문자열에서 사용된 문자 및 특수문자의 종류는 모두 몇가지 인가?"
   ]
  },
  {
   "cell_type": "markdown",
   "id": "e2965656-c1e3-434a-a6ff-d731217fb956",
   "metadata": {},
   "source": [
    "**note1:** 문자열 'AAB @ab' 에서 사용된 문자는 'A', 'B', ' ', '@', 'a', 'b' 이므로 모두 6종류의 문자 및 특수문자가 사용되었다. "
   ]
  },
  {
   "cell_type": "markdown",
   "id": "b33b05a1-2a15-4185-b5bf-ee2b3c009c30",
   "metadata": {},
   "source": [
    "**note2:** ' ', '+', '-', '.', '/', '=', '@', '1', 'a', 'A' 등을 모두 다른 문자로 취급한다."
   ]
  },
  {
   "cell_type": "markdown",
   "id": "c0322675-2976-40ec-a1d8-6647f085ea9b",
   "metadata": {},
   "source": [
    "---"
   ]
  },
  {
   "cell_type": "markdown",
   "id": "0a1cd858-ca2a-47ad-b8bf-ec0e23f4f8aa",
   "metadata": {},
   "source": [
    "`(7)` 리스트컴프리헨션을 이용하여 아래와 같은 리스트를 생성하라 \n",
    "\n",
    "```\n",
    "['a',\n",
    " 'aa',\n",
    " 'aaa',\n",
    " 'aaaa',\n",
    " 'aaaaa',\n",
    " 'aaaaaa',\n",
    " 'aaaaaaa',\n",
    " 'aaaaaaaa',\n",
    " 'aaaaaaaaa',\n",
    " 'aaaaaaaaaa'] <- a가 10개있음 \n",
    "```"
   ]
  },
  {
   "cell_type": "markdown",
   "id": "1fee02a5-7cf1-40d5-95ae-096e22df1519",
   "metadata": {},
   "source": [
    "`(8)` 길이가 1인 튜플을 만들어 자신의 학번을 저장하라. 길이가 1인 튜플을 만들어 자신의 영문이름을 저장하라. 두 튜플을 `+` 연산자로 합쳐아래와 같은 출력결과를 얻어라. \n",
    "\n",
    "```\n",
    "(202143052,'guebin')\n",
    "```"
   ]
  },
  {
   "cell_type": "markdown",
   "id": "a64a023d-4f70-47b8-bc05-b0f84573cad1",
   "metadata": {},
   "source": [
    "`(9)` 아래와 같은 list가 있다고 하자. \n",
    "\n",
    "```python\n",
    "test_lst = [['g',1],['u',5],['e',2],['b',8],['i',2],['n',9]]\n",
    "```\n",
    "\n",
    "test_lst와 리스트컴프리헨션을 이용하여 아래를 출력하는 코드를 구현하라. \n",
    "\n",
    "```\n",
    "['g', 'uuuuu', 'ee', 'bbbbbbbb', 'ii', 'nnnnnnnnn']\n",
    "```"
   ]
  },
  {
   "cell_type": "markdown",
   "id": "996a7c91-1d4a-4d73-98b1-c172a779ae4d",
   "metadata": {},
   "source": [
    "`(10)` 다음은 학생들의 출석,레포트,중간고사,기말고사 점수를 입력으로 하여 학점을 계산하는 함수이다. \n",
    "\n",
    "```python\n",
    "def grade(attendance, report, mid, final): \n",
    "    if attendance<70: \n",
    "        credit = 'F' \n",
    "    else: \n",
    "        total_score = attendance * 0.1 + report * 0.2 + mid * 0.3 + final * 0.4 \n",
    "        if total_score > 80: \n",
    "            credit = 'A+' \n",
    "        else:\n",
    "            credit = 'B0' \n",
    "    return credit \n",
    "```\n",
    "\n",
    "아래는 학생들의 학번, 출석점수, 레포트, 중간고사, 기말고사 점수가 입력된 리스트이다. \n",
    "\n",
    "```python\n",
    "data = [['202212345', [100,95,25,90]],\n",
    "        ['202212346', [60,90,95,95]],\n",
    "        ['202212347', [50,90,45,35]],\n",
    "        ['202212348', [90,90,50,75]],\n",
    "        ['202212349', [100,95,85,85]],\n",
    "        ['202212350', [90,90,100,95]],\n",
    "        ['202212351', [100,95,100,95]],\n",
    "        ['202212352', [95,85,80,60]],\n",
    "        ['202212353', [100,90,60,55]],\n",
    "        ['202212354', [100,85,70,95]],\n",
    "        ['202212355', [100,95,40,100]]]\n",
    "```\n",
    "\n",
    "아래의 ???를 적절하게 완성하여 학생들의 학점을 계산하는 코드를 완성하라. \n",
    "\n",
    "```python\n",
    "[grade(???) for _, scores in data] \n",
    "```"
   ]
  },
  {
   "cell_type": "markdown",
   "id": "58f99f55-4145-41cf-9280-caca95d8624b",
   "metadata": {},
   "source": [
    "`(11)` 길이가 0인 문자열을 선언하라. "
   ]
  },
  {
   "cell_type": "markdown",
   "id": "0bdabb7b-b245-48ec-bdac-c57d23f0a6f4",
   "metadata": {},
   "source": [
    "---"
   ]
  },
  {
   "cell_type": "markdown",
   "id": "131ccace-ec6b-424a-bdef-fed90022c6c4",
   "metadata": {},
   "source": [
    "**(12)-(15)**"
   ]
  },
  {
   "cell_type": "markdown",
   "id": "c08cf2cd-bd4e-4f0b-88d2-4ef4ccd47368",
   "metadata": {},
   "source": [
    "`(12)` dir(plt)와 dir(np)를 각각 실행하라. 실행결과를 각각 a,b로 저장하라. a,b의 type은 무엇인가? "
   ]
  },
  {
   "cell_type": "markdown",
   "id": "7efe5444-c9f6-4209-882d-e0b311a587a9",
   "metadata": {},
   "source": [
    "`(13)` a의 원소와 b의 원소의 수를 각각 구하라. "
   ]
  },
  {
   "cell_type": "markdown",
   "id": "1a9fc47d-0477-4418-bcc4-2c940d6fc1b9",
   "metadata": {},
   "source": [
    "`(14)` a와 b의 공통원소의 수를 구하라. "
   ]
  },
  {
   "cell_type": "markdown",
   "id": "bea7c8e9-4908-4529-9083-997451f79fe6",
   "metadata": {},
   "source": [
    "`(15)` a와 b의 원소를 합친 리스트를 만들어라. (공통원소는 중복하여 합치지 않는다) "
   ]
  },
  {
   "cell_type": "markdown",
   "id": "4a242439-27cf-460f-8459-a3b61bde9875",
   "metadata": {},
   "source": [
    "--- "
   ]
  },
  {
   "cell_type": "markdown",
   "id": "77411a30-dedb-46fa-9fc7-6bb9c391be27",
   "metadata": {},
   "source": [
    "**(16)-(18)** 아래와 같은 dictionary가 있다. \n",
    "```python\n",
    "test_dic = {'202212345': {'att':100,'rep':95,'mid':25,'fin':90},\n",
    "            '202212346': {'att':60,'rep':90,'mid':95,'fin':95},\n",
    "            '202212347': {'att':50,'rep':90,'mid':45,'fin':35},\n",
    "            '202212348': {'att':90,'rep':90,'mid':50,'fin':75},\n",
    "            '202212349': {'att':100,'rep':95,'mid':85,'fin':85},\n",
    "            '202212350': {'att':90,'rep':90,'mid':100,'fin':95},\n",
    "            '202212351': {'att':100,'rep':95,'mid':100,'fin':95},\n",
    "            '202212352': {'att':95,'rep':85,'mid':80,'fin':60},\n",
    "            '202212353': {'att':100,'rep':90,'mid':60,'fin':55},\n",
    "            '202212354': {'att':100,'rep':85,'mid':70,'fin':95},\n",
    "            '202212355': {'att':100,'rep':95,'mid':40,'fin':100}}\n",
    "```"
   ]
  },
  {
   "cell_type": "markdown",
   "id": "4e121911-31eb-43c4-864b-a2c11d148725",
   "metadata": {},
   "source": [
    "여기에서 `202212345`등은 학번을, att는 출석점수, rep는 레포트점수, mid는 중간고사점수, fin은 기말고사 점수를 의미한다. "
   ]
  },
  {
   "cell_type": "markdown",
   "id": "ca67842a-94e8-4ffb-b656-e07e3d129e6c",
   "metadata": {},
   "source": [
    "`(16)` get 메소드를 이용하여 202212353에 해당하는 학생의 성적을 아래와 같이 리턴하라. \n",
    "```\n",
    "{'att': 100, 'rep': 90, 'mid': 60, 'fin': 55}\n",
    "```"
   ]
  },
  {
   "cell_type": "markdown",
   "id": "79d71470-67e3-4445-8912-1b4592462b59",
   "metadata": {},
   "source": [
    "`(17)` 202212354의 레포트 점수를 리턴하라. "
   ]
  },
  {
   "cell_type": "markdown",
   "id": "695d6fcf-0fc7-4f0a-ae7b-08bc0d022223",
   "metadata": {},
   "source": [
    "`(18)` 학생들의 학번을 리턴하는 코드를 작성하라. "
   ]
  },
  {
   "cell_type": "markdown",
   "id": "ef0a718d-be00-456e-888e-7c511a78bd0e",
   "metadata": {},
   "source": [
    "---"
   ]
  },
  {
   "cell_type": "markdown",
   "id": "a9d9528d-a6de-4eb2-a35e-79b204f14e17",
   "metadata": {},
   "source": [
    "`(19)` shape이 ()인 numpy이 array를 만들어라. (즉 차원이 0인 np.array를 만들어라)"
   ]
  },
  {
   "cell_type": "markdown",
   "id": "cd374e4b-972a-4b5a-9b95-942bc6a82fb0",
   "metadata": {},
   "source": [
    "`(20)` shape이 (2,2)인 단위행렬을 만들어라. "
   ]
  },
  {
   "cell_type": "markdown",
   "id": "b12ebbff-2439-4d88-80c1-232ddfe13f0c",
   "metadata": {},
   "source": [
    "`(21)` a의 모든 원소에 1을 더하는 코드를 작성하라. \n",
    "\n",
    "```python\n",
    "a=[1,3,2,5,-3,3,8,2,3,1] \n",
    "```"
   ]
  },
  {
   "cell_type": "markdown",
   "id": "92e7d2bb-a135-428d-8aa1-127fd791da6a",
   "metadata": {},
   "source": [
    "`(22)` 아래와 같은 수열을 생성하라. \n",
    "```\n",
    "1,3,6,10,15,21,28,36,45, ... , 378, 406, 435\n",
    "```"
   ]
  },
  {
   "cell_type": "markdown",
   "id": "b422c258-4633-423f-ac9a-f385e18beac5",
   "metadata": {},
   "source": [
    "**hint:** 이 수열에서 $a_n-a_{n-1}=n, ~n\\geq 2$ 이다. 즉 3-1=2, 6-3=3, 10-6=4, ... "
   ]
  },
  {
   "cell_type": "markdown",
   "id": "d855bd2b-524e-4a33-8c6c-ac37b2296d1e",
   "metadata": {},
   "source": [
    "`(23)` 아래와 같은 수열을 생생성하라. \n",
    "```\n",
    "0,1,2,3,4,5,...,99 \n",
    "```"
   ]
  },
  {
   "cell_type": "markdown",
   "id": "52d6f4d7-fa78-4cf8-9905-8ecea0b9a496",
   "metadata": {},
   "source": [
    "위의 수열에서 1,4,7,10,13,... 번째의 원소를 뽑아라. (첫번째 원소는 0이다) "
   ]
  },
  {
   "cell_type": "markdown",
   "id": "491e09e8-7d77-44a4-9f5f-1aacdf7e4d4e",
   "metadata": {},
   "source": [
    "`(24)` numpy를 이용하여 아래의 역행렬을 구하라. \n",
    "$$\\begin{bmatrix}\n",
    "1&  0 \\\\\n",
    "0&  3\n",
    "\\end{bmatrix}$$"
   ]
  },
  {
   "cell_type": "markdown",
   "id": "9b52a2c0-3617-41d7-b640-ffcc603ac809",
   "metadata": {},
   "source": [
    "--- "
   ]
  },
  {
   "cell_type": "markdown",
   "id": "e42ef0d0-d6b6-4c01-9780-fd24e04af0cf",
   "metadata": {},
   "source": [
    "**(25)-(30)**\n",
    "\n",
    "a,b가 아래와 같이 주어졌다고 하자. \n",
    "\n",
    "```python\n",
    "a=[1]*10 \n",
    "b=[2]*10 \n",
    "```"
   ]
  },
  {
   "cell_type": "markdown",
   "id": "1ac08b97-80ec-426b-bb6f-0d133ce613c6",
   "metadata": {},
   "source": [
    "`(25)` a,b와 np.concatenate를 이용하여 아래와 같은 배열을 만들어라. \n",
    "\n",
    "```\n",
    "array([1, 1, 1, 1, 1, 1, 1, 1, 1, 1, 2, 2, 2, 2, 2, 2, 2, 2, 2, 2])\n",
    "```"
   ]
  },
  {
   "cell_type": "markdown",
   "id": "b17c2c49-d316-4e33-bc9a-43b67aa39eca",
   "metadata": {},
   "source": [
    "`(26)` a,b와 np.concatenate를 이용하여 아래와 같은 배열을 만들어라. \n",
    "```\n",
    "array([[1],\n",
    "       [1],\n",
    "       [1],\n",
    "       [1],\n",
    "       [1],\n",
    "       [1],\n",
    "       [1],\n",
    "       [1],\n",
    "       [1],\n",
    "       [1],\n",
    "       [2],\n",
    "       [2],\n",
    "       [2],\n",
    "       [2],\n",
    "       [2],\n",
    "       [2],\n",
    "       [2],\n",
    "       [2],\n",
    "       [2],\n",
    "       [2]])\n",
    "```"
   ]
  },
  {
   "cell_type": "markdown",
   "id": "0f7b7555-b707-41ab-bb8c-0de356221a02",
   "metadata": {},
   "source": [
    "`(27)` a,b와 np.concatenate를 이용하여 아래와 같은 배열을 만들어라. \n",
    "\n",
    "```\n",
    "array([[1, 1, 1, 1, 1, 1, 1, 1, 1, 1],\n",
    "       [2, 2, 2, 2, 2, 2, 2, 2, 2, 2]]\n",
    "```"
   ]
  },
  {
   "cell_type": "markdown",
   "id": "f402c4d4-27e4-41e3-acc3-b9140723636a",
   "metadata": {},
   "source": [
    "`(28)` a,b와 np.concatenate를 이용하여 아래와 같은 배열을 만들어라. \n",
    "```\n",
    "array([[1, 2],\n",
    "       [1, 2],\n",
    "       [1, 2],\n",
    "       [1, 2],\n",
    "       [1, 2],\n",
    "       [1, 2],\n",
    "       [1, 2],\n",
    "       [1, 2],\n",
    "       [1, 2],\n",
    "       [1, 2]])\n",
    "```"
   ]
  },
  {
   "cell_type": "markdown",
   "id": "809dce9d-8966-4770-a939-1544ce0da6b5",
   "metadata": {},
   "source": [
    "`(29)` a,b와 np.stack을 이용하여 아래와 같은 배열을 만들어라. \n",
    "\n",
    "```\n",
    "array([[1, 1, 1, 1, 1, 1, 1, 1, 1, 1],\n",
    "       [2, 2, 2, 2, 2, 2, 2, 2, 2, 2]]\n",
    "```"
   ]
  },
  {
   "cell_type": "markdown",
   "id": "539d5053-c1e9-4c11-93c0-96c1ddb962c1",
   "metadata": {},
   "source": [
    "`(30)` a,b와 np.stack을 이용하여 아래와 같은 배열을 만들어라. \n",
    "```\n",
    "array([[1, 2],\n",
    "       [1, 2],\n",
    "       [1, 2],\n",
    "       [1, 2],\n",
    "       [1, 2],\n",
    "       [1, 2],\n",
    "       [1, 2],\n",
    "       [1, 2],\n",
    "       [1, 2],\n",
    "       [1, 2]])\n",
    "```"
   ]
  },
  {
   "cell_type": "markdown",
   "id": "6a64a8df-c944-47e6-a499-421c8b61b704",
   "metadata": {},
   "source": [
    "`(31)` 아래와 같은 배열이 있다고 하자. \n",
    "```python\n",
    "a=np.array([1,2,3,4,5])\n",
    "b=np.array([3,2,1,1,2])\n",
    "```\n",
    "numpy의 `@` 연산자를 이용하여 $\\sum_{i=1}^{5}a_ib_i$를 계산하라. "
   ]
  },
  {
   "cell_type": "markdown",
   "id": "5fae05d0-2323-494b-aeaf-b0d30c6bd4ea",
   "metadata": {},
   "source": [
    "`(32)` 아래와 같은 배열을 생성하라. \n",
    "```python\n",
    "x=np.random.randn(100)\n",
    "```\n",
    "numpy의 `@`연산자를 이용하여 $\\sum_{i=1}^{100}x_i^2$을 계산하라. "
   ]
  },
  {
   "cell_type": "markdown",
   "id": "4afa4671-2934-4dbf-818f-c3c5be4b0550",
   "metadata": {},
   "source": [
    "`(33)` 아래와 같은 배열을 생성하라. \n",
    "```python\n",
    "a=np.array([1/100]*100)\n",
    "x=np.random.randn(100)\n",
    "```"
   ]
  },
  {
   "cell_type": "markdown",
   "id": "638aed1d-dee3-48a0-80dc-64685fc50f96",
   "metadata": {},
   "source": [
    "numpy의 `@`연산자를 이용하여 $\\frac{1}{n}\\sum_{i=1}^{n}x_i$를 계산하라. "
   ]
  },
  {
   "cell_type": "markdown",
   "id": "bb5c0358-caca-4b89-8c3f-e5c2adbb8dc8",
   "metadata": {},
   "source": [
    "`(34)` 표준정규분포에서 100개의 난수를 생성하라. "
   ]
  },
  {
   "cell_type": "markdown",
   "id": "914f8406-6667-45d1-8772-3c5f0b9e560c",
   "metadata": {},
   "source": [
    "`(35)` 아래와 동일한 코드를 np.random.rand()로 구현하라. \n",
    "```python\n",
    "np.random.uniform(low=2,high=4,size=(5,)) \n",
    "```"
   ]
  },
  {
   "cell_type": "markdown",
   "id": "984fa1a8-8b1f-4705-8d86-a1220f2d3b3a",
   "metadata": {},
   "source": [
    "`(36)` 아래와 같은 배열을 선언하라.\n",
    "```python\n",
    "a=np.random.randn(100) \n",
    "```\n",
    "np.where를 이용하여 a의 모든 음수를 0으로 바꾸는 코드를 작성하라. "
   ]
  },
  {
   "cell_type": "markdown",
   "id": "50ccb358-b11f-4ea6-afe9-4a8d9b6f960a",
   "metadata": {},
   "source": [
    "`(37)` 아래와 같은 배열을 선언하라. \n",
    "```python\n",
    "a=np.random.randn(100) \n",
    "```"
   ]
  },
  {
   "cell_type": "markdown",
   "id": "3ea9a584-f474-43c6-b0eb-40b09ac4f49f",
   "metadata": {},
   "source": [
    "위 배열의 최소값이 위치한 index를 return하라. "
   ]
  },
  {
   "cell_type": "markdown",
   "id": "f03fe9d3-020f-47ba-8bf9-3a924710db14",
   "metadata": {},
   "source": [
    "`(38)` 아래와 같은 배열을 선언하라. "
   ]
  },
  {
   "cell_type": "code",
   "execution_count": null,
   "id": "d6dcb080-1d71-4a33-a7f1-c9707c2d5771",
   "metadata": {},
   "outputs": [
    {
     "data": {
      "text/plain": [
       "array([[ 0,  1,  2,  3],\n",
       "       [ 4,  5,  6,  7],\n",
       "       [ 8,  9, 10, 11]])"
      ]
     },
     "execution_count": 177,
     "metadata": {},
     "output_type": "execute_result"
    }
   ],
   "source": [
    "a=np.arange(12).reshape(3,4)\n",
    "a"
   ]
  },
  {
   "cell_type": "markdown",
   "id": "44b0e554-630a-4a0c-84ac-69f2a9f18980",
   "metadata": {},
   "source": [
    "차원의 수를 유지하면서 1열을 추출하는 코드를 작성하라. 즉 결과가 아래와 같이 나오도록 하라. \n",
    "\n",
    "```\n",
    "array([[0],\n",
    "       [4],\n",
    "       [8]])\n",
    "```"
   ]
  },
  {
   "cell_type": "markdown",
   "id": "65713ea9-78cf-4025-83b9-4365d79af33d",
   "metadata": {},
   "source": [
    "**(39)-(40)**"
   ]
  },
  {
   "cell_type": "markdown",
   "id": "605574c9-a12b-483b-8b3b-b6d14541f14b",
   "metadata": {},
   "source": [
    "`(39)` 자신의 학번으로 random seed 를 설정하라. [20,25)의 범위에서 100개의 정수를 랜덤으로 생성해 (10,10) shape의 배열을 만들어라. "
   ]
  },
  {
   "cell_type": "markdown",
   "id": "1cc76357-8528-4fac-8ac4-840dacd15f55",
   "metadata": {},
   "source": [
    "`(40)` 39의 결과에서 20,21,22 는 각각 몇개씩 있는가? "
   ]
  },
  {
   "cell_type": "markdown",
   "id": "eec30747-7890-4d60-9816-1753259abd5a",
   "metadata": {
    "tags": []
   },
   "source": [
    "## `2`. 코드구현 II (50점)"
   ]
  },
  {
   "cell_type": "markdown",
   "id": "bd5b5a8f-cbc5-4cb0-81b8-f288ebff560f",
   "metadata": {},
   "source": [
    "---"
   ]
  },
  {
   "cell_type": "markdown",
   "id": "5b024928-3a3d-4def-b5c0-eb85f9a0514b",
   "metadata": {},
   "source": [
    "**(1)-(6)** 아래의 코드를 실해하여 test_dic를 생성하라. \n",
    "```python\n",
    "np.random.seed(43052)\n",
    "att = np.random.choice(np.arange(10,21)*5,200)\n",
    "rep = np.random.choice(np.arange(5,21)*5,200)\n",
    "mid = np.random.choice(np.arange(0,21)*5,200)\n",
    "fin = np.random.choice(np.arange(0,21)*5,200)\n",
    "key = ['202212'+str(s) for s in np.random.choice(np.arange(300,501),200,replace=False)]\n",
    "test_dic = {key[i] : {'att':att[i], 'rep':rep[i], 'mid':mid[i], 'fin':fin[i]} for i in range(200)}\n",
    "del(att);del(rep);del(mid);del(fin);del(key)\n",
    "```"
   ]
  },
  {
   "cell_type": "markdown",
   "id": "1653b767-54ae-4726-8169-d6cb559b0a16",
   "metadata": {},
   "source": [
    "여기에서 `202212345`등은 학번을, att는 출석점수, rep는 레포트점수, mid는 중간고사점수, fin은 기말고사 점수를 의미한다. "
   ]
  },
  {
   "cell_type": "markdown",
   "id": "03745379-61a0-4104-9312-39627f70982a",
   "metadata": {},
   "source": [
    "`(1)` test_dic에서 출석점수가 70이상(70>=)인 학생들의 학번을 출력하는 코드를 작성하라. "
   ]
  },
  {
   "cell_type": "markdown",
   "id": "1005593f-0013-4142-8e58-7108e3b91fdf",
   "metadata": {},
   "source": [
    "`(2)` test_dic에서 출석점수가 70미만(<70)인 학생들의 수를 구하라. "
   ]
  },
  {
   "cell_type": "markdown",
   "id": "88ced793-8e83-4949-b7c8-41242b629383",
   "metadata": {},
   "source": [
    "`(3)` test_dic에서 출석점수가 70이상(70>=)인 학생들의 중간고사 점수의 평균을 계산하라. "
   ]
  },
  {
   "cell_type": "markdown",
   "id": "1277d556-7a9b-4352-a83e-6191ddfce1ee",
   "metadata": {},
   "source": [
    "`(4)` test_dic에서 중간고사 점수를 출력하는 코드를 작성하라. "
   ]
  },
  {
   "cell_type": "markdown",
   "id": "fd3bbb77-7fdb-44ae-a6b4-99d767073231",
   "metadata": {},
   "source": [
    "`(5)` test_dic에서 중간고사 점수의 표준편차와 레포트점수의 표준편차를 구하여라. 어떤것이 더 큰가? "
   ]
  },
  {
   "cell_type": "markdown",
   "id": "a720caee-e15c-4c6c-9c5a-e807d7605fe0",
   "metadata": {},
   "source": [
    "`(6)` test_dic에서 중간고사 점수가 가장 높은 사람의 학번을 출력하라. "
   ]
  },
  {
   "cell_type": "markdown",
   "id": "4452a435-f2de-4604-81f6-9fd1a8a98939",
   "metadata": {},
   "source": [
    "**주의:** att,rep,mid,fin,key를 실행하여 소멸시키지 않고 그대로 이용하거나 np.random.choice()를 이용하여 재생성한 뒤 계산할 경우 0점 처리함. \n",
    "- 예를들면 (5)의 경우 np.std(mid), np.std(rep) 와 같은 식으로 구현하면 0점 처리함. "
   ]
  },
  {
   "cell_type": "markdown",
   "id": "7498288b-2d6d-4ed7-9d09-e670ddf98835",
   "metadata": {},
   "source": [
    "---"
   ]
  },
  {
   "cell_type": "markdown",
   "id": "4048c636-aef4-419c-9484-0fe05320575e",
   "metadata": {},
   "source": [
    "`(7)` 성공확률이 0.45인 시행이 있다고 하자. 이 시행을 100번의 시행하였을 경우 73번 이상 성공할 확률은 얼마인가? 시뮬레이션을 이용하여 근사계산하라. "
   ]
  },
  {
   "cell_type": "markdown",
   "id": "074f07b9-84da-4791-961c-61832a728f77",
   "metadata": {},
   "source": [
    "`(8)` 성공확률이 0.45인 시행이 있다고 하자. 이 시행을 100번 시행하였을 경우 10번이하로 실패하거나 90번이상 성공할 확률은 얼마인가? 시뮬레이션을 이용하여 근사계산하라. "
   ]
  },
  {
   "cell_type": "markdown",
   "id": "dbbec876-e84f-476e-95cd-da85b9092fbe",
   "metadata": {},
   "source": [
    "`(9)` 아래와 같은 행렬을 선언하자. "
   ]
  },
  {
   "cell_type": "code",
   "execution_count": 169,
   "id": "4f0af62e-2ee3-456f-a6e9-ec4e79395a2a",
   "metadata": {},
   "outputs": [],
   "source": [
    "A=np.arange(2*1).reshape(2,1)\n",
    "B=np.arange(2*2).reshape(2,2)\n",
    "C=np.arange(2*3).reshape(2,3)\n",
    "D=np.arange(3*3).reshape(3,3)\n",
    "E=np.arange(3*2).reshape(3,2)\n",
    "F=np.arange(3*1).reshape(3,1)"
   ]
  },
  {
   "cell_type": "markdown",
   "id": "c9ab9aaa-c6ad-4d84-88b4-cf49ff8e65cc",
   "metadata": {},
   "source": [
    "아래의 블락매트릭스를 만들어라. "
   ]
  },
  {
   "cell_type": "markdown",
   "id": "04946c74-fe3f-4c06-976e-2970d58ea948",
   "metadata": {},
   "source": [
    "\\begin{bmatrix}\n",
    "a_{11} & b_{11} & b_{12} & c_{11} & c_{12} & c_{13} \\\\ \n",
    "a_{21} & b_{21} & b_{22} & c_{21} & c_{22} & c_{23} \\\\ \n",
    "d_{11} & d_{12} & d_{13} & e_{11} & e_{12} & f_{11} \\\\ \n",
    "d_{21} & d_{22} & d_{23} & e_{21} & e_{22} & f_{21} \\\\ \n",
    "d_{31} & d_{32} & d_{33} & e_{31} & e_{32} & f_{31} \n",
    "\\end{bmatrix}"
   ]
  },
  {
   "cell_type": "markdown",
   "id": "21837cbd-b5bf-4db0-b35a-d186098ad185",
   "metadata": {},
   "source": [
    "여기에서 $a_{ij}$는 매트릭스 ${\\bf A}$의 원소이다. "
   ]
  },
  {
   "cell_type": "markdown",
   "id": "fe5ab7fb-e0f1-4ed4-937f-78f90bc492ba",
   "metadata": {},
   "source": [
    "`(10)` 표준정규분포에 10000개의 난수를 아래와 같이 생성하라. "
   ]
  },
  {
   "cell_type": "code",
   "execution_count": 175,
   "id": "2a7412c2-c068-4fe3-bca1-79afe7b3e684",
   "metadata": {},
   "outputs": [],
   "source": [
    "x=np.random.randn(10000)\n",
    "y=np.random.randn(10000)"
   ]
  },
  {
   "cell_type": "markdown",
   "id": "59b2cc2e-278a-4e91-bc6e-4d2f4f778241",
   "metadata": {},
   "source": [
    "$(i,j)$ 번째 원소가 $(x_i-y_i)^2$인 (10000,10000) 매트릭스를 만들어라. \n",
    "\n"
   ]
  },
  {
   "cell_type": "markdown",
   "id": "9281ecc9-b687-4cf8-8943-f93e806dd7cf",
   "metadata": {},
   "source": [
    "---"
   ]
  },
  {
   "cell_type": "markdown",
   "id": "6e75324c-d312-4438-a5a9-a979de60af5f",
   "metadata": {},
   "source": [
    "**(11)-(16)** "
   ]
  },
  {
   "cell_type": "markdown",
   "id": "24fb8130-d46e-48e1-affa-dbb67bc7646c",
   "metadata": {},
   "source": [
    "아래와 같은 매트릭스를 생성하라. "
   ]
  },
  {
   "cell_type": "code",
   "execution_count": 32,
   "id": "502f7f9b-0b3b-49ee-bfb1-a7a7a6cbb6c3",
   "metadata": {},
   "outputs": [
    {
     "data": {
      "text/plain": [
       "array([[ 0.38342049,  1.0841745 ,  1.14277825, ..., -0.18506968,\n",
       "         1.05538764,  1.18701443],\n",
       "       [-0.25027283, -1.58045215,  0.1124153 , ...,  1.0321894 ,\n",
       "         0.40438012, -0.13491595],\n",
       "       [-0.76763724, -0.64294232, -0.24782396, ..., -0.01530161,\n",
       "         0.89125897, -0.82683395],\n",
       "       ...,\n",
       "       [-1.41379028,  0.79611333, -0.71011837, ..., -0.9860352 ,\n",
       "         1.30755244,  2.18677233],\n",
       "       [ 1.33968105, -0.78457449, -0.10405858, ..., -0.71110186,\n",
       "         0.99841286,  2.34371635],\n",
       "       [-0.66422032, -0.07550233,  0.7405869 , ...,  1.03232398,\n",
       "        -0.18988252, -0.03578389]])"
      ]
     },
     "execution_count": 32,
     "metadata": {},
     "output_type": "execute_result"
    }
   ],
   "source": [
    "np.random.seed(43052)\n",
    "a=np.random.randn(10000).reshape(100,100)\n",
    "a"
   ]
  },
  {
   "cell_type": "markdown",
   "id": "902be031-f67f-427f-80fe-3b5bbe86adeb",
   "metadata": {},
   "source": [
    "`(11)` 각 행의 합을 구하라. 즉 1행의 합, 2행의 합, ... 100행의 합을 계산하라. \n",
    "- 1행의합 =  0.38342049 + 1.0841745 + ... + 1.18701443"
   ]
  },
  {
   "cell_type": "markdown",
   "id": "63cd52e7-21f1-49d6-a465-7eea16f2b66b",
   "metadata": {},
   "source": [
    "`(12)` `(11)`의 결과로 나온 배열의 표준편차를 구하라. "
   ]
  },
  {
   "cell_type": "markdown",
   "id": "064a0e44-140e-4df6-9528-0c5e579a9370",
   "metadata": {},
   "source": [
    "`(13)` 각 열의 평균을 구하라. 즉 1열의 평균, 2열의 평균, ... , 100열의 평균을 계산하라. "
   ]
  },
  {
   "cell_type": "markdown",
   "id": "d6e22501-0b4b-4d82-aeed-cfe9ad42b268",
   "metadata": {},
   "source": [
    "`(14)` `(13)`의 결과로 나온 배열의 표준편차를 구하라."
   ]
  },
  {
   "cell_type": "markdown",
   "id": "036327cc-3ce7-4480-bb7b-538cbd3cb0d6",
   "metadata": {},
   "source": [
    "`(15)` a의 원소중 a>0 을 만족하는 원소의 평균을 구하여라. "
   ]
  },
  {
   "cell_type": "markdown",
   "id": "9f56e8ea-5c66-4080-b585-60da2834c71a",
   "metadata": {},
   "source": [
    "`(16)` a의 원소중 a>3을 만족하는 원소의 수를 count하라. "
   ]
  },
  {
   "cell_type": "markdown",
   "id": "8da00003-8ce1-4c00-85b9-076a9243ee4e",
   "metadata": {},
   "source": [
    "--- "
   ]
  },
  {
   "cell_type": "markdown",
   "id": "4293729b-422f-403c-a771-f215cecb6fca",
   "metadata": {},
   "source": [
    "**(17)-(18)**"
   ]
  },
  {
   "cell_type": "markdown",
   "id": "56b1b14e-7287-4834-8cdb-bec904d6e0b0",
   "metadata": {},
   "source": [
    "아래와 같은 배열 a를 고려하자. "
   ]
  },
  {
   "cell_type": "code",
   "execution_count": 40,
   "id": "8f1efaa7-4943-438d-b184-e08862280265",
   "metadata": {},
   "outputs": [
    {
     "data": {
      "text/plain": [
       "array([1, 0, 1, ..., 1, 1, 0])"
      ]
     },
     "execution_count": 40,
     "metadata": {},
     "output_type": "execute_result"
    }
   ],
   "source": [
    "np.random.seed(43052)\n",
    "a=np.random.binomial(1,0.2,size=(10000,))\n",
    "a"
   ]
  },
  {
   "cell_type": "markdown",
   "id": "a6bbcced-1401-40f9-a7ff-df319b956a97",
   "metadata": {},
   "source": [
    "`(17)` 0에서 1로 바뀌는 부분을 count하라. "
   ]
  },
  {
   "cell_type": "markdown",
   "id": "7b565358-555a-40ae-b192-cf7448412f6a",
   "metadata": {},
   "source": [
    "`(18)` 1에서 0으로 바뀌는 부분을 count하라. "
   ]
  },
  {
   "cell_type": "markdown",
   "id": "c22824c4-3d7c-420e-98d1-b7468a84d310",
   "metadata": {},
   "source": [
    "**[예시]** 아래의 배열에서 0에서 1로 부분은 모두 세 군데이고, 1에서 0으로 바뀌는 부분은 모두 두 군데 이다. \n",
    "\n",
    "```\n",
    "0 0 0 1 0 1 0 0 0 1 1 1 \n",
    "```"
   ]
  },
  {
   "cell_type": "markdown",
   "id": "221bf19c-2e0f-464e-8c44-40729b2b1c3c",
   "metadata": {},
   "source": [
    "---"
   ]
  },
  {
   "cell_type": "markdown",
   "id": "be49451a-c9b3-4d63-9531-531e59cc377f",
   "metadata": {},
   "source": [
    "**(19)-(25)**"
   ]
  },
  {
   "cell_type": "markdown",
   "id": "9bd9339f-279e-4344-892b-2815ca8ec85a",
   "metadata": {},
   "source": [
    "`(19)` $i=1,2,\\dots,1000$에 대하여 아래를 각각 구하라. \n",
    "\n",
    "$$x_i= \\cos(t_i)+\\cos(3t_i)+\\cos(5t_i)$$\n",
    "\n",
    "$$y_i= \\sin(t_i)+\\sin(4t_i)$$\n",
    "\n",
    "여기에서 $t_i=\\frac{2\\pi i }{1000}$ 이다. "
   ]
  },
  {
   "cell_type": "markdown",
   "id": "b24436c6-b626-482e-a03c-3d48314d8bcf",
   "metadata": {},
   "source": [
    "`(20)` $(x_i,y_i)$를 그려라. "
   ]
  },
  {
   "cell_type": "markdown",
   "id": "aed714f4-b02a-4957-8b16-0256eccd3594",
   "metadata": {},
   "source": [
    "`(21)` 아래와 같은 변환을 통하여 $(w_i,z_i)$를 얻어라. \n",
    "\n",
    "\n",
    "$$w_i= \\frac{1}{\\sqrt{2}}x_i - \\frac{1}{\\sqrt{2}}y_i$$\n",
    "\n",
    "$$z_i= \\frac{1}{\\sqrt{2}}x_i + \\frac{1}{\\sqrt{2}}y_i$$\n"
   ]
  },
  {
   "cell_type": "markdown",
   "id": "636bc221-c318-4ec7-8f05-7f3b2dfd1ff1",
   "metadata": {},
   "source": [
    "$(w_i,z_i)$를 시각화 하라. "
   ]
  },
  {
   "cell_type": "markdown",
   "id": "24572a42-4cb9-4cbd-af53-20748e763582",
   "metadata": {},
   "source": [
    "`(22)` 아래와 같은 매트릭스를 만들어라. \n",
    "\n",
    "$${\\bf A}=\\begin{bmatrix}\n",
    "x_1 & y_1 \\\\\n",
    "x_2 & y_2 \\\\ \n",
    "\\dots & \\dots \\\\ \n",
    "x_n & y_n \n",
    "\\end{bmatrix}$$"
   ]
  },
  {
   "cell_type": "markdown",
   "id": "d97608c0-7bc0-4f53-8681-59b20752711a",
   "metadata": {},
   "source": [
    "`(23)` ${\\bf A} {\\bf B}$의 첫번째 열과 두번째 열을 시각화한 결과가 $(w_i,z_i)$과 동일하도록 적당한 (2,2) 매트릭스 ${\\bf B}$를 만들어라. "
   ]
  },
  {
   "cell_type": "markdown",
   "id": "b2465f5b-2a79-40ed-a817-6498a6ff4563",
   "metadata": {},
   "source": [
    "`(24)` ${\\bf A}{\\bf B}^2$의 첫번째 열과 두번째 열을 시각화 하라. "
   ]
  },
  {
   "cell_type": "markdown",
   "id": "aec1eeaf-ba36-485b-9847-410a9a06201c",
   "metadata": {},
   "source": [
    "`(25)` $n=3,4,5,6,\\dots$ 에 대하여 ${\\bf A}{\\bf B}^n$을 반복적으로 그려보라. $(x_i,y_i)$의 시각화 결과와 동일한 가장 작은 $n$은 얼마인가?  $(w_i,z_i)$의 시각화 결과와 동일한 가장 작은 $n$은 얼마인가? "
   ]
  },
  {
   "cell_type": "markdown",
   "id": "500f9afa-f535-48c5-87ee-2ad21f51d820",
   "metadata": {},
   "source": [
    "---"
   ]
  },
  {
   "cell_type": "markdown",
   "id": "908d41e7-02f0-4262-8b91-e6db8aa2ceed",
   "metadata": {},
   "source": [
    "## `3`. 다음을 잘 읽고 물음에 답하라. (10점)"
   ]
  },
  {
   "cell_type": "markdown",
   "id": "f00af8e3-fcf5-4167-a57c-035b65dab1fb",
   "metadata": {},
   "source": [
    "`(1)` 아래는 python을 설치하는 방법을 소개한 url 이다. 직접 url에 들어가서 설치하는 방법을 읽어보고 곤이, 철용, 아귀, 짝귀 중 옳은말을 한 사람을 모두 골라라. \n",
    "- https://www.pythonlikeyoumeanit.com/Module1_GettingStartedWithPython/Installing_Python.html\n",
    "\n",
    "**(곤이)** 해당 방법은 아나콘다를 이용하여 파이썬을 설치하는 방법이다. \n",
    "\n",
    "**(철용)** 그래서 이 방법으로는 가상환경을 만들 수 없겠군. \n",
    "\n",
    "**(아귀)** 위 url에 제시된 방법으로 설치하면 주피터가 자동설치 된다. \n",
    "\n",
    "**(짝귀)** 따라서 위의 방법으로 설치하면 IDE는 주피터만 사용할 수 있다. "
   ]
  },
  {
   "cell_type": "markdown",
   "id": "fc94dae7-5bbb-423d-88bd-396c54e629ad",
   "metadata": {},
   "source": [
    "`(2)` 곤이는 1부터 10까지의 합을 구하는 코드를 작성하기 위하여 아래와 같이 `mysum.py` 파일을 만들었다. \n",
    "```python\n",
    "## mysum.py\n",
    "total = 0 \n",
    "for i in range(1,11): \n",
    "    total = total + i\n",
    "print(total)\n",
    "```"
   ]
  },
  {
   "cell_type": "markdown",
   "id": "c3b7db27-0171-41dc-b87f-f6c2648b3fa2",
   "metadata": {},
   "source": [
    "곤이의 컴퓨터는 윈도우이며 아니콘다를 이용해 파이썬을 설치하였다고 가정한다. 다음중 옳은 설명을 한 사람을 모두 고르라. "
   ]
  },
  {
   "cell_type": "markdown",
   "id": "beae7549-4c69-4a65-9b65-3fb5188b8128",
   "metadata": {},
   "source": [
    "**(곤이)** mysum.py를 실행하기 위해서는 anaconda prompt 에서 mysum.py가 위치한 폴더로 이동한 뒤 %run mysum.py 를 실행하면 된다. "
   ]
  },
  {
   "cell_type": "markdown",
   "id": "3bafe88d-bc2f-478d-a150-6ab80cbc1104",
   "metadata": {},
   "source": [
    "**(철용)** ipython을 이용하여 실행하기 위해서는 anaconda prompt 에서 mysum.py가 위치한 폴더로 이동한 뒤 %run mysum.py을 실행해도 된다. "
   ]
  },
  {
   "cell_type": "markdown",
   "id": "29ef4984-dc6d-4bf9-99a2-c943bc27d5ef",
   "metadata": {},
   "source": [
    "**(아귀)** 철용의 방법에서 %run mysum.py 대신에 !python mysum.py를 쳐도 동작한다. "
   ]
  },
  {
   "cell_type": "markdown",
   "id": "c8e311df-6aff-444b-b724-c0d15c52a165",
   "metadata": {},
   "source": [
    "**(짝귀)** 하지만 다른 가상환경을 만들 경우 철용과 아귀의 방법으로 실행할 수 없다는 단점이 있다. "
   ]
  }
 ],
 "metadata": {
  "kernelspec": {
   "display_name": "Python 3 (ipykernel)",
   "language": "python",
   "name": "python3"
  },
  "language_info": {
   "codemirror_mode": {
    "name": "ipython",
    "version": 3
   },
   "file_extension": ".py",
   "mimetype": "text/x-python",
   "name": "python",
   "nbconvert_exporter": "python",
   "pygments_lexer": "ipython3",
   "version": "3.8.13"
  }
 },
 "nbformat": 4,
 "nbformat_minor": 5
}
