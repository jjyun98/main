{
 "cells": [
  {
   "cell_type": "markdown",
   "id": "79f5dc40-7c36-49c2-b7df-b067bc1c5a88",
   "metadata": {},
   "source": [
    "# [R] example"
   ]
  },
  {
   "cell_type": "markdown",
   "id": "3f27e368-211f-443a-879b-698d533b1869",
   "metadata": {},
   "source": [
    "it is example data file"
   ]
  },
  {
   "cell_type": "code",
   "execution_count": 1,
   "id": "43c147de-4383-407d-9138-7fba5aab6902",
   "metadata": {},
   "outputs": [
    {
     "data": {
      "text/html": [
       "3"
      ],
      "text/latex": [
       "3"
      ],
      "text/markdown": [
       "3"
      ],
      "text/plain": [
       "[1] 3"
      ]
     },
     "metadata": {},
     "output_type": "display_data"
    }
   ],
   "source": [
    "1+2"
   ]
  },
  {
   "cell_type": "code",
   "execution_count": 2,
   "id": "b8b16b5c-a601-481a-80ce-407bf77f48ba",
   "metadata": {},
   "outputs": [
    {
     "data": {
      "text/html": [
       "<style>\n",
       ".list-inline {list-style: none; margin:0; padding: 0}\n",
       ".list-inline>li {display: inline-block}\n",
       ".list-inline>li:not(:last-child)::after {content: \"\\00b7\"; padding: 0 .5ex}\n",
       "</style>\n",
       "<ol class=list-inline><li>0.829303883481771</li><li>0.111011866480112</li><li>0.537087912205607</li><li>0.776781330350786</li><li>0.471008761553094</li></ol>\n"
      ],
      "text/latex": [
       "\\begin{enumerate*}\n",
       "\\item 0.829303883481771\n",
       "\\item 0.111011866480112\n",
       "\\item 0.537087912205607\n",
       "\\item 0.776781330350786\n",
       "\\item 0.471008761553094\n",
       "\\end{enumerate*}\n"
      ],
      "text/markdown": [
       "1. 0.829303883481771\n",
       "2. 0.111011866480112\n",
       "3. 0.537087912205607\n",
       "4. 0.776781330350786\n",
       "5. 0.471008761553094\n",
       "\n",
       "\n"
      ],
      "text/plain": [
       "[1] 0.8293039 0.1110119 0.5370879 0.7767813 0.4710088"
      ]
     },
     "metadata": {},
     "output_type": "display_data"
    }
   ],
   "source": [
    "runif(5)"
   ]
  },
  {
   "cell_type": "code",
   "execution_count": null,
   "id": "e6d55f93-4d39-45b5-bdfe-15806397b81a",
   "metadata": {},
   "outputs": [],
   "source": []
  }
 ],
 "metadata": {
  "kernelspec": {
   "display_name": "R",
   "language": "R",
   "name": "ir"
  },
  "language_info": {
   "codemirror_mode": "r",
   "file_extension": ".r",
   "mimetype": "text/x-r-source",
   "name": "R",
   "pygments_lexer": "r",
   "version": "4.1.3"
  }
 },
 "nbformat": 4,
 "nbformat_minor": 5
}
