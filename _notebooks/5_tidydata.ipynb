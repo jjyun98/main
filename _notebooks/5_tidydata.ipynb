{
 "cells": [
  {
   "cell_type": "markdown",
   "id": "d3c5a0da-9c58-41d7-be19-8dfe7246660b",
   "metadata": {},
   "source": [
    "# (R) tidy data"
   ]
  },
  {
   "cell_type": "code",
   "execution_count": 20,
   "id": "e4747723-180e-460b-983f-f74cc1544beb",
   "metadata": {},
   "outputs": [],
   "source": [
    "library('tidyverse')"
   ]
  },
  {
   "cell_type": "markdown",
   "id": "fab12fe4-f331-4d32-a7a9-db0fecef1a90",
   "metadata": {},
   "source": [
    "## pivot"
   ]
  },
  {
   "cell_type": "markdown",
   "id": "6f956229-e052-4b02-8468-95416e46b70c",
   "metadata": {},
   "source": [
    "- 어떤 항목은 행으로 어떤 항목은 열로 보고자 다룰 때 사용"
   ]
  },
  {
   "cell_type": "markdown",
   "id": "9f55eb8a-12c5-4b79-a974-725e44200e90",
   "metadata": {},
   "source": [
    "`-` table4a 예제"
   ]
  },
  {
   "cell_type": "code",
   "execution_count": 2,
   "id": "1b23994e-c753-49b9-ac8b-2a29b54b55e0",
   "metadata": {},
   "outputs": [
    {
     "data": {
      "text/html": [
       "<table class=\"dataframe\">\n",
       "<caption>A tibble: 3 × 3</caption>\n",
       "<thead>\n",
       "\t<tr><th></th><th scope=col>country</th><th scope=col>1999</th><th scope=col>2000</th></tr>\n",
       "\t<tr><th></th><th scope=col>&lt;chr&gt;</th><th scope=col>&lt;int&gt;</th><th scope=col>&lt;int&gt;</th></tr>\n",
       "</thead>\n",
       "<tbody>\n",
       "\t<tr><th scope=row>1</th><td>Afghanistan</td><td>   745</td><td>  2666</td></tr>\n",
       "\t<tr><th scope=row>2</th><td>Brazil     </td><td> 37737</td><td> 80488</td></tr>\n",
       "\t<tr><th scope=row>3</th><td>China      </td><td>212258</td><td>213766</td></tr>\n",
       "</tbody>\n",
       "</table>\n"
      ],
      "text/latex": [
       "A tibble: 3 × 3\n",
       "\\begin{tabular}{r|lll}\n",
       "  & country & 1999 & 2000\\\\\n",
       "  & <chr> & <int> & <int>\\\\\n",
       "\\hline\n",
       "\t1 & Afghanistan &    745 &   2666\\\\\n",
       "\t2 & Brazil      &  37737 &  80488\\\\\n",
       "\t3 & China       & 212258 & 213766\\\\\n",
       "\\end{tabular}\n"
      ],
      "text/markdown": [
       "\n",
       "A tibble: 3 × 3\n",
       "\n",
       "| <!--/--> | country &lt;chr&gt; | 1999 &lt;int&gt; | 2000 &lt;int&gt; |\n",
       "|---|---|---|---|\n",
       "| 1 | Afghanistan |    745 |   2666 |\n",
       "| 2 | Brazil      |  37737 |  80488 |\n",
       "| 3 | China       | 212258 | 213766 |\n",
       "\n"
      ],
      "text/plain": [
       "  country     1999   2000  \n",
       "1 Afghanistan    745   2666\n",
       "2 Brazil       37737  80488\n",
       "3 China       212258 213766"
      ]
     },
     "metadata": {},
     "output_type": "display_data"
    }
   ],
   "source": [
    "table4a"
   ]
  },
  {
   "cell_type": "markdown",
   "id": "44fcc9b3-7023-4d69-9749-791a5c2310a9",
   "metadata": {},
   "source": [
    "`pivot_longer` : 행을 항목으로 추가"
   ]
  },
  {
   "cell_type": "code",
   "execution_count": 3,
   "id": "8d343e14-4a1b-48f1-927a-21fc1f5d15bb",
   "metadata": {},
   "outputs": [
    {
     "data": {
      "text/html": [
       "<table class=\"dataframe\">\n",
       "<caption>A tibble: 6 × 3</caption>\n",
       "<thead>\n",
       "\t<tr><th scope=col>country</th><th scope=col>year</th><th scope=col>cases</th></tr>\n",
       "\t<tr><th scope=col>&lt;chr&gt;</th><th scope=col>&lt;chr&gt;</th><th scope=col>&lt;int&gt;</th></tr>\n",
       "</thead>\n",
       "<tbody>\n",
       "\t<tr><td>Afghanistan</td><td>1999</td><td>   745</td></tr>\n",
       "\t<tr><td>Afghanistan</td><td>2000</td><td>  2666</td></tr>\n",
       "\t<tr><td>Brazil     </td><td>1999</td><td> 37737</td></tr>\n",
       "\t<tr><td>Brazil     </td><td>2000</td><td> 80488</td></tr>\n",
       "\t<tr><td>China      </td><td>1999</td><td>212258</td></tr>\n",
       "\t<tr><td>China      </td><td>2000</td><td>213766</td></tr>\n",
       "</tbody>\n",
       "</table>\n"
      ],
      "text/latex": [
       "A tibble: 6 × 3\n",
       "\\begin{tabular}{lll}\n",
       " country & year & cases\\\\\n",
       " <chr> & <chr> & <int>\\\\\n",
       "\\hline\n",
       "\t Afghanistan & 1999 &    745\\\\\n",
       "\t Afghanistan & 2000 &   2666\\\\\n",
       "\t Brazil      & 1999 &  37737\\\\\n",
       "\t Brazil      & 2000 &  80488\\\\\n",
       "\t China       & 1999 & 212258\\\\\n",
       "\t China       & 2000 & 213766\\\\\n",
       "\\end{tabular}\n"
      ],
      "text/markdown": [
       "\n",
       "A tibble: 6 × 3\n",
       "\n",
       "| country &lt;chr&gt; | year &lt;chr&gt; | cases &lt;int&gt; |\n",
       "|---|---|---|\n",
       "| Afghanistan | 1999 |    745 |\n",
       "| Afghanistan | 2000 |   2666 |\n",
       "| Brazil      | 1999 |  37737 |\n",
       "| Brazil      | 2000 |  80488 |\n",
       "| China       | 1999 | 212258 |\n",
       "| China       | 2000 | 213766 |\n",
       "\n"
      ],
      "text/plain": [
       "  country     year cases \n",
       "1 Afghanistan 1999    745\n",
       "2 Afghanistan 2000   2666\n",
       "3 Brazil      1999  37737\n",
       "4 Brazil      2000  80488\n",
       "5 China       1999 212258\n",
       "6 China       2000 213766"
      ]
     },
     "metadata": {},
     "output_type": "display_data"
    }
   ],
   "source": [
    "table4a %>%\n",
    "pivot_longer(c('1999', '2000'), names_to = \"year\", values_to = \"cases\")"
   ]
  },
  {
   "cell_type": "code",
   "execution_count": 4,
   "id": "0657a6c0-a5b5-4345-95c0-5fc75bfa20ad",
   "metadata": {},
   "outputs": [
    {
     "data": {
      "text/html": [
       "<table class=\"dataframe\">\n",
       "<caption>A tibble: 6 × 3</caption>\n",
       "<thead>\n",
       "\t<tr><th scope=col>country</th><th scope=col>year</th><th scope=col>population</th></tr>\n",
       "\t<tr><th scope=col>&lt;chr&gt;</th><th scope=col>&lt;chr&gt;</th><th scope=col>&lt;int&gt;</th></tr>\n",
       "</thead>\n",
       "<tbody>\n",
       "\t<tr><td>Afghanistan</td><td>1999</td><td>   745</td></tr>\n",
       "\t<tr><td>Afghanistan</td><td>2000</td><td>  2666</td></tr>\n",
       "\t<tr><td>Brazil     </td><td>1999</td><td> 37737</td></tr>\n",
       "\t<tr><td>Brazil     </td><td>2000</td><td> 80488</td></tr>\n",
       "\t<tr><td>China      </td><td>1999</td><td>212258</td></tr>\n",
       "\t<tr><td>China      </td><td>2000</td><td>213766</td></tr>\n",
       "</tbody>\n",
       "</table>\n"
      ],
      "text/latex": [
       "A tibble: 6 × 3\n",
       "\\begin{tabular}{lll}\n",
       " country & year & population\\\\\n",
       " <chr> & <chr> & <int>\\\\\n",
       "\\hline\n",
       "\t Afghanistan & 1999 &    745\\\\\n",
       "\t Afghanistan & 2000 &   2666\\\\\n",
       "\t Brazil      & 1999 &  37737\\\\\n",
       "\t Brazil      & 2000 &  80488\\\\\n",
       "\t China       & 1999 & 212258\\\\\n",
       "\t China       & 2000 & 213766\\\\\n",
       "\\end{tabular}\n"
      ],
      "text/markdown": [
       "\n",
       "A tibble: 6 × 3\n",
       "\n",
       "| country &lt;chr&gt; | year &lt;chr&gt; | population &lt;int&gt; |\n",
       "|---|---|---|\n",
       "| Afghanistan | 1999 |    745 |\n",
       "| Afghanistan | 2000 |   2666 |\n",
       "| Brazil      | 1999 |  37737 |\n",
       "| Brazil      | 2000 |  80488 |\n",
       "| China       | 1999 | 212258 |\n",
       "| China       | 2000 | 213766 |\n",
       "\n"
      ],
      "text/plain": [
       "  country     year population\n",
       "1 Afghanistan 1999    745    \n",
       "2 Afghanistan 2000   2666    \n",
       "3 Brazil      1999  37737    \n",
       "4 Brazil      2000  80488    \n",
       "5 China       1999 212258    \n",
       "6 China       2000 213766    "
      ]
     },
     "metadata": {},
     "output_type": "display_data"
    }
   ],
   "source": [
    "table4a %>%\n",
    "pivot_longer(c('1999','2000'), names_to = 'year', values_to = 'population')"
   ]
  },
  {
   "cell_type": "markdown",
   "id": "0dbf09be-04b8-4312-94f7-40918faa9b7e",
   "metadata": {},
   "source": [
    "`-` 위의 두개 합쳐서 보기(merge랑 비슷한 기능인듯)"
   ]
  },
  {
   "cell_type": "code",
   "execution_count": 5,
   "id": "6f141b8a-604b-43c0-b058-43dcc0480679",
   "metadata": {},
   "outputs": [
    {
     "name": "stderr",
     "output_type": "stream",
     "text": [
      "\u001b[1m\u001b[22mJoining, by = c(\"country\", \"year\")\n"
     ]
    },
    {
     "data": {
      "text/html": [
       "<table class=\"dataframe\">\n",
       "<caption>A tibble: 6 × 4</caption>\n",
       "<thead>\n",
       "\t<tr><th scope=col>country</th><th scope=col>year</th><th scope=col>cases</th><th scope=col>population</th></tr>\n",
       "\t<tr><th scope=col>&lt;chr&gt;</th><th scope=col>&lt;chr&gt;</th><th scope=col>&lt;int&gt;</th><th scope=col>&lt;int&gt;</th></tr>\n",
       "</thead>\n",
       "<tbody>\n",
       "\t<tr><td>Afghanistan</td><td>1999</td><td>   745</td><td>  19987071</td></tr>\n",
       "\t<tr><td>Afghanistan</td><td>2000</td><td>  2666</td><td>  20595360</td></tr>\n",
       "\t<tr><td>Brazil     </td><td>1999</td><td> 37737</td><td> 172006362</td></tr>\n",
       "\t<tr><td>Brazil     </td><td>2000</td><td> 80488</td><td> 174504898</td></tr>\n",
       "\t<tr><td>China      </td><td>1999</td><td>212258</td><td>1272915272</td></tr>\n",
       "\t<tr><td>China      </td><td>2000</td><td>213766</td><td>1280428583</td></tr>\n",
       "</tbody>\n",
       "</table>\n"
      ],
      "text/latex": [
       "A tibble: 6 × 4\n",
       "\\begin{tabular}{llll}\n",
       " country & year & cases & population\\\\\n",
       " <chr> & <chr> & <int> & <int>\\\\\n",
       "\\hline\n",
       "\t Afghanistan & 1999 &    745 &   19987071\\\\\n",
       "\t Afghanistan & 2000 &   2666 &   20595360\\\\\n",
       "\t Brazil      & 1999 &  37737 &  172006362\\\\\n",
       "\t Brazil      & 2000 &  80488 &  174504898\\\\\n",
       "\t China       & 1999 & 212258 & 1272915272\\\\\n",
       "\t China       & 2000 & 213766 & 1280428583\\\\\n",
       "\\end{tabular}\n"
      ],
      "text/markdown": [
       "\n",
       "A tibble: 6 × 4\n",
       "\n",
       "| country &lt;chr&gt; | year &lt;chr&gt; | cases &lt;int&gt; | population &lt;int&gt; |\n",
       "|---|---|---|---|\n",
       "| Afghanistan | 1999 |    745 |   19987071 |\n",
       "| Afghanistan | 2000 |   2666 |   20595360 |\n",
       "| Brazil      | 1999 |  37737 |  172006362 |\n",
       "| Brazil      | 2000 |  80488 |  174504898 |\n",
       "| China       | 1999 | 212258 | 1272915272 |\n",
       "| China       | 2000 | 213766 | 1280428583 |\n",
       "\n"
      ],
      "text/plain": [
       "  country     year cases  population\n",
       "1 Afghanistan 1999    745   19987071\n",
       "2 Afghanistan 2000   2666   20595360\n",
       "3 Brazil      1999  37737  172006362\n",
       "4 Brazil      2000  80488  174504898\n",
       "5 China       1999 212258 1272915272\n",
       "6 China       2000 213766 1280428583"
      ]
     },
     "metadata": {},
     "output_type": "display_data"
    }
   ],
   "source": [
    "tidy4a <- table4a %>%\n",
    "pivot_longer(c('1999', '2000'), names_to = 'year', values_to = 'cases')\n",
    "tidy4b <- table4b %>%\n",
    "pivot_longer(c('1999', '2000'), names_to = 'year', values_to = 'population')\n",
    "left_join(tidy4a, tidy4b)"
   ]
  },
  {
   "cell_type": "markdown",
   "id": "82a397ec-2b6a-4ab4-8ed1-0b9c667fb644",
   "metadata": {},
   "source": [
    "`-` table2 예제"
   ]
  },
  {
   "cell_type": "code",
   "execution_count": 6,
   "id": "a368e7d4-cbf4-4ffb-9b7e-2cd63db6f37c",
   "metadata": {},
   "outputs": [
    {
     "data": {
      "text/html": [
       "<table class=\"dataframe\">\n",
       "<caption>A tibble: 12 × 4</caption>\n",
       "<thead>\n",
       "\t<tr><th scope=col>country</th><th scope=col>year</th><th scope=col>type</th><th scope=col>count</th></tr>\n",
       "\t<tr><th scope=col>&lt;chr&gt;</th><th scope=col>&lt;int&gt;</th><th scope=col>&lt;chr&gt;</th><th scope=col>&lt;int&gt;</th></tr>\n",
       "</thead>\n",
       "<tbody>\n",
       "\t<tr><td>Afghanistan</td><td>1999</td><td>cases     </td><td>       745</td></tr>\n",
       "\t<tr><td>Afghanistan</td><td>1999</td><td>population</td><td>  19987071</td></tr>\n",
       "\t<tr><td>Afghanistan</td><td>2000</td><td>cases     </td><td>      2666</td></tr>\n",
       "\t<tr><td>Afghanistan</td><td>2000</td><td>population</td><td>  20595360</td></tr>\n",
       "\t<tr><td>Brazil     </td><td>1999</td><td>cases     </td><td>     37737</td></tr>\n",
       "\t<tr><td>Brazil     </td><td>1999</td><td>population</td><td> 172006362</td></tr>\n",
       "\t<tr><td>Brazil     </td><td>2000</td><td>cases     </td><td>     80488</td></tr>\n",
       "\t<tr><td>Brazil     </td><td>2000</td><td>population</td><td> 174504898</td></tr>\n",
       "\t<tr><td>China      </td><td>1999</td><td>cases     </td><td>    212258</td></tr>\n",
       "\t<tr><td>China      </td><td>1999</td><td>population</td><td>1272915272</td></tr>\n",
       "\t<tr><td>China      </td><td>2000</td><td>cases     </td><td>    213766</td></tr>\n",
       "\t<tr><td>China      </td><td>2000</td><td>population</td><td>1280428583</td></tr>\n",
       "</tbody>\n",
       "</table>\n"
      ],
      "text/latex": [
       "A tibble: 12 × 4\n",
       "\\begin{tabular}{llll}\n",
       " country & year & type & count\\\\\n",
       " <chr> & <int> & <chr> & <int>\\\\\n",
       "\\hline\n",
       "\t Afghanistan & 1999 & cases      &        745\\\\\n",
       "\t Afghanistan & 1999 & population &   19987071\\\\\n",
       "\t Afghanistan & 2000 & cases      &       2666\\\\\n",
       "\t Afghanistan & 2000 & population &   20595360\\\\\n",
       "\t Brazil      & 1999 & cases      &      37737\\\\\n",
       "\t Brazil      & 1999 & population &  172006362\\\\\n",
       "\t Brazil      & 2000 & cases      &      80488\\\\\n",
       "\t Brazil      & 2000 & population &  174504898\\\\\n",
       "\t China       & 1999 & cases      &     212258\\\\\n",
       "\t China       & 1999 & population & 1272915272\\\\\n",
       "\t China       & 2000 & cases      &     213766\\\\\n",
       "\t China       & 2000 & population & 1280428583\\\\\n",
       "\\end{tabular}\n"
      ],
      "text/markdown": [
       "\n",
       "A tibble: 12 × 4\n",
       "\n",
       "| country &lt;chr&gt; | year &lt;int&gt; | type &lt;chr&gt; | count &lt;int&gt; |\n",
       "|---|---|---|---|\n",
       "| Afghanistan | 1999 | cases      |        745 |\n",
       "| Afghanistan | 1999 | population |   19987071 |\n",
       "| Afghanistan | 2000 | cases      |       2666 |\n",
       "| Afghanistan | 2000 | population |   20595360 |\n",
       "| Brazil      | 1999 | cases      |      37737 |\n",
       "| Brazil      | 1999 | population |  172006362 |\n",
       "| Brazil      | 2000 | cases      |      80488 |\n",
       "| Brazil      | 2000 | population |  174504898 |\n",
       "| China       | 1999 | cases      |     212258 |\n",
       "| China       | 1999 | population | 1272915272 |\n",
       "| China       | 2000 | cases      |     213766 |\n",
       "| China       | 2000 | population | 1280428583 |\n",
       "\n"
      ],
      "text/plain": [
       "   country     year type       count     \n",
       "1  Afghanistan 1999 cases             745\n",
       "2  Afghanistan 1999 population   19987071\n",
       "3  Afghanistan 2000 cases            2666\n",
       "4  Afghanistan 2000 population   20595360\n",
       "5  Brazil      1999 cases           37737\n",
       "6  Brazil      1999 population  172006362\n",
       "7  Brazil      2000 cases           80488\n",
       "8  Brazil      2000 population  174504898\n",
       "9  China       1999 cases          212258\n",
       "10 China       1999 population 1272915272\n",
       "11 China       2000 cases          213766\n",
       "12 China       2000 population 1280428583"
      ]
     },
     "metadata": {},
     "output_type": "display_data"
    }
   ],
   "source": [
    "table2"
   ]
  },
  {
   "cell_type": "markdown",
   "id": "8f170492-ba69-4166-a695-a0ad79c2b2de",
   "metadata": {},
   "source": [
    "`pivot_wider` : `pivot_longer`랑 반대로 항목을 행으로 보내기"
   ]
  },
  {
   "cell_type": "code",
   "execution_count": 7,
   "id": "22f836b9-4278-41ad-b814-d287b9758ead",
   "metadata": {},
   "outputs": [
    {
     "data": {
      "text/html": [
       "<table class=\"dataframe\">\n",
       "<caption>A tibble: 6 × 4</caption>\n",
       "<thead>\n",
       "\t<tr><th scope=col>country</th><th scope=col>year</th><th scope=col>cases</th><th scope=col>population</th></tr>\n",
       "\t<tr><th scope=col>&lt;chr&gt;</th><th scope=col>&lt;int&gt;</th><th scope=col>&lt;int&gt;</th><th scope=col>&lt;int&gt;</th></tr>\n",
       "</thead>\n",
       "<tbody>\n",
       "\t<tr><td>Afghanistan</td><td>1999</td><td>   745</td><td>  19987071</td></tr>\n",
       "\t<tr><td>Afghanistan</td><td>2000</td><td>  2666</td><td>  20595360</td></tr>\n",
       "\t<tr><td>Brazil     </td><td>1999</td><td> 37737</td><td> 172006362</td></tr>\n",
       "\t<tr><td>Brazil     </td><td>2000</td><td> 80488</td><td> 174504898</td></tr>\n",
       "\t<tr><td>China      </td><td>1999</td><td>212258</td><td>1272915272</td></tr>\n",
       "\t<tr><td>China      </td><td>2000</td><td>213766</td><td>1280428583</td></tr>\n",
       "</tbody>\n",
       "</table>\n"
      ],
      "text/latex": [
       "A tibble: 6 × 4\n",
       "\\begin{tabular}{llll}\n",
       " country & year & cases & population\\\\\n",
       " <chr> & <int> & <int> & <int>\\\\\n",
       "\\hline\n",
       "\t Afghanistan & 1999 &    745 &   19987071\\\\\n",
       "\t Afghanistan & 2000 &   2666 &   20595360\\\\\n",
       "\t Brazil      & 1999 &  37737 &  172006362\\\\\n",
       "\t Brazil      & 2000 &  80488 &  174504898\\\\\n",
       "\t China       & 1999 & 212258 & 1272915272\\\\\n",
       "\t China       & 2000 & 213766 & 1280428583\\\\\n",
       "\\end{tabular}\n"
      ],
      "text/markdown": [
       "\n",
       "A tibble: 6 × 4\n",
       "\n",
       "| country &lt;chr&gt; | year &lt;int&gt; | cases &lt;int&gt; | population &lt;int&gt; |\n",
       "|---|---|---|---|\n",
       "| Afghanistan | 1999 |    745 |   19987071 |\n",
       "| Afghanistan | 2000 |   2666 |   20595360 |\n",
       "| Brazil      | 1999 |  37737 |  172006362 |\n",
       "| Brazil      | 2000 |  80488 |  174504898 |\n",
       "| China       | 1999 | 212258 | 1272915272 |\n",
       "| China       | 2000 | 213766 | 1280428583 |\n",
       "\n"
      ],
      "text/plain": [
       "  country     year cases  population\n",
       "1 Afghanistan 1999    745   19987071\n",
       "2 Afghanistan 2000   2666   20595360\n",
       "3 Brazil      1999  37737  172006362\n",
       "4 Brazil      2000  80488  174504898\n",
       "5 China       1999 212258 1272915272\n",
       "6 China       2000 213766 1280428583"
      ]
     },
     "metadata": {},
     "output_type": "display_data"
    }
   ],
   "source": [
    "table2 %>%\n",
    "pivot_wider(names_from = type, values_from = count)"
   ]
  },
  {
   "cell_type": "markdown",
   "id": "b7d3c5f8-3495-4733-8fca-973d584e06a1",
   "metadata": {},
   "source": [
    "> 결과적으로 `pivot_longer`은 넒은 테이블을 더 좁고 길게 만들고<br>\n",
    "`pivot_wider`는 긴 테이블을 더 짧고 넓게 만든다."
   ]
  },
  {
   "cell_type": "markdown",
   "id": "63bd6fd8-49c0-4042-b3d3-3bf4a271d40b",
   "metadata": {},
   "source": [
    "`-` table3 예제"
   ]
  },
  {
   "cell_type": "code",
   "execution_count": 8,
   "id": "a36ad92c-1c91-43fa-96a1-21f56d72a87d",
   "metadata": {},
   "outputs": [
    {
     "data": {
      "text/html": [
       "<table class=\"dataframe\">\n",
       "<caption>A tibble: 6 × 3</caption>\n",
       "<thead>\n",
       "\t<tr><th></th><th scope=col>country</th><th scope=col>year</th><th scope=col>rate</th></tr>\n",
       "\t<tr><th></th><th scope=col>&lt;chr&gt;</th><th scope=col>&lt;int&gt;</th><th scope=col>&lt;chr&gt;</th></tr>\n",
       "</thead>\n",
       "<tbody>\n",
       "\t<tr><th scope=row>1</th><td>Afghanistan</td><td>1999</td><td>745/19987071     </td></tr>\n",
       "\t<tr><th scope=row>2</th><td>Afghanistan</td><td>2000</td><td>2666/20595360    </td></tr>\n",
       "\t<tr><th scope=row>3</th><td>Brazil     </td><td>1999</td><td>37737/172006362  </td></tr>\n",
       "\t<tr><th scope=row>4</th><td>Brazil     </td><td>2000</td><td>80488/174504898  </td></tr>\n",
       "\t<tr><th scope=row>5</th><td>China      </td><td>1999</td><td>212258/1272915272</td></tr>\n",
       "\t<tr><th scope=row>6</th><td>China      </td><td>2000</td><td>213766/1280428583</td></tr>\n",
       "</tbody>\n",
       "</table>\n"
      ],
      "text/latex": [
       "A tibble: 6 × 3\n",
       "\\begin{tabular}{r|lll}\n",
       "  & country & year & rate\\\\\n",
       "  & <chr> & <int> & <chr>\\\\\n",
       "\\hline\n",
       "\t1 & Afghanistan & 1999 & 745/19987071     \\\\\n",
       "\t2 & Afghanistan & 2000 & 2666/20595360    \\\\\n",
       "\t3 & Brazil      & 1999 & 37737/172006362  \\\\\n",
       "\t4 & Brazil      & 2000 & 80488/174504898  \\\\\n",
       "\t5 & China       & 1999 & 212258/1272915272\\\\\n",
       "\t6 & China       & 2000 & 213766/1280428583\\\\\n",
       "\\end{tabular}\n"
      ],
      "text/markdown": [
       "\n",
       "A tibble: 6 × 3\n",
       "\n",
       "| <!--/--> | country &lt;chr&gt; | year &lt;int&gt; | rate &lt;chr&gt; |\n",
       "|---|---|---|---|\n",
       "| 1 | Afghanistan | 1999 | 745/19987071      |\n",
       "| 2 | Afghanistan | 2000 | 2666/20595360     |\n",
       "| 3 | Brazil      | 1999 | 37737/172006362   |\n",
       "| 4 | Brazil      | 2000 | 80488/174504898   |\n",
       "| 5 | China       | 1999 | 212258/1272915272 |\n",
       "| 6 | China       | 2000 | 213766/1280428583 |\n",
       "\n"
      ],
      "text/plain": [
       "  country     year rate             \n",
       "1 Afghanistan 1999 745/19987071     \n",
       "2 Afghanistan 2000 2666/20595360    \n",
       "3 Brazil      1999 37737/172006362  \n",
       "4 Brazil      2000 80488/174504898  \n",
       "5 China       1999 212258/1272915272\n",
       "6 China       2000 213766/1280428583"
      ]
     },
     "metadata": {},
     "output_type": "display_data"
    }
   ],
   "source": [
    "table3"
   ]
  },
  {
   "cell_type": "markdown",
   "id": "ee211e4c-7b0e-4d3b-a953-f293e2272e0e",
   "metadata": {},
   "source": [
    "`separate` : 구분 문자가 나타나는 곳마다 쪼개서 하나의 열을 여러 열로 분리<br>\n",
    "기본적으로 `separate`는 숫자나 글자가 아닌 문자를 볼 때마다 값을 쪼갠다.<br>\n",
    "열을 구분하는 특정 문자를 코드에 나타내려면 `sep`을 사용한다."
   ]
  },
  {
   "cell_type": "code",
   "execution_count": 9,
   "id": "1104c3c7-c2f8-4da7-83ce-a33f77ca05b1",
   "metadata": {},
   "outputs": [
    {
     "data": {
      "text/html": [
       "<table class=\"dataframe\">\n",
       "<caption>A tibble: 6 × 4</caption>\n",
       "<thead>\n",
       "\t<tr><th scope=col>country</th><th scope=col>year</th><th scope=col>cases</th><th scope=col>population</th></tr>\n",
       "\t<tr><th scope=col>&lt;chr&gt;</th><th scope=col>&lt;int&gt;</th><th scope=col>&lt;chr&gt;</th><th scope=col>&lt;chr&gt;</th></tr>\n",
       "</thead>\n",
       "<tbody>\n",
       "\t<tr><td>Afghanistan</td><td>1999</td><td>745   </td><td>19987071  </td></tr>\n",
       "\t<tr><td>Afghanistan</td><td>2000</td><td>2666  </td><td>20595360  </td></tr>\n",
       "\t<tr><td>Brazil     </td><td>1999</td><td>37737 </td><td>172006362 </td></tr>\n",
       "\t<tr><td>Brazil     </td><td>2000</td><td>80488 </td><td>174504898 </td></tr>\n",
       "\t<tr><td>China      </td><td>1999</td><td>212258</td><td>1272915272</td></tr>\n",
       "\t<tr><td>China      </td><td>2000</td><td>213766</td><td>1280428583</td></tr>\n",
       "</tbody>\n",
       "</table>\n"
      ],
      "text/latex": [
       "A tibble: 6 × 4\n",
       "\\begin{tabular}{llll}\n",
       " country & year & cases & population\\\\\n",
       " <chr> & <int> & <chr> & <chr>\\\\\n",
       "\\hline\n",
       "\t Afghanistan & 1999 & 745    & 19987071  \\\\\n",
       "\t Afghanistan & 2000 & 2666   & 20595360  \\\\\n",
       "\t Brazil      & 1999 & 37737  & 172006362 \\\\\n",
       "\t Brazil      & 2000 & 80488  & 174504898 \\\\\n",
       "\t China       & 1999 & 212258 & 1272915272\\\\\n",
       "\t China       & 2000 & 213766 & 1280428583\\\\\n",
       "\\end{tabular}\n"
      ],
      "text/markdown": [
       "\n",
       "A tibble: 6 × 4\n",
       "\n",
       "| country &lt;chr&gt; | year &lt;int&gt; | cases &lt;chr&gt; | population &lt;chr&gt; |\n",
       "|---|---|---|---|\n",
       "| Afghanistan | 1999 | 745    | 19987071   |\n",
       "| Afghanistan | 2000 | 2666   | 20595360   |\n",
       "| Brazil      | 1999 | 37737  | 172006362  |\n",
       "| Brazil      | 2000 | 80488  | 174504898  |\n",
       "| China       | 1999 | 212258 | 1272915272 |\n",
       "| China       | 2000 | 213766 | 1280428583 |\n",
       "\n"
      ],
      "text/plain": [
       "  country     year cases  population\n",
       "1 Afghanistan 1999 745    19987071  \n",
       "2 Afghanistan 2000 2666   20595360  \n",
       "3 Brazil      1999 37737  172006362 \n",
       "4 Brazil      2000 80488  174504898 \n",
       "5 China       1999 212258 1272915272\n",
       "6 China       2000 213766 1280428583"
      ]
     },
     "metadata": {},
     "output_type": "display_data"
    }
   ],
   "source": [
    "table3 %>%\n",
    "separate(rate, into = c(\"cases\", \"population\"))"
   ]
  },
  {
   "cell_type": "code",
   "execution_count": 10,
   "id": "e5b23dfd-fe0b-4295-8ebf-663d3decb344",
   "metadata": {},
   "outputs": [
    {
     "data": {
      "text/html": [
       "<table class=\"dataframe\">\n",
       "<caption>A tibble: 6 × 4</caption>\n",
       "<thead>\n",
       "\t<tr><th scope=col>country</th><th scope=col>year</th><th scope=col>cases</th><th scope=col>population</th></tr>\n",
       "\t<tr><th scope=col>&lt;chr&gt;</th><th scope=col>&lt;int&gt;</th><th scope=col>&lt;chr&gt;</th><th scope=col>&lt;chr&gt;</th></tr>\n",
       "</thead>\n",
       "<tbody>\n",
       "\t<tr><td>Afghanistan</td><td>1999</td><td>745   </td><td>19987071  </td></tr>\n",
       "\t<tr><td>Afghanistan</td><td>2000</td><td>2666  </td><td>20595360  </td></tr>\n",
       "\t<tr><td>Brazil     </td><td>1999</td><td>37737 </td><td>172006362 </td></tr>\n",
       "\t<tr><td>Brazil     </td><td>2000</td><td>80488 </td><td>174504898 </td></tr>\n",
       "\t<tr><td>China      </td><td>1999</td><td>212258</td><td>1272915272</td></tr>\n",
       "\t<tr><td>China      </td><td>2000</td><td>213766</td><td>1280428583</td></tr>\n",
       "</tbody>\n",
       "</table>\n"
      ],
      "text/latex": [
       "A tibble: 6 × 4\n",
       "\\begin{tabular}{llll}\n",
       " country & year & cases & population\\\\\n",
       " <chr> & <int> & <chr> & <chr>\\\\\n",
       "\\hline\n",
       "\t Afghanistan & 1999 & 745    & 19987071  \\\\\n",
       "\t Afghanistan & 2000 & 2666   & 20595360  \\\\\n",
       "\t Brazil      & 1999 & 37737  & 172006362 \\\\\n",
       "\t Brazil      & 2000 & 80488  & 174504898 \\\\\n",
       "\t China       & 1999 & 212258 & 1272915272\\\\\n",
       "\t China       & 2000 & 213766 & 1280428583\\\\\n",
       "\\end{tabular}\n"
      ],
      "text/markdown": [
       "\n",
       "A tibble: 6 × 4\n",
       "\n",
       "| country &lt;chr&gt; | year &lt;int&gt; | cases &lt;chr&gt; | population &lt;chr&gt; |\n",
       "|---|---|---|---|\n",
       "| Afghanistan | 1999 | 745    | 19987071   |\n",
       "| Afghanistan | 2000 | 2666   | 20595360   |\n",
       "| Brazil      | 1999 | 37737  | 172006362  |\n",
       "| Brazil      | 2000 | 80488  | 174504898  |\n",
       "| China       | 1999 | 212258 | 1272915272 |\n",
       "| China       | 2000 | 213766 | 1280428583 |\n",
       "\n"
      ],
      "text/plain": [
       "  country     year cases  population\n",
       "1 Afghanistan 1999 745    19987071  \n",
       "2 Afghanistan 2000 2666   20595360  \n",
       "3 Brazil      1999 37737  172006362 \n",
       "4 Brazil      2000 80488  174504898 \n",
       "5 China       1999 212258 1272915272\n",
       "6 China       2000 213766 1280428583"
      ]
     },
     "metadata": {},
     "output_type": "display_data"
    }
   ],
   "source": [
    "table3 %>%\n",
    "separate(rate, into = c(\"cases\", \"population\"), sep = \"/\")"
   ]
  },
  {
   "cell_type": "markdown",
   "id": "938425d7-4759-4578-beb5-44846a7e5767",
   "metadata": {},
   "source": [
    "- 근데 cases, population 문자형 보면 알 수 있듯이 결과가 character로 나온다<br>\n",
    "이 때 `convert` 사용하면 적합한 열의 유형을 변형해준다."
   ]
  },
  {
   "cell_type": "code",
   "execution_count": 11,
   "id": "baf6f819-7258-4d53-9eb7-987120ae6799",
   "metadata": {},
   "outputs": [
    {
     "data": {
      "text/html": [
       "<table class=\"dataframe\">\n",
       "<caption>A tibble: 6 × 4</caption>\n",
       "<thead>\n",
       "\t<tr><th scope=col>country</th><th scope=col>year</th><th scope=col>cases</th><th scope=col>population</th></tr>\n",
       "\t<tr><th scope=col>&lt;chr&gt;</th><th scope=col>&lt;int&gt;</th><th scope=col>&lt;int&gt;</th><th scope=col>&lt;int&gt;</th></tr>\n",
       "</thead>\n",
       "<tbody>\n",
       "\t<tr><td>Afghanistan</td><td>1999</td><td>   745</td><td>  19987071</td></tr>\n",
       "\t<tr><td>Afghanistan</td><td>2000</td><td>  2666</td><td>  20595360</td></tr>\n",
       "\t<tr><td>Brazil     </td><td>1999</td><td> 37737</td><td> 172006362</td></tr>\n",
       "\t<tr><td>Brazil     </td><td>2000</td><td> 80488</td><td> 174504898</td></tr>\n",
       "\t<tr><td>China      </td><td>1999</td><td>212258</td><td>1272915272</td></tr>\n",
       "\t<tr><td>China      </td><td>2000</td><td>213766</td><td>1280428583</td></tr>\n",
       "</tbody>\n",
       "</table>\n"
      ],
      "text/latex": [
       "A tibble: 6 × 4\n",
       "\\begin{tabular}{llll}\n",
       " country & year & cases & population\\\\\n",
       " <chr> & <int> & <int> & <int>\\\\\n",
       "\\hline\n",
       "\t Afghanistan & 1999 &    745 &   19987071\\\\\n",
       "\t Afghanistan & 2000 &   2666 &   20595360\\\\\n",
       "\t Brazil      & 1999 &  37737 &  172006362\\\\\n",
       "\t Brazil      & 2000 &  80488 &  174504898\\\\\n",
       "\t China       & 1999 & 212258 & 1272915272\\\\\n",
       "\t China       & 2000 & 213766 & 1280428583\\\\\n",
       "\\end{tabular}\n"
      ],
      "text/markdown": [
       "\n",
       "A tibble: 6 × 4\n",
       "\n",
       "| country &lt;chr&gt; | year &lt;int&gt; | cases &lt;int&gt; | population &lt;int&gt; |\n",
       "|---|---|---|---|\n",
       "| Afghanistan | 1999 |    745 |   19987071 |\n",
       "| Afghanistan | 2000 |   2666 |   20595360 |\n",
       "| Brazil      | 1999 |  37737 |  172006362 |\n",
       "| Brazil      | 2000 |  80488 |  174504898 |\n",
       "| China       | 1999 | 212258 | 1272915272 |\n",
       "| China       | 2000 | 213766 | 1280428583 |\n",
       "\n"
      ],
      "text/plain": [
       "  country     year cases  population\n",
       "1 Afghanistan 1999    745   19987071\n",
       "2 Afghanistan 2000   2666   20595360\n",
       "3 Brazil      1999  37737  172006362\n",
       "4 Brazil      2000  80488  174504898\n",
       "5 China       1999 212258 1272915272\n",
       "6 China       2000 213766 1280428583"
      ]
     },
     "metadata": {},
     "output_type": "display_data"
    }
   ],
   "source": [
    "table3 %>%\n",
    "separate(\n",
    "    rate,\n",
    "    into = c(\"cases\", \"population\"),\n",
    "    convert = TRUE\n",
    "    )"
   ]
  },
  {
   "cell_type": "markdown",
   "id": "7a3be4c5-ab78-486c-9ba6-38cca77ab712",
   "metadata": {},
   "source": [
    "- `sep`에 숫자 입력하면 앞에서부터 그 개수만큼 잘라서 분리한다.(음수는 뒤에서부터 자름)"
   ]
  },
  {
   "cell_type": "code",
   "execution_count": 12,
   "id": "c44d95db-9dfe-4548-ae3e-ae2f3c802cc2",
   "metadata": {},
   "outputs": [
    {
     "data": {
      "text/html": [
       "<table class=\"dataframe\">\n",
       "<caption>A tibble: 6 × 4</caption>\n",
       "<thead>\n",
       "\t<tr><th scope=col>country</th><th scope=col>century</th><th scope=col>year</th><th scope=col>rate</th></tr>\n",
       "\t<tr><th scope=col>&lt;chr&gt;</th><th scope=col>&lt;chr&gt;</th><th scope=col>&lt;chr&gt;</th><th scope=col>&lt;chr&gt;</th></tr>\n",
       "</thead>\n",
       "<tbody>\n",
       "\t<tr><td>Afghanistan</td><td>19</td><td>99</td><td>745/19987071     </td></tr>\n",
       "\t<tr><td>Afghanistan</td><td>20</td><td>00</td><td>2666/20595360    </td></tr>\n",
       "\t<tr><td>Brazil     </td><td>19</td><td>99</td><td>37737/172006362  </td></tr>\n",
       "\t<tr><td>Brazil     </td><td>20</td><td>00</td><td>80488/174504898  </td></tr>\n",
       "\t<tr><td>China      </td><td>19</td><td>99</td><td>212258/1272915272</td></tr>\n",
       "\t<tr><td>China      </td><td>20</td><td>00</td><td>213766/1280428583</td></tr>\n",
       "</tbody>\n",
       "</table>\n"
      ],
      "text/latex": [
       "A tibble: 6 × 4\n",
       "\\begin{tabular}{llll}\n",
       " country & century & year & rate\\\\\n",
       " <chr> & <chr> & <chr> & <chr>\\\\\n",
       "\\hline\n",
       "\t Afghanistan & 19 & 99 & 745/19987071     \\\\\n",
       "\t Afghanistan & 20 & 00 & 2666/20595360    \\\\\n",
       "\t Brazil      & 19 & 99 & 37737/172006362  \\\\\n",
       "\t Brazil      & 20 & 00 & 80488/174504898  \\\\\n",
       "\t China       & 19 & 99 & 212258/1272915272\\\\\n",
       "\t China       & 20 & 00 & 213766/1280428583\\\\\n",
       "\\end{tabular}\n"
      ],
      "text/markdown": [
       "\n",
       "A tibble: 6 × 4\n",
       "\n",
       "| country &lt;chr&gt; | century &lt;chr&gt; | year &lt;chr&gt; | rate &lt;chr&gt; |\n",
       "|---|---|---|---|\n",
       "| Afghanistan | 19 | 99 | 745/19987071      |\n",
       "| Afghanistan | 20 | 00 | 2666/20595360     |\n",
       "| Brazil      | 19 | 99 | 37737/172006362   |\n",
       "| Brazil      | 20 | 00 | 80488/174504898   |\n",
       "| China       | 19 | 99 | 212258/1272915272 |\n",
       "| China       | 20 | 00 | 213766/1280428583 |\n",
       "\n"
      ],
      "text/plain": [
       "  country     century year rate             \n",
       "1 Afghanistan 19      99   745/19987071     \n",
       "2 Afghanistan 20      00   2666/20595360    \n",
       "3 Brazil      19      99   37737/172006362  \n",
       "4 Brazil      20      00   80488/174504898  \n",
       "5 China       19      99   212258/1272915272\n",
       "6 China       20      00   213766/1280428583"
      ]
     },
     "metadata": {},
     "output_type": "display_data"
    }
   ],
   "source": [
    "table3 %>%\n",
    "separate(year, into = c(\"century\", \"year\"), sep = 2)"
   ]
  },
  {
   "cell_type": "markdown",
   "id": "95b9ae64-8586-4cbb-86bf-1ee279ec6341",
   "metadata": {},
   "source": [
    "`-` table5 예제"
   ]
  },
  {
   "cell_type": "code",
   "execution_count": 13,
   "id": "12737057-e55d-45fd-8b15-51a15daee267",
   "metadata": {},
   "outputs": [
    {
     "data": {
      "text/html": [
       "<table class=\"dataframe\">\n",
       "<caption>A tibble: 6 × 4</caption>\n",
       "<thead>\n",
       "\t<tr><th></th><th scope=col>country</th><th scope=col>century</th><th scope=col>year</th><th scope=col>rate</th></tr>\n",
       "\t<tr><th></th><th scope=col>&lt;chr&gt;</th><th scope=col>&lt;chr&gt;</th><th scope=col>&lt;chr&gt;</th><th scope=col>&lt;chr&gt;</th></tr>\n",
       "</thead>\n",
       "<tbody>\n",
       "\t<tr><th scope=row>1</th><td>Afghanistan</td><td>19</td><td>99</td><td>745/19987071     </td></tr>\n",
       "\t<tr><th scope=row>2</th><td>Afghanistan</td><td>20</td><td>00</td><td>2666/20595360    </td></tr>\n",
       "\t<tr><th scope=row>3</th><td>Brazil     </td><td>19</td><td>99</td><td>37737/172006362  </td></tr>\n",
       "\t<tr><th scope=row>4</th><td>Brazil     </td><td>20</td><td>00</td><td>80488/174504898  </td></tr>\n",
       "\t<tr><th scope=row>5</th><td>China      </td><td>19</td><td>99</td><td>212258/1272915272</td></tr>\n",
       "\t<tr><th scope=row>6</th><td>China      </td><td>20</td><td>00</td><td>213766/1280428583</td></tr>\n",
       "</tbody>\n",
       "</table>\n"
      ],
      "text/latex": [
       "A tibble: 6 × 4\n",
       "\\begin{tabular}{r|llll}\n",
       "  & country & century & year & rate\\\\\n",
       "  & <chr> & <chr> & <chr> & <chr>\\\\\n",
       "\\hline\n",
       "\t1 & Afghanistan & 19 & 99 & 745/19987071     \\\\\n",
       "\t2 & Afghanistan & 20 & 00 & 2666/20595360    \\\\\n",
       "\t3 & Brazil      & 19 & 99 & 37737/172006362  \\\\\n",
       "\t4 & Brazil      & 20 & 00 & 80488/174504898  \\\\\n",
       "\t5 & China       & 19 & 99 & 212258/1272915272\\\\\n",
       "\t6 & China       & 20 & 00 & 213766/1280428583\\\\\n",
       "\\end{tabular}\n"
      ],
      "text/markdown": [
       "\n",
       "A tibble: 6 × 4\n",
       "\n",
       "| <!--/--> | country &lt;chr&gt; | century &lt;chr&gt; | year &lt;chr&gt; | rate &lt;chr&gt; |\n",
       "|---|---|---|---|---|\n",
       "| 1 | Afghanistan | 19 | 99 | 745/19987071      |\n",
       "| 2 | Afghanistan | 20 | 00 | 2666/20595360     |\n",
       "| 3 | Brazil      | 19 | 99 | 37737/172006362   |\n",
       "| 4 | Brazil      | 20 | 00 | 80488/174504898   |\n",
       "| 5 | China       | 19 | 99 | 212258/1272915272 |\n",
       "| 6 | China       | 20 | 00 | 213766/1280428583 |\n",
       "\n"
      ],
      "text/plain": [
       "  country     century year rate             \n",
       "1 Afghanistan 19      99   745/19987071     \n",
       "2 Afghanistan 20      00   2666/20595360    \n",
       "3 Brazil      19      99   37737/172006362  \n",
       "4 Brazil      20      00   80488/174504898  \n",
       "5 China       19      99   212258/1272915272\n",
       "6 China       20      00   213766/1280428583"
      ]
     },
     "metadata": {},
     "output_type": "display_data"
    }
   ],
   "source": [
    "table5"
   ]
  },
  {
   "cell_type": "markdown",
   "id": "85b4b3fd-3905-4714-a77e-235690068e6b",
   "metadata": {},
   "source": [
    "`unite` : `separate`과 반대로 여러 열을 하나의 열로 결합한다"
   ]
  },
  {
   "cell_type": "code",
   "execution_count": 14,
   "id": "fa5f5a96-42c2-4d4c-8626-3d9ad0d5b9b3",
   "metadata": {},
   "outputs": [
    {
     "data": {
      "text/html": [
       "<table class=\"dataframe\">\n",
       "<caption>A tibble: 6 × 3</caption>\n",
       "<thead>\n",
       "\t<tr><th scope=col>country</th><th scope=col>new</th><th scope=col>rate</th></tr>\n",
       "\t<tr><th scope=col>&lt;chr&gt;</th><th scope=col>&lt;chr&gt;</th><th scope=col>&lt;chr&gt;</th></tr>\n",
       "</thead>\n",
       "<tbody>\n",
       "\t<tr><td>Afghanistan</td><td>19_99</td><td>745/19987071     </td></tr>\n",
       "\t<tr><td>Afghanistan</td><td>20_00</td><td>2666/20595360    </td></tr>\n",
       "\t<tr><td>Brazil     </td><td>19_99</td><td>37737/172006362  </td></tr>\n",
       "\t<tr><td>Brazil     </td><td>20_00</td><td>80488/174504898  </td></tr>\n",
       "\t<tr><td>China      </td><td>19_99</td><td>212258/1272915272</td></tr>\n",
       "\t<tr><td>China      </td><td>20_00</td><td>213766/1280428583</td></tr>\n",
       "</tbody>\n",
       "</table>\n"
      ],
      "text/latex": [
       "A tibble: 6 × 3\n",
       "\\begin{tabular}{lll}\n",
       " country & new & rate\\\\\n",
       " <chr> & <chr> & <chr>\\\\\n",
       "\\hline\n",
       "\t Afghanistan & 19\\_99 & 745/19987071     \\\\\n",
       "\t Afghanistan & 20\\_00 & 2666/20595360    \\\\\n",
       "\t Brazil      & 19\\_99 & 37737/172006362  \\\\\n",
       "\t Brazil      & 20\\_00 & 80488/174504898  \\\\\n",
       "\t China       & 19\\_99 & 212258/1272915272\\\\\n",
       "\t China       & 20\\_00 & 213766/1280428583\\\\\n",
       "\\end{tabular}\n"
      ],
      "text/markdown": [
       "\n",
       "A tibble: 6 × 3\n",
       "\n",
       "| country &lt;chr&gt; | new &lt;chr&gt; | rate &lt;chr&gt; |\n",
       "|---|---|---|\n",
       "| Afghanistan | 19_99 | 745/19987071      |\n",
       "| Afghanistan | 20_00 | 2666/20595360     |\n",
       "| Brazil      | 19_99 | 37737/172006362   |\n",
       "| Brazil      | 20_00 | 80488/174504898   |\n",
       "| China       | 19_99 | 212258/1272915272 |\n",
       "| China       | 20_00 | 213766/1280428583 |\n",
       "\n"
      ],
      "text/plain": [
       "  country     new   rate             \n",
       "1 Afghanistan 19_99 745/19987071     \n",
       "2 Afghanistan 20_00 2666/20595360    \n",
       "3 Brazil      19_99 37737/172006362  \n",
       "4 Brazil      20_00 80488/174504898  \n",
       "5 China       19_99 212258/1272915272\n",
       "6 China       20_00 213766/1280428583"
      ]
     },
     "metadata": {},
     "output_type": "display_data"
    }
   ],
   "source": [
    "table5 %>%\n",
    "unite(new, century, year)"
   ]
  },
  {
   "cell_type": "markdown",
   "id": "c65f0ebe-72d5-4395-b301-546035d86d91",
   "metadata": {},
   "source": [
    "- sep 사용해서 분리기호 변경( `_` -> 공백)"
   ]
  },
  {
   "cell_type": "code",
   "execution_count": 15,
   "id": "9a82febd-e503-42ae-adf4-0d12b4bfa3ef",
   "metadata": {},
   "outputs": [
    {
     "data": {
      "text/html": [
       "<table class=\"dataframe\">\n",
       "<caption>A tibble: 6 × 3</caption>\n",
       "<thead>\n",
       "\t<tr><th scope=col>country</th><th scope=col>new</th><th scope=col>rate</th></tr>\n",
       "\t<tr><th scope=col>&lt;chr&gt;</th><th scope=col>&lt;chr&gt;</th><th scope=col>&lt;chr&gt;</th></tr>\n",
       "</thead>\n",
       "<tbody>\n",
       "\t<tr><td>Afghanistan</td><td>1999</td><td>745/19987071     </td></tr>\n",
       "\t<tr><td>Afghanistan</td><td>2000</td><td>2666/20595360    </td></tr>\n",
       "\t<tr><td>Brazil     </td><td>1999</td><td>37737/172006362  </td></tr>\n",
       "\t<tr><td>Brazil     </td><td>2000</td><td>80488/174504898  </td></tr>\n",
       "\t<tr><td>China      </td><td>1999</td><td>212258/1272915272</td></tr>\n",
       "\t<tr><td>China      </td><td>2000</td><td>213766/1280428583</td></tr>\n",
       "</tbody>\n",
       "</table>\n"
      ],
      "text/latex": [
       "A tibble: 6 × 3\n",
       "\\begin{tabular}{lll}\n",
       " country & new & rate\\\\\n",
       " <chr> & <chr> & <chr>\\\\\n",
       "\\hline\n",
       "\t Afghanistan & 1999 & 745/19987071     \\\\\n",
       "\t Afghanistan & 2000 & 2666/20595360    \\\\\n",
       "\t Brazil      & 1999 & 37737/172006362  \\\\\n",
       "\t Brazil      & 2000 & 80488/174504898  \\\\\n",
       "\t China       & 1999 & 212258/1272915272\\\\\n",
       "\t China       & 2000 & 213766/1280428583\\\\\n",
       "\\end{tabular}\n"
      ],
      "text/markdown": [
       "\n",
       "A tibble: 6 × 3\n",
       "\n",
       "| country &lt;chr&gt; | new &lt;chr&gt; | rate &lt;chr&gt; |\n",
       "|---|---|---|\n",
       "| Afghanistan | 1999 | 745/19987071      |\n",
       "| Afghanistan | 2000 | 2666/20595360     |\n",
       "| Brazil      | 1999 | 37737/172006362   |\n",
       "| Brazil      | 2000 | 80488/174504898   |\n",
       "| China       | 1999 | 212258/1272915272 |\n",
       "| China       | 2000 | 213766/1280428583 |\n",
       "\n"
      ],
      "text/plain": [
       "  country     new  rate             \n",
       "1 Afghanistan 1999 745/19987071     \n",
       "2 Afghanistan 2000 2666/20595360    \n",
       "3 Brazil      1999 37737/172006362  \n",
       "4 Brazil      2000 80488/174504898  \n",
       "5 China       1999 212258/1272915272\n",
       "6 China       2000 213766/1280428583"
      ]
     },
     "metadata": {},
     "output_type": "display_data"
    }
   ],
   "source": [
    "table5 %>%\n",
    "unite(new, century, year, sep = \"\")"
   ]
  },
  {
   "cell_type": "markdown",
   "id": "8e2b61c3-7cc0-40fa-a5df-c5dc9507b7db",
   "metadata": {},
   "source": [
    "## 결측값"
   ]
  },
  {
   "cell_type": "markdown",
   "id": "eb9efe54-323f-46e9-ae78-3005a9ad1555",
   "metadata": {},
   "source": [
    "> - 데이터값은 두 가지 방식으로 결측될 수 있다.<br>\n",
    "> 1) 명시적으로, 즉 NA로 표시된다.<br>\n",
    "> 2) 암묵적으로, 즉 단순히 데이터에 존재하지 않는다.(이런거 단순히 0으로 놓고가면 문제 생김)"
   ]
  },
  {
   "cell_type": "markdown",
   "id": "63309845-e9fa-4ce7-9b1c-5d5b137ce384",
   "metadata": {},
   "source": [
    "`-` 예시 만들기"
   ]
  },
  {
   "cell_type": "code",
   "execution_count": 16,
   "id": "43b9c192-4728-4b1f-a688-96d97ce21e47",
   "metadata": {},
   "outputs": [],
   "source": [
    "stocks <- tibble(\n",
    "    year = c(2015, 2015, 2015, 2015, 2016, 2016, 2016),\n",
    "    qtr = c(1, 2, 3, 4, 2, 3, 4),\n",
    "    return = c(1.88, 0.59, 0.35, NA, 0.92, 0.17, 2.66)\n",
    "    )"
   ]
  },
  {
   "cell_type": "code",
   "execution_count": 17,
   "id": "2d4ece8b-178a-47a3-9098-a7b2bd549661",
   "metadata": {},
   "outputs": [
    {
     "data": {
      "text/html": [
       "<table class=\"dataframe\">\n",
       "<caption>A tibble: 7 × 3</caption>\n",
       "<thead>\n",
       "\t<tr><th scope=col>year</th><th scope=col>qtr</th><th scope=col>return</th></tr>\n",
       "\t<tr><th scope=col>&lt;dbl&gt;</th><th scope=col>&lt;dbl&gt;</th><th scope=col>&lt;dbl&gt;</th></tr>\n",
       "</thead>\n",
       "<tbody>\n",
       "\t<tr><td>2015</td><td>1</td><td>1.88</td></tr>\n",
       "\t<tr><td>2015</td><td>2</td><td>0.59</td></tr>\n",
       "\t<tr><td>2015</td><td>3</td><td>0.35</td></tr>\n",
       "\t<tr><td>2015</td><td>4</td><td>  NA</td></tr>\n",
       "\t<tr><td>2016</td><td>2</td><td>0.92</td></tr>\n",
       "\t<tr><td>2016</td><td>3</td><td>0.17</td></tr>\n",
       "\t<tr><td>2016</td><td>4</td><td>2.66</td></tr>\n",
       "</tbody>\n",
       "</table>\n"
      ],
      "text/latex": [
       "A tibble: 7 × 3\n",
       "\\begin{tabular}{lll}\n",
       " year & qtr & return\\\\\n",
       " <dbl> & <dbl> & <dbl>\\\\\n",
       "\\hline\n",
       "\t 2015 & 1 & 1.88\\\\\n",
       "\t 2015 & 2 & 0.59\\\\\n",
       "\t 2015 & 3 & 0.35\\\\\n",
       "\t 2015 & 4 &   NA\\\\\n",
       "\t 2016 & 2 & 0.92\\\\\n",
       "\t 2016 & 3 & 0.17\\\\\n",
       "\t 2016 & 4 & 2.66\\\\\n",
       "\\end{tabular}\n"
      ],
      "text/markdown": [
       "\n",
       "A tibble: 7 × 3\n",
       "\n",
       "| year &lt;dbl&gt; | qtr &lt;dbl&gt; | return &lt;dbl&gt; |\n",
       "|---|---|---|\n",
       "| 2015 | 1 | 1.88 |\n",
       "| 2015 | 2 | 0.59 |\n",
       "| 2015 | 3 | 0.35 |\n",
       "| 2015 | 4 |   NA |\n",
       "| 2016 | 2 | 0.92 |\n",
       "| 2016 | 3 | 0.17 |\n",
       "| 2016 | 4 | 2.66 |\n",
       "\n"
      ],
      "text/plain": [
       "  year qtr return\n",
       "1 2015 1   1.88  \n",
       "2 2015 2   0.59  \n",
       "3 2015 3   0.35  \n",
       "4 2015 4     NA  \n",
       "5 2016 2   0.92  \n",
       "6 2016 3   0.17  \n",
       "7 2016 4   2.66  "
      ]
     },
     "metadata": {},
     "output_type": "display_data"
    }
   ],
   "source": [
    "stocks"
   ]
  },
  {
   "cell_type": "markdown",
   "id": "0a2b9dc7-64dc-4389-8723-6b5e9649948d",
   "metadata": {},
   "source": [
    "- NA뿐만 아니라 2016년 1분기도 결측값임<br>\n",
    "아래는 데이터 셋 표현법으로 암묵적 결측값을 명시적 결측값(NA)로 나타내준 모습"
   ]
  },
  {
   "cell_type": "code",
   "execution_count": 18,
   "id": "7377d1f6-2b11-4467-86a3-4557f49b0462",
   "metadata": {},
   "outputs": [
    {
     "data": {
      "text/html": [
       "<table class=\"dataframe\">\n",
       "<caption>A tibble: 4 × 3</caption>\n",
       "<thead>\n",
       "\t<tr><th scope=col>qtr</th><th scope=col>2015</th><th scope=col>2016</th></tr>\n",
       "\t<tr><th scope=col>&lt;dbl&gt;</th><th scope=col>&lt;dbl&gt;</th><th scope=col>&lt;dbl&gt;</th></tr>\n",
       "</thead>\n",
       "<tbody>\n",
       "\t<tr><td>1</td><td>1.88</td><td>  NA</td></tr>\n",
       "\t<tr><td>2</td><td>0.59</td><td>0.92</td></tr>\n",
       "\t<tr><td>3</td><td>0.35</td><td>0.17</td></tr>\n",
       "\t<tr><td>4</td><td>  NA</td><td>2.66</td></tr>\n",
       "</tbody>\n",
       "</table>\n"
      ],
      "text/latex": [
       "A tibble: 4 × 3\n",
       "\\begin{tabular}{lll}\n",
       " qtr & 2015 & 2016\\\\\n",
       " <dbl> & <dbl> & <dbl>\\\\\n",
       "\\hline\n",
       "\t 1 & 1.88 &   NA\\\\\n",
       "\t 2 & 0.59 & 0.92\\\\\n",
       "\t 3 & 0.35 & 0.17\\\\\n",
       "\t 4 &   NA & 2.66\\\\\n",
       "\\end{tabular}\n"
      ],
      "text/markdown": [
       "\n",
       "A tibble: 4 × 3\n",
       "\n",
       "| qtr &lt;dbl&gt; | 2015 &lt;dbl&gt; | 2016 &lt;dbl&gt; |\n",
       "|---|---|---|\n",
       "| 1 | 1.88 |   NA |\n",
       "| 2 | 0.59 | 0.92 |\n",
       "| 3 | 0.35 | 0.17 |\n",
       "| 4 |   NA | 2.66 |\n",
       "\n"
      ],
      "text/plain": [
       "  qtr 2015 2016\n",
       "1 1   1.88   NA\n",
       "2 2   0.59 0.92\n",
       "3 3   0.35 0.17\n",
       "4 4     NA 2.66"
      ]
     },
     "metadata": {},
     "output_type": "display_data"
    }
   ],
   "source": [
    "stocks %>%\n",
    "pivot_wider(names_from = year, values_from = return)"
   ]
  },
  {
   "cell_type": "markdown",
   "id": "50c6a986-6d93-4d3a-b3c4-55bc72cb34d3",
   "metadata": {},
   "source": [
    "`values_drop_na = TRUE` : `pivot_longer`에서 명시적 결측값을 암묵적 결측값으로 전환(위에서는 표시해줬는데 오히려 필요가 없는 경우는 이렇게)"
   ]
  },
  {
   "cell_type": "code",
   "execution_count": 19,
   "id": "f41d3938-6d8a-47dd-99fc-daa108c87620",
   "metadata": {},
   "outputs": [
    {
     "data": {
      "text/html": [
       "<table class=\"dataframe\">\n",
       "<caption>A tibble: 6 × 3</caption>\n",
       "<thead>\n",
       "\t<tr><th scope=col>qtr</th><th scope=col>year</th><th scope=col>return</th></tr>\n",
       "\t<tr><th scope=col>&lt;dbl&gt;</th><th scope=col>&lt;chr&gt;</th><th scope=col>&lt;dbl&gt;</th></tr>\n",
       "</thead>\n",
       "<tbody>\n",
       "\t<tr><td>1</td><td>2015</td><td>1.88</td></tr>\n",
       "\t<tr><td>2</td><td>2015</td><td>0.59</td></tr>\n",
       "\t<tr><td>2</td><td>2016</td><td>0.92</td></tr>\n",
       "\t<tr><td>3</td><td>2015</td><td>0.35</td></tr>\n",
       "\t<tr><td>3</td><td>2016</td><td>0.17</td></tr>\n",
       "\t<tr><td>4</td><td>2016</td><td>2.66</td></tr>\n",
       "</tbody>\n",
       "</table>\n"
      ],
      "text/latex": [
       "A tibble: 6 × 3\n",
       "\\begin{tabular}{lll}\n",
       " qtr & year & return\\\\\n",
       " <dbl> & <chr> & <dbl>\\\\\n",
       "\\hline\n",
       "\t 1 & 2015 & 1.88\\\\\n",
       "\t 2 & 2015 & 0.59\\\\\n",
       "\t 2 & 2016 & 0.92\\\\\n",
       "\t 3 & 2015 & 0.35\\\\\n",
       "\t 3 & 2016 & 0.17\\\\\n",
       "\t 4 & 2016 & 2.66\\\\\n",
       "\\end{tabular}\n"
      ],
      "text/markdown": [
       "\n",
       "A tibble: 6 × 3\n",
       "\n",
       "| qtr &lt;dbl&gt; | year &lt;chr&gt; | return &lt;dbl&gt; |\n",
       "|---|---|---|\n",
       "| 1 | 2015 | 1.88 |\n",
       "| 2 | 2015 | 0.59 |\n",
       "| 2 | 2016 | 0.92 |\n",
       "| 3 | 2015 | 0.35 |\n",
       "| 3 | 2016 | 0.17 |\n",
       "| 4 | 2016 | 2.66 |\n",
       "\n"
      ],
      "text/plain": [
       "  qtr year return\n",
       "1 1   2015 1.88  \n",
       "2 2   2015 0.59  \n",
       "3 2   2016 0.92  \n",
       "4 3   2015 0.35  \n",
       "5 3   2016 0.17  \n",
       "6 4   2016 2.66  "
      ]
     },
     "metadata": {},
     "output_type": "display_data"
    }
   ],
   "source": [
    "stocks %>%\n",
    "pivot_wider(names_from = year, values_from = return) %>%\n",
    "pivot_longer(\n",
    "    col = c('2015', '2016'),\n",
    "    names_to = \"year\",\n",
    "    values_to = \"return\",\n",
    "    values_drop_na = TRUE\n",
    "    )"
   ]
  },
  {
   "cell_type": "markdown",
   "id": "47de8dd8-b2f5-4435-bb7f-e02a0a2a2c03",
   "metadata": {},
   "source": [
    "`complete` : 열 집합을 입력으로 하여 거기에 맞는 조합행을 쭉 나열, 이때 비어 있는 데이터의 경우 NA로 표시"
   ]
  },
  {
   "cell_type": "code",
   "execution_count": 21,
   "id": "e57fa1ea-1c90-470c-9b7e-f443fa0bba2d",
   "metadata": {},
   "outputs": [
    {
     "data": {
      "text/html": [
       "<table class=\"dataframe\">\n",
       "<caption>A tibble: 8 × 3</caption>\n",
       "<thead>\n",
       "\t<tr><th scope=col>year</th><th scope=col>qtr</th><th scope=col>return</th></tr>\n",
       "\t<tr><th scope=col>&lt;dbl&gt;</th><th scope=col>&lt;dbl&gt;</th><th scope=col>&lt;dbl&gt;</th></tr>\n",
       "</thead>\n",
       "<tbody>\n",
       "\t<tr><td>2015</td><td>1</td><td>1.88</td></tr>\n",
       "\t<tr><td>2015</td><td>2</td><td>0.59</td></tr>\n",
       "\t<tr><td>2015</td><td>3</td><td>0.35</td></tr>\n",
       "\t<tr><td>2015</td><td>4</td><td>  NA</td></tr>\n",
       "\t<tr><td>2016</td><td>1</td><td>  NA</td></tr>\n",
       "\t<tr><td>2016</td><td>2</td><td>0.92</td></tr>\n",
       "\t<tr><td>2016</td><td>3</td><td>0.17</td></tr>\n",
       "\t<tr><td>2016</td><td>4</td><td>2.66</td></tr>\n",
       "</tbody>\n",
       "</table>\n"
      ],
      "text/latex": [
       "A tibble: 8 × 3\n",
       "\\begin{tabular}{lll}\n",
       " year & qtr & return\\\\\n",
       " <dbl> & <dbl> & <dbl>\\\\\n",
       "\\hline\n",
       "\t 2015 & 1 & 1.88\\\\\n",
       "\t 2015 & 2 & 0.59\\\\\n",
       "\t 2015 & 3 & 0.35\\\\\n",
       "\t 2015 & 4 &   NA\\\\\n",
       "\t 2016 & 1 &   NA\\\\\n",
       "\t 2016 & 2 & 0.92\\\\\n",
       "\t 2016 & 3 & 0.17\\\\\n",
       "\t 2016 & 4 & 2.66\\\\\n",
       "\\end{tabular}\n"
      ],
      "text/markdown": [
       "\n",
       "A tibble: 8 × 3\n",
       "\n",
       "| year &lt;dbl&gt; | qtr &lt;dbl&gt; | return &lt;dbl&gt; |\n",
       "|---|---|---|\n",
       "| 2015 | 1 | 1.88 |\n",
       "| 2015 | 2 | 0.59 |\n",
       "| 2015 | 3 | 0.35 |\n",
       "| 2015 | 4 |   NA |\n",
       "| 2016 | 1 |   NA |\n",
       "| 2016 | 2 | 0.92 |\n",
       "| 2016 | 3 | 0.17 |\n",
       "| 2016 | 4 | 2.66 |\n",
       "\n"
      ],
      "text/plain": [
       "  year qtr return\n",
       "1 2015 1   1.88  \n",
       "2 2015 2   0.59  \n",
       "3 2015 3   0.35  \n",
       "4 2015 4     NA  \n",
       "5 2016 1     NA  \n",
       "6 2016 2   0.92  \n",
       "7 2016 3   0.17  \n",
       "8 2016 4   2.66  "
      ]
     },
     "metadata": {},
     "output_type": "display_data"
    }
   ],
   "source": [
    "stocks %>%\n",
    "complete(year, qtr)"
   ]
  },
  {
   "cell_type": "code",
   "execution_count": 22,
   "id": "aa230d2d-6669-450b-9b6c-7e35bd1800ab",
   "metadata": {},
   "outputs": [],
   "source": [
    "treatment <- tribble(\n",
    "    ~person,           ~treatment, ~response,\n",
    "    \"Derrick Whitmore\",1,          7,\n",
    "    NA,                2,          10,\n",
    "    NA,                3,          9,\n",
    "    \"Katherine Burke\", 1,          4\n",
    "    )"
   ]
  },
  {
   "cell_type": "code",
   "execution_count": 23,
   "id": "ee0d797c-c97b-4461-bbfb-c4349ba137cf",
   "metadata": {},
   "outputs": [
    {
     "data": {
      "text/html": [
       "<table class=\"dataframe\">\n",
       "<caption>A tibble: 4 × 3</caption>\n",
       "<thead>\n",
       "\t<tr><th scope=col>person</th><th scope=col>treatment</th><th scope=col>response</th></tr>\n",
       "\t<tr><th scope=col>&lt;chr&gt;</th><th scope=col>&lt;dbl&gt;</th><th scope=col>&lt;dbl&gt;</th></tr>\n",
       "</thead>\n",
       "<tbody>\n",
       "\t<tr><td>Derrick Whitmore</td><td>1</td><td> 7</td></tr>\n",
       "\t<tr><td>NA              </td><td>2</td><td>10</td></tr>\n",
       "\t<tr><td>NA              </td><td>3</td><td> 9</td></tr>\n",
       "\t<tr><td>Katherine Burke </td><td>1</td><td> 4</td></tr>\n",
       "</tbody>\n",
       "</table>\n"
      ],
      "text/latex": [
       "A tibble: 4 × 3\n",
       "\\begin{tabular}{lll}\n",
       " person & treatment & response\\\\\n",
       " <chr> & <dbl> & <dbl>\\\\\n",
       "\\hline\n",
       "\t Derrick Whitmore & 1 &  7\\\\\n",
       "\t NA               & 2 & 10\\\\\n",
       "\t NA               & 3 &  9\\\\\n",
       "\t Katherine Burke  & 1 &  4\\\\\n",
       "\\end{tabular}\n"
      ],
      "text/markdown": [
       "\n",
       "A tibble: 4 × 3\n",
       "\n",
       "| person &lt;chr&gt; | treatment &lt;dbl&gt; | response &lt;dbl&gt; |\n",
       "|---|---|---|\n",
       "| Derrick Whitmore | 1 |  7 |\n",
       "| NA               | 2 | 10 |\n",
       "| NA               | 3 |  9 |\n",
       "| Katherine Burke  | 1 |  4 |\n",
       "\n"
      ],
      "text/plain": [
       "  person           treatment response\n",
       "1 Derrick Whitmore 1          7      \n",
       "2 NA               2         10      \n",
       "3 NA               3          9      \n",
       "4 Katherine Burke  1          4      "
      ]
     },
     "metadata": {},
     "output_type": "display_data"
    }
   ],
   "source": [
    "treatment"
   ]
  },
  {
   "cell_type": "markdown",
   "id": "aff86779-b196-4dd0-b323-5821a188cfb4",
   "metadata": {},
   "source": [
    "`fill` : 결측값을 가장 최근의 비결측값으로 채움"
   ]
  },
  {
   "cell_type": "code",
   "execution_count": 24,
   "id": "ac35c6d7-cb93-4b88-9c3d-b4dca4b15783",
   "metadata": {},
   "outputs": [
    {
     "data": {
      "text/html": [
       "<table class=\"dataframe\">\n",
       "<caption>A tibble: 4 × 3</caption>\n",
       "<thead>\n",
       "\t<tr><th scope=col>person</th><th scope=col>treatment</th><th scope=col>response</th></tr>\n",
       "\t<tr><th scope=col>&lt;chr&gt;</th><th scope=col>&lt;dbl&gt;</th><th scope=col>&lt;dbl&gt;</th></tr>\n",
       "</thead>\n",
       "<tbody>\n",
       "\t<tr><td>Derrick Whitmore</td><td>1</td><td> 7</td></tr>\n",
       "\t<tr><td>Derrick Whitmore</td><td>2</td><td>10</td></tr>\n",
       "\t<tr><td>Derrick Whitmore</td><td>3</td><td> 9</td></tr>\n",
       "\t<tr><td>Katherine Burke </td><td>1</td><td> 4</td></tr>\n",
       "</tbody>\n",
       "</table>\n"
      ],
      "text/latex": [
       "A tibble: 4 × 3\n",
       "\\begin{tabular}{lll}\n",
       " person & treatment & response\\\\\n",
       " <chr> & <dbl> & <dbl>\\\\\n",
       "\\hline\n",
       "\t Derrick Whitmore & 1 &  7\\\\\n",
       "\t Derrick Whitmore & 2 & 10\\\\\n",
       "\t Derrick Whitmore & 3 &  9\\\\\n",
       "\t Katherine Burke  & 1 &  4\\\\\n",
       "\\end{tabular}\n"
      ],
      "text/markdown": [
       "\n",
       "A tibble: 4 × 3\n",
       "\n",
       "| person &lt;chr&gt; | treatment &lt;dbl&gt; | response &lt;dbl&gt; |\n",
       "|---|---|---|\n",
       "| Derrick Whitmore | 1 |  7 |\n",
       "| Derrick Whitmore | 2 | 10 |\n",
       "| Derrick Whitmore | 3 |  9 |\n",
       "| Katherine Burke  | 1 |  4 |\n",
       "\n"
      ],
      "text/plain": [
       "  person           treatment response\n",
       "1 Derrick Whitmore 1          7      \n",
       "2 Derrick Whitmore 2         10      \n",
       "3 Derrick Whitmore 3          9      \n",
       "4 Katherine Burke  1          4      "
      ]
     },
     "metadata": {},
     "output_type": "display_data"
    }
   ],
   "source": [
    "treatment %>%\n",
    "fill(person)"
   ]
  },
  {
   "cell_type": "markdown",
   "id": "96557b5a-5b76-4b23-a28b-f84088952922",
   "metadata": {},
   "source": [
    "#### 결핵사례 연구"
   ]
  },
  {
   "cell_type": "markdown",
   "id": "8f1c29e2-6d2b-42c7-81d3-ba4272bc2195",
   "metadata": {},
   "source": [
    "`-` who데이터 사용"
   ]
  },
  {
   "cell_type": "code",
   "execution_count": 35,
   "id": "e10a3138-17b6-46b8-8837-bdeabca1bd4c",
   "metadata": {},
   "outputs": [
    {
     "data": {
      "text/html": [
       "<table class=\"dataframe\">\n",
       "<caption>A tibble: 6 × 60</caption>\n",
       "<thead>\n",
       "\t<tr><th scope=col>country</th><th scope=col>iso2</th><th scope=col>iso3</th><th scope=col>year</th><th scope=col>new_sp_m014</th><th scope=col>new_sp_m1524</th><th scope=col>new_sp_m2534</th><th scope=col>new_sp_m3544</th><th scope=col>new_sp_m4554</th><th scope=col>new_sp_m5564</th><th scope=col>⋯</th><th scope=col>newrel_m4554</th><th scope=col>newrel_m5564</th><th scope=col>newrel_m65</th><th scope=col>newrel_f014</th><th scope=col>newrel_f1524</th><th scope=col>newrel_f2534</th><th scope=col>newrel_f3544</th><th scope=col>newrel_f4554</th><th scope=col>newrel_f5564</th><th scope=col>newrel_f65</th></tr>\n",
       "\t<tr><th scope=col>&lt;chr&gt;</th><th scope=col>&lt;chr&gt;</th><th scope=col>&lt;chr&gt;</th><th scope=col>&lt;int&gt;</th><th scope=col>&lt;int&gt;</th><th scope=col>&lt;int&gt;</th><th scope=col>&lt;int&gt;</th><th scope=col>&lt;int&gt;</th><th scope=col>&lt;int&gt;</th><th scope=col>&lt;int&gt;</th><th scope=col>⋯</th><th scope=col>&lt;int&gt;</th><th scope=col>&lt;int&gt;</th><th scope=col>&lt;int&gt;</th><th scope=col>&lt;int&gt;</th><th scope=col>&lt;int&gt;</th><th scope=col>&lt;int&gt;</th><th scope=col>&lt;int&gt;</th><th scope=col>&lt;int&gt;</th><th scope=col>&lt;int&gt;</th><th scope=col>&lt;int&gt;</th></tr>\n",
       "</thead>\n",
       "<tbody>\n",
       "\t<tr><td>Afghanistan</td><td>AF</td><td>AFG</td><td>1980</td><td>NA</td><td>NA</td><td>NA</td><td>NA</td><td>NA</td><td>NA</td><td>⋯</td><td>NA</td><td>NA</td><td>NA</td><td>NA</td><td>NA</td><td>NA</td><td>NA</td><td>NA</td><td>NA</td><td>NA</td></tr>\n",
       "\t<tr><td>Afghanistan</td><td>AF</td><td>AFG</td><td>1981</td><td>NA</td><td>NA</td><td>NA</td><td>NA</td><td>NA</td><td>NA</td><td>⋯</td><td>NA</td><td>NA</td><td>NA</td><td>NA</td><td>NA</td><td>NA</td><td>NA</td><td>NA</td><td>NA</td><td>NA</td></tr>\n",
       "\t<tr><td>Afghanistan</td><td>AF</td><td>AFG</td><td>1982</td><td>NA</td><td>NA</td><td>NA</td><td>NA</td><td>NA</td><td>NA</td><td>⋯</td><td>NA</td><td>NA</td><td>NA</td><td>NA</td><td>NA</td><td>NA</td><td>NA</td><td>NA</td><td>NA</td><td>NA</td></tr>\n",
       "\t<tr><td>Afghanistan</td><td>AF</td><td>AFG</td><td>1983</td><td>NA</td><td>NA</td><td>NA</td><td>NA</td><td>NA</td><td>NA</td><td>⋯</td><td>NA</td><td>NA</td><td>NA</td><td>NA</td><td>NA</td><td>NA</td><td>NA</td><td>NA</td><td>NA</td><td>NA</td></tr>\n",
       "\t<tr><td>Afghanistan</td><td>AF</td><td>AFG</td><td>1984</td><td>NA</td><td>NA</td><td>NA</td><td>NA</td><td>NA</td><td>NA</td><td>⋯</td><td>NA</td><td>NA</td><td>NA</td><td>NA</td><td>NA</td><td>NA</td><td>NA</td><td>NA</td><td>NA</td><td>NA</td></tr>\n",
       "\t<tr><td>Afghanistan</td><td>AF</td><td>AFG</td><td>1985</td><td>NA</td><td>NA</td><td>NA</td><td>NA</td><td>NA</td><td>NA</td><td>⋯</td><td>NA</td><td>NA</td><td>NA</td><td>NA</td><td>NA</td><td>NA</td><td>NA</td><td>NA</td><td>NA</td><td>NA</td></tr>\n",
       "</tbody>\n",
       "</table>\n"
      ],
      "text/latex": [
       "A tibble: 6 × 60\n",
       "\\begin{tabular}{lllllllllllllllllllll}\n",
       " country & iso2 & iso3 & year & new\\_sp\\_m014 & new\\_sp\\_m1524 & new\\_sp\\_m2534 & new\\_sp\\_m3544 & new\\_sp\\_m4554 & new\\_sp\\_m5564 & ⋯ & newrel\\_m4554 & newrel\\_m5564 & newrel\\_m65 & newrel\\_f014 & newrel\\_f1524 & newrel\\_f2534 & newrel\\_f3544 & newrel\\_f4554 & newrel\\_f5564 & newrel\\_f65\\\\\n",
       " <chr> & <chr> & <chr> & <int> & <int> & <int> & <int> & <int> & <int> & <int> & ⋯ & <int> & <int> & <int> & <int> & <int> & <int> & <int> & <int> & <int> & <int>\\\\\n",
       "\\hline\n",
       "\t Afghanistan & AF & AFG & 1980 & NA & NA & NA & NA & NA & NA & ⋯ & NA & NA & NA & NA & NA & NA & NA & NA & NA & NA\\\\\n",
       "\t Afghanistan & AF & AFG & 1981 & NA & NA & NA & NA & NA & NA & ⋯ & NA & NA & NA & NA & NA & NA & NA & NA & NA & NA\\\\\n",
       "\t Afghanistan & AF & AFG & 1982 & NA & NA & NA & NA & NA & NA & ⋯ & NA & NA & NA & NA & NA & NA & NA & NA & NA & NA\\\\\n",
       "\t Afghanistan & AF & AFG & 1983 & NA & NA & NA & NA & NA & NA & ⋯ & NA & NA & NA & NA & NA & NA & NA & NA & NA & NA\\\\\n",
       "\t Afghanistan & AF & AFG & 1984 & NA & NA & NA & NA & NA & NA & ⋯ & NA & NA & NA & NA & NA & NA & NA & NA & NA & NA\\\\\n",
       "\t Afghanistan & AF & AFG & 1985 & NA & NA & NA & NA & NA & NA & ⋯ & NA & NA & NA & NA & NA & NA & NA & NA & NA & NA\\\\\n",
       "\\end{tabular}\n"
      ],
      "text/markdown": [
       "\n",
       "A tibble: 6 × 60\n",
       "\n",
       "| country &lt;chr&gt; | iso2 &lt;chr&gt; | iso3 &lt;chr&gt; | year &lt;int&gt; | new_sp_m014 &lt;int&gt; | new_sp_m1524 &lt;int&gt; | new_sp_m2534 &lt;int&gt; | new_sp_m3544 &lt;int&gt; | new_sp_m4554 &lt;int&gt; | new_sp_m5564 &lt;int&gt; | ⋯ ⋯ | newrel_m4554 &lt;int&gt; | newrel_m5564 &lt;int&gt; | newrel_m65 &lt;int&gt; | newrel_f014 &lt;int&gt; | newrel_f1524 &lt;int&gt; | newrel_f2534 &lt;int&gt; | newrel_f3544 &lt;int&gt; | newrel_f4554 &lt;int&gt; | newrel_f5564 &lt;int&gt; | newrel_f65 &lt;int&gt; |\n",
       "|---|---|---|---|---|---|---|---|---|---|---|---|---|---|---|---|---|---|---|---|---|\n",
       "| Afghanistan | AF | AFG | 1980 | NA | NA | NA | NA | NA | NA | ⋯ | NA | NA | NA | NA | NA | NA | NA | NA | NA | NA |\n",
       "| Afghanistan | AF | AFG | 1981 | NA | NA | NA | NA | NA | NA | ⋯ | NA | NA | NA | NA | NA | NA | NA | NA | NA | NA |\n",
       "| Afghanistan | AF | AFG | 1982 | NA | NA | NA | NA | NA | NA | ⋯ | NA | NA | NA | NA | NA | NA | NA | NA | NA | NA |\n",
       "| Afghanistan | AF | AFG | 1983 | NA | NA | NA | NA | NA | NA | ⋯ | NA | NA | NA | NA | NA | NA | NA | NA | NA | NA |\n",
       "| Afghanistan | AF | AFG | 1984 | NA | NA | NA | NA | NA | NA | ⋯ | NA | NA | NA | NA | NA | NA | NA | NA | NA | NA |\n",
       "| Afghanistan | AF | AFG | 1985 | NA | NA | NA | NA | NA | NA | ⋯ | NA | NA | NA | NA | NA | NA | NA | NA | NA | NA |\n",
       "\n"
      ],
      "text/plain": [
       "  country     iso2 iso3 year new_sp_m014 new_sp_m1524 new_sp_m2534 new_sp_m3544\n",
       "1 Afghanistan AF   AFG  1980 NA          NA           NA           NA          \n",
       "2 Afghanistan AF   AFG  1981 NA          NA           NA           NA          \n",
       "3 Afghanistan AF   AFG  1982 NA          NA           NA           NA          \n",
       "4 Afghanistan AF   AFG  1983 NA          NA           NA           NA          \n",
       "5 Afghanistan AF   AFG  1984 NA          NA           NA           NA          \n",
       "6 Afghanistan AF   AFG  1985 NA          NA           NA           NA          \n",
       "  new_sp_m4554 new_sp_m5564 ⋯ newrel_m4554 newrel_m5564 newrel_m65 newrel_f014\n",
       "1 NA           NA           ⋯ NA           NA           NA         NA         \n",
       "2 NA           NA           ⋯ NA           NA           NA         NA         \n",
       "3 NA           NA           ⋯ NA           NA           NA         NA         \n",
       "4 NA           NA           ⋯ NA           NA           NA         NA         \n",
       "5 NA           NA           ⋯ NA           NA           NA         NA         \n",
       "6 NA           NA           ⋯ NA           NA           NA         NA         \n",
       "  newrel_f1524 newrel_f2534 newrel_f3544 newrel_f4554 newrel_f5564 newrel_f65\n",
       "1 NA           NA           NA           NA           NA           NA        \n",
       "2 NA           NA           NA           NA           NA           NA        \n",
       "3 NA           NA           NA           NA           NA           NA        \n",
       "4 NA           NA           NA           NA           NA           NA        \n",
       "5 NA           NA           NA           NA           NA           NA        \n",
       "6 NA           NA           NA           NA           NA           NA        "
      ]
     },
     "metadata": {},
     "output_type": "display_data"
    }
   ],
   "source": [
    "who %>% head"
   ]
  },
  {
   "cell_type": "markdown",
   "id": "e38accb3-01c9-4e98-a91a-d0830a64695a",
   "metadata": {},
   "source": [
    "- 데이터셋이 굉장히 복잡하다<br>\n",
    "보통 이럴 때에는 변수가 아닌 열을 모으는 것부터 시작하는 것이 좋다.<br>\n",
    "country, iso2, iso3는 국가를 중복해서 지정하는 세개의 변수이다.<br>\n",
    "year 또 분명히 변수이다.<br>\n",
    "다른 모든 열은 아직 무엇인지 알 수 없지만 변수 이름(new_sp_m014등등)의 구조를 보면 이들은 변수가 아니라 값인 것 같다.<br>\n",
    "그래서 new_sp_m014들은 값으로 취급하여 묶어서 행으로 보내고 확실한 변수들을 열에 둔다."
   ]
  },
  {
   "cell_type": "code",
   "execution_count": 33,
   "id": "9e89cb4d-999d-45b9-b7f7-7d416efd0696",
   "metadata": {},
   "outputs": [
    {
     "data": {
      "text/html": [
       "<table class=\"dataframe\">\n",
       "<caption>A tibble: 6 × 6</caption>\n",
       "<thead>\n",
       "\t<tr><th scope=col>country</th><th scope=col>iso2</th><th scope=col>iso3</th><th scope=col>year</th><th scope=col>key</th><th scope=col>cases</th></tr>\n",
       "\t<tr><th scope=col>&lt;chr&gt;</th><th scope=col>&lt;chr&gt;</th><th scope=col>&lt;chr&gt;</th><th scope=col>&lt;int&gt;</th><th scope=col>&lt;chr&gt;</th><th scope=col>&lt;int&gt;</th></tr>\n",
       "</thead>\n",
       "<tbody>\n",
       "\t<tr><td>Afghanistan</td><td>AF</td><td>AFG</td><td>1997</td><td>new_sp_m014 </td><td> 0</td></tr>\n",
       "\t<tr><td>Afghanistan</td><td>AF</td><td>AFG</td><td>1997</td><td>new_sp_m1524</td><td>10</td></tr>\n",
       "\t<tr><td>Afghanistan</td><td>AF</td><td>AFG</td><td>1997</td><td>new_sp_m2534</td><td> 6</td></tr>\n",
       "\t<tr><td>Afghanistan</td><td>AF</td><td>AFG</td><td>1997</td><td>new_sp_m3544</td><td> 3</td></tr>\n",
       "\t<tr><td>Afghanistan</td><td>AF</td><td>AFG</td><td>1997</td><td>new_sp_m4554</td><td> 5</td></tr>\n",
       "\t<tr><td>Afghanistan</td><td>AF</td><td>AFG</td><td>1997</td><td>new_sp_m5564</td><td> 2</td></tr>\n",
       "</tbody>\n",
       "</table>\n"
      ],
      "text/latex": [
       "A tibble: 6 × 6\n",
       "\\begin{tabular}{llllll}\n",
       " country & iso2 & iso3 & year & key & cases\\\\\n",
       " <chr> & <chr> & <chr> & <int> & <chr> & <int>\\\\\n",
       "\\hline\n",
       "\t Afghanistan & AF & AFG & 1997 & new\\_sp\\_m014  &  0\\\\\n",
       "\t Afghanistan & AF & AFG & 1997 & new\\_sp\\_m1524 & 10\\\\\n",
       "\t Afghanistan & AF & AFG & 1997 & new\\_sp\\_m2534 &  6\\\\\n",
       "\t Afghanistan & AF & AFG & 1997 & new\\_sp\\_m3544 &  3\\\\\n",
       "\t Afghanistan & AF & AFG & 1997 & new\\_sp\\_m4554 &  5\\\\\n",
       "\t Afghanistan & AF & AFG & 1997 & new\\_sp\\_m5564 &  2\\\\\n",
       "\\end{tabular}\n"
      ],
      "text/markdown": [
       "\n",
       "A tibble: 6 × 6\n",
       "\n",
       "| country &lt;chr&gt; | iso2 &lt;chr&gt; | iso3 &lt;chr&gt; | year &lt;int&gt; | key &lt;chr&gt; | cases &lt;int&gt; |\n",
       "|---|---|---|---|---|---|\n",
       "| Afghanistan | AF | AFG | 1997 | new_sp_m014  |  0 |\n",
       "| Afghanistan | AF | AFG | 1997 | new_sp_m1524 | 10 |\n",
       "| Afghanistan | AF | AFG | 1997 | new_sp_m2534 |  6 |\n",
       "| Afghanistan | AF | AFG | 1997 | new_sp_m3544 |  3 |\n",
       "| Afghanistan | AF | AFG | 1997 | new_sp_m4554 |  5 |\n",
       "| Afghanistan | AF | AFG | 1997 | new_sp_m5564 |  2 |\n",
       "\n"
      ],
      "text/plain": [
       "  country     iso2 iso3 year key          cases\n",
       "1 Afghanistan AF   AFG  1997 new_sp_m014   0   \n",
       "2 Afghanistan AF   AFG  1997 new_sp_m1524 10   \n",
       "3 Afghanistan AF   AFG  1997 new_sp_m2534  6   \n",
       "4 Afghanistan AF   AFG  1997 new_sp_m3544  3   \n",
       "5 Afghanistan AF   AFG  1997 new_sp_m4554  5   \n",
       "6 Afghanistan AF   AFG  1997 new_sp_m5564  2   "
      ]
     },
     "metadata": {},
     "output_type": "display_data"
    }
   ],
   "source": [
    "who1 <- who %>%\n",
    "pivot_longer(\n",
    "    cols = new_sp_m014:newrel_f65,\n",
    "    names_to = \"key\",\n",
    "    values_to = \"cases\",\n",
    "    values_drop_na = TRUE\n",
    "    )\n",
    "who1 %>% head"
   ]
  },
  {
   "cell_type": "markdown",
   "id": "764773f7-2459-4516-b1d4-4ac483ce2715",
   "metadata": {},
   "source": [
    "`-` 새로운 key열의 값을 세어서 구조에 대한 힌트를 얻을 수 있다"
   ]
  },
  {
   "cell_type": "code",
   "execution_count": 37,
   "id": "72c3cddb-5dc3-4356-b1db-03aceb161fc7",
   "metadata": {},
   "outputs": [
    {
     "data": {
      "text/html": [
       "<table class=\"dataframe\">\n",
       "<caption>A tibble: 56 × 2</caption>\n",
       "<thead>\n",
       "\t<tr><th scope=col>key</th><th scope=col>n</th></tr>\n",
       "\t<tr><th scope=col>&lt;chr&gt;</th><th scope=col>&lt;int&gt;</th></tr>\n",
       "</thead>\n",
       "<tbody>\n",
       "\t<tr><td>new_ep_f014 </td><td>1032</td></tr>\n",
       "\t<tr><td>new_ep_f1524</td><td>1021</td></tr>\n",
       "\t<tr><td>new_ep_f2534</td><td>1021</td></tr>\n",
       "\t<tr><td>new_ep_f3544</td><td>1021</td></tr>\n",
       "\t<tr><td>new_ep_f4554</td><td>1017</td></tr>\n",
       "\t<tr><td>new_ep_f5564</td><td>1017</td></tr>\n",
       "\t<tr><td>new_ep_f65  </td><td>1014</td></tr>\n",
       "\t<tr><td>new_ep_m014 </td><td>1038</td></tr>\n",
       "\t<tr><td>new_ep_m1524</td><td>1026</td></tr>\n",
       "\t<tr><td>new_ep_m2534</td><td>1020</td></tr>\n",
       "\t<tr><td>new_ep_m3544</td><td>1024</td></tr>\n",
       "\t<tr><td>new_ep_m4554</td><td>1020</td></tr>\n",
       "\t<tr><td>new_ep_m5564</td><td>1015</td></tr>\n",
       "\t<tr><td>new_ep_m65  </td><td>1018</td></tr>\n",
       "\t<tr><td>new_sn_f014 </td><td>1040</td></tr>\n",
       "\t<tr><td>new_sn_f1524</td><td>1022</td></tr>\n",
       "\t<tr><td>new_sn_f2534</td><td>1016</td></tr>\n",
       "\t<tr><td>new_sn_f3544</td><td>1020</td></tr>\n",
       "\t<tr><td>new_sn_f4554</td><td>1018</td></tr>\n",
       "\t<tr><td>new_sn_f5564</td><td>1017</td></tr>\n",
       "\t<tr><td>new_sn_f65  </td><td>1019</td></tr>\n",
       "\t<tr><td>new_sn_m014 </td><td>1045</td></tr>\n",
       "\t<tr><td>new_sn_m1524</td><td>1030</td></tr>\n",
       "\t<tr><td>new_sn_m2534</td><td>1022</td></tr>\n",
       "\t<tr><td>new_sn_m3544</td><td>1025</td></tr>\n",
       "\t<tr><td>new_sn_m4554</td><td>1027</td></tr>\n",
       "\t<tr><td>new_sn_m5564</td><td>1021</td></tr>\n",
       "\t<tr><td>new_sn_m65  </td><td>1020</td></tr>\n",
       "\t<tr><td>new_sp_f014 </td><td>3174</td></tr>\n",
       "\t<tr><td>new_sp_f1524</td><td>3194</td></tr>\n",
       "\t<tr><td>new_sp_f2534</td><td>3200</td></tr>\n",
       "\t<tr><td>new_sp_f3544</td><td>3199</td></tr>\n",
       "\t<tr><td>new_sp_f4554</td><td>3204</td></tr>\n",
       "\t<tr><td>new_sp_f5564</td><td>3195</td></tr>\n",
       "\t<tr><td>new_sp_f65  </td><td>3197</td></tr>\n",
       "\t<tr><td>new_sp_m014 </td><td>3173</td></tr>\n",
       "\t<tr><td>new_sp_m1524</td><td>3209</td></tr>\n",
       "\t<tr><td>new_sp_m2534</td><td>3206</td></tr>\n",
       "\t<tr><td>new_sp_m3544</td><td>3219</td></tr>\n",
       "\t<tr><td>new_sp_m4554</td><td>3223</td></tr>\n",
       "\t<tr><td>new_sp_m5564</td><td>3218</td></tr>\n",
       "\t<tr><td>new_sp_m65  </td><td>3209</td></tr>\n",
       "\t<tr><td>newrel_f014 </td><td> 190</td></tr>\n",
       "\t<tr><td>newrel_f1524</td><td> 184</td></tr>\n",
       "\t<tr><td>newrel_f2534</td><td> 182</td></tr>\n",
       "\t<tr><td>newrel_f3544</td><td> 183</td></tr>\n",
       "\t<tr><td>newrel_f4554</td><td> 183</td></tr>\n",
       "\t<tr><td>newrel_f5564</td><td> 183</td></tr>\n",
       "\t<tr><td>newrel_f65  </td><td> 185</td></tr>\n",
       "\t<tr><td>newrel_m014 </td><td> 190</td></tr>\n",
       "\t<tr><td>newrel_m1524</td><td> 182</td></tr>\n",
       "\t<tr><td>newrel_m2534</td><td> 183</td></tr>\n",
       "\t<tr><td>newrel_m3544</td><td> 184</td></tr>\n",
       "\t<tr><td>newrel_m4554</td><td> 184</td></tr>\n",
       "\t<tr><td>newrel_m5564</td><td> 185</td></tr>\n",
       "\t<tr><td>newrel_m65  </td><td> 182</td></tr>\n",
       "</tbody>\n",
       "</table>\n"
      ],
      "text/latex": [
       "A tibble: 56 × 2\n",
       "\\begin{tabular}{ll}\n",
       " key & n\\\\\n",
       " <chr> & <int>\\\\\n",
       "\\hline\n",
       "\t new\\_ep\\_f014  & 1032\\\\\n",
       "\t new\\_ep\\_f1524 & 1021\\\\\n",
       "\t new\\_ep\\_f2534 & 1021\\\\\n",
       "\t new\\_ep\\_f3544 & 1021\\\\\n",
       "\t new\\_ep\\_f4554 & 1017\\\\\n",
       "\t new\\_ep\\_f5564 & 1017\\\\\n",
       "\t new\\_ep\\_f65   & 1014\\\\\n",
       "\t new\\_ep\\_m014  & 1038\\\\\n",
       "\t new\\_ep\\_m1524 & 1026\\\\\n",
       "\t new\\_ep\\_m2534 & 1020\\\\\n",
       "\t new\\_ep\\_m3544 & 1024\\\\\n",
       "\t new\\_ep\\_m4554 & 1020\\\\\n",
       "\t new\\_ep\\_m5564 & 1015\\\\\n",
       "\t new\\_ep\\_m65   & 1018\\\\\n",
       "\t new\\_sn\\_f014  & 1040\\\\\n",
       "\t new\\_sn\\_f1524 & 1022\\\\\n",
       "\t new\\_sn\\_f2534 & 1016\\\\\n",
       "\t new\\_sn\\_f3544 & 1020\\\\\n",
       "\t new\\_sn\\_f4554 & 1018\\\\\n",
       "\t new\\_sn\\_f5564 & 1017\\\\\n",
       "\t new\\_sn\\_f65   & 1019\\\\\n",
       "\t new\\_sn\\_m014  & 1045\\\\\n",
       "\t new\\_sn\\_m1524 & 1030\\\\\n",
       "\t new\\_sn\\_m2534 & 1022\\\\\n",
       "\t new\\_sn\\_m3544 & 1025\\\\\n",
       "\t new\\_sn\\_m4554 & 1027\\\\\n",
       "\t new\\_sn\\_m5564 & 1021\\\\\n",
       "\t new\\_sn\\_m65   & 1020\\\\\n",
       "\t new\\_sp\\_f014  & 3174\\\\\n",
       "\t new\\_sp\\_f1524 & 3194\\\\\n",
       "\t new\\_sp\\_f2534 & 3200\\\\\n",
       "\t new\\_sp\\_f3544 & 3199\\\\\n",
       "\t new\\_sp\\_f4554 & 3204\\\\\n",
       "\t new\\_sp\\_f5564 & 3195\\\\\n",
       "\t new\\_sp\\_f65   & 3197\\\\\n",
       "\t new\\_sp\\_m014  & 3173\\\\\n",
       "\t new\\_sp\\_m1524 & 3209\\\\\n",
       "\t new\\_sp\\_m2534 & 3206\\\\\n",
       "\t new\\_sp\\_m3544 & 3219\\\\\n",
       "\t new\\_sp\\_m4554 & 3223\\\\\n",
       "\t new\\_sp\\_m5564 & 3218\\\\\n",
       "\t new\\_sp\\_m65   & 3209\\\\\n",
       "\t newrel\\_f014  &  190\\\\\n",
       "\t newrel\\_f1524 &  184\\\\\n",
       "\t newrel\\_f2534 &  182\\\\\n",
       "\t newrel\\_f3544 &  183\\\\\n",
       "\t newrel\\_f4554 &  183\\\\\n",
       "\t newrel\\_f5564 &  183\\\\\n",
       "\t newrel\\_f65   &  185\\\\\n",
       "\t newrel\\_m014  &  190\\\\\n",
       "\t newrel\\_m1524 &  182\\\\\n",
       "\t newrel\\_m2534 &  183\\\\\n",
       "\t newrel\\_m3544 &  184\\\\\n",
       "\t newrel\\_m4554 &  184\\\\\n",
       "\t newrel\\_m5564 &  185\\\\\n",
       "\t newrel\\_m65   &  182\\\\\n",
       "\\end{tabular}\n"
      ],
      "text/markdown": [
       "\n",
       "A tibble: 56 × 2\n",
       "\n",
       "| key &lt;chr&gt; | n &lt;int&gt; |\n",
       "|---|---|\n",
       "| new_ep_f014  | 1032 |\n",
       "| new_ep_f1524 | 1021 |\n",
       "| new_ep_f2534 | 1021 |\n",
       "| new_ep_f3544 | 1021 |\n",
       "| new_ep_f4554 | 1017 |\n",
       "| new_ep_f5564 | 1017 |\n",
       "| new_ep_f65   | 1014 |\n",
       "| new_ep_m014  | 1038 |\n",
       "| new_ep_m1524 | 1026 |\n",
       "| new_ep_m2534 | 1020 |\n",
       "| new_ep_m3544 | 1024 |\n",
       "| new_ep_m4554 | 1020 |\n",
       "| new_ep_m5564 | 1015 |\n",
       "| new_ep_m65   | 1018 |\n",
       "| new_sn_f014  | 1040 |\n",
       "| new_sn_f1524 | 1022 |\n",
       "| new_sn_f2534 | 1016 |\n",
       "| new_sn_f3544 | 1020 |\n",
       "| new_sn_f4554 | 1018 |\n",
       "| new_sn_f5564 | 1017 |\n",
       "| new_sn_f65   | 1019 |\n",
       "| new_sn_m014  | 1045 |\n",
       "| new_sn_m1524 | 1030 |\n",
       "| new_sn_m2534 | 1022 |\n",
       "| new_sn_m3544 | 1025 |\n",
       "| new_sn_m4554 | 1027 |\n",
       "| new_sn_m5564 | 1021 |\n",
       "| new_sn_m65   | 1020 |\n",
       "| new_sp_f014  | 3174 |\n",
       "| new_sp_f1524 | 3194 |\n",
       "| new_sp_f2534 | 3200 |\n",
       "| new_sp_f3544 | 3199 |\n",
       "| new_sp_f4554 | 3204 |\n",
       "| new_sp_f5564 | 3195 |\n",
       "| new_sp_f65   | 3197 |\n",
       "| new_sp_m014  | 3173 |\n",
       "| new_sp_m1524 | 3209 |\n",
       "| new_sp_m2534 | 3206 |\n",
       "| new_sp_m3544 | 3219 |\n",
       "| new_sp_m4554 | 3223 |\n",
       "| new_sp_m5564 | 3218 |\n",
       "| new_sp_m65   | 3209 |\n",
       "| newrel_f014  |  190 |\n",
       "| newrel_f1524 |  184 |\n",
       "| newrel_f2534 |  182 |\n",
       "| newrel_f3544 |  183 |\n",
       "| newrel_f4554 |  183 |\n",
       "| newrel_f5564 |  183 |\n",
       "| newrel_f65   |  185 |\n",
       "| newrel_m014  |  190 |\n",
       "| newrel_m1524 |  182 |\n",
       "| newrel_m2534 |  183 |\n",
       "| newrel_m3544 |  184 |\n",
       "| newrel_m4554 |  184 |\n",
       "| newrel_m5564 |  185 |\n",
       "| newrel_m65   |  182 |\n",
       "\n"
      ],
      "text/plain": [
       "   key          n   \n",
       "1  new_ep_f014  1032\n",
       "2  new_ep_f1524 1021\n",
       "3  new_ep_f2534 1021\n",
       "4  new_ep_f3544 1021\n",
       "5  new_ep_f4554 1017\n",
       "6  new_ep_f5564 1017\n",
       "7  new_ep_f65   1014\n",
       "8  new_ep_m014  1038\n",
       "9  new_ep_m1524 1026\n",
       "10 new_ep_m2534 1020\n",
       "11 new_ep_m3544 1024\n",
       "12 new_ep_m4554 1020\n",
       "13 new_ep_m5564 1015\n",
       "14 new_ep_m65   1018\n",
       "15 new_sn_f014  1040\n",
       "16 new_sn_f1524 1022\n",
       "17 new_sn_f2534 1016\n",
       "18 new_sn_f3544 1020\n",
       "19 new_sn_f4554 1018\n",
       "20 new_sn_f5564 1017\n",
       "21 new_sn_f65   1019\n",
       "22 new_sn_m014  1045\n",
       "23 new_sn_m1524 1030\n",
       "24 new_sn_m2534 1022\n",
       "25 new_sn_m3544 1025\n",
       "26 new_sn_m4554 1027\n",
       "27 new_sn_m5564 1021\n",
       "28 new_sn_m65   1020\n",
       "29 new_sp_f014  3174\n",
       "30 new_sp_f1524 3194\n",
       "31 new_sp_f2534 3200\n",
       "32 new_sp_f3544 3199\n",
       "33 new_sp_f4554 3204\n",
       "34 new_sp_f5564 3195\n",
       "35 new_sp_f65   3197\n",
       "36 new_sp_m014  3173\n",
       "37 new_sp_m1524 3209\n",
       "38 new_sp_m2534 3206\n",
       "39 new_sp_m3544 3219\n",
       "40 new_sp_m4554 3223\n",
       "41 new_sp_m5564 3218\n",
       "42 new_sp_m65   3209\n",
       "43 newrel_f014   190\n",
       "44 newrel_f1524  184\n",
       "45 newrel_f2534  182\n",
       "46 newrel_f3544  183\n",
       "47 newrel_f4554  183\n",
       "48 newrel_f5564  183\n",
       "49 newrel_f65    185\n",
       "50 newrel_m014   190\n",
       "51 newrel_m1524  182\n",
       "52 newrel_m2534  183\n",
       "53 newrel_m3544  184\n",
       "54 newrel_m4554  184\n",
       "55 newrel_m5564  185\n",
       "56 newrel_m65    182"
      ]
     },
     "metadata": {},
     "output_type": "display_data"
    }
   ],
   "source": [
    "who1 %>%\n",
    "count(key) "
   ]
  },
  {
   "cell_type": "markdown",
   "id": "42ab735e-2142-4725-ab38-14fba312692f",
   "metadata": {},
   "source": [
    "아래는 데이터 사전(?)을 사용하면 알려준다는데..?"
   ]
  },
  {
   "cell_type": "markdown",
   "id": "02dff0c0-bb64-45b3-8cf9-9b7123e342cc",
   "metadata": {},
   "source": [
    "> rel은 재발 사례를 의미<br>\n",
    "ep는 폐외 결핵 사례를 의미<br>\n",
    "sn은 폐 얼룩으로 보이지 않는 폐결핵의 사례를 의미<br>\n",
    "sp는 폐 얼룩으로 보이는 폐결핵 사례를 의미<br>\n",
    "<br>\n",
    "여섯 번째는 성별<br>\n",
    "나머지 숫자는 연령대를 나타낸다.<br>\n",
    "014 -> 0~14세<br>\n",
    ".<br>\n",
    ".<br>\n",
    ".<br>\n",
    "65 -> 65세 이상"
   ]
  },
  {
   "cell_type": "markdown",
   "id": "ecb38229-f36c-463e-874e-b893fed05f4e",
   "metadata": {},
   "source": [
    "따라서 열 이름의 형식을 수정해야 한다<br>\n",
    "new_rel이 아니라 newrel 이런식이기에<br>\n",
    "`str_replace`는 차후에 자세히 설명함"
   ]
  },
  {
   "cell_type": "code",
   "execution_count": 39,
   "id": "451576f5-57f1-42a2-b02a-ca7dd762f0a6",
   "metadata": {},
   "outputs": [
    {
     "data": {
      "text/html": [
       "<table class=\"dataframe\">\n",
       "<caption>A tibble: 6 × 6</caption>\n",
       "<thead>\n",
       "\t<tr><th scope=col>country</th><th scope=col>iso2</th><th scope=col>iso3</th><th scope=col>year</th><th scope=col>key</th><th scope=col>cases</th></tr>\n",
       "\t<tr><th scope=col>&lt;chr&gt;</th><th scope=col>&lt;chr&gt;</th><th scope=col>&lt;chr&gt;</th><th scope=col>&lt;int&gt;</th><th scope=col>&lt;chr&gt;</th><th scope=col>&lt;int&gt;</th></tr>\n",
       "</thead>\n",
       "<tbody>\n",
       "\t<tr><td>Afghanistan</td><td>AF</td><td>AFG</td><td>1997</td><td>new_sp_m014 </td><td> 0</td></tr>\n",
       "\t<tr><td>Afghanistan</td><td>AF</td><td>AFG</td><td>1997</td><td>new_sp_m1524</td><td>10</td></tr>\n",
       "\t<tr><td>Afghanistan</td><td>AF</td><td>AFG</td><td>1997</td><td>new_sp_m2534</td><td> 6</td></tr>\n",
       "\t<tr><td>Afghanistan</td><td>AF</td><td>AFG</td><td>1997</td><td>new_sp_m3544</td><td> 3</td></tr>\n",
       "\t<tr><td>Afghanistan</td><td>AF</td><td>AFG</td><td>1997</td><td>new_sp_m4554</td><td> 5</td></tr>\n",
       "\t<tr><td>Afghanistan</td><td>AF</td><td>AFG</td><td>1997</td><td>new_sp_m5564</td><td> 2</td></tr>\n",
       "</tbody>\n",
       "</table>\n"
      ],
      "text/latex": [
       "A tibble: 6 × 6\n",
       "\\begin{tabular}{llllll}\n",
       " country & iso2 & iso3 & year & key & cases\\\\\n",
       " <chr> & <chr> & <chr> & <int> & <chr> & <int>\\\\\n",
       "\\hline\n",
       "\t Afghanistan & AF & AFG & 1997 & new\\_sp\\_m014  &  0\\\\\n",
       "\t Afghanistan & AF & AFG & 1997 & new\\_sp\\_m1524 & 10\\\\\n",
       "\t Afghanistan & AF & AFG & 1997 & new\\_sp\\_m2534 &  6\\\\\n",
       "\t Afghanistan & AF & AFG & 1997 & new\\_sp\\_m3544 &  3\\\\\n",
       "\t Afghanistan & AF & AFG & 1997 & new\\_sp\\_m4554 &  5\\\\\n",
       "\t Afghanistan & AF & AFG & 1997 & new\\_sp\\_m5564 &  2\\\\\n",
       "\\end{tabular}\n"
      ],
      "text/markdown": [
       "\n",
       "A tibble: 6 × 6\n",
       "\n",
       "| country &lt;chr&gt; | iso2 &lt;chr&gt; | iso3 &lt;chr&gt; | year &lt;int&gt; | key &lt;chr&gt; | cases &lt;int&gt; |\n",
       "|---|---|---|---|---|---|\n",
       "| Afghanistan | AF | AFG | 1997 | new_sp_m014  |  0 |\n",
       "| Afghanistan | AF | AFG | 1997 | new_sp_m1524 | 10 |\n",
       "| Afghanistan | AF | AFG | 1997 | new_sp_m2534 |  6 |\n",
       "| Afghanistan | AF | AFG | 1997 | new_sp_m3544 |  3 |\n",
       "| Afghanistan | AF | AFG | 1997 | new_sp_m4554 |  5 |\n",
       "| Afghanistan | AF | AFG | 1997 | new_sp_m5564 |  2 |\n",
       "\n"
      ],
      "text/plain": [
       "  country     iso2 iso3 year key          cases\n",
       "1 Afghanistan AF   AFG  1997 new_sp_m014   0   \n",
       "2 Afghanistan AF   AFG  1997 new_sp_m1524 10   \n",
       "3 Afghanistan AF   AFG  1997 new_sp_m2534  6   \n",
       "4 Afghanistan AF   AFG  1997 new_sp_m3544  3   \n",
       "5 Afghanistan AF   AFG  1997 new_sp_m4554  5   \n",
       "6 Afghanistan AF   AFG  1997 new_sp_m5564  2   "
      ]
     },
     "metadata": {},
     "output_type": "display_data"
    }
   ],
   "source": [
    "who2 <- who1 %>%\n",
    "mutate(key = stringr::str_replace(key, \"newrel\", \"new_rel\"))\n",
    "who2 %>% head"
   ]
  },
  {
   "cell_type": "markdown",
   "id": "9361e795-1f7e-4931-87f7-0c29778dce4d",
   "metadata": {},
   "source": [
    "- 위에서 이름 사이에 `_`를 넣었던 것은 분리하기 위함이였다."
   ]
  },
  {
   "cell_type": "code",
   "execution_count": 42,
   "id": "125516a0-203b-44b0-8b4f-03734b6c3a20",
   "metadata": {},
   "outputs": [
    {
     "data": {
      "text/html": [
       "<table class=\"dataframe\">\n",
       "<caption>A tibble: 6 × 8</caption>\n",
       "<thead>\n",
       "\t<tr><th scope=col>country</th><th scope=col>iso2</th><th scope=col>iso3</th><th scope=col>year</th><th scope=col>new</th><th scope=col>type</th><th scope=col>sexage</th><th scope=col>cases</th></tr>\n",
       "\t<tr><th scope=col>&lt;chr&gt;</th><th scope=col>&lt;chr&gt;</th><th scope=col>&lt;chr&gt;</th><th scope=col>&lt;int&gt;</th><th scope=col>&lt;chr&gt;</th><th scope=col>&lt;chr&gt;</th><th scope=col>&lt;chr&gt;</th><th scope=col>&lt;int&gt;</th></tr>\n",
       "</thead>\n",
       "<tbody>\n",
       "\t<tr><td>Afghanistan</td><td>AF</td><td>AFG</td><td>1997</td><td>new</td><td>sp</td><td>m014 </td><td> 0</td></tr>\n",
       "\t<tr><td>Afghanistan</td><td>AF</td><td>AFG</td><td>1997</td><td>new</td><td>sp</td><td>m1524</td><td>10</td></tr>\n",
       "\t<tr><td>Afghanistan</td><td>AF</td><td>AFG</td><td>1997</td><td>new</td><td>sp</td><td>m2534</td><td> 6</td></tr>\n",
       "\t<tr><td>Afghanistan</td><td>AF</td><td>AFG</td><td>1997</td><td>new</td><td>sp</td><td>m3544</td><td> 3</td></tr>\n",
       "\t<tr><td>Afghanistan</td><td>AF</td><td>AFG</td><td>1997</td><td>new</td><td>sp</td><td>m4554</td><td> 5</td></tr>\n",
       "\t<tr><td>Afghanistan</td><td>AF</td><td>AFG</td><td>1997</td><td>new</td><td>sp</td><td>m5564</td><td> 2</td></tr>\n",
       "</tbody>\n",
       "</table>\n"
      ],
      "text/latex": [
       "A tibble: 6 × 8\n",
       "\\begin{tabular}{llllllll}\n",
       " country & iso2 & iso3 & year & new & type & sexage & cases\\\\\n",
       " <chr> & <chr> & <chr> & <int> & <chr> & <chr> & <chr> & <int>\\\\\n",
       "\\hline\n",
       "\t Afghanistan & AF & AFG & 1997 & new & sp & m014  &  0\\\\\n",
       "\t Afghanistan & AF & AFG & 1997 & new & sp & m1524 & 10\\\\\n",
       "\t Afghanistan & AF & AFG & 1997 & new & sp & m2534 &  6\\\\\n",
       "\t Afghanistan & AF & AFG & 1997 & new & sp & m3544 &  3\\\\\n",
       "\t Afghanistan & AF & AFG & 1997 & new & sp & m4554 &  5\\\\\n",
       "\t Afghanistan & AF & AFG & 1997 & new & sp & m5564 &  2\\\\\n",
       "\\end{tabular}\n"
      ],
      "text/markdown": [
       "\n",
       "A tibble: 6 × 8\n",
       "\n",
       "| country &lt;chr&gt; | iso2 &lt;chr&gt; | iso3 &lt;chr&gt; | year &lt;int&gt; | new &lt;chr&gt; | type &lt;chr&gt; | sexage &lt;chr&gt; | cases &lt;int&gt; |\n",
       "|---|---|---|---|---|---|---|---|\n",
       "| Afghanistan | AF | AFG | 1997 | new | sp | m014  |  0 |\n",
       "| Afghanistan | AF | AFG | 1997 | new | sp | m1524 | 10 |\n",
       "| Afghanistan | AF | AFG | 1997 | new | sp | m2534 |  6 |\n",
       "| Afghanistan | AF | AFG | 1997 | new | sp | m3544 |  3 |\n",
       "| Afghanistan | AF | AFG | 1997 | new | sp | m4554 |  5 |\n",
       "| Afghanistan | AF | AFG | 1997 | new | sp | m5564 |  2 |\n",
       "\n"
      ],
      "text/plain": [
       "  country     iso2 iso3 year new type sexage cases\n",
       "1 Afghanistan AF   AFG  1997 new sp   m014    0   \n",
       "2 Afghanistan AF   AFG  1997 new sp   m1524  10   \n",
       "3 Afghanistan AF   AFG  1997 new sp   m2534   6   \n",
       "4 Afghanistan AF   AFG  1997 new sp   m3544   3   \n",
       "5 Afghanistan AF   AFG  1997 new sp   m4554   5   \n",
       "6 Afghanistan AF   AFG  1997 new sp   m5564   2   "
      ]
     },
     "metadata": {},
     "output_type": "display_data"
    }
   ],
   "source": [
    "who3 <- who2 %>%\n",
    "separate(key, c(\"new\", \"type\", \"sexage\"), sep = \"_\")\n",
    "who3 %>% head"
   ]
  },
  {
   "cell_type": "markdown",
   "id": "704b1a25-c294-446e-bac7-a72d92d6b3d6",
   "metadata": {},
   "source": [
    "- new열은 상수이므로 제거한다, iso2, iso3도 중복이므로 제거한다."
   ]
  },
  {
   "cell_type": "markdown",
   "id": "fd51e4ea-f970-4738-95cd-9e3c85b71dbf",
   "metadata": {},
   "source": [
    "`select` : -로 하면 그거 빼고 출력해준다"
   ]
  },
  {
   "cell_type": "code",
   "execution_count": 44,
   "id": "1e9d5ce6-823b-46d7-aa63-285f4ee78063",
   "metadata": {},
   "outputs": [],
   "source": [
    "who4 <- who3 %>%\n",
    "select(-new, -iso2, -iso3)"
   ]
  },
  {
   "cell_type": "code",
   "execution_count": 46,
   "id": "75719fae-587d-486a-84ab-6c93f76cf659",
   "metadata": {},
   "outputs": [
    {
     "data": {
      "text/html": [
       "<table class=\"dataframe\">\n",
       "<caption>A tibble: 6 × 5</caption>\n",
       "<thead>\n",
       "\t<tr><th scope=col>country</th><th scope=col>year</th><th scope=col>type</th><th scope=col>sexage</th><th scope=col>cases</th></tr>\n",
       "\t<tr><th scope=col>&lt;chr&gt;</th><th scope=col>&lt;int&gt;</th><th scope=col>&lt;chr&gt;</th><th scope=col>&lt;chr&gt;</th><th scope=col>&lt;int&gt;</th></tr>\n",
       "</thead>\n",
       "<tbody>\n",
       "\t<tr><td>Afghanistan</td><td>1997</td><td>sp</td><td>m014 </td><td> 0</td></tr>\n",
       "\t<tr><td>Afghanistan</td><td>1997</td><td>sp</td><td>m1524</td><td>10</td></tr>\n",
       "\t<tr><td>Afghanistan</td><td>1997</td><td>sp</td><td>m2534</td><td> 6</td></tr>\n",
       "\t<tr><td>Afghanistan</td><td>1997</td><td>sp</td><td>m3544</td><td> 3</td></tr>\n",
       "\t<tr><td>Afghanistan</td><td>1997</td><td>sp</td><td>m4554</td><td> 5</td></tr>\n",
       "\t<tr><td>Afghanistan</td><td>1997</td><td>sp</td><td>m5564</td><td> 2</td></tr>\n",
       "</tbody>\n",
       "</table>\n"
      ],
      "text/latex": [
       "A tibble: 6 × 5\n",
       "\\begin{tabular}{lllll}\n",
       " country & year & type & sexage & cases\\\\\n",
       " <chr> & <int> & <chr> & <chr> & <int>\\\\\n",
       "\\hline\n",
       "\t Afghanistan & 1997 & sp & m014  &  0\\\\\n",
       "\t Afghanistan & 1997 & sp & m1524 & 10\\\\\n",
       "\t Afghanistan & 1997 & sp & m2534 &  6\\\\\n",
       "\t Afghanistan & 1997 & sp & m3544 &  3\\\\\n",
       "\t Afghanistan & 1997 & sp & m4554 &  5\\\\\n",
       "\t Afghanistan & 1997 & sp & m5564 &  2\\\\\n",
       "\\end{tabular}\n"
      ],
      "text/markdown": [
       "\n",
       "A tibble: 6 × 5\n",
       "\n",
       "| country &lt;chr&gt; | year &lt;int&gt; | type &lt;chr&gt; | sexage &lt;chr&gt; | cases &lt;int&gt; |\n",
       "|---|---|---|---|---|\n",
       "| Afghanistan | 1997 | sp | m014  |  0 |\n",
       "| Afghanistan | 1997 | sp | m1524 | 10 |\n",
       "| Afghanistan | 1997 | sp | m2534 |  6 |\n",
       "| Afghanistan | 1997 | sp | m3544 |  3 |\n",
       "| Afghanistan | 1997 | sp | m4554 |  5 |\n",
       "| Afghanistan | 1997 | sp | m5564 |  2 |\n",
       "\n"
      ],
      "text/plain": [
       "  country     year type sexage cases\n",
       "1 Afghanistan 1997 sp   m014    0   \n",
       "2 Afghanistan 1997 sp   m1524  10   \n",
       "3 Afghanistan 1997 sp   m2534   6   \n",
       "4 Afghanistan 1997 sp   m3544   3   \n",
       "5 Afghanistan 1997 sp   m4554   5   \n",
       "6 Afghanistan 1997 sp   m5564   2   "
      ]
     },
     "metadata": {},
     "output_type": "display_data"
    }
   ],
   "source": [
    "who4 %>% head"
   ]
  },
  {
   "cell_type": "code",
   "execution_count": 47,
   "id": "9c968a93-a902-4424-9fab-6522c45ac8a8",
   "metadata": {},
   "outputs": [],
   "source": [
    "who5 <- who4 %>%\n",
    "separate(sexage, c(\"sex\", \"age\"), sep = 1)"
   ]
  },
  {
   "cell_type": "code",
   "execution_count": 48,
   "id": "bef0a00a-75fd-4449-afe7-f25f63eeacdf",
   "metadata": {},
   "outputs": [
    {
     "data": {
      "text/html": [
       "<table class=\"dataframe\">\n",
       "<caption>A tibble: 76046 × 6</caption>\n",
       "<thead>\n",
       "\t<tr><th scope=col>country</th><th scope=col>year</th><th scope=col>type</th><th scope=col>sex</th><th scope=col>age</th><th scope=col>cases</th></tr>\n",
       "\t<tr><th scope=col>&lt;chr&gt;</th><th scope=col>&lt;int&gt;</th><th scope=col>&lt;chr&gt;</th><th scope=col>&lt;chr&gt;</th><th scope=col>&lt;chr&gt;</th><th scope=col>&lt;int&gt;</th></tr>\n",
       "</thead>\n",
       "<tbody>\n",
       "\t<tr><td>Afghanistan</td><td>1997</td><td>sp</td><td>m</td><td>014 </td><td>  0</td></tr>\n",
       "\t<tr><td>Afghanistan</td><td>1997</td><td>sp</td><td>m</td><td>1524</td><td> 10</td></tr>\n",
       "\t<tr><td>Afghanistan</td><td>1997</td><td>sp</td><td>m</td><td>2534</td><td>  6</td></tr>\n",
       "\t<tr><td>Afghanistan</td><td>1997</td><td>sp</td><td>m</td><td>3544</td><td>  3</td></tr>\n",
       "\t<tr><td>Afghanistan</td><td>1997</td><td>sp</td><td>m</td><td>4554</td><td>  5</td></tr>\n",
       "\t<tr><td>Afghanistan</td><td>1997</td><td>sp</td><td>m</td><td>5564</td><td>  2</td></tr>\n",
       "\t<tr><td>Afghanistan</td><td>1997</td><td>sp</td><td>m</td><td>65  </td><td>  0</td></tr>\n",
       "\t<tr><td>Afghanistan</td><td>1997</td><td>sp</td><td>f</td><td>014 </td><td>  5</td></tr>\n",
       "\t<tr><td>Afghanistan</td><td>1997</td><td>sp</td><td>f</td><td>1524</td><td> 38</td></tr>\n",
       "\t<tr><td>Afghanistan</td><td>1997</td><td>sp</td><td>f</td><td>2534</td><td> 36</td></tr>\n",
       "\t<tr><td>Afghanistan</td><td>1997</td><td>sp</td><td>f</td><td>3544</td><td> 14</td></tr>\n",
       "\t<tr><td>Afghanistan</td><td>1997</td><td>sp</td><td>f</td><td>4554</td><td>  8</td></tr>\n",
       "\t<tr><td>Afghanistan</td><td>1997</td><td>sp</td><td>f</td><td>5564</td><td>  0</td></tr>\n",
       "\t<tr><td>Afghanistan</td><td>1997</td><td>sp</td><td>f</td><td>65  </td><td>  1</td></tr>\n",
       "\t<tr><td>Afghanistan</td><td>1998</td><td>sp</td><td>m</td><td>014 </td><td> 30</td></tr>\n",
       "\t<tr><td>Afghanistan</td><td>1998</td><td>sp</td><td>m</td><td>1524</td><td>129</td></tr>\n",
       "\t<tr><td>Afghanistan</td><td>1998</td><td>sp</td><td>m</td><td>2534</td><td>128</td></tr>\n",
       "\t<tr><td>Afghanistan</td><td>1998</td><td>sp</td><td>m</td><td>3544</td><td> 90</td></tr>\n",
       "\t<tr><td>Afghanistan</td><td>1998</td><td>sp</td><td>m</td><td>4554</td><td> 89</td></tr>\n",
       "\t<tr><td>Afghanistan</td><td>1998</td><td>sp</td><td>m</td><td>5564</td><td> 64</td></tr>\n",
       "\t<tr><td>Afghanistan</td><td>1998</td><td>sp</td><td>m</td><td>65  </td><td> 41</td></tr>\n",
       "\t<tr><td>Afghanistan</td><td>1998</td><td>sp</td><td>f</td><td>014 </td><td> 45</td></tr>\n",
       "\t<tr><td>Afghanistan</td><td>1998</td><td>sp</td><td>f</td><td>1524</td><td>350</td></tr>\n",
       "\t<tr><td>Afghanistan</td><td>1998</td><td>sp</td><td>f</td><td>2534</td><td>419</td></tr>\n",
       "\t<tr><td>Afghanistan</td><td>1998</td><td>sp</td><td>f</td><td>3544</td><td>194</td></tr>\n",
       "\t<tr><td>Afghanistan</td><td>1998</td><td>sp</td><td>f</td><td>4554</td><td>118</td></tr>\n",
       "\t<tr><td>Afghanistan</td><td>1998</td><td>sp</td><td>f</td><td>5564</td><td> 61</td></tr>\n",
       "\t<tr><td>Afghanistan</td><td>1998</td><td>sp</td><td>f</td><td>65  </td><td> 20</td></tr>\n",
       "\t<tr><td>Afghanistan</td><td>1999</td><td>sp</td><td>m</td><td>014 </td><td>  8</td></tr>\n",
       "\t<tr><td>Afghanistan</td><td>1999</td><td>sp</td><td>m</td><td>1524</td><td> 55</td></tr>\n",
       "\t<tr><td>⋮</td><td>⋮</td><td>⋮</td><td>⋮</td><td>⋮</td><td>⋮</td></tr>\n",
       "\t<tr><td>Zimbabwe</td><td>2012</td><td>sn </td><td>f</td><td>5564</td><td> 516</td></tr>\n",
       "\t<tr><td>Zimbabwe</td><td>2012</td><td>sn </td><td>f</td><td>65  </td><td> 432</td></tr>\n",
       "\t<tr><td>Zimbabwe</td><td>2012</td><td>ep </td><td>m</td><td>014 </td><td> 233</td></tr>\n",
       "\t<tr><td>Zimbabwe</td><td>2012</td><td>ep </td><td>m</td><td>1524</td><td> 214</td></tr>\n",
       "\t<tr><td>Zimbabwe</td><td>2012</td><td>ep </td><td>m</td><td>2534</td><td> 658</td></tr>\n",
       "\t<tr><td>Zimbabwe</td><td>2012</td><td>ep </td><td>m</td><td>3544</td><td> 789</td></tr>\n",
       "\t<tr><td>Zimbabwe</td><td>2012</td><td>ep </td><td>m</td><td>4554</td><td> 331</td></tr>\n",
       "\t<tr><td>Zimbabwe</td><td>2012</td><td>ep </td><td>m</td><td>5564</td><td> 178</td></tr>\n",
       "\t<tr><td>Zimbabwe</td><td>2012</td><td>ep </td><td>m</td><td>65  </td><td> 182</td></tr>\n",
       "\t<tr><td>Zimbabwe</td><td>2012</td><td>ep </td><td>f</td><td>014 </td><td> 208</td></tr>\n",
       "\t<tr><td>Zimbabwe</td><td>2012</td><td>ep </td><td>f</td><td>1524</td><td> 319</td></tr>\n",
       "\t<tr><td>Zimbabwe</td><td>2012</td><td>ep </td><td>f</td><td>2534</td><td> 710</td></tr>\n",
       "\t<tr><td>Zimbabwe</td><td>2012</td><td>ep </td><td>f</td><td>3544</td><td> 579</td></tr>\n",
       "\t<tr><td>Zimbabwe</td><td>2012</td><td>ep </td><td>f</td><td>4554</td><td> 228</td></tr>\n",
       "\t<tr><td>Zimbabwe</td><td>2012</td><td>ep </td><td>f</td><td>5564</td><td> 140</td></tr>\n",
       "\t<tr><td>Zimbabwe</td><td>2012</td><td>ep </td><td>f</td><td>65  </td><td> 143</td></tr>\n",
       "\t<tr><td>Zimbabwe</td><td>2013</td><td>rel</td><td>m</td><td>014 </td><td>1315</td></tr>\n",
       "\t<tr><td>Zimbabwe</td><td>2013</td><td>rel</td><td>m</td><td>1524</td><td>1642</td></tr>\n",
       "\t<tr><td>Zimbabwe</td><td>2013</td><td>rel</td><td>m</td><td>2534</td><td>5331</td></tr>\n",
       "\t<tr><td>Zimbabwe</td><td>2013</td><td>rel</td><td>m</td><td>3544</td><td>5363</td></tr>\n",
       "\t<tr><td>Zimbabwe</td><td>2013</td><td>rel</td><td>m</td><td>4554</td><td>2349</td></tr>\n",
       "\t<tr><td>Zimbabwe</td><td>2013</td><td>rel</td><td>m</td><td>5564</td><td>1206</td></tr>\n",
       "\t<tr><td>Zimbabwe</td><td>2013</td><td>rel</td><td>m</td><td>65  </td><td>1208</td></tr>\n",
       "\t<tr><td>Zimbabwe</td><td>2013</td><td>rel</td><td>f</td><td>014 </td><td>1252</td></tr>\n",
       "\t<tr><td>Zimbabwe</td><td>2013</td><td>rel</td><td>f</td><td>1524</td><td>2069</td></tr>\n",
       "\t<tr><td>Zimbabwe</td><td>2013</td><td>rel</td><td>f</td><td>2534</td><td>4649</td></tr>\n",
       "\t<tr><td>Zimbabwe</td><td>2013</td><td>rel</td><td>f</td><td>3544</td><td>3526</td></tr>\n",
       "\t<tr><td>Zimbabwe</td><td>2013</td><td>rel</td><td>f</td><td>4554</td><td>1453</td></tr>\n",
       "\t<tr><td>Zimbabwe</td><td>2013</td><td>rel</td><td>f</td><td>5564</td><td> 811</td></tr>\n",
       "\t<tr><td>Zimbabwe</td><td>2013</td><td>rel</td><td>f</td><td>65  </td><td> 725</td></tr>\n",
       "</tbody>\n",
       "</table>\n"
      ],
      "text/latex": [
       "A tibble: 76046 × 6\n",
       "\\begin{tabular}{llllll}\n",
       " country & year & type & sex & age & cases\\\\\n",
       " <chr> & <int> & <chr> & <chr> & <chr> & <int>\\\\\n",
       "\\hline\n",
       "\t Afghanistan & 1997 & sp & m & 014  &   0\\\\\n",
       "\t Afghanistan & 1997 & sp & m & 1524 &  10\\\\\n",
       "\t Afghanistan & 1997 & sp & m & 2534 &   6\\\\\n",
       "\t Afghanistan & 1997 & sp & m & 3544 &   3\\\\\n",
       "\t Afghanistan & 1997 & sp & m & 4554 &   5\\\\\n",
       "\t Afghanistan & 1997 & sp & m & 5564 &   2\\\\\n",
       "\t Afghanistan & 1997 & sp & m & 65   &   0\\\\\n",
       "\t Afghanistan & 1997 & sp & f & 014  &   5\\\\\n",
       "\t Afghanistan & 1997 & sp & f & 1524 &  38\\\\\n",
       "\t Afghanistan & 1997 & sp & f & 2534 &  36\\\\\n",
       "\t Afghanistan & 1997 & sp & f & 3544 &  14\\\\\n",
       "\t Afghanistan & 1997 & sp & f & 4554 &   8\\\\\n",
       "\t Afghanistan & 1997 & sp & f & 5564 &   0\\\\\n",
       "\t Afghanistan & 1997 & sp & f & 65   &   1\\\\\n",
       "\t Afghanistan & 1998 & sp & m & 014  &  30\\\\\n",
       "\t Afghanistan & 1998 & sp & m & 1524 & 129\\\\\n",
       "\t Afghanistan & 1998 & sp & m & 2534 & 128\\\\\n",
       "\t Afghanistan & 1998 & sp & m & 3544 &  90\\\\\n",
       "\t Afghanistan & 1998 & sp & m & 4554 &  89\\\\\n",
       "\t Afghanistan & 1998 & sp & m & 5564 &  64\\\\\n",
       "\t Afghanistan & 1998 & sp & m & 65   &  41\\\\\n",
       "\t Afghanistan & 1998 & sp & f & 014  &  45\\\\\n",
       "\t Afghanistan & 1998 & sp & f & 1524 & 350\\\\\n",
       "\t Afghanistan & 1998 & sp & f & 2534 & 419\\\\\n",
       "\t Afghanistan & 1998 & sp & f & 3544 & 194\\\\\n",
       "\t Afghanistan & 1998 & sp & f & 4554 & 118\\\\\n",
       "\t Afghanistan & 1998 & sp & f & 5564 &  61\\\\\n",
       "\t Afghanistan & 1998 & sp & f & 65   &  20\\\\\n",
       "\t Afghanistan & 1999 & sp & m & 014  &   8\\\\\n",
       "\t Afghanistan & 1999 & sp & m & 1524 &  55\\\\\n",
       "\t ⋮ & ⋮ & ⋮ & ⋮ & ⋮ & ⋮\\\\\n",
       "\t Zimbabwe & 2012 & sn  & f & 5564 &  516\\\\\n",
       "\t Zimbabwe & 2012 & sn  & f & 65   &  432\\\\\n",
       "\t Zimbabwe & 2012 & ep  & m & 014  &  233\\\\\n",
       "\t Zimbabwe & 2012 & ep  & m & 1524 &  214\\\\\n",
       "\t Zimbabwe & 2012 & ep  & m & 2534 &  658\\\\\n",
       "\t Zimbabwe & 2012 & ep  & m & 3544 &  789\\\\\n",
       "\t Zimbabwe & 2012 & ep  & m & 4554 &  331\\\\\n",
       "\t Zimbabwe & 2012 & ep  & m & 5564 &  178\\\\\n",
       "\t Zimbabwe & 2012 & ep  & m & 65   &  182\\\\\n",
       "\t Zimbabwe & 2012 & ep  & f & 014  &  208\\\\\n",
       "\t Zimbabwe & 2012 & ep  & f & 1524 &  319\\\\\n",
       "\t Zimbabwe & 2012 & ep  & f & 2534 &  710\\\\\n",
       "\t Zimbabwe & 2012 & ep  & f & 3544 &  579\\\\\n",
       "\t Zimbabwe & 2012 & ep  & f & 4554 &  228\\\\\n",
       "\t Zimbabwe & 2012 & ep  & f & 5564 &  140\\\\\n",
       "\t Zimbabwe & 2012 & ep  & f & 65   &  143\\\\\n",
       "\t Zimbabwe & 2013 & rel & m & 014  & 1315\\\\\n",
       "\t Zimbabwe & 2013 & rel & m & 1524 & 1642\\\\\n",
       "\t Zimbabwe & 2013 & rel & m & 2534 & 5331\\\\\n",
       "\t Zimbabwe & 2013 & rel & m & 3544 & 5363\\\\\n",
       "\t Zimbabwe & 2013 & rel & m & 4554 & 2349\\\\\n",
       "\t Zimbabwe & 2013 & rel & m & 5564 & 1206\\\\\n",
       "\t Zimbabwe & 2013 & rel & m & 65   & 1208\\\\\n",
       "\t Zimbabwe & 2013 & rel & f & 014  & 1252\\\\\n",
       "\t Zimbabwe & 2013 & rel & f & 1524 & 2069\\\\\n",
       "\t Zimbabwe & 2013 & rel & f & 2534 & 4649\\\\\n",
       "\t Zimbabwe & 2013 & rel & f & 3544 & 3526\\\\\n",
       "\t Zimbabwe & 2013 & rel & f & 4554 & 1453\\\\\n",
       "\t Zimbabwe & 2013 & rel & f & 5564 &  811\\\\\n",
       "\t Zimbabwe & 2013 & rel & f & 65   &  725\\\\\n",
       "\\end{tabular}\n"
      ],
      "text/markdown": [
       "\n",
       "A tibble: 76046 × 6\n",
       "\n",
       "| country &lt;chr&gt; | year &lt;int&gt; | type &lt;chr&gt; | sex &lt;chr&gt; | age &lt;chr&gt; | cases &lt;int&gt; |\n",
       "|---|---|---|---|---|---|\n",
       "| Afghanistan | 1997 | sp | m | 014  |   0 |\n",
       "| Afghanistan | 1997 | sp | m | 1524 |  10 |\n",
       "| Afghanistan | 1997 | sp | m | 2534 |   6 |\n",
       "| Afghanistan | 1997 | sp | m | 3544 |   3 |\n",
       "| Afghanistan | 1997 | sp | m | 4554 |   5 |\n",
       "| Afghanistan | 1997 | sp | m | 5564 |   2 |\n",
       "| Afghanistan | 1997 | sp | m | 65   |   0 |\n",
       "| Afghanistan | 1997 | sp | f | 014  |   5 |\n",
       "| Afghanistan | 1997 | sp | f | 1524 |  38 |\n",
       "| Afghanistan | 1997 | sp | f | 2534 |  36 |\n",
       "| Afghanistan | 1997 | sp | f | 3544 |  14 |\n",
       "| Afghanistan | 1997 | sp | f | 4554 |   8 |\n",
       "| Afghanistan | 1997 | sp | f | 5564 |   0 |\n",
       "| Afghanistan | 1997 | sp | f | 65   |   1 |\n",
       "| Afghanistan | 1998 | sp | m | 014  |  30 |\n",
       "| Afghanistan | 1998 | sp | m | 1524 | 129 |\n",
       "| Afghanistan | 1998 | sp | m | 2534 | 128 |\n",
       "| Afghanistan | 1998 | sp | m | 3544 |  90 |\n",
       "| Afghanistan | 1998 | sp | m | 4554 |  89 |\n",
       "| Afghanistan | 1998 | sp | m | 5564 |  64 |\n",
       "| Afghanistan | 1998 | sp | m | 65   |  41 |\n",
       "| Afghanistan | 1998 | sp | f | 014  |  45 |\n",
       "| Afghanistan | 1998 | sp | f | 1524 | 350 |\n",
       "| Afghanistan | 1998 | sp | f | 2534 | 419 |\n",
       "| Afghanistan | 1998 | sp | f | 3544 | 194 |\n",
       "| Afghanistan | 1998 | sp | f | 4554 | 118 |\n",
       "| Afghanistan | 1998 | sp | f | 5564 |  61 |\n",
       "| Afghanistan | 1998 | sp | f | 65   |  20 |\n",
       "| Afghanistan | 1999 | sp | m | 014  |   8 |\n",
       "| Afghanistan | 1999 | sp | m | 1524 |  55 |\n",
       "| ⋮ | ⋮ | ⋮ | ⋮ | ⋮ | ⋮ |\n",
       "| Zimbabwe | 2012 | sn  | f | 5564 |  516 |\n",
       "| Zimbabwe | 2012 | sn  | f | 65   |  432 |\n",
       "| Zimbabwe | 2012 | ep  | m | 014  |  233 |\n",
       "| Zimbabwe | 2012 | ep  | m | 1524 |  214 |\n",
       "| Zimbabwe | 2012 | ep  | m | 2534 |  658 |\n",
       "| Zimbabwe | 2012 | ep  | m | 3544 |  789 |\n",
       "| Zimbabwe | 2012 | ep  | m | 4554 |  331 |\n",
       "| Zimbabwe | 2012 | ep  | m | 5564 |  178 |\n",
       "| Zimbabwe | 2012 | ep  | m | 65   |  182 |\n",
       "| Zimbabwe | 2012 | ep  | f | 014  |  208 |\n",
       "| Zimbabwe | 2012 | ep  | f | 1524 |  319 |\n",
       "| Zimbabwe | 2012 | ep  | f | 2534 |  710 |\n",
       "| Zimbabwe | 2012 | ep  | f | 3544 |  579 |\n",
       "| Zimbabwe | 2012 | ep  | f | 4554 |  228 |\n",
       "| Zimbabwe | 2012 | ep  | f | 5564 |  140 |\n",
       "| Zimbabwe | 2012 | ep  | f | 65   |  143 |\n",
       "| Zimbabwe | 2013 | rel | m | 014  | 1315 |\n",
       "| Zimbabwe | 2013 | rel | m | 1524 | 1642 |\n",
       "| Zimbabwe | 2013 | rel | m | 2534 | 5331 |\n",
       "| Zimbabwe | 2013 | rel | m | 3544 | 5363 |\n",
       "| Zimbabwe | 2013 | rel | m | 4554 | 2349 |\n",
       "| Zimbabwe | 2013 | rel | m | 5564 | 1206 |\n",
       "| Zimbabwe | 2013 | rel | m | 65   | 1208 |\n",
       "| Zimbabwe | 2013 | rel | f | 014  | 1252 |\n",
       "| Zimbabwe | 2013 | rel | f | 1524 | 2069 |\n",
       "| Zimbabwe | 2013 | rel | f | 2534 | 4649 |\n",
       "| Zimbabwe | 2013 | rel | f | 3544 | 3526 |\n",
       "| Zimbabwe | 2013 | rel | f | 4554 | 1453 |\n",
       "| Zimbabwe | 2013 | rel | f | 5564 |  811 |\n",
       "| Zimbabwe | 2013 | rel | f | 65   |  725 |\n",
       "\n"
      ],
      "text/plain": [
       "      country     year type sex age  cases\n",
       "1     Afghanistan 1997 sp   m   014    0  \n",
       "2     Afghanistan 1997 sp   m   1524  10  \n",
       "3     Afghanistan 1997 sp   m   2534   6  \n",
       "4     Afghanistan 1997 sp   m   3544   3  \n",
       "5     Afghanistan 1997 sp   m   4554   5  \n",
       "6     Afghanistan 1997 sp   m   5564   2  \n",
       "7     Afghanistan 1997 sp   m   65     0  \n",
       "8     Afghanistan 1997 sp   f   014    5  \n",
       "9     Afghanistan 1997 sp   f   1524  38  \n",
       "10    Afghanistan 1997 sp   f   2534  36  \n",
       "11    Afghanistan 1997 sp   f   3544  14  \n",
       "12    Afghanistan 1997 sp   f   4554   8  \n",
       "13    Afghanistan 1997 sp   f   5564   0  \n",
       "14    Afghanistan 1997 sp   f   65     1  \n",
       "15    Afghanistan 1998 sp   m   014   30  \n",
       "16    Afghanistan 1998 sp   m   1524 129  \n",
       "17    Afghanistan 1998 sp   m   2534 128  \n",
       "18    Afghanistan 1998 sp   m   3544  90  \n",
       "19    Afghanistan 1998 sp   m   4554  89  \n",
       "20    Afghanistan 1998 sp   m   5564  64  \n",
       "21    Afghanistan 1998 sp   m   65    41  \n",
       "22    Afghanistan 1998 sp   f   014   45  \n",
       "23    Afghanistan 1998 sp   f   1524 350  \n",
       "24    Afghanistan 1998 sp   f   2534 419  \n",
       "25    Afghanistan 1998 sp   f   3544 194  \n",
       "26    Afghanistan 1998 sp   f   4554 118  \n",
       "27    Afghanistan 1998 sp   f   5564  61  \n",
       "28    Afghanistan 1998 sp   f   65    20  \n",
       "29    Afghanistan 1999 sp   m   014    8  \n",
       "30    Afghanistan 1999 sp   m   1524  55  \n",
       "⋮     ⋮           ⋮    ⋮    ⋮   ⋮    ⋮    \n",
       "76017 Zimbabwe    2012 sn   f   5564  516 \n",
       "76018 Zimbabwe    2012 sn   f   65    432 \n",
       "76019 Zimbabwe    2012 ep   m   014   233 \n",
       "76020 Zimbabwe    2012 ep   m   1524  214 \n",
       "76021 Zimbabwe    2012 ep   m   2534  658 \n",
       "76022 Zimbabwe    2012 ep   m   3544  789 \n",
       "76023 Zimbabwe    2012 ep   m   4554  331 \n",
       "76024 Zimbabwe    2012 ep   m   5564  178 \n",
       "76025 Zimbabwe    2012 ep   m   65    182 \n",
       "76026 Zimbabwe    2012 ep   f   014   208 \n",
       "76027 Zimbabwe    2012 ep   f   1524  319 \n",
       "76028 Zimbabwe    2012 ep   f   2534  710 \n",
       "76029 Zimbabwe    2012 ep   f   3544  579 \n",
       "76030 Zimbabwe    2012 ep   f   4554  228 \n",
       "76031 Zimbabwe    2012 ep   f   5564  140 \n",
       "76032 Zimbabwe    2012 ep   f   65    143 \n",
       "76033 Zimbabwe    2013 rel  m   014  1315 \n",
       "76034 Zimbabwe    2013 rel  m   1524 1642 \n",
       "76035 Zimbabwe    2013 rel  m   2534 5331 \n",
       "76036 Zimbabwe    2013 rel  m   3544 5363 \n",
       "76037 Zimbabwe    2013 rel  m   4554 2349 \n",
       "76038 Zimbabwe    2013 rel  m   5564 1206 \n",
       "76039 Zimbabwe    2013 rel  m   65   1208 \n",
       "76040 Zimbabwe    2013 rel  f   014  1252 \n",
       "76041 Zimbabwe    2013 rel  f   1524 2069 \n",
       "76042 Zimbabwe    2013 rel  f   2534 4649 \n",
       "76043 Zimbabwe    2013 rel  f   3544 3526 \n",
       "76044 Zimbabwe    2013 rel  f   4554 1453 \n",
       "76045 Zimbabwe    2013 rel  f   5564  811 \n",
       "76046 Zimbabwe    2013 rel  f   65    725 "
      ]
     },
     "metadata": {},
     "output_type": "display_data"
    }
   ],
   "source": [
    "who5"
   ]
  },
  {
   "cell_type": "code",
   "execution_count": null,
   "id": "1e10b668-6d22-4731-8cf0-b87454943f0c",
   "metadata": {},
   "outputs": [],
   "source": []
  }
 ],
 "metadata": {
  "kernelspec": {
   "display_name": "R",
   "language": "R",
   "name": "ir"
  },
  "language_info": {
   "codemirror_mode": "r",
   "file_extension": ".r",
   "mimetype": "text/x-r-source",
   "name": "R",
   "pygments_lexer": "r",
   "version": "4.1.3"
  }
 },
 "nbformat": 4,
 "nbformat_minor": 5
}
