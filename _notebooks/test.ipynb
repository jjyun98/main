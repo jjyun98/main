{
 "cells": [
  {
   "cell_type": "markdown",
   "id": "48514f89-c10d-4d42-8a1b-1aca573ad964",
   "metadata": {},
   "source": [
    "testfile"
   ]
  },
  {
   "cell_type": "markdown",
   "id": "8289ee64-6a8f-4da8-8d85-be4cecacf2a1",
   "metadata": {},
   "source": [
    "이것은 테스트를 위해 만들어본 자료입니다"
   ]
  },
  {
   "cell_type": "code",
   "execution_count": 2,
   "id": "1bf87d20-b084-4eec-86a9-a8b74d25418c",
   "metadata": {},
   "outputs": [],
   "source": [
    "a = [1,2,3]"
   ]
  },
  {
   "cell_type": "code",
   "execution_count": 3,
   "id": "2e7bca3a-4243-4c29-b8c3-73e4b5dbd25b",
   "metadata": {},
   "outputs": [
    {
     "data": {
      "text/plain": [
       "[1, 2, 3]"
      ]
     },
     "execution_count": 3,
     "metadata": {},
     "output_type": "execute_result"
    }
   ],
   "source": [
    "a"
   ]
  },
  {
   "cell_type": "code",
   "execution_count": 4,
   "id": "8c7fa81e-372a-42be-977d-2b4fce353ad7",
   "metadata": {},
   "outputs": [
    {
     "data": {
      "text/plain": [
       "2"
      ]
     },
     "execution_count": 4,
     "metadata": {},
     "output_type": "execute_result"
    }
   ],
   "source": [
    "a[1]"
   ]
  },
  {
   "cell_type": "code",
   "execution_count": 8,
   "id": "9404b99c-a52c-4ceb-8c6a-84c85abc6ce2",
   "metadata": {},
   "outputs": [
    {
     "name": "stdout",
     "output_type": "stream",
     "text": [
      "1\n",
      "2\n",
      "3\n"
     ]
    }
   ],
   "source": [
    "for i in range(3):\n",
    "    print(a[i])"
   ]
  },
  {
   "cell_type": "code",
   "execution_count": null,
   "id": "ea504593-6b9b-4733-9c7d-ebdb2a784245",
   "metadata": {},
   "outputs": [],
   "source": []
  }
 ],
 "metadata": {
  "kernelspec": {
   "display_name": "Python 3 (ipykernel)",
   "language": "python",
   "name": "python3"
  },
  "language_info": {
   "codemirror_mode": {
    "name": "ipython",
    "version": 3
   },
   "file_extension": ".py",
   "mimetype": "text/x-python",
   "name": "python",
   "nbconvert_exporter": "python",
   "pygments_lexer": "ipython3",
   "version": "3.8.13"
  }
 },
 "nbformat": 4,
 "nbformat_minor": 5
}
