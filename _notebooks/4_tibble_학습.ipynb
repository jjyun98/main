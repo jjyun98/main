{
 "cells": [
  {
   "cell_type": "markdown",
   "id": "b9314869-d3ce-434d-a9c0-8aa9975457b0",
   "metadata": {},
   "source": [
    "# tibble, parsing [R]"
   ]
  },
  {
   "cell_type": "code",
   "execution_count": 7,
   "id": "632bcf27-a2b5-41da-8b14-baa2dff254a0",
   "metadata": {},
   "outputs": [],
   "source": [
    "library('tidyverse')"
   ]
  },
  {
   "cell_type": "markdown",
   "id": "9532fa82-ff42-4400-8da4-6dfdaa4c386b",
   "metadata": {},
   "source": [
    "`-` 데이터프레임을 티블로 변형하기 "
   ]
  },
  {
   "cell_type": "code",
   "execution_count": 2,
   "id": "f319ca41-4f76-4cd2-b011-bf2ee1759f99",
   "metadata": {},
   "outputs": [
    {
     "data": {
      "text/html": [
       "<table class=\"dataframe\">\n",
       "<caption>A tibble: 6 × 5</caption>\n",
       "<thead>\n",
       "\t<tr><th scope=col>Sepal.Length</th><th scope=col>Sepal.Width</th><th scope=col>Petal.Length</th><th scope=col>Petal.Width</th><th scope=col>Species</th></tr>\n",
       "\t<tr><th scope=col>&lt;dbl&gt;</th><th scope=col>&lt;dbl&gt;</th><th scope=col>&lt;dbl&gt;</th><th scope=col>&lt;dbl&gt;</th><th scope=col>&lt;fct&gt;</th></tr>\n",
       "</thead>\n",
       "<tbody>\n",
       "\t<tr><td>5.1</td><td>3.5</td><td>1.4</td><td>0.2</td><td>setosa</td></tr>\n",
       "\t<tr><td>4.9</td><td>3.0</td><td>1.4</td><td>0.2</td><td>setosa</td></tr>\n",
       "\t<tr><td>4.7</td><td>3.2</td><td>1.3</td><td>0.2</td><td>setosa</td></tr>\n",
       "\t<tr><td>4.6</td><td>3.1</td><td>1.5</td><td>0.2</td><td>setosa</td></tr>\n",
       "\t<tr><td>5.0</td><td>3.6</td><td>1.4</td><td>0.2</td><td>setosa</td></tr>\n",
       "\t<tr><td>5.4</td><td>3.9</td><td>1.7</td><td>0.4</td><td>setosa</td></tr>\n",
       "</tbody>\n",
       "</table>\n"
      ],
      "text/latex": [
       "A tibble: 6 × 5\n",
       "\\begin{tabular}{lllll}\n",
       " Sepal.Length & Sepal.Width & Petal.Length & Petal.Width & Species\\\\\n",
       " <dbl> & <dbl> & <dbl> & <dbl> & <fct>\\\\\n",
       "\\hline\n",
       "\t 5.1 & 3.5 & 1.4 & 0.2 & setosa\\\\\n",
       "\t 4.9 & 3.0 & 1.4 & 0.2 & setosa\\\\\n",
       "\t 4.7 & 3.2 & 1.3 & 0.2 & setosa\\\\\n",
       "\t 4.6 & 3.1 & 1.5 & 0.2 & setosa\\\\\n",
       "\t 5.0 & 3.6 & 1.4 & 0.2 & setosa\\\\\n",
       "\t 5.4 & 3.9 & 1.7 & 0.4 & setosa\\\\\n",
       "\\end{tabular}\n"
      ],
      "text/markdown": [
       "\n",
       "A tibble: 6 × 5\n",
       "\n",
       "| Sepal.Length &lt;dbl&gt; | Sepal.Width &lt;dbl&gt; | Petal.Length &lt;dbl&gt; | Petal.Width &lt;dbl&gt; | Species &lt;fct&gt; |\n",
       "|---|---|---|---|---|\n",
       "| 5.1 | 3.5 | 1.4 | 0.2 | setosa |\n",
       "| 4.9 | 3.0 | 1.4 | 0.2 | setosa |\n",
       "| 4.7 | 3.2 | 1.3 | 0.2 | setosa |\n",
       "| 4.6 | 3.1 | 1.5 | 0.2 | setosa |\n",
       "| 5.0 | 3.6 | 1.4 | 0.2 | setosa |\n",
       "| 5.4 | 3.9 | 1.7 | 0.4 | setosa |\n",
       "\n"
      ],
      "text/plain": [
       "  Sepal.Length Sepal.Width Petal.Length Petal.Width Species\n",
       "1 5.1          3.5         1.4          0.2         setosa \n",
       "2 4.9          3.0         1.4          0.2         setosa \n",
       "3 4.7          3.2         1.3          0.2         setosa \n",
       "4 4.6          3.1         1.5          0.2         setosa \n",
       "5 5.0          3.6         1.4          0.2         setosa \n",
       "6 5.4          3.9         1.7          0.4         setosa "
      ]
     },
     "metadata": {},
     "output_type": "display_data"
    }
   ],
   "source": [
    "as_tibble(iris) %>% head"
   ]
  },
  {
   "cell_type": "code",
   "execution_count": 3,
   "id": "da8ab661-db52-431e-a585-e1f8f98591d6",
   "metadata": {},
   "outputs": [
    {
     "data": {
      "text/html": [
       "<table class=\"dataframe\">\n",
       "<caption>A tibble: 5 × 3</caption>\n",
       "<thead>\n",
       "\t<tr><th scope=col>x</th><th scope=col>y</th><th scope=col>z</th></tr>\n",
       "\t<tr><th scope=col>&lt;int&gt;</th><th scope=col>&lt;dbl&gt;</th><th scope=col>&lt;dbl&gt;</th></tr>\n",
       "</thead>\n",
       "<tbody>\n",
       "\t<tr><td>1</td><td>1</td><td> 2</td></tr>\n",
       "\t<tr><td>2</td><td>1</td><td> 5</td></tr>\n",
       "\t<tr><td>3</td><td>1</td><td>10</td></tr>\n",
       "\t<tr><td>4</td><td>1</td><td>17</td></tr>\n",
       "\t<tr><td>5</td><td>1</td><td>26</td></tr>\n",
       "</tbody>\n",
       "</table>\n"
      ],
      "text/latex": [
       "A tibble: 5 × 3\n",
       "\\begin{tabular}{lll}\n",
       " x & y & z\\\\\n",
       " <int> & <dbl> & <dbl>\\\\\n",
       "\\hline\n",
       "\t 1 & 1 &  2\\\\\n",
       "\t 2 & 1 &  5\\\\\n",
       "\t 3 & 1 & 10\\\\\n",
       "\t 4 & 1 & 17\\\\\n",
       "\t 5 & 1 & 26\\\\\n",
       "\\end{tabular}\n"
      ],
      "text/markdown": [
       "\n",
       "A tibble: 5 × 3\n",
       "\n",
       "| x &lt;int&gt; | y &lt;dbl&gt; | z &lt;dbl&gt; |\n",
       "|---|---|---|\n",
       "| 1 | 1 |  2 |\n",
       "| 2 | 1 |  5 |\n",
       "| 3 | 1 | 10 |\n",
       "| 4 | 1 | 17 |\n",
       "| 5 | 1 | 26 |\n",
       "\n"
      ],
      "text/plain": [
       "  x y z \n",
       "1 1 1  2\n",
       "2 2 1  5\n",
       "3 3 1 10\n",
       "4 4 1 17\n",
       "5 5 1 26"
      ]
     },
     "metadata": {},
     "output_type": "display_data"
    }
   ],
   "source": [
    "tibble(\n",
    "    x = 1:5,\n",
    "    y = 1,\n",
    "    z = x^2 + y\n",
    "    )"
   ]
  },
  {
   "cell_type": "markdown",
   "id": "319feb94-dec9-4ab0-8ff8-87768877256a",
   "metadata": {},
   "source": [
    "> tibble과 데이터프레임의 차이점<br>\n",
    "> 1) 입력 유형을 절대로 변경하지 않는다 ex) 문자열 > factor<br>\n",
    "> 2) 변수의 이름을 바꾸거나 행 이름을 생성하지 않는다<br>\n",
    "> 3) 티블은 R변수명으로 유효하지 않은 이름도 열 이름으로 가질 수 있다 ex) 공백<br>다만, 이런 변수들을 참조하려면 역따옴표(`)로 감싸야한다고 하는데 안써도 되는데? "
   ]
  },
  {
   "cell_type": "code",
   "execution_count": 4,
   "id": "c1a74beb-cfa0-4d29-87e0-e708d15f685d",
   "metadata": {},
   "outputs": [],
   "source": [
    "tb <- tibble(\n",
    "    `apple` = \"근본\",\n",
    "    ' ' = \"스페이스\",\n",
    "    '1000' = \"숫자\")"
   ]
  },
  {
   "cell_type": "code",
   "execution_count": 5,
   "id": "dec2c7f2-a41a-4b49-8de0-739f1dafa216",
   "metadata": {},
   "outputs": [
    {
     "data": {
      "text/html": [
       "<table class=\"dataframe\">\n",
       "<caption>A tibble: 1 × 3</caption>\n",
       "<thead>\n",
       "\t<tr><th scope=col>apple</th><th scope=col> </th><th scope=col>1000</th></tr>\n",
       "\t<tr><th scope=col>&lt;chr&gt;</th><th scope=col>&lt;chr&gt;</th><th scope=col>&lt;chr&gt;</th></tr>\n",
       "</thead>\n",
       "<tbody>\n",
       "\t<tr><td>근본</td><td>스페이스</td><td>숫자</td></tr>\n",
       "</tbody>\n",
       "</table>\n"
      ],
      "text/latex": [
       "A tibble: 1 × 3\n",
       "\\begin{tabular}{lll}\n",
       " apple &   & 1000\\\\\n",
       " <chr> & <chr> & <chr>\\\\\n",
       "\\hline\n",
       "\t 근본 & 스페이스 & 숫자\\\\\n",
       "\\end{tabular}\n"
      ],
      "text/markdown": [
       "\n",
       "A tibble: 1 × 3\n",
       "\n",
       "| apple &lt;chr&gt; | <!----> &lt;chr&gt; | 1000 &lt;chr&gt; |\n",
       "|---|---|---|\n",
       "| 근본 | 스페이스 | 숫자 |\n",
       "\n"
      ],
      "text/plain": [
       "  apple          1000\n",
       "1 근본  스페이스 숫자"
      ]
     },
     "metadata": {},
     "output_type": "display_data"
    }
   ],
   "source": [
    "tb"
   ]
  },
  {
   "cell_type": "markdown",
   "id": "a5c5692d-e118-44e0-9af9-ed2bee9cc804",
   "metadata": {},
   "source": [
    "### tribble"
   ]
  },
  {
   "cell_type": "markdown",
   "id": "fa974d9f-bf23-4dec-a16f-c85a775a8f45",
   "metadata": {},
   "source": [
    "> 티블을 만드는 또 다른 방법(적은 양의 데이터를 빠르게 읽기 쉬운형태로 만드는)<br>\n",
    "열 헤더는 공식으로 정의(~로 시작), 입력은 쉼표로 구분)"
   ]
  },
  {
   "cell_type": "code",
   "execution_count": 6,
   "id": "e3d07109-53ce-4685-bf8a-629575074ea5",
   "metadata": {},
   "outputs": [
    {
     "data": {
      "text/html": [
       "<table class=\"dataframe\">\n",
       "<caption>A tibble: 3 × 3</caption>\n",
       "<thead>\n",
       "\t<tr><th scope=col>x</th><th scope=col>y</th><th scope=col>z</th></tr>\n",
       "\t<tr><th scope=col>&lt;chr&gt;</th><th scope=col>&lt;dbl&gt;</th><th scope=col>&lt;dbl&gt;</th></tr>\n",
       "</thead>\n",
       "<tbody>\n",
       "\t<tr><td>c</td><td>3</td><td>4.0</td></tr>\n",
       "\t<tr><td>a</td><td>2</td><td>3.6</td></tr>\n",
       "\t<tr><td>b</td><td>1</td><td>8.5</td></tr>\n",
       "</tbody>\n",
       "</table>\n"
      ],
      "text/latex": [
       "A tibble: 3 × 3\n",
       "\\begin{tabular}{lll}\n",
       " x & y & z\\\\\n",
       " <chr> & <dbl> & <dbl>\\\\\n",
       "\\hline\n",
       "\t c & 3 & 4.0\\\\\n",
       "\t a & 2 & 3.6\\\\\n",
       "\t b & 1 & 8.5\\\\\n",
       "\\end{tabular}\n"
      ],
      "text/markdown": [
       "\n",
       "A tibble: 3 × 3\n",
       "\n",
       "| x &lt;chr&gt; | y &lt;dbl&gt; | z &lt;dbl&gt; |\n",
       "|---|---|---|\n",
       "| c | 3 | 4.0 |\n",
       "| a | 2 | 3.6 |\n",
       "| b | 1 | 8.5 |\n",
       "\n"
      ],
      "text/plain": [
       "  x y z  \n",
       "1 c 3 4.0\n",
       "2 a 2 3.6\n",
       "3 b 1 8.5"
      ]
     },
     "metadata": {},
     "output_type": "display_data"
    }
   ],
   "source": [
    "tribble(\n",
    "    ~x, ~y, ~z,\n",
    "    \"c\" ,  3, 4.0,\n",
    "    \"a\", 2, 3.6,\n",
    "    \"b\", 1, 8.5\n",
    "    )"
   ]
  },
  {
   "cell_type": "code",
   "execution_count": 16,
   "id": "4dcce829-88d3-4553-9285-4de6c0e7d3bd",
   "metadata": {},
   "outputs": [
    {
     "data": {
      "text/html": [
       "<table class=\"dataframe\">\n",
       "<caption>A tibble: 6 × 5</caption>\n",
       "<thead>\n",
       "\t<tr><th scope=col>a</th><th scope=col>b</th><th scope=col>c</th><th scope=col>d</th><th scope=col>e</th></tr>\n",
       "\t<tr><th scope=col>&lt;dttm&gt;</th><th scope=col>&lt;date&gt;</th><th scope=col>&lt;int&gt;</th><th scope=col>&lt;dbl&gt;</th><th scope=col>&lt;chr&gt;</th></tr>\n",
       "</thead>\n",
       "<tbody>\n",
       "\t<tr><td>2022-07-23 18:36:53</td><td>2022-07-28</td><td>1</td><td>0.00343761</td><td>k</td></tr>\n",
       "\t<tr><td>2022-07-23 13:49:37</td><td>2022-07-22</td><td>2</td><td>0.45199147</td><td>h</td></tr>\n",
       "\t<tr><td>2022-07-22 21:11:33</td><td>2022-08-11</td><td>3</td><td>0.07705210</td><td>i</td></tr>\n",
       "\t<tr><td>2022-07-22 22:44:18</td><td>2022-07-22</td><td>4</td><td>0.01277533</td><td>w</td></tr>\n",
       "\t<tr><td>2022-07-23 03:04:22</td><td>2022-08-07</td><td>5</td><td>0.54975539</td><td>w</td></tr>\n",
       "\t<tr><td>2022-07-23 02:53:20</td><td>2022-08-20</td><td>6</td><td>0.06460381</td><td>o</td></tr>\n",
       "</tbody>\n",
       "</table>\n"
      ],
      "text/latex": [
       "A tibble: 6 × 5\n",
       "\\begin{tabular}{lllll}\n",
       " a & b & c & d & e\\\\\n",
       " <dttm> & <date> & <int> & <dbl> & <chr>\\\\\n",
       "\\hline\n",
       "\t 2022-07-23 18:36:53 & 2022-07-28 & 1 & 0.00343761 & k\\\\\n",
       "\t 2022-07-23 13:49:37 & 2022-07-22 & 2 & 0.45199147 & h\\\\\n",
       "\t 2022-07-22 21:11:33 & 2022-08-11 & 3 & 0.07705210 & i\\\\\n",
       "\t 2022-07-22 22:44:18 & 2022-07-22 & 4 & 0.01277533 & w\\\\\n",
       "\t 2022-07-23 03:04:22 & 2022-08-07 & 5 & 0.54975539 & w\\\\\n",
       "\t 2022-07-23 02:53:20 & 2022-08-20 & 6 & 0.06460381 & o\\\\\n",
       "\\end{tabular}\n"
      ],
      "text/markdown": [
       "\n",
       "A tibble: 6 × 5\n",
       "\n",
       "| a &lt;dttm&gt; | b &lt;date&gt; | c &lt;int&gt; | d &lt;dbl&gt; | e &lt;chr&gt; |\n",
       "|---|---|---|---|---|\n",
       "| 2022-07-23 18:36:53 | 2022-07-28 | 1 | 0.00343761 | k |\n",
       "| 2022-07-23 13:49:37 | 2022-07-22 | 2 | 0.45199147 | h |\n",
       "| 2022-07-22 21:11:33 | 2022-08-11 | 3 | 0.07705210 | i |\n",
       "| 2022-07-22 22:44:18 | 2022-07-22 | 4 | 0.01277533 | w |\n",
       "| 2022-07-23 03:04:22 | 2022-08-07 | 5 | 0.54975539 | w |\n",
       "| 2022-07-23 02:53:20 | 2022-08-20 | 6 | 0.06460381 | o |\n",
       "\n"
      ],
      "text/plain": [
       "  a                   b          c d          e\n",
       "1 2022-07-23 18:36:53 2022-07-28 1 0.00343761 k\n",
       "2 2022-07-23 13:49:37 2022-07-22 2 0.45199147 h\n",
       "3 2022-07-22 21:11:33 2022-08-11 3 0.07705210 i\n",
       "4 2022-07-22 22:44:18 2022-07-22 4 0.01277533 w\n",
       "5 2022-07-23 03:04:22 2022-08-07 5 0.54975539 w\n",
       "6 2022-07-23 02:53:20 2022-08-20 6 0.06460381 o"
      ]
     },
     "metadata": {},
     "output_type": "display_data"
    }
   ],
   "source": [
    "tibble(\n",
    "    a = lubridate::now() + runif(1e3) * 86400,\n",
    "    b = lubridate::today() + runif(1e3) * 30,\n",
    "    c = 1:1e3,\n",
    "    d = runif(1e3),\n",
    "    e = sample(letters, 1e3, replace = TRUE)\n",
    "    ) %>% head"
   ]
  },
  {
   "cell_type": "markdown",
   "id": "61eae8a0-e9ff-4b2c-9373-04ba39730fcd",
   "metadata": {},
   "source": [
    "- 참고) 1e3 = 1000이다"
   ]
  },
  {
   "cell_type": "markdown",
   "id": "bebbf609-c1da-4e23-b3f7-b3c1fbfba31f",
   "metadata": {},
   "source": [
    "`runif` : 평균=0, 표준편차=1의 무작위 난수 추출"
   ]
  },
  {
   "cell_type": "markdown",
   "id": "8ad25f9c-2c79-4e1c-bd74-e716d617e02e",
   "metadata": {},
   "source": [
    "`print(n=)` : 보여주는 행의수 제어<br>\n",
    "`width = Inf` : 열 모두 보이기"
   ]
  },
  {
   "cell_type": "code",
   "execution_count": 27,
   "id": "b077f24e-6a91-4431-b4a0-192fb06810b0",
   "metadata": {},
   "outputs": [
    {
     "name": "stdout",
     "output_type": "stream",
     "text": [
      "\u001b[90m# A tibble: 336,776 × 19\u001b[39m\n",
      "    year month   day dep_time sched_dep_time dep_delay arr_time sched_arr_time\n",
      "   \u001b[3m\u001b[90m<int>\u001b[39m\u001b[23m \u001b[3m\u001b[90m<int>\u001b[39m\u001b[23m \u001b[3m\u001b[90m<int>\u001b[39m\u001b[23m    \u001b[3m\u001b[90m<int>\u001b[39m\u001b[23m          \u001b[3m\u001b[90m<int>\u001b[39m\u001b[23m     \u001b[3m\u001b[90m<dbl>\u001b[39m\u001b[23m    \u001b[3m\u001b[90m<int>\u001b[39m\u001b[23m          \u001b[3m\u001b[90m<int>\u001b[39m\u001b[23m\n",
      "\u001b[90m 1\u001b[39m  \u001b[4m2\u001b[24m013     1     1      517            515         2      830            819\n",
      "\u001b[90m 2\u001b[39m  \u001b[4m2\u001b[24m013     1     1      533            529         4      850            830\n",
      "\u001b[90m 3\u001b[39m  \u001b[4m2\u001b[24m013     1     1      542            540         2      923            850\n",
      "\u001b[90m 4\u001b[39m  \u001b[4m2\u001b[24m013     1     1      544            545        -\u001b[31m1\u001b[39m     \u001b[4m1\u001b[24m004           \u001b[4m1\u001b[24m022\n",
      "\u001b[90m 5\u001b[39m  \u001b[4m2\u001b[24m013     1     1      554            600        -\u001b[31m6\u001b[39m      812            837\n",
      "\u001b[90m 6\u001b[39m  \u001b[4m2\u001b[24m013     1     1      554            558        -\u001b[31m4\u001b[39m      740            728\n",
      "\u001b[90m 7\u001b[39m  \u001b[4m2\u001b[24m013     1     1      555            600        -\u001b[31m5\u001b[39m      913            854\n",
      "\u001b[90m 8\u001b[39m  \u001b[4m2\u001b[24m013     1     1      557            600        -\u001b[31m3\u001b[39m      709            723\n",
      "\u001b[90m 9\u001b[39m  \u001b[4m2\u001b[24m013     1     1      557            600        -\u001b[31m3\u001b[39m      838            846\n",
      "\u001b[90m10\u001b[39m  \u001b[4m2\u001b[24m013     1     1      558            600        -\u001b[31m2\u001b[39m      753            745\n",
      "   arr_delay carrier flight tailnum origin dest  air_time distance  hour minute\n",
      "       \u001b[3m\u001b[90m<dbl>\u001b[39m\u001b[23m \u001b[3m\u001b[90m<chr>\u001b[39m\u001b[23m    \u001b[3m\u001b[90m<int>\u001b[39m\u001b[23m \u001b[3m\u001b[90m<chr>\u001b[39m\u001b[23m   \u001b[3m\u001b[90m<chr>\u001b[39m\u001b[23m  \u001b[3m\u001b[90m<chr>\u001b[39m\u001b[23m    \u001b[3m\u001b[90m<dbl>\u001b[39m\u001b[23m    \u001b[3m\u001b[90m<dbl>\u001b[39m\u001b[23m \u001b[3m\u001b[90m<dbl>\u001b[39m\u001b[23m  \u001b[3m\u001b[90m<dbl>\u001b[39m\u001b[23m\n",
      "\u001b[90m 1\u001b[39m        11 UA        \u001b[4m1\u001b[24m545 N14228  EWR    IAH        227     \u001b[4m1\u001b[24m400     5     15\n",
      "\u001b[90m 2\u001b[39m        20 UA        \u001b[4m1\u001b[24m714 N24211  LGA    IAH        227     \u001b[4m1\u001b[24m416     5     29\n",
      "\u001b[90m 3\u001b[39m        33 AA        \u001b[4m1\u001b[24m141 N619AA  JFK    MIA        160     \u001b[4m1\u001b[24m089     5     40\n",
      "\u001b[90m 4\u001b[39m       -\u001b[31m18\u001b[39m B6         725 N804JB  JFK    BQN        183     \u001b[4m1\u001b[24m576     5     45\n",
      "\u001b[90m 5\u001b[39m       -\u001b[31m25\u001b[39m DL         461 N668DN  LGA    ATL        116      762     6      0\n",
      "\u001b[90m 6\u001b[39m        12 UA        \u001b[4m1\u001b[24m696 N39463  EWR    ORD        150      719     5     58\n",
      "\u001b[90m 7\u001b[39m        19 B6         507 N516JB  EWR    FLL        158     \u001b[4m1\u001b[24m065     6      0\n",
      "\u001b[90m 8\u001b[39m       -\u001b[31m14\u001b[39m EV        \u001b[4m5\u001b[24m708 N829AS  LGA    IAD         53      229     6      0\n",
      "\u001b[90m 9\u001b[39m        -\u001b[31m8\u001b[39m B6          79 N593JB  JFK    MCO        140      944     6      0\n",
      "\u001b[90m10\u001b[39m         8 AA         301 N3ALAA  LGA    ORD        138      733     6      0\n",
      "   time_hour          \n",
      "   \u001b[3m\u001b[90m<dttm>\u001b[39m\u001b[23m             \n",
      "\u001b[90m 1\u001b[39m 2013-01-01 \u001b[90m05:00:00\u001b[39m\n",
      "\u001b[90m 2\u001b[39m 2013-01-01 \u001b[90m05:00:00\u001b[39m\n",
      "\u001b[90m 3\u001b[39m 2013-01-01 \u001b[90m05:00:00\u001b[39m\n",
      "\u001b[90m 4\u001b[39m 2013-01-01 \u001b[90m05:00:00\u001b[39m\n",
      "\u001b[90m 5\u001b[39m 2013-01-01 \u001b[90m06:00:00\u001b[39m\n",
      "\u001b[90m 6\u001b[39m 2013-01-01 \u001b[90m05:00:00\u001b[39m\n",
      "\u001b[90m 7\u001b[39m 2013-01-01 \u001b[90m06:00:00\u001b[39m\n",
      "\u001b[90m 8\u001b[39m 2013-01-01 \u001b[90m06:00:00\u001b[39m\n",
      "\u001b[90m 9\u001b[39m 2013-01-01 \u001b[90m06:00:00\u001b[39m\n",
      "\u001b[90m10\u001b[39m 2013-01-01 \u001b[90m06:00:00\u001b[39m\n",
      "\u001b[90m# … with 336,766 more rows\u001b[39m\n"
     ]
    }
   ],
   "source": [
    "nycflights13::flights %>%\n",
    "print(n = 10, width = Inf)"
   ]
  },
  {
   "cell_type": "markdown",
   "id": "ff0a5fc7-1dfe-4e51-9980-04c8aea4850f",
   "metadata": {},
   "source": [
    "### 서브셋"
   ]
  },
  {
   "cell_type": "code",
   "execution_count": 30,
   "id": "9dce4c8c-f03f-4d4c-9aaf-2d35a52fc482",
   "metadata": {},
   "outputs": [
    {
     "data": {
      "text/html": [
       "<table class=\"dataframe\">\n",
       "<caption>A tibble: 5 × 2</caption>\n",
       "<thead>\n",
       "\t<tr><th scope=col>x</th><th scope=col>y</th></tr>\n",
       "\t<tr><th scope=col>&lt;dbl&gt;</th><th scope=col>&lt;dbl&gt;</th></tr>\n",
       "</thead>\n",
       "<tbody>\n",
       "\t<tr><td>0.9973514</td><td>-1.1163051</td></tr>\n",
       "\t<tr><td>0.2167404</td><td> 0.6167982</td></tr>\n",
       "\t<tr><td>0.5017351</td><td>-0.7638092</td></tr>\n",
       "\t<tr><td>0.4860576</td><td>-0.2532930</td></tr>\n",
       "\t<tr><td>0.3348231</td><td>-0.9161202</td></tr>\n",
       "</tbody>\n",
       "</table>\n"
      ],
      "text/latex": [
       "A tibble: 5 × 2\n",
       "\\begin{tabular}{ll}\n",
       " x & y\\\\\n",
       " <dbl> & <dbl>\\\\\n",
       "\\hline\n",
       "\t 0.9973514 & -1.1163051\\\\\n",
       "\t 0.2167404 &  0.6167982\\\\\n",
       "\t 0.5017351 & -0.7638092\\\\\n",
       "\t 0.4860576 & -0.2532930\\\\\n",
       "\t 0.3348231 & -0.9161202\\\\\n",
       "\\end{tabular}\n"
      ],
      "text/markdown": [
       "\n",
       "A tibble: 5 × 2\n",
       "\n",
       "| x &lt;dbl&gt; | y &lt;dbl&gt; |\n",
       "|---|---|\n",
       "| 0.9973514 | -1.1163051 |\n",
       "| 0.2167404 |  0.6167982 |\n",
       "| 0.5017351 | -0.7638092 |\n",
       "| 0.4860576 | -0.2532930 |\n",
       "| 0.3348231 | -0.9161202 |\n",
       "\n"
      ],
      "text/plain": [
       "  x         y         \n",
       "1 0.9973514 -1.1163051\n",
       "2 0.2167404  0.6167982\n",
       "3 0.5017351 -0.7638092\n",
       "4 0.4860576 -0.2532930\n",
       "5 0.3348231 -0.9161202"
      ]
     },
     "metadata": {},
     "output_type": "display_data"
    }
   ],
   "source": [
    "df <- tibble(\n",
    "    x = runif(5),\n",
    "    y = rnorm(5)\n",
    "    )\n",
    "df"
   ]
  },
  {
   "cell_type": "code",
   "execution_count": 32,
   "id": "0e6c7ce4-420c-4488-a126-9333451aa270",
   "metadata": {},
   "outputs": [
    {
     "data": {
      "text/html": [
       "<style>\n",
       ".list-inline {list-style: none; margin:0; padding: 0}\n",
       ".list-inline>li {display: inline-block}\n",
       ".list-inline>li:not(:last-child)::after {content: \"\\00b7\"; padding: 0 .5ex}\n",
       "</style>\n",
       "<ol class=list-inline><li>0.997351404977962</li><li>0.21674042288214</li><li>0.501735110534355</li><li>0.486057616304606</li><li>0.33482308103703</li></ol>\n"
      ],
      "text/latex": [
       "\\begin{enumerate*}\n",
       "\\item 0.997351404977962\n",
       "\\item 0.21674042288214\n",
       "\\item 0.501735110534355\n",
       "\\item 0.486057616304606\n",
       "\\item 0.33482308103703\n",
       "\\end{enumerate*}\n"
      ],
      "text/markdown": [
       "1. 0.997351404977962\n",
       "2. 0.21674042288214\n",
       "3. 0.501735110534355\n",
       "4. 0.486057616304606\n",
       "5. 0.33482308103703\n",
       "\n",
       "\n"
      ],
      "text/plain": [
       "[1] 0.9973514 0.2167404 0.5017351 0.4860576 0.3348231"
      ]
     },
     "metadata": {},
     "output_type": "display_data"
    }
   ],
   "source": [
    "df$x"
   ]
  },
  {
   "cell_type": "code",
   "execution_count": 33,
   "id": "cf768b77-c2ea-40dd-8554-3c337131f60d",
   "metadata": {},
   "outputs": [
    {
     "data": {
      "text/html": [
       "<style>\n",
       ".list-inline {list-style: none; margin:0; padding: 0}\n",
       ".list-inline>li {display: inline-block}\n",
       ".list-inline>li:not(:last-child)::after {content: \"\\00b7\"; padding: 0 .5ex}\n",
       "</style>\n",
       "<ol class=list-inline><li>0.997351404977962</li><li>0.21674042288214</li><li>0.501735110534355</li><li>0.486057616304606</li><li>0.33482308103703</li></ol>\n"
      ],
      "text/latex": [
       "\\begin{enumerate*}\n",
       "\\item 0.997351404977962\n",
       "\\item 0.21674042288214\n",
       "\\item 0.501735110534355\n",
       "\\item 0.486057616304606\n",
       "\\item 0.33482308103703\n",
       "\\end{enumerate*}\n"
      ],
      "text/markdown": [
       "1. 0.997351404977962\n",
       "2. 0.21674042288214\n",
       "3. 0.501735110534355\n",
       "4. 0.486057616304606\n",
       "5. 0.33482308103703\n",
       "\n",
       "\n"
      ],
      "text/plain": [
       "[1] 0.9973514 0.2167404 0.5017351 0.4860576 0.3348231"
      ]
     },
     "metadata": {},
     "output_type": "display_data"
    }
   ],
   "source": [
    "df[[\"x\"]]"
   ]
  },
  {
   "cell_type": "code",
   "execution_count": 34,
   "id": "d01f081f-2b09-4d93-ace2-3d6c1b4d4da4",
   "metadata": {},
   "outputs": [
    {
     "data": {
      "text/html": [
       "<style>\n",
       ".list-inline {list-style: none; margin:0; padding: 0}\n",
       ".list-inline>li {display: inline-block}\n",
       ".list-inline>li:not(:last-child)::after {content: \"\\00b7\"; padding: 0 .5ex}\n",
       "</style>\n",
       "<ol class=list-inline><li>0.997351404977962</li><li>0.21674042288214</li><li>0.501735110534355</li><li>0.486057616304606</li><li>0.33482308103703</li></ol>\n"
      ],
      "text/latex": [
       "\\begin{enumerate*}\n",
       "\\item 0.997351404977962\n",
       "\\item 0.21674042288214\n",
       "\\item 0.501735110534355\n",
       "\\item 0.486057616304606\n",
       "\\item 0.33482308103703\n",
       "\\end{enumerate*}\n"
      ],
      "text/markdown": [
       "1. 0.997351404977962\n",
       "2. 0.21674042288214\n",
       "3. 0.501735110534355\n",
       "4. 0.486057616304606\n",
       "5. 0.33482308103703\n",
       "\n",
       "\n"
      ],
      "text/plain": [
       "[1] 0.9973514 0.2167404 0.5017351 0.4860576 0.3348231"
      ]
     },
     "metadata": {},
     "output_type": "display_data"
    }
   ],
   "source": [
    "df[[1]]"
   ]
  },
  {
   "cell_type": "markdown",
   "id": "ad564cf7-e496-493a-b8b5-ff1ada29c7bb",
   "metadata": {},
   "source": [
    "`-` pipe에서의 서브셋<br>\n",
    ". 찍어줘야한다"
   ]
  },
  {
   "cell_type": "code",
   "execution_count": 35,
   "id": "ceb0fb9a-b514-413d-8b13-a4c8d6d614c8",
   "metadata": {},
   "outputs": [
    {
     "data": {
      "text/html": [
       "<style>\n",
       ".list-inline {list-style: none; margin:0; padding: 0}\n",
       ".list-inline>li {display: inline-block}\n",
       ".list-inline>li:not(:last-child)::after {content: \"\\00b7\"; padding: 0 .5ex}\n",
       "</style>\n",
       "<ol class=list-inline><li>0.997351404977962</li><li>0.21674042288214</li><li>0.501735110534355</li><li>0.486057616304606</li><li>0.33482308103703</li></ol>\n"
      ],
      "text/latex": [
       "\\begin{enumerate*}\n",
       "\\item 0.997351404977962\n",
       "\\item 0.21674042288214\n",
       "\\item 0.501735110534355\n",
       "\\item 0.486057616304606\n",
       "\\item 0.33482308103703\n",
       "\\end{enumerate*}\n"
      ],
      "text/markdown": [
       "1. 0.997351404977962\n",
       "2. 0.21674042288214\n",
       "3. 0.501735110534355\n",
       "4. 0.486057616304606\n",
       "5. 0.33482308103703\n",
       "\n",
       "\n"
      ],
      "text/plain": [
       "[1] 0.9973514 0.2167404 0.5017351 0.4860576 0.3348231"
      ]
     },
     "metadata": {},
     "output_type": "display_data"
    }
   ],
   "source": [
    "df %>% .$x"
   ]
  },
  {
   "cell_type": "code",
   "execution_count": 36,
   "id": "34fbc9d4-1405-4c59-9f45-b3b11fd0fc03",
   "metadata": {},
   "outputs": [
    {
     "data": {
      "text/html": [
       "<style>\n",
       ".list-inline {list-style: none; margin:0; padding: 0}\n",
       ".list-inline>li {display: inline-block}\n",
       ".list-inline>li:not(:last-child)::after {content: \"\\00b7\"; padding: 0 .5ex}\n",
       "</style>\n",
       "<ol class=list-inline><li>0.997351404977962</li><li>0.21674042288214</li><li>0.501735110534355</li><li>0.486057616304606</li><li>0.33482308103703</li></ol>\n"
      ],
      "text/latex": [
       "\\begin{enumerate*}\n",
       "\\item 0.997351404977962\n",
       "\\item 0.21674042288214\n",
       "\\item 0.501735110534355\n",
       "\\item 0.486057616304606\n",
       "\\item 0.33482308103703\n",
       "\\end{enumerate*}\n"
      ],
      "text/markdown": [
       "1. 0.997351404977962\n",
       "2. 0.21674042288214\n",
       "3. 0.501735110534355\n",
       "4. 0.486057616304606\n",
       "5. 0.33482308103703\n",
       "\n",
       "\n"
      ],
      "text/plain": [
       "[1] 0.9973514 0.2167404 0.5017351 0.4860576 0.3348231"
      ]
     },
     "metadata": {},
     "output_type": "display_data"
    }
   ],
   "source": [
    "df %>% .[[\"x\"]]"
   ]
  },
  {
   "cell_type": "markdown",
   "id": "c77461af-0679-44b9-bb43-f439fa3c532f",
   "metadata": {},
   "source": [
    "`-` 일부 오래된 함수의 경우 tibble에서 동작하지 않기에 이 경우 dataframe으로 변환후 사용한다"
   ]
  },
  {
   "cell_type": "code",
   "execution_count": 37,
   "id": "8ec3673e-0657-4014-aac6-832c08ca19b1",
   "metadata": {},
   "outputs": [
    {
     "data": {
      "text/html": [
       "'data.frame'"
      ],
      "text/latex": [
       "'data.frame'"
      ],
      "text/markdown": [
       "'data.frame'"
      ],
      "text/plain": [
       "[1] \"data.frame\""
      ]
     },
     "metadata": {},
     "output_type": "display_data"
    }
   ],
   "source": [
    "class(as.data.frame(tb))"
   ]
  },
  {
   "cell_type": "markdown",
   "id": "c2718fde-2deb-4414-a302-9b246fee6db1",
   "metadata": {},
   "source": [
    "### read_csv"
   ]
  },
  {
   "cell_type": "markdown",
   "id": "b00c46cd-35e7-43f7-b75d-fed6606fc2b1",
   "metadata": {},
   "source": [
    "- option만 넣음"
   ]
  },
  {
   "cell_type": "markdown",
   "id": "ea23c2e3-800b-41fc-a508-286b261b67be",
   "metadata": {},
   "source": [
    "`skip = n` : 첫 n줄 건너 뛰기<br>\n",
    "`comment = #` : #으로 시작하는 모든 줄 무시<br>\n",
    "`col_names = FALSE` : 첫 행을 헤드로 취급하지 않고 x1 ~ xn으로 이름 붙임(데이터에 열 이름 없을 때 사용)"
   ]
  },
  {
   "cell_type": "markdown",
   "id": "e500638c-9ca7-4d81-b564-ff7231c583b3",
   "metadata": {},
   "source": [
    "## parsing"
   ]
  },
  {
   "cell_type": "markdown",
   "id": "753089e2-0bbb-4809-b309-c1110bdfab5c",
   "metadata": {},
   "source": [
    "- (뜻)parse -> 분석하다"
   ]
  },
  {
   "cell_type": "markdown",
   "id": "0a6d48e9-0205-45c1-b12f-43d6941ee03c",
   "metadata": {},
   "source": [
    "`parse_무언가()` : 문자형 벡터를 입력으로 하여 논리형, 정수형 또는 날짜형과 같은 좀 더 특수화된 벡터를 반환"
   ]
  },
  {
   "cell_type": "markdown",
   "id": "b8133318-2ca6-4d18-805a-e17e21b72ca8",
   "metadata": {},
   "source": [
    " `-` parsing 실패<br>\n",
    "> 실패하면 경고문과 함께 NA로 표기<br>\n",
    "> 이 경우 `problems()`사용하면 문제점 알려줌"
   ]
  },
  {
   "cell_type": "code",
   "execution_count": 56,
   "id": "79d4e342-62de-4388-b0f2-7bd0268a4ba1",
   "metadata": {},
   "outputs": [
    {
     "name": "stderr",
     "output_type": "stream",
     "text": [
      "Warning message:\n",
      "“2 parsing failures.\n",
      "row col               expected actual\n",
      "  3  -- no trailing characters abc   \n",
      "  4  -- no trailing characters 123.45\n",
      "”\n"
     ]
    }
   ],
   "source": [
    "x <- parse_integer(c(\"123\",\"345\",\"abc\",\"123.45\"))"
   ]
  },
  {
   "cell_type": "code",
   "execution_count": 57,
   "id": "d31143a7-cf37-4799-a692-7bee728f41d3",
   "metadata": {},
   "outputs": [
    {
     "data": {
      "text/html": [
       "<style>\n",
       ".list-inline {list-style: none; margin:0; padding: 0}\n",
       ".list-inline>li {display: inline-block}\n",
       ".list-inline>li:not(:last-child)::after {content: \"\\00b7\"; padding: 0 .5ex}\n",
       "</style>\n",
       "<ol class=list-inline><li>123</li><li>345</li><li>&lt;NA&gt;</li><li>&lt;NA&gt;</li></ol>\n"
      ],
      "text/latex": [
       "\\begin{enumerate*}\n",
       "\\item 123\n",
       "\\item 345\n",
       "\\item <NA>\n",
       "\\item <NA>\n",
       "\\end{enumerate*}\n"
      ],
      "text/markdown": [
       "1. 123\n",
       "2. 345\n",
       "3. &lt;NA&gt;\n",
       "4. &lt;NA&gt;\n",
       "\n",
       "\n"
      ],
      "text/plain": [
       "[1] 123 345  NA  NA\n",
       "attr(,\"problems\")\n",
       "\u001b[90m# A tibble: 2 × 4\u001b[39m\n",
       "    row   col expected               actual\n",
       "  \u001b[3m\u001b[90m<int>\u001b[39m\u001b[23m \u001b[3m\u001b[90m<int>\u001b[39m\u001b[23m \u001b[3m\u001b[90m<chr>\u001b[39m\u001b[23m                  \u001b[3m\u001b[90m<chr>\u001b[39m\u001b[23m \n",
       "\u001b[90m1\u001b[39m     3    \u001b[31mNA\u001b[39m no trailing characters abc   \n",
       "\u001b[90m2\u001b[39m     4    \u001b[31mNA\u001b[39m no trailing characters 123.45"
      ]
     },
     "metadata": {},
     "output_type": "display_data"
    }
   ],
   "source": [
    "x"
   ]
  },
  {
   "cell_type": "code",
   "execution_count": 58,
   "id": "04a20644-1ae8-406e-8cc0-1b0167c9c17c",
   "metadata": {},
   "outputs": [
    {
     "data": {
      "text/html": [
       "<table class=\"dataframe\">\n",
       "<caption>A tibble: 2 × 4</caption>\n",
       "<thead>\n",
       "\t<tr><th scope=col>row</th><th scope=col>col</th><th scope=col>expected</th><th scope=col>actual</th></tr>\n",
       "\t<tr><th scope=col>&lt;int&gt;</th><th scope=col>&lt;int&gt;</th><th scope=col>&lt;chr&gt;</th><th scope=col>&lt;chr&gt;</th></tr>\n",
       "</thead>\n",
       "<tbody>\n",
       "\t<tr><td>3</td><td>NA</td><td>no trailing characters</td><td>abc   </td></tr>\n",
       "\t<tr><td>4</td><td>NA</td><td>no trailing characters</td><td>123.45</td></tr>\n",
       "</tbody>\n",
       "</table>\n"
      ],
      "text/latex": [
       "A tibble: 2 × 4\n",
       "\\begin{tabular}{llll}\n",
       " row & col & expected & actual\\\\\n",
       " <int> & <int> & <chr> & <chr>\\\\\n",
       "\\hline\n",
       "\t 3 & NA & no trailing characters & abc   \\\\\n",
       "\t 4 & NA & no trailing characters & 123.45\\\\\n",
       "\\end{tabular}\n"
      ],
      "text/markdown": [
       "\n",
       "A tibble: 2 × 4\n",
       "\n",
       "| row &lt;int&gt; | col &lt;int&gt; | expected &lt;chr&gt; | actual &lt;chr&gt; |\n",
       "|---|---|---|---|\n",
       "| 3 | NA | no trailing characters | abc    |\n",
       "| 4 | NA | no trailing characters | 123.45 |\n",
       "\n"
      ],
      "text/plain": [
       "  row col expected               actual\n",
       "1 3   NA  no trailing characters abc   \n",
       "2 4   NA  no trailing characters 123.45"
      ]
     },
     "metadata": {},
     "output_type": "display_data"
    }
   ],
   "source": [
    "problems(x)"
   ]
  },
  {
   "cell_type": "markdown",
   "id": "c754f895-edfe-46ab-bb38-971bb71401d2",
   "metadata": {},
   "source": [
    "`parse` 종류<br>\n",
    ">parse_logical : 논리형<br> \n",
    "parse_integer : 정수형<br>\n",
    "parse_double : 엄격한 수치형(★★★)<br>\n",
    "parse_number : 유연한 수치형(★★) -> 각자 다른 방식의 숫자 표현을 써버리기에<br>\n",
    "parse_character : 문자형 -> 단순하지만 문자 인코딩에서 중요<br>\n",
    "parse_factor : 팩터형(R이 미리 정해지고 알려진 값으로 범주형 변수를 나타내기 위해 사용하는 데이터 구조)<br>\n",
    "parse_datetime : 날짜/시각(★★★★) -> 날짜를 쓰는 방법은 다양하기에 이들이 제일 복잡<br>\n",
    "parse_date : 날짜/시각(★★★★)<br>\n",
    "parse_time : 날짜/시각(★★★★)"
   ]
  },
  {
   "cell_type": "markdown",
   "id": "4e2cb31f-d854-4c98-a3d6-21aef8a010ec",
   "metadata": {},
   "source": [
    "### 숫자 parsing"
   ]
  },
  {
   "cell_type": "markdown",
   "id": "d508f360-27b1-45c8-9c4b-29cc5eb86a64",
   "metadata": {},
   "source": [
    ">숫자 파싱이 문제가 되는 3가지<br>\n",
    "1) 소수점 구별기호 ex) `.` or `,`<br>\n",
    "2) 단위 ex) $ %<br>\n",
    "3) 간혹 읽기 편하라고 ' ' 사용 \n"
   ]
  },
  {
   "cell_type": "markdown",
   "id": "f724b0f8-56a8-41d2-884a-3edbbb6256d8",
   "metadata": {},
   "source": [
    "`-` 첫 번째 문제 해결<br>\n",
    "지역에 따라 파싱 옵션을 지정하는 객체인 `locale`사용<br>\n",
    "변경이 필요할 경우 새로운 `locale`을 생성하고 `decimal_mark`인수를 설정하여 기본값인 .을 다른 값으로 재정의 "
   ]
  },
  {
   "cell_type": "code",
   "execution_count": 62,
   "id": "c8244ee4-6709-4d4b-80f1-7f9bdd2cbdf4",
   "metadata": {},
   "outputs": [
    {
     "data": {
      "text/html": [
       "1.23"
      ],
      "text/latex": [
       "1.23"
      ],
      "text/markdown": [
       "1.23"
      ],
      "text/plain": [
       "[1] 1.23"
      ]
     },
     "metadata": {},
     "output_type": "display_data"
    }
   ],
   "source": [
    "parse_double(\"1.23\")"
   ]
  },
  {
   "cell_type": "markdown",
   "id": "f478c3c1-42ee-4353-9d70-e4cc8dbfcd3f",
   "metadata": {},
   "source": [
    "`-` 변경 예시"
   ]
  },
  {
   "cell_type": "code",
   "execution_count": 63,
   "id": "e86c1ee4-f04b-4ab7-8202-96d56a7d2d4e",
   "metadata": {},
   "outputs": [
    {
     "data": {
      "text/html": [
       "1.23"
      ],
      "text/latex": [
       "1.23"
      ],
      "text/markdown": [
       "1.23"
      ],
      "text/plain": [
       "[1] 1.23"
      ]
     },
     "metadata": {},
     "output_type": "display_data"
    }
   ],
   "source": [
    "parse_double(\"1,23\", locale = locale(decimal_mark = \",\"))"
   ]
  },
  {
   "cell_type": "markdown",
   "id": "8f661391-e086-460b-b132-5f7b003a9a9e",
   "metadata": {},
   "source": [
    "`-`두 번째 문제 해결<br>\n",
    "`parse_number`는 숫자 앞뒤의 비수치 문자(non-numeric character)를 모두 무시<br>\n",
    "통화 및 백분율에 특히 유용하고 텍스트에 포함된 숫자를 추출하는 데도 효과적 "
   ]
  },
  {
   "cell_type": "code",
   "execution_count": 49,
   "id": "fd42dc3f-8224-4bb5-8a2b-7356ebbb19c6",
   "metadata": {},
   "outputs": [
    {
     "data": {
      "text/html": [
       "100"
      ],
      "text/latex": [
       "100"
      ],
      "text/markdown": [
       "100"
      ],
      "text/plain": [
       "[1] 100"
      ]
     },
     "metadata": {},
     "output_type": "display_data"
    }
   ],
   "source": [
    "parse_number(\"$100\")"
   ]
  },
  {
   "cell_type": "code",
   "execution_count": 50,
   "id": "44b8c85f-1f04-4f5b-8259-5d7e7fbff696",
   "metadata": {},
   "outputs": [
    {
     "data": {
      "text/html": [
       "20"
      ],
      "text/latex": [
       "20"
      ],
      "text/markdown": [
       "20"
      ],
      "text/plain": [
       "[1] 20"
      ]
     },
     "metadata": {},
     "output_type": "display_data"
    }
   ],
   "source": [
    "parse_number(\"20%\")"
   ]
  },
  {
   "cell_type": "markdown",
   "id": "273444e4-2029-4c8d-b96f-aa3d793f2292",
   "metadata": {},
   "source": [
    "`-` 비수치 문자 무시 예"
   ]
  },
  {
   "cell_type": "code",
   "execution_count": 51,
   "id": "16fde13d-8dfa-4a69-a799-ee956409ebd9",
   "metadata": {},
   "outputs": [
    {
     "data": {
      "text/html": [
       "123.45"
      ],
      "text/latex": [
       "123.45"
      ],
      "text/markdown": [
       "123.45"
      ],
      "text/plain": [
       "[1] 123.45"
      ]
     },
     "metadata": {},
     "output_type": "display_data"
    }
   ],
   "source": [
    "parse_number(\"It cost $123.45\")"
   ]
  },
  {
   "cell_type": "markdown",
   "id": "c74f2e8c-1d24-4d86-abea-ca7b612de18e",
   "metadata": {},
   "source": [
    "`-` 미국식 처리법"
   ]
  },
  {
   "cell_type": "code",
   "execution_count": 52,
   "id": "4eb1dd2a-2a05-44db-8196-ac4943466bf6",
   "metadata": {},
   "outputs": [
    {
     "data": {
      "text/html": [
       "123456789"
      ],
      "text/latex": [
       "123456789"
      ],
      "text/markdown": [
       "123456789"
      ],
      "text/plain": [
       "[1] 123456789"
      ]
     },
     "metadata": {},
     "output_type": "display_data"
    }
   ],
   "source": [
    "parse_number(\"$123,456,789\")"
   ]
  },
  {
   "cell_type": "markdown",
   "id": "dbdbde01-9026-444c-b8c7-620fd490b14a",
   "metadata": {},
   "source": [
    "`-` 유럽식 처리법"
   ]
  },
  {
   "cell_type": "code",
   "execution_count": 64,
   "id": "a8d66e91-e96e-4591-8e99-5fcc12e57ff4",
   "metadata": {},
   "outputs": [
    {
     "data": {
      "text/html": [
       "123456789"
      ],
      "text/latex": [
       "123456789"
      ],
      "text/markdown": [
       "123456789"
      ],
      "text/plain": [
       "[1] 123456789"
      ]
     },
     "metadata": {},
     "output_type": "display_data"
    }
   ],
   "source": [
    "parse_number(\n",
    "    \"123.456.789\",\n",
    "    locale = locale(grouping_mark = \".\"))"
   ]
  },
  {
   "cell_type": "markdown",
   "id": "678e69f4-2a73-4469-959e-ccd1548e5679",
   "metadata": {},
   "source": [
    "`-` factor형 처리<br>\n",
    "R은 팩터형을 사용하기에, 가질 수 있는 값을 미리 알고 있는 범주형 변수를 나타낸다"
   ]
  },
  {
   "cell_type": "code",
   "execution_count": 68,
   "id": "544ef7f3-28f3-4a0b-8376-2b75cdb1dd67",
   "metadata": {},
   "outputs": [
    {
     "name": "stderr",
     "output_type": "stream",
     "text": [
      "Warning message:\n",
      "“1 parsing failure.\n",
      "row col           expected   actual\n",
      "  3  -- value in level set bananana\n",
      "”\n"
     ]
    },
    {
     "data": {
      "text/html": [
       "<style>\n",
       ".list-inline {list-style: none; margin:0; padding: 0}\n",
       ".list-inline>li {display: inline-block}\n",
       ".list-inline>li:not(:last-child)::after {content: \"\\00b7\"; padding: 0 .5ex}\n",
       "</style>\n",
       "<ol class=list-inline><li>apple</li><li>banana</li><li>&lt;NA&gt;</li></ol>\n",
       "\n",
       "<details>\n",
       "\t<summary style=display:list-item;cursor:pointer>\n",
       "\t\t<strong>Levels</strong>:\n",
       "\t</summary>\n",
       "\t<style>\n",
       "\t.list-inline {list-style: none; margin:0; padding: 0}\n",
       "\t.list-inline>li {display: inline-block}\n",
       "\t.list-inline>li:not(:last-child)::after {content: \"\\00b7\"; padding: 0 .5ex}\n",
       "\t</style>\n",
       "\t<ol class=list-inline><li>'apple'</li><li>'banana'</li></ol>\n",
       "</details>"
      ],
      "text/latex": [
       "\\begin{enumerate*}\n",
       "\\item apple\n",
       "\\item banana\n",
       "\\item <NA>\n",
       "\\end{enumerate*}\n",
       "\n",
       "\\emph{Levels}: \\begin{enumerate*}\n",
       "\\item 'apple'\n",
       "\\item 'banana'\n",
       "\\end{enumerate*}\n"
      ],
      "text/markdown": [
       "1. apple\n",
       "2. banana\n",
       "3. &lt;NA&gt;\n",
       "\n",
       "\n",
       "\n",
       "**Levels**: 1. 'apple'\n",
       "2. 'banana'\n",
       "\n",
       "\n"
      ],
      "text/plain": [
       "[1] apple  banana <NA>  \n",
       "attr(,\"problems\")\n",
       "\u001b[90m# A tibble: 1 × 4\u001b[39m\n",
       "    row   col expected           actual  \n",
       "  \u001b[3m\u001b[90m<int>\u001b[39m\u001b[23m \u001b[3m\u001b[90m<int>\u001b[39m\u001b[23m \u001b[3m\u001b[90m<chr>\u001b[39m\u001b[23m              \u001b[3m\u001b[90m<chr>\u001b[39m\u001b[23m   \n",
       "\u001b[90m1\u001b[39m     3    \u001b[31mNA\u001b[39m value in level set bananana\n",
       "Levels: apple banana"
      ]
     },
     "metadata": {},
     "output_type": "display_data"
    }
   ],
   "source": [
    "fruit <- c(\"apple\", \"banana\")\n",
    "parse_factor(c(\"apple\", \"banana\", \"bananana\"), levels = fruit)"
   ]
  },
  {
   "cell_type": "markdown",
   "id": "690feb4e-39fe-47b3-9743-806a8be10bdf",
   "metadata": {},
   "source": [
    "### 날짜 parsing"
   ]
  },
  {
   "cell_type": "code",
   "execution_count": 70,
   "id": "846248fd-a4cc-4044-bbc0-308e450ae387",
   "metadata": {},
   "outputs": [
    {
     "data": {
      "text/plain": [
       "[1] \"2010-10-01 20:10:00 UTC\""
      ]
     },
     "metadata": {},
     "output_type": "display_data"
    }
   ],
   "source": [
    "parse_datetime(\"2010-10-01T2010\")"
   ]
  },
  {
   "cell_type": "code",
   "execution_count": 71,
   "id": "545473c4-57c8-4b0a-8d55-1ab9962ed368",
   "metadata": {},
   "outputs": [
    {
     "data": {
      "text/plain": [
       "[1] \"2010-10-10 UTC\""
      ]
     },
     "metadata": {},
     "output_type": "display_data"
    }
   ],
   "source": [
    "parse_datetime(\"20101010\")"
   ]
  },
  {
   "cell_type": "code",
   "execution_count": 72,
   "id": "3659544f-e559-4044-ae04-64fe646ce899",
   "metadata": {},
   "outputs": [
    {
     "data": {
      "text/html": [
       "<time datetime=\"2010-10-01\">2010-10-01</time>"
      ],
      "text/latex": [
       "2010-10-01"
      ],
      "text/markdown": [
       "2010-10-01"
      ],
      "text/plain": [
       "[1] \"2010-10-01\""
      ]
     },
     "metadata": {},
     "output_type": "display_data"
    }
   ],
   "source": [
    "parse_date(\"2010-10-01\")"
   ]
  },
  {
   "cell_type": "code",
   "execution_count": 75,
   "id": "ef19e7b2-414c-4a1e-bf8b-e2f7720c10bd",
   "metadata": {},
   "outputs": [],
   "source": [
    "library('hms')# 시간 데이터 다루는 패키지"
   ]
  },
  {
   "cell_type": "code",
   "execution_count": 76,
   "id": "1dfe9af4-148c-4cf3-bfc6-6f935febb13f",
   "metadata": {},
   "outputs": [
    {
     "data": {
      "text/plain": [
       "20:10:01"
      ]
     },
     "metadata": {},
     "output_type": "display_data"
    }
   ],
   "source": [
    "parse_time(\"20:10:01\")"
   ]
  },
  {
   "cell_type": "code",
   "execution_count": 77,
   "id": "10e7ef65-0d12-4275-bd8f-97fe1eb29189",
   "metadata": {},
   "outputs": [
    {
     "data": {
      "text/plain": [
       "01:10:00"
      ]
     },
     "metadata": {},
     "output_type": "display_data"
    }
   ],
   "source": [
    "parse_time(\"01:10 am\")"
   ]
  },
  {
   "cell_type": "markdown",
   "id": "7d71ca14-a714-4651-b84e-28f406753f2f",
   "metadata": {
    "jupyter": {
     "outputs_hidden": true
    },
    "tags": []
   },
   "source": [
    "> 위의 예시들로 주어진 데이터를 처리하지 못한다면 나만의 format을 만들어 사용가능<br>\n",
    "<br>\n",
    "연<br>\n",
    "%Y(4 자리)<br>\n",
    "%y(2 자리, 00-69 -> 2000-2069, 70-99 -> 1970-1999)<br>\n",
    "<br>\n",
    "월<br>\n",
    "%m(2 자리)<br>\n",
    "%b(\"jan\"과 같이 축약된 명칭)<br>\n",
    "%B(전체 명칭, \"January\")<br>\n",
    "<br>\n",
    "일<br>\n",
    "%d(2 자리)<br>\n",
    "%e(선택적 선행 공백)<br>\n",
    "<br>\n",
    "시간<br>\n",
    "%H(0-23 시간 형식)<br>\n",
    "%I(0-12, %p와 함께 사용해야 함)<br>\n",
    "%p(a.m/p.m표시)<br>\n",
    "%M(분)<br>\n",
    "%S(정수 초)<br>\n",
    "%OS(실수 초)<br>\n",
    "<br>\n",
    "숫자가 아닌 문자<br>\n",
    "%.(숫자가 아닌 문자 하나를 건너뛴다)<br>\n",
    "%*(숫자가 아닌 문자 모두를 건너뛴다)"
   ]
  },
  {
   "cell_type": "markdown",
   "id": "b0ea5d7c-8169-4fa5-8b09-f7f3226bf4ae",
   "metadata": {},
   "source": [
    "`-` 시간 데이터 처리 예시"
   ]
  },
  {
   "cell_type": "code",
   "execution_count": 80,
   "id": "d3bb81f2-8404-48a5-87ae-f513a7bf1a3b",
   "metadata": {},
   "outputs": [
    {
     "data": {
      "text/html": [
       "<time datetime=\"2015-01-02\">2015-01-02</time>"
      ],
      "text/latex": [
       "2015-01-02"
      ],
      "text/markdown": [
       "2015-01-02"
      ],
      "text/plain": [
       "[1] \"2015-01-02\""
      ]
     },
     "metadata": {},
     "output_type": "display_data"
    }
   ],
   "source": [
    "parse_date(\"01/02/15\", \"%m/%d/%y\")"
   ]
  },
  {
   "cell_type": "code",
   "execution_count": 81,
   "id": "9bf43e08-932d-4019-8e22-70479092cdab",
   "metadata": {},
   "outputs": [
    {
     "data": {
      "text/html": [
       "<time datetime=\"2015-02-01\">2015-02-01</time>"
      ],
      "text/latex": [
       "2015-02-01"
      ],
      "text/markdown": [
       "2015-02-01"
      ],
      "text/plain": [
       "[1] \"2015-02-01\""
      ]
     },
     "metadata": {},
     "output_type": "display_data"
    }
   ],
   "source": [
    "parse_date(\"01/02/15\", \"%d/%m/%y\")"
   ]
  },
  {
   "cell_type": "code",
   "execution_count": 82,
   "id": "0b732c08-f89f-445e-8f5c-6b31fad696ec",
   "metadata": {},
   "outputs": [
    {
     "data": {
      "text/html": [
       "<time datetime=\"2001-02-15\">2001-02-15</time>"
      ],
      "text/latex": [
       "2001-02-15"
      ],
      "text/markdown": [
       "2001-02-15"
      ],
      "text/plain": [
       "[1] \"2001-02-15\""
      ]
     },
     "metadata": {},
     "output_type": "display_data"
    }
   ],
   "source": [
    "parse_date(\"01/02/15\", \"%y/%m/%d\")"
   ]
  }
 ],
 "metadata": {
  "kernelspec": {
   "display_name": "R",
   "language": "R",
   "name": "ir"
  },
  "language_info": {
   "codemirror_mode": "r",
   "file_extension": ".r",
   "mimetype": "text/x-r-source",
   "name": "R",
   "pygments_lexer": "r",
   "version": "4.1.3"
  }
 },
 "nbformat": 4,
 "nbformat_minor": 5
}
