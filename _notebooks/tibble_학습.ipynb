{
 "cells": [
  {
   "cell_type": "markdown",
   "id": "b9314869-d3ce-434d-a9c0-8aa9975457b0",
   "metadata": {},
   "source": [
    "# tibble in R"
   ]
  },
  {
   "cell_type": "code",
   "execution_count": 4,
   "id": "632bcf27-a2b5-41da-8b14-baa2dff254a0",
   "metadata": {},
   "outputs": [],
   "source": [
    "library('tidyverse')"
   ]
  },
  {
   "cell_type": "markdown",
   "id": "9532fa82-ff42-4400-8da4-6dfdaa4c386b",
   "metadata": {},
   "source": [
    "`-` 데이터프레임을 티블로 변형하기 "
   ]
  },
  {
   "cell_type": "code",
   "execution_count": 7,
   "id": "f319ca41-4f76-4cd2-b011-bf2ee1759f99",
   "metadata": {},
   "outputs": [
    {
     "data": {
      "text/html": [
       "<table class=\"dataframe\">\n",
       "<caption>A tibble: 6 × 5</caption>\n",
       "<thead>\n",
       "\t<tr><th scope=col>Sepal.Length</th><th scope=col>Sepal.Width</th><th scope=col>Petal.Length</th><th scope=col>Petal.Width</th><th scope=col>Species</th></tr>\n",
       "\t<tr><th scope=col>&lt;dbl&gt;</th><th scope=col>&lt;dbl&gt;</th><th scope=col>&lt;dbl&gt;</th><th scope=col>&lt;dbl&gt;</th><th scope=col>&lt;fct&gt;</th></tr>\n",
       "</thead>\n",
       "<tbody>\n",
       "\t<tr><td>5.1</td><td>3.5</td><td>1.4</td><td>0.2</td><td>setosa</td></tr>\n",
       "\t<tr><td>4.9</td><td>3.0</td><td>1.4</td><td>0.2</td><td>setosa</td></tr>\n",
       "\t<tr><td>4.7</td><td>3.2</td><td>1.3</td><td>0.2</td><td>setosa</td></tr>\n",
       "\t<tr><td>4.6</td><td>3.1</td><td>1.5</td><td>0.2</td><td>setosa</td></tr>\n",
       "\t<tr><td>5.0</td><td>3.6</td><td>1.4</td><td>0.2</td><td>setosa</td></tr>\n",
       "\t<tr><td>5.4</td><td>3.9</td><td>1.7</td><td>0.4</td><td>setosa</td></tr>\n",
       "</tbody>\n",
       "</table>\n"
      ],
      "text/latex": [
       "A tibble: 6 × 5\n",
       "\\begin{tabular}{lllll}\n",
       " Sepal.Length & Sepal.Width & Petal.Length & Petal.Width & Species\\\\\n",
       " <dbl> & <dbl> & <dbl> & <dbl> & <fct>\\\\\n",
       "\\hline\n",
       "\t 5.1 & 3.5 & 1.4 & 0.2 & setosa\\\\\n",
       "\t 4.9 & 3.0 & 1.4 & 0.2 & setosa\\\\\n",
       "\t 4.7 & 3.2 & 1.3 & 0.2 & setosa\\\\\n",
       "\t 4.6 & 3.1 & 1.5 & 0.2 & setosa\\\\\n",
       "\t 5.0 & 3.6 & 1.4 & 0.2 & setosa\\\\\n",
       "\t 5.4 & 3.9 & 1.7 & 0.4 & setosa\\\\\n",
       "\\end{tabular}\n"
      ],
      "text/markdown": [
       "\n",
       "A tibble: 6 × 5\n",
       "\n",
       "| Sepal.Length &lt;dbl&gt; | Sepal.Width &lt;dbl&gt; | Petal.Length &lt;dbl&gt; | Petal.Width &lt;dbl&gt; | Species &lt;fct&gt; |\n",
       "|---|---|---|---|---|\n",
       "| 5.1 | 3.5 | 1.4 | 0.2 | setosa |\n",
       "| 4.9 | 3.0 | 1.4 | 0.2 | setosa |\n",
       "| 4.7 | 3.2 | 1.3 | 0.2 | setosa |\n",
       "| 4.6 | 3.1 | 1.5 | 0.2 | setosa |\n",
       "| 5.0 | 3.6 | 1.4 | 0.2 | setosa |\n",
       "| 5.4 | 3.9 | 1.7 | 0.4 | setosa |\n",
       "\n"
      ],
      "text/plain": [
       "  Sepal.Length Sepal.Width Petal.Length Petal.Width Species\n",
       "1 5.1          3.5         1.4          0.2         setosa \n",
       "2 4.9          3.0         1.4          0.2         setosa \n",
       "3 4.7          3.2         1.3          0.2         setosa \n",
       "4 4.6          3.1         1.5          0.2         setosa \n",
       "5 5.0          3.6         1.4          0.2         setosa \n",
       "6 5.4          3.9         1.7          0.4         setosa "
      ]
     },
     "metadata": {},
     "output_type": "display_data"
    }
   ],
   "source": [
    "as_tibble(iris) %>% head"
   ]
  },
  {
   "cell_type": "code",
   "execution_count": 8,
   "id": "da8ab661-db52-431e-a585-e1f8f98591d6",
   "metadata": {},
   "outputs": [
    {
     "data": {
      "text/html": [
       "<table class=\"dataframe\">\n",
       "<caption>A tibble: 5 × 3</caption>\n",
       "<thead>\n",
       "\t<tr><th scope=col>x</th><th scope=col>y</th><th scope=col>z</th></tr>\n",
       "\t<tr><th scope=col>&lt;int&gt;</th><th scope=col>&lt;dbl&gt;</th><th scope=col>&lt;dbl&gt;</th></tr>\n",
       "</thead>\n",
       "<tbody>\n",
       "\t<tr><td>1</td><td>1</td><td> 2</td></tr>\n",
       "\t<tr><td>2</td><td>1</td><td> 5</td></tr>\n",
       "\t<tr><td>3</td><td>1</td><td>10</td></tr>\n",
       "\t<tr><td>4</td><td>1</td><td>17</td></tr>\n",
       "\t<tr><td>5</td><td>1</td><td>26</td></tr>\n",
       "</tbody>\n",
       "</table>\n"
      ],
      "text/latex": [
       "A tibble: 5 × 3\n",
       "\\begin{tabular}{lll}\n",
       " x & y & z\\\\\n",
       " <int> & <dbl> & <dbl>\\\\\n",
       "\\hline\n",
       "\t 1 & 1 &  2\\\\\n",
       "\t 2 & 1 &  5\\\\\n",
       "\t 3 & 1 & 10\\\\\n",
       "\t 4 & 1 & 17\\\\\n",
       "\t 5 & 1 & 26\\\\\n",
       "\\end{tabular}\n"
      ],
      "text/markdown": [
       "\n",
       "A tibble: 5 × 3\n",
       "\n",
       "| x &lt;int&gt; | y &lt;dbl&gt; | z &lt;dbl&gt; |\n",
       "|---|---|---|\n",
       "| 1 | 1 |  2 |\n",
       "| 2 | 1 |  5 |\n",
       "| 3 | 1 | 10 |\n",
       "| 4 | 1 | 17 |\n",
       "| 5 | 1 | 26 |\n",
       "\n"
      ],
      "text/plain": [
       "  x y z \n",
       "1 1 1  2\n",
       "2 2 1  5\n",
       "3 3 1 10\n",
       "4 4 1 17\n",
       "5 5 1 26"
      ]
     },
     "metadata": {},
     "output_type": "display_data"
    }
   ],
   "source": [
    "tibble(\n",
    "    x = 1:5,\n",
    "    y = 1,\n",
    "    z = x^2 + y\n",
    "    )"
   ]
  },
  {
   "cell_type": "markdown",
   "id": "319feb94-dec9-4ab0-8ff8-87768877256a",
   "metadata": {},
   "source": [
    "> tibble과 데이터프레임의 차이점<br>\n",
    "> 1) 입력 유형을 절대로 변경하지 않는다 ex) 문자열 > factor<br>\n",
    "> 2) 변수의 이름을 바꾸거나 행 이름을 생성하지 않는다<br>\n",
    "> 3) 티블은 R변수명으로 유효하지 않은 이름도 열 이름으로 가질 수 있다 ex) 공백<br>다만, 이런 변수들을 참조하려면 역따옴표(`)로 감싸야한다고 하는데 안써도 되는데? "
   ]
  },
  {
   "cell_type": "code",
   "execution_count": 31,
   "id": "c1a74beb-cfa0-4d29-87e0-e708d15f685d",
   "metadata": {},
   "outputs": [],
   "source": [
    "tb <- tibble(\n",
    "    `apple` = \"근본\",\n",
    "    ' ' = \"스페이스\",\n",
    "    '1000' = \"숫자\")"
   ]
  },
  {
   "cell_type": "code",
   "execution_count": 32,
   "id": "dec2c7f2-a41a-4b49-8de0-739f1dafa216",
   "metadata": {},
   "outputs": [
    {
     "data": {
      "text/html": [
       "<table class=\"dataframe\">\n",
       "<caption>A tibble: 1 × 3</caption>\n",
       "<thead>\n",
       "\t<tr><th scope=col>apple</th><th scope=col> </th><th scope=col>1000</th></tr>\n",
       "\t<tr><th scope=col>&lt;chr&gt;</th><th scope=col>&lt;chr&gt;</th><th scope=col>&lt;chr&gt;</th></tr>\n",
       "</thead>\n",
       "<tbody>\n",
       "\t<tr><td>근본</td><td>스페이스</td><td>숫자</td></tr>\n",
       "</tbody>\n",
       "</table>\n"
      ],
      "text/latex": [
       "A tibble: 1 × 3\n",
       "\\begin{tabular}{lll}\n",
       " apple &   & 1000\\\\\n",
       " <chr> & <chr> & <chr>\\\\\n",
       "\\hline\n",
       "\t 근본 & 스페이스 & 숫자\\\\\n",
       "\\end{tabular}\n"
      ],
      "text/markdown": [
       "\n",
       "A tibble: 1 × 3\n",
       "\n",
       "| apple &lt;chr&gt; | <!----> &lt;chr&gt; | 1000 &lt;chr&gt; |\n",
       "|---|---|---|\n",
       "| 근본 | 스페이스 | 숫자 |\n",
       "\n"
      ],
      "text/plain": [
       "  apple          1000\n",
       "1 근본  스페이스 숫자"
      ]
     },
     "metadata": {},
     "output_type": "display_data"
    }
   ],
   "source": [
    "tb"
   ]
  },
  {
   "cell_type": "markdown",
   "id": "a5c5692d-e118-44e0-9af9-ed2bee9cc804",
   "metadata": {},
   "source": [
    "## tribble"
   ]
  },
  {
   "cell_type": "markdown",
   "id": "fa974d9f-bf23-4dec-a16f-c85a775a8f45",
   "metadata": {},
   "source": [
    "> 티블을 만드는 또 다른 방법(적은 양의 데이터를 빠르게 읽기 쉬운형태로 만드는)<br>\n",
    "열 헤더는 공식으로 정의(~로 시작), 입력은 쉼표로 구분)"
   ]
  },
  {
   "cell_type": "code",
   "execution_count": 45,
   "id": "e3d07109-53ce-4685-bf8a-629575074ea5",
   "metadata": {},
   "outputs": [
    {
     "data": {
      "text/html": [
       "<table class=\"dataframe\">\n",
       "<caption>A tibble: 3 × 3</caption>\n",
       "<thead>\n",
       "\t<tr><th scope=col>x</th><th scope=col>y</th><th scope=col>z</th></tr>\n",
       "\t<tr><th scope=col>&lt;chr&gt;</th><th scope=col>&lt;dbl&gt;</th><th scope=col>&lt;dbl&gt;</th></tr>\n",
       "</thead>\n",
       "<tbody>\n",
       "\t<tr><td>c</td><td>3</td><td>4.0</td></tr>\n",
       "\t<tr><td>a</td><td>2</td><td>3.6</td></tr>\n",
       "\t<tr><td>b</td><td>1</td><td>8.5</td></tr>\n",
       "</tbody>\n",
       "</table>\n"
      ],
      "text/latex": [
       "A tibble: 3 × 3\n",
       "\\begin{tabular}{lll}\n",
       " x & y & z\\\\\n",
       " <chr> & <dbl> & <dbl>\\\\\n",
       "\\hline\n",
       "\t c & 3 & 4.0\\\\\n",
       "\t a & 2 & 3.6\\\\\n",
       "\t b & 1 & 8.5\\\\\n",
       "\\end{tabular}\n"
      ],
      "text/markdown": [
       "\n",
       "A tibble: 3 × 3\n",
       "\n",
       "| x &lt;chr&gt; | y &lt;dbl&gt; | z &lt;dbl&gt; |\n",
       "|---|---|---|\n",
       "| c | 3 | 4.0 |\n",
       "| a | 2 | 3.6 |\n",
       "| b | 1 | 8.5 |\n",
       "\n"
      ],
      "text/plain": [
       "  x y z  \n",
       "1 c 3 4.0\n",
       "2 a 2 3.6\n",
       "3 b 1 8.5"
      ]
     },
     "metadata": {},
     "output_type": "display_data"
    }
   ],
   "source": [
    "tribble(\n",
    "    ~x, ~y, ~z,\n",
    "    \"c\" ,  3, 4.0,\n",
    "    \"a\", 2, 3.6,\n",
    "    \"b\", 1, 8.5\n",
    "    )"
   ]
  },
  {
   "cell_type": "code",
   "execution_count": null,
   "id": "4dcce829-88d3-4553-9285-4de6c0e7d3bd",
   "metadata": {},
   "outputs": [],
   "source": []
  }
 ],
 "metadata": {
  "kernelspec": {
   "display_name": "R",
   "language": "R",
   "name": "ir"
  },
  "language_info": {
   "codemirror_mode": "r",
   "file_extension": ".r",
   "mimetype": "text/x-r-source",
   "name": "R",
   "pygments_lexer": "r",
   "version": "4.1.3"
  }
 },
 "nbformat": 4,
 "nbformat_minor": 5
}
