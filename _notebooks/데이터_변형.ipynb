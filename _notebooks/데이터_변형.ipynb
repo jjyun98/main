{
 "cells": [
  {
   "cell_type": "markdown",
   "id": "0962b704-d6b7-4420-9414-ca852c5e305e",
   "metadata": {},
   "source": [
    "# Data handling in R"
   ]
  },
  {
   "cell_type": "markdown",
   "id": "2a38624c-9abe-4750-8829-353e25f3a694",
   "metadata": {},
   "source": [
    "> tag : R for data science"
   ]
  },
  {
   "cell_type": "code",
   "execution_count": 5,
   "id": "4d756c61-a264-4a36-96e7-e9306c64b5bd",
   "metadata": {},
   "outputs": [],
   "source": [
    "library('tidyverse')\n",
    "library('nycflights13') #2013년 뉴욕시 출발 항공편 정보 패키지"
   ]
  },
  {
   "cell_type": "code",
   "execution_count": 6,
   "id": "bbd9fb91-55a8-4c50-a419-d4ea3bf6d572",
   "metadata": {},
   "outputs": [
    {
     "data": {
      "text/html": [
       "<table class=\"dataframe\">\n",
       "<caption>A tibble: 6 × 19</caption>\n",
       "<thead>\n",
       "\t<tr><th scope=col>year</th><th scope=col>month</th><th scope=col>day</th><th scope=col>dep_time</th><th scope=col>sched_dep_time</th><th scope=col>dep_delay</th><th scope=col>arr_time</th><th scope=col>sched_arr_time</th><th scope=col>arr_delay</th><th scope=col>carrier</th><th scope=col>flight</th><th scope=col>tailnum</th><th scope=col>origin</th><th scope=col>dest</th><th scope=col>air_time</th><th scope=col>distance</th><th scope=col>hour</th><th scope=col>minute</th><th scope=col>time_hour</th></tr>\n",
       "\t<tr><th scope=col>&lt;int&gt;</th><th scope=col>&lt;int&gt;</th><th scope=col>&lt;int&gt;</th><th scope=col>&lt;int&gt;</th><th scope=col>&lt;int&gt;</th><th scope=col>&lt;dbl&gt;</th><th scope=col>&lt;int&gt;</th><th scope=col>&lt;int&gt;</th><th scope=col>&lt;dbl&gt;</th><th scope=col>&lt;chr&gt;</th><th scope=col>&lt;int&gt;</th><th scope=col>&lt;chr&gt;</th><th scope=col>&lt;chr&gt;</th><th scope=col>&lt;chr&gt;</th><th scope=col>&lt;dbl&gt;</th><th scope=col>&lt;dbl&gt;</th><th scope=col>&lt;dbl&gt;</th><th scope=col>&lt;dbl&gt;</th><th scope=col>&lt;dttm&gt;</th></tr>\n",
       "</thead>\n",
       "<tbody>\n",
       "\t<tr><td>2013</td><td>1</td><td>1</td><td>517</td><td>515</td><td> 2</td><td> 830</td><td> 819</td><td> 11</td><td>UA</td><td>1545</td><td>N14228</td><td>EWR</td><td>IAH</td><td>227</td><td>1400</td><td>5</td><td>15</td><td>2013-01-01 05:00:00</td></tr>\n",
       "\t<tr><td>2013</td><td>1</td><td>1</td><td>533</td><td>529</td><td> 4</td><td> 850</td><td> 830</td><td> 20</td><td>UA</td><td>1714</td><td>N24211</td><td>LGA</td><td>IAH</td><td>227</td><td>1416</td><td>5</td><td>29</td><td>2013-01-01 05:00:00</td></tr>\n",
       "\t<tr><td>2013</td><td>1</td><td>1</td><td>542</td><td>540</td><td> 2</td><td> 923</td><td> 850</td><td> 33</td><td>AA</td><td>1141</td><td>N619AA</td><td>JFK</td><td>MIA</td><td>160</td><td>1089</td><td>5</td><td>40</td><td>2013-01-01 05:00:00</td></tr>\n",
       "\t<tr><td>2013</td><td>1</td><td>1</td><td>544</td><td>545</td><td>-1</td><td>1004</td><td>1022</td><td>-18</td><td>B6</td><td> 725</td><td>N804JB</td><td>JFK</td><td>BQN</td><td>183</td><td>1576</td><td>5</td><td>45</td><td>2013-01-01 05:00:00</td></tr>\n",
       "\t<tr><td>2013</td><td>1</td><td>1</td><td>554</td><td>600</td><td>-6</td><td> 812</td><td> 837</td><td>-25</td><td>DL</td><td> 461</td><td>N668DN</td><td>LGA</td><td>ATL</td><td>116</td><td> 762</td><td>6</td><td> 0</td><td>2013-01-01 06:00:00</td></tr>\n",
       "\t<tr><td>2013</td><td>1</td><td>1</td><td>554</td><td>558</td><td>-4</td><td> 740</td><td> 728</td><td> 12</td><td>UA</td><td>1696</td><td>N39463</td><td>EWR</td><td>ORD</td><td>150</td><td> 719</td><td>5</td><td>58</td><td>2013-01-01 05:00:00</td></tr>\n",
       "</tbody>\n",
       "</table>\n"
      ],
      "text/latex": [
       "A tibble: 6 × 19\n",
       "\\begin{tabular}{lllllllllllllllllll}\n",
       " year & month & day & dep\\_time & sched\\_dep\\_time & dep\\_delay & arr\\_time & sched\\_arr\\_time & arr\\_delay & carrier & flight & tailnum & origin & dest & air\\_time & distance & hour & minute & time\\_hour\\\\\n",
       " <int> & <int> & <int> & <int> & <int> & <dbl> & <int> & <int> & <dbl> & <chr> & <int> & <chr> & <chr> & <chr> & <dbl> & <dbl> & <dbl> & <dbl> & <dttm>\\\\\n",
       "\\hline\n",
       "\t 2013 & 1 & 1 & 517 & 515 &  2 &  830 &  819 &  11 & UA & 1545 & N14228 & EWR & IAH & 227 & 1400 & 5 & 15 & 2013-01-01 05:00:00\\\\\n",
       "\t 2013 & 1 & 1 & 533 & 529 &  4 &  850 &  830 &  20 & UA & 1714 & N24211 & LGA & IAH & 227 & 1416 & 5 & 29 & 2013-01-01 05:00:00\\\\\n",
       "\t 2013 & 1 & 1 & 542 & 540 &  2 &  923 &  850 &  33 & AA & 1141 & N619AA & JFK & MIA & 160 & 1089 & 5 & 40 & 2013-01-01 05:00:00\\\\\n",
       "\t 2013 & 1 & 1 & 544 & 545 & -1 & 1004 & 1022 & -18 & B6 &  725 & N804JB & JFK & BQN & 183 & 1576 & 5 & 45 & 2013-01-01 05:00:00\\\\\n",
       "\t 2013 & 1 & 1 & 554 & 600 & -6 &  812 &  837 & -25 & DL &  461 & N668DN & LGA & ATL & 116 &  762 & 6 &  0 & 2013-01-01 06:00:00\\\\\n",
       "\t 2013 & 1 & 1 & 554 & 558 & -4 &  740 &  728 &  12 & UA & 1696 & N39463 & EWR & ORD & 150 &  719 & 5 & 58 & 2013-01-01 05:00:00\\\\\n",
       "\\end{tabular}\n"
      ],
      "text/markdown": [
       "\n",
       "A tibble: 6 × 19\n",
       "\n",
       "| year &lt;int&gt; | month &lt;int&gt; | day &lt;int&gt; | dep_time &lt;int&gt; | sched_dep_time &lt;int&gt; | dep_delay &lt;dbl&gt; | arr_time &lt;int&gt; | sched_arr_time &lt;int&gt; | arr_delay &lt;dbl&gt; | carrier &lt;chr&gt; | flight &lt;int&gt; | tailnum &lt;chr&gt; | origin &lt;chr&gt; | dest &lt;chr&gt; | air_time &lt;dbl&gt; | distance &lt;dbl&gt; | hour &lt;dbl&gt; | minute &lt;dbl&gt; | time_hour &lt;dttm&gt; |\n",
       "|---|---|---|---|---|---|---|---|---|---|---|---|---|---|---|---|---|---|---|\n",
       "| 2013 | 1 | 1 | 517 | 515 |  2 |  830 |  819 |  11 | UA | 1545 | N14228 | EWR | IAH | 227 | 1400 | 5 | 15 | 2013-01-01 05:00:00 |\n",
       "| 2013 | 1 | 1 | 533 | 529 |  4 |  850 |  830 |  20 | UA | 1714 | N24211 | LGA | IAH | 227 | 1416 | 5 | 29 | 2013-01-01 05:00:00 |\n",
       "| 2013 | 1 | 1 | 542 | 540 |  2 |  923 |  850 |  33 | AA | 1141 | N619AA | JFK | MIA | 160 | 1089 | 5 | 40 | 2013-01-01 05:00:00 |\n",
       "| 2013 | 1 | 1 | 544 | 545 | -1 | 1004 | 1022 | -18 | B6 |  725 | N804JB | JFK | BQN | 183 | 1576 | 5 | 45 | 2013-01-01 05:00:00 |\n",
       "| 2013 | 1 | 1 | 554 | 600 | -6 |  812 |  837 | -25 | DL |  461 | N668DN | LGA | ATL | 116 |  762 | 6 |  0 | 2013-01-01 06:00:00 |\n",
       "| 2013 | 1 | 1 | 554 | 558 | -4 |  740 |  728 |  12 | UA | 1696 | N39463 | EWR | ORD | 150 |  719 | 5 | 58 | 2013-01-01 05:00:00 |\n",
       "\n"
      ],
      "text/plain": [
       "  year month day dep_time sched_dep_time dep_delay arr_time sched_arr_time\n",
       "1 2013 1     1   517      515             2         830      819          \n",
       "2 2013 1     1   533      529             4         850      830          \n",
       "3 2013 1     1   542      540             2         923      850          \n",
       "4 2013 1     1   544      545            -1        1004     1022          \n",
       "5 2013 1     1   554      600            -6         812      837          \n",
       "6 2013 1     1   554      558            -4         740      728          \n",
       "  arr_delay carrier flight tailnum origin dest air_time distance hour minute\n",
       "1  11       UA      1545   N14228  EWR    IAH  227      1400     5    15    \n",
       "2  20       UA      1714   N24211  LGA    IAH  227      1416     5    29    \n",
       "3  33       AA      1141   N619AA  JFK    MIA  160      1089     5    40    \n",
       "4 -18       B6       725   N804JB  JFK    BQN  183      1576     5    45    \n",
       "5 -25       DL       461   N668DN  LGA    ATL  116       762     6     0    \n",
       "6  12       UA      1696   N39463  EWR    ORD  150       719     5    58    \n",
       "  time_hour          \n",
       "1 2013-01-01 05:00:00\n",
       "2 2013-01-01 05:00:00\n",
       "3 2013-01-01 05:00:00\n",
       "4 2013-01-01 05:00:00\n",
       "5 2013-01-01 06:00:00\n",
       "6 2013-01-01 05:00:00"
      ]
     },
     "metadata": {},
     "output_type": "display_data"
    }
   ],
   "source": [
    "flights %>% head"
   ]
  },
  {
   "cell_type": "markdown",
   "id": "39c88b7c-74fb-45fc-bd1b-66306edada3b",
   "metadata": {},
   "source": [
    "`dttm`는 데이트-타임형(날짜 + 시간) 의미 "
   ]
  },
  {
   "cell_type": "code",
   "execution_count": 7,
   "id": "d75f7536-0d21-4763-b946-8a744868070b",
   "metadata": {},
   "outputs": [
    {
     "data": {
      "text/html": [
       "<table class=\"dataframe\">\n",
       "<caption>A tibble: 6 × 19</caption>\n",
       "<thead>\n",
       "\t<tr><th scope=col>year</th><th scope=col>month</th><th scope=col>day</th><th scope=col>dep_time</th><th scope=col>sched_dep_time</th><th scope=col>dep_delay</th><th scope=col>arr_time</th><th scope=col>sched_arr_time</th><th scope=col>arr_delay</th><th scope=col>carrier</th><th scope=col>flight</th><th scope=col>tailnum</th><th scope=col>origin</th><th scope=col>dest</th><th scope=col>air_time</th><th scope=col>distance</th><th scope=col>hour</th><th scope=col>minute</th><th scope=col>time_hour</th></tr>\n",
       "\t<tr><th scope=col>&lt;int&gt;</th><th scope=col>&lt;int&gt;</th><th scope=col>&lt;int&gt;</th><th scope=col>&lt;int&gt;</th><th scope=col>&lt;int&gt;</th><th scope=col>&lt;dbl&gt;</th><th scope=col>&lt;int&gt;</th><th scope=col>&lt;int&gt;</th><th scope=col>&lt;dbl&gt;</th><th scope=col>&lt;chr&gt;</th><th scope=col>&lt;int&gt;</th><th scope=col>&lt;chr&gt;</th><th scope=col>&lt;chr&gt;</th><th scope=col>&lt;chr&gt;</th><th scope=col>&lt;dbl&gt;</th><th scope=col>&lt;dbl&gt;</th><th scope=col>&lt;dbl&gt;</th><th scope=col>&lt;dbl&gt;</th><th scope=col>&lt;dttm&gt;</th></tr>\n",
       "</thead>\n",
       "<tbody>\n",
       "\t<tr><td>2013</td><td>1</td><td>1</td><td>517</td><td>515</td><td> 2</td><td> 830</td><td> 819</td><td> 11</td><td>UA</td><td>1545</td><td>N14228</td><td>EWR</td><td>IAH</td><td>227</td><td>1400</td><td>5</td><td>15</td><td>2013-01-01 05:00:00</td></tr>\n",
       "\t<tr><td>2013</td><td>1</td><td>1</td><td>533</td><td>529</td><td> 4</td><td> 850</td><td> 830</td><td> 20</td><td>UA</td><td>1714</td><td>N24211</td><td>LGA</td><td>IAH</td><td>227</td><td>1416</td><td>5</td><td>29</td><td>2013-01-01 05:00:00</td></tr>\n",
       "\t<tr><td>2013</td><td>1</td><td>1</td><td>542</td><td>540</td><td> 2</td><td> 923</td><td> 850</td><td> 33</td><td>AA</td><td>1141</td><td>N619AA</td><td>JFK</td><td>MIA</td><td>160</td><td>1089</td><td>5</td><td>40</td><td>2013-01-01 05:00:00</td></tr>\n",
       "\t<tr><td>2013</td><td>1</td><td>1</td><td>544</td><td>545</td><td>-1</td><td>1004</td><td>1022</td><td>-18</td><td>B6</td><td> 725</td><td>N804JB</td><td>JFK</td><td>BQN</td><td>183</td><td>1576</td><td>5</td><td>45</td><td>2013-01-01 05:00:00</td></tr>\n",
       "\t<tr><td>2013</td><td>1</td><td>1</td><td>554</td><td>600</td><td>-6</td><td> 812</td><td> 837</td><td>-25</td><td>DL</td><td> 461</td><td>N668DN</td><td>LGA</td><td>ATL</td><td>116</td><td> 762</td><td>6</td><td> 0</td><td>2013-01-01 06:00:00</td></tr>\n",
       "\t<tr><td>2013</td><td>1</td><td>1</td><td>554</td><td>558</td><td>-4</td><td> 740</td><td> 728</td><td> 12</td><td>UA</td><td>1696</td><td>N39463</td><td>EWR</td><td>ORD</td><td>150</td><td> 719</td><td>5</td><td>58</td><td>2013-01-01 05:00:00</td></tr>\n",
       "</tbody>\n",
       "</table>\n"
      ],
      "text/latex": [
       "A tibble: 6 × 19\n",
       "\\begin{tabular}{lllllllllllllllllll}\n",
       " year & month & day & dep\\_time & sched\\_dep\\_time & dep\\_delay & arr\\_time & sched\\_arr\\_time & arr\\_delay & carrier & flight & tailnum & origin & dest & air\\_time & distance & hour & minute & time\\_hour\\\\\n",
       " <int> & <int> & <int> & <int> & <int> & <dbl> & <int> & <int> & <dbl> & <chr> & <int> & <chr> & <chr> & <chr> & <dbl> & <dbl> & <dbl> & <dbl> & <dttm>\\\\\n",
       "\\hline\n",
       "\t 2013 & 1 & 1 & 517 & 515 &  2 &  830 &  819 &  11 & UA & 1545 & N14228 & EWR & IAH & 227 & 1400 & 5 & 15 & 2013-01-01 05:00:00\\\\\n",
       "\t 2013 & 1 & 1 & 533 & 529 &  4 &  850 &  830 &  20 & UA & 1714 & N24211 & LGA & IAH & 227 & 1416 & 5 & 29 & 2013-01-01 05:00:00\\\\\n",
       "\t 2013 & 1 & 1 & 542 & 540 &  2 &  923 &  850 &  33 & AA & 1141 & N619AA & JFK & MIA & 160 & 1089 & 5 & 40 & 2013-01-01 05:00:00\\\\\n",
       "\t 2013 & 1 & 1 & 544 & 545 & -1 & 1004 & 1022 & -18 & B6 &  725 & N804JB & JFK & BQN & 183 & 1576 & 5 & 45 & 2013-01-01 05:00:00\\\\\n",
       "\t 2013 & 1 & 1 & 554 & 600 & -6 &  812 &  837 & -25 & DL &  461 & N668DN & LGA & ATL & 116 &  762 & 6 &  0 & 2013-01-01 06:00:00\\\\\n",
       "\t 2013 & 1 & 1 & 554 & 558 & -4 &  740 &  728 &  12 & UA & 1696 & N39463 & EWR & ORD & 150 &  719 & 5 & 58 & 2013-01-01 05:00:00\\\\\n",
       "\\end{tabular}\n"
      ],
      "text/markdown": [
       "\n",
       "A tibble: 6 × 19\n",
       "\n",
       "| year &lt;int&gt; | month &lt;int&gt; | day &lt;int&gt; | dep_time &lt;int&gt; | sched_dep_time &lt;int&gt; | dep_delay &lt;dbl&gt; | arr_time &lt;int&gt; | sched_arr_time &lt;int&gt; | arr_delay &lt;dbl&gt; | carrier &lt;chr&gt; | flight &lt;int&gt; | tailnum &lt;chr&gt; | origin &lt;chr&gt; | dest &lt;chr&gt; | air_time &lt;dbl&gt; | distance &lt;dbl&gt; | hour &lt;dbl&gt; | minute &lt;dbl&gt; | time_hour &lt;dttm&gt; |\n",
       "|---|---|---|---|---|---|---|---|---|---|---|---|---|---|---|---|---|---|---|\n",
       "| 2013 | 1 | 1 | 517 | 515 |  2 |  830 |  819 |  11 | UA | 1545 | N14228 | EWR | IAH | 227 | 1400 | 5 | 15 | 2013-01-01 05:00:00 |\n",
       "| 2013 | 1 | 1 | 533 | 529 |  4 |  850 |  830 |  20 | UA | 1714 | N24211 | LGA | IAH | 227 | 1416 | 5 | 29 | 2013-01-01 05:00:00 |\n",
       "| 2013 | 1 | 1 | 542 | 540 |  2 |  923 |  850 |  33 | AA | 1141 | N619AA | JFK | MIA | 160 | 1089 | 5 | 40 | 2013-01-01 05:00:00 |\n",
       "| 2013 | 1 | 1 | 544 | 545 | -1 | 1004 | 1022 | -18 | B6 |  725 | N804JB | JFK | BQN | 183 | 1576 | 5 | 45 | 2013-01-01 05:00:00 |\n",
       "| 2013 | 1 | 1 | 554 | 600 | -6 |  812 |  837 | -25 | DL |  461 | N668DN | LGA | ATL | 116 |  762 | 6 |  0 | 2013-01-01 06:00:00 |\n",
       "| 2013 | 1 | 1 | 554 | 558 | -4 |  740 |  728 |  12 | UA | 1696 | N39463 | EWR | ORD | 150 |  719 | 5 | 58 | 2013-01-01 05:00:00 |\n",
       "\n"
      ],
      "text/plain": [
       "  year month day dep_time sched_dep_time dep_delay arr_time sched_arr_time\n",
       "1 2013 1     1   517      515             2         830      819          \n",
       "2 2013 1     1   533      529             4         850      830          \n",
       "3 2013 1     1   542      540             2         923      850          \n",
       "4 2013 1     1   544      545            -1        1004     1022          \n",
       "5 2013 1     1   554      600            -6         812      837          \n",
       "6 2013 1     1   554      558            -4         740      728          \n",
       "  arr_delay carrier flight tailnum origin dest air_time distance hour minute\n",
       "1  11       UA      1545   N14228  EWR    IAH  227      1400     5    15    \n",
       "2  20       UA      1714   N24211  LGA    IAH  227      1416     5    29    \n",
       "3  33       AA      1141   N619AA  JFK    MIA  160      1089     5    40    \n",
       "4 -18       B6       725   N804JB  JFK    BQN  183      1576     5    45    \n",
       "5 -25       DL       461   N668DN  LGA    ATL  116       762     6     0    \n",
       "6  12       UA      1696   N39463  EWR    ORD  150       719     5    58    \n",
       "  time_hour          \n",
       "1 2013-01-01 05:00:00\n",
       "2 2013-01-01 05:00:00\n",
       "3 2013-01-01 05:00:00\n",
       "4 2013-01-01 05:00:00\n",
       "5 2013-01-01 06:00:00\n",
       "6 2013-01-01 05:00:00"
      ]
     },
     "metadata": {},
     "output_type": "display_data"
    }
   ],
   "source": [
    "filter(flights, month == 1, day == 1) %>% head"
   ]
  },
  {
   "cell_type": "code",
   "execution_count": 8,
   "id": "66d8dafa-2964-406f-ae9f-5433a8977746",
   "metadata": {},
   "outputs": [
    {
     "data": {
      "text/html": [
       "TRUE"
      ],
      "text/latex": [
       "TRUE"
      ],
      "text/markdown": [
       "TRUE"
      ],
      "text/plain": [
       "[1] TRUE"
      ]
     },
     "metadata": {},
     "output_type": "display_data"
    }
   ],
   "source": [
    "near(sqrt(2) ^2, 2)"
   ]
  },
  {
   "cell_type": "code",
   "execution_count": 9,
   "id": "e472a90c-e56a-4d58-bbab-48cc3edafe9e",
   "metadata": {},
   "outputs": [
    {
     "data": {
      "text/html": [
       "<table class=\"dataframe\">\n",
       "<caption>A tibble: 6 × 19</caption>\n",
       "<thead>\n",
       "\t<tr><th scope=col>year</th><th scope=col>month</th><th scope=col>day</th><th scope=col>dep_time</th><th scope=col>sched_dep_time</th><th scope=col>dep_delay</th><th scope=col>arr_time</th><th scope=col>sched_arr_time</th><th scope=col>arr_delay</th><th scope=col>carrier</th><th scope=col>flight</th><th scope=col>tailnum</th><th scope=col>origin</th><th scope=col>dest</th><th scope=col>air_time</th><th scope=col>distance</th><th scope=col>hour</th><th scope=col>minute</th><th scope=col>time_hour</th></tr>\n",
       "\t<tr><th scope=col>&lt;int&gt;</th><th scope=col>&lt;int&gt;</th><th scope=col>&lt;int&gt;</th><th scope=col>&lt;int&gt;</th><th scope=col>&lt;int&gt;</th><th scope=col>&lt;dbl&gt;</th><th scope=col>&lt;int&gt;</th><th scope=col>&lt;int&gt;</th><th scope=col>&lt;dbl&gt;</th><th scope=col>&lt;chr&gt;</th><th scope=col>&lt;int&gt;</th><th scope=col>&lt;chr&gt;</th><th scope=col>&lt;chr&gt;</th><th scope=col>&lt;chr&gt;</th><th scope=col>&lt;dbl&gt;</th><th scope=col>&lt;dbl&gt;</th><th scope=col>&lt;dbl&gt;</th><th scope=col>&lt;dbl&gt;</th><th scope=col>&lt;dttm&gt;</th></tr>\n",
       "</thead>\n",
       "<tbody>\n",
       "\t<tr><td>2013</td><td>11</td><td>1</td><td>  5</td><td>2359</td><td>  6</td><td>352</td><td> 345</td><td>  7</td><td>B6</td><td> 745</td><td>N568JB</td><td>JFK</td><td>PSE</td><td>205</td><td>1617</td><td>23</td><td>59</td><td>2013-11-01 23:00:00</td></tr>\n",
       "\t<tr><td>2013</td><td>11</td><td>1</td><td> 35</td><td>2250</td><td>105</td><td>123</td><td>2356</td><td> 87</td><td>B6</td><td>1816</td><td>N353JB</td><td>JFK</td><td>SYR</td><td> 36</td><td> 209</td><td>22</td><td>50</td><td>2013-11-01 22:00:00</td></tr>\n",
       "\t<tr><td>2013</td><td>11</td><td>1</td><td>455</td><td> 500</td><td> -5</td><td>641</td><td> 651</td><td>-10</td><td>US</td><td>1895</td><td>N192UW</td><td>EWR</td><td>CLT</td><td> 88</td><td> 529</td><td> 5</td><td> 0</td><td>2013-11-01 05:00:00</td></tr>\n",
       "\t<tr><td>2013</td><td>11</td><td>1</td><td>539</td><td> 545</td><td> -6</td><td>856</td><td> 827</td><td> 29</td><td>UA</td><td>1714</td><td>N38727</td><td>LGA</td><td>IAH</td><td>229</td><td>1416</td><td> 5</td><td>45</td><td>2013-11-01 05:00:00</td></tr>\n",
       "\t<tr><td>2013</td><td>11</td><td>1</td><td>542</td><td> 545</td><td> -3</td><td>831</td><td> 855</td><td>-24</td><td>AA</td><td>2243</td><td>N5CLAA</td><td>JFK</td><td>MIA</td><td>147</td><td>1089</td><td> 5</td><td>45</td><td>2013-11-01 05:00:00</td></tr>\n",
       "\t<tr><td>2013</td><td>11</td><td>1</td><td>549</td><td> 600</td><td>-11</td><td>912</td><td> 923</td><td>-11</td><td>UA</td><td> 303</td><td>N595UA</td><td>JFK</td><td>SFO</td><td>359</td><td>2586</td><td> 6</td><td> 0</td><td>2013-11-01 06:00:00</td></tr>\n",
       "</tbody>\n",
       "</table>\n"
      ],
      "text/latex": [
       "A tibble: 6 × 19\n",
       "\\begin{tabular}{lllllllllllllllllll}\n",
       " year & month & day & dep\\_time & sched\\_dep\\_time & dep\\_delay & arr\\_time & sched\\_arr\\_time & arr\\_delay & carrier & flight & tailnum & origin & dest & air\\_time & distance & hour & minute & time\\_hour\\\\\n",
       " <int> & <int> & <int> & <int> & <int> & <dbl> & <int> & <int> & <dbl> & <chr> & <int> & <chr> & <chr> & <chr> & <dbl> & <dbl> & <dbl> & <dbl> & <dttm>\\\\\n",
       "\\hline\n",
       "\t 2013 & 11 & 1 &   5 & 2359 &   6 & 352 &  345 &   7 & B6 &  745 & N568JB & JFK & PSE & 205 & 1617 & 23 & 59 & 2013-11-01 23:00:00\\\\\n",
       "\t 2013 & 11 & 1 &  35 & 2250 & 105 & 123 & 2356 &  87 & B6 & 1816 & N353JB & JFK & SYR &  36 &  209 & 22 & 50 & 2013-11-01 22:00:00\\\\\n",
       "\t 2013 & 11 & 1 & 455 &  500 &  -5 & 641 &  651 & -10 & US & 1895 & N192UW & EWR & CLT &  88 &  529 &  5 &  0 & 2013-11-01 05:00:00\\\\\n",
       "\t 2013 & 11 & 1 & 539 &  545 &  -6 & 856 &  827 &  29 & UA & 1714 & N38727 & LGA & IAH & 229 & 1416 &  5 & 45 & 2013-11-01 05:00:00\\\\\n",
       "\t 2013 & 11 & 1 & 542 &  545 &  -3 & 831 &  855 & -24 & AA & 2243 & N5CLAA & JFK & MIA & 147 & 1089 &  5 & 45 & 2013-11-01 05:00:00\\\\\n",
       "\t 2013 & 11 & 1 & 549 &  600 & -11 & 912 &  923 & -11 & UA &  303 & N595UA & JFK & SFO & 359 & 2586 &  6 &  0 & 2013-11-01 06:00:00\\\\\n",
       "\\end{tabular}\n"
      ],
      "text/markdown": [
       "\n",
       "A tibble: 6 × 19\n",
       "\n",
       "| year &lt;int&gt; | month &lt;int&gt; | day &lt;int&gt; | dep_time &lt;int&gt; | sched_dep_time &lt;int&gt; | dep_delay &lt;dbl&gt; | arr_time &lt;int&gt; | sched_arr_time &lt;int&gt; | arr_delay &lt;dbl&gt; | carrier &lt;chr&gt; | flight &lt;int&gt; | tailnum &lt;chr&gt; | origin &lt;chr&gt; | dest &lt;chr&gt; | air_time &lt;dbl&gt; | distance &lt;dbl&gt; | hour &lt;dbl&gt; | minute &lt;dbl&gt; | time_hour &lt;dttm&gt; |\n",
       "|---|---|---|---|---|---|---|---|---|---|---|---|---|---|---|---|---|---|---|\n",
       "| 2013 | 11 | 1 |   5 | 2359 |   6 | 352 |  345 |   7 | B6 |  745 | N568JB | JFK | PSE | 205 | 1617 | 23 | 59 | 2013-11-01 23:00:00 |\n",
       "| 2013 | 11 | 1 |  35 | 2250 | 105 | 123 | 2356 |  87 | B6 | 1816 | N353JB | JFK | SYR |  36 |  209 | 22 | 50 | 2013-11-01 22:00:00 |\n",
       "| 2013 | 11 | 1 | 455 |  500 |  -5 | 641 |  651 | -10 | US | 1895 | N192UW | EWR | CLT |  88 |  529 |  5 |  0 | 2013-11-01 05:00:00 |\n",
       "| 2013 | 11 | 1 | 539 |  545 |  -6 | 856 |  827 |  29 | UA | 1714 | N38727 | LGA | IAH | 229 | 1416 |  5 | 45 | 2013-11-01 05:00:00 |\n",
       "| 2013 | 11 | 1 | 542 |  545 |  -3 | 831 |  855 | -24 | AA | 2243 | N5CLAA | JFK | MIA | 147 | 1089 |  5 | 45 | 2013-11-01 05:00:00 |\n",
       "| 2013 | 11 | 1 | 549 |  600 | -11 | 912 |  923 | -11 | UA |  303 | N595UA | JFK | SFO | 359 | 2586 |  6 |  0 | 2013-11-01 06:00:00 |\n",
       "\n"
      ],
      "text/plain": [
       "  year month day dep_time sched_dep_time dep_delay arr_time sched_arr_time\n",
       "1 2013 11    1     5      2359             6       352       345          \n",
       "2 2013 11    1    35      2250           105       123      2356          \n",
       "3 2013 11    1   455       500            -5       641       651          \n",
       "4 2013 11    1   539       545            -6       856       827          \n",
       "5 2013 11    1   542       545            -3       831       855          \n",
       "6 2013 11    1   549       600           -11       912       923          \n",
       "  arr_delay carrier flight tailnum origin dest air_time distance hour minute\n",
       "1   7       B6       745   N568JB  JFK    PSE  205      1617     23   59    \n",
       "2  87       B6      1816   N353JB  JFK    SYR   36       209     22   50    \n",
       "3 -10       US      1895   N192UW  EWR    CLT   88       529      5    0    \n",
       "4  29       UA      1714   N38727  LGA    IAH  229      1416      5   45    \n",
       "5 -24       AA      2243   N5CLAA  JFK    MIA  147      1089      5   45    \n",
       "6 -11       UA       303   N595UA  JFK    SFO  359      2586      6    0    \n",
       "  time_hour          \n",
       "1 2013-11-01 23:00:00\n",
       "2 2013-11-01 22:00:00\n",
       "3 2013-11-01 05:00:00\n",
       "4 2013-11-01 05:00:00\n",
       "5 2013-11-01 05:00:00\n",
       "6 2013-11-01 06:00:00"
      ]
     },
     "metadata": {},
     "output_type": "display_data"
    }
   ],
   "source": [
    "filter( flights, month == 11 | month == 12) %>% head"
   ]
  },
  {
   "cell_type": "markdown",
   "id": "49da7493-6edd-4e58-993d-be7f522d4028",
   "metadata": {},
   "source": [
    "`%in%` : 이 안에 있는 모든 것 꺼냄"
   ]
  },
  {
   "cell_type": "code",
   "execution_count": 10,
   "id": "1fe07ae2-8312-4161-9ba3-8f6127e5602f",
   "metadata": {},
   "outputs": [
    {
     "data": {
      "text/html": [
       "<table class=\"dataframe\">\n",
       "<caption>A tibble: 6 × 19</caption>\n",
       "<thead>\n",
       "\t<tr><th scope=col>year</th><th scope=col>month</th><th scope=col>day</th><th scope=col>dep_time</th><th scope=col>sched_dep_time</th><th scope=col>dep_delay</th><th scope=col>arr_time</th><th scope=col>sched_arr_time</th><th scope=col>arr_delay</th><th scope=col>carrier</th><th scope=col>flight</th><th scope=col>tailnum</th><th scope=col>origin</th><th scope=col>dest</th><th scope=col>air_time</th><th scope=col>distance</th><th scope=col>hour</th><th scope=col>minute</th><th scope=col>time_hour</th></tr>\n",
       "\t<tr><th scope=col>&lt;int&gt;</th><th scope=col>&lt;int&gt;</th><th scope=col>&lt;int&gt;</th><th scope=col>&lt;int&gt;</th><th scope=col>&lt;int&gt;</th><th scope=col>&lt;dbl&gt;</th><th scope=col>&lt;int&gt;</th><th scope=col>&lt;int&gt;</th><th scope=col>&lt;dbl&gt;</th><th scope=col>&lt;chr&gt;</th><th scope=col>&lt;int&gt;</th><th scope=col>&lt;chr&gt;</th><th scope=col>&lt;chr&gt;</th><th scope=col>&lt;chr&gt;</th><th scope=col>&lt;dbl&gt;</th><th scope=col>&lt;dbl&gt;</th><th scope=col>&lt;dbl&gt;</th><th scope=col>&lt;dbl&gt;</th><th scope=col>&lt;dttm&gt;</th></tr>\n",
       "</thead>\n",
       "<tbody>\n",
       "\t<tr><td>2013</td><td>12</td><td>31</td><td>NA</td><td> 855</td><td>NA</td><td>NA</td><td>1142</td><td>NA</td><td>UA</td><td>1506</td><td>NA    </td><td>EWR</td><td>JAC</td><td>NA</td><td>1874</td><td> 8</td><td>55</td><td>2013-12-31 08:00:00</td></tr>\n",
       "\t<tr><td>2013</td><td>12</td><td>31</td><td>NA</td><td> 705</td><td>NA</td><td>NA</td><td> 931</td><td>NA</td><td>UA</td><td>1729</td><td>NA    </td><td>EWR</td><td>DEN</td><td>NA</td><td>1605</td><td> 7</td><td> 5</td><td>2013-12-31 07:00:00</td></tr>\n",
       "\t<tr><td>2013</td><td>12</td><td>31</td><td>NA</td><td> 825</td><td>NA</td><td>NA</td><td>1029</td><td>NA</td><td>US</td><td>1831</td><td>NA    </td><td>JFK</td><td>CLT</td><td>NA</td><td> 541</td><td> 8</td><td>25</td><td>2013-12-31 08:00:00</td></tr>\n",
       "\t<tr><td>2013</td><td>12</td><td>31</td><td>NA</td><td>1615</td><td>NA</td><td>NA</td><td>1800</td><td>NA</td><td>MQ</td><td>3301</td><td>N844MQ</td><td>LGA</td><td>RDU</td><td>NA</td><td> 431</td><td>16</td><td>15</td><td>2013-12-31 16:00:00</td></tr>\n",
       "\t<tr><td>2013</td><td>12</td><td>31</td><td>NA</td><td> 600</td><td>NA</td><td>NA</td><td> 735</td><td>NA</td><td>UA</td><td> 219</td><td>NA    </td><td>EWR</td><td>ORD</td><td>NA</td><td> 719</td><td> 6</td><td> 0</td><td>2013-12-31 06:00:00</td></tr>\n",
       "\t<tr><td>2013</td><td>12</td><td>31</td><td>NA</td><td> 830</td><td>NA</td><td>NA</td><td>1154</td><td>NA</td><td>UA</td><td> 443</td><td>NA    </td><td>JFK</td><td>LAX</td><td>NA</td><td>2475</td><td> 8</td><td>30</td><td>2013-12-31 08:00:00</td></tr>\n",
       "</tbody>\n",
       "</table>\n"
      ],
      "text/latex": [
       "A tibble: 6 × 19\n",
       "\\begin{tabular}{lllllllllllllllllll}\n",
       " year & month & day & dep\\_time & sched\\_dep\\_time & dep\\_delay & arr\\_time & sched\\_arr\\_time & arr\\_delay & carrier & flight & tailnum & origin & dest & air\\_time & distance & hour & minute & time\\_hour\\\\\n",
       " <int> & <int> & <int> & <int> & <int> & <dbl> & <int> & <int> & <dbl> & <chr> & <int> & <chr> & <chr> & <chr> & <dbl> & <dbl> & <dbl> & <dbl> & <dttm>\\\\\n",
       "\\hline\n",
       "\t 2013 & 12 & 31 & NA &  855 & NA & NA & 1142 & NA & UA & 1506 & NA     & EWR & JAC & NA & 1874 &  8 & 55 & 2013-12-31 08:00:00\\\\\n",
       "\t 2013 & 12 & 31 & NA &  705 & NA & NA &  931 & NA & UA & 1729 & NA     & EWR & DEN & NA & 1605 &  7 &  5 & 2013-12-31 07:00:00\\\\\n",
       "\t 2013 & 12 & 31 & NA &  825 & NA & NA & 1029 & NA & US & 1831 & NA     & JFK & CLT & NA &  541 &  8 & 25 & 2013-12-31 08:00:00\\\\\n",
       "\t 2013 & 12 & 31 & NA & 1615 & NA & NA & 1800 & NA & MQ & 3301 & N844MQ & LGA & RDU & NA &  431 & 16 & 15 & 2013-12-31 16:00:00\\\\\n",
       "\t 2013 & 12 & 31 & NA &  600 & NA & NA &  735 & NA & UA &  219 & NA     & EWR & ORD & NA &  719 &  6 &  0 & 2013-12-31 06:00:00\\\\\n",
       "\t 2013 & 12 & 31 & NA &  830 & NA & NA & 1154 & NA & UA &  443 & NA     & JFK & LAX & NA & 2475 &  8 & 30 & 2013-12-31 08:00:00\\\\\n",
       "\\end{tabular}\n"
      ],
      "text/markdown": [
       "\n",
       "A tibble: 6 × 19\n",
       "\n",
       "| year &lt;int&gt; | month &lt;int&gt; | day &lt;int&gt; | dep_time &lt;int&gt; | sched_dep_time &lt;int&gt; | dep_delay &lt;dbl&gt; | arr_time &lt;int&gt; | sched_arr_time &lt;int&gt; | arr_delay &lt;dbl&gt; | carrier &lt;chr&gt; | flight &lt;int&gt; | tailnum &lt;chr&gt; | origin &lt;chr&gt; | dest &lt;chr&gt; | air_time &lt;dbl&gt; | distance &lt;dbl&gt; | hour &lt;dbl&gt; | minute &lt;dbl&gt; | time_hour &lt;dttm&gt; |\n",
       "|---|---|---|---|---|---|---|---|---|---|---|---|---|---|---|---|---|---|---|\n",
       "| 2013 | 12 | 31 | NA |  855 | NA | NA | 1142 | NA | UA | 1506 | NA     | EWR | JAC | NA | 1874 |  8 | 55 | 2013-12-31 08:00:00 |\n",
       "| 2013 | 12 | 31 | NA |  705 | NA | NA |  931 | NA | UA | 1729 | NA     | EWR | DEN | NA | 1605 |  7 |  5 | 2013-12-31 07:00:00 |\n",
       "| 2013 | 12 | 31 | NA |  825 | NA | NA | 1029 | NA | US | 1831 | NA     | JFK | CLT | NA |  541 |  8 | 25 | 2013-12-31 08:00:00 |\n",
       "| 2013 | 12 | 31 | NA | 1615 | NA | NA | 1800 | NA | MQ | 3301 | N844MQ | LGA | RDU | NA |  431 | 16 | 15 | 2013-12-31 16:00:00 |\n",
       "| 2013 | 12 | 31 | NA |  600 | NA | NA |  735 | NA | UA |  219 | NA     | EWR | ORD | NA |  719 |  6 |  0 | 2013-12-31 06:00:00 |\n",
       "| 2013 | 12 | 31 | NA |  830 | NA | NA | 1154 | NA | UA |  443 | NA     | JFK | LAX | NA | 2475 |  8 | 30 | 2013-12-31 08:00:00 |\n",
       "\n"
      ],
      "text/plain": [
       "  year month day dep_time sched_dep_time dep_delay arr_time sched_arr_time\n",
       "1 2013 12    31  NA        855           NA        NA       1142          \n",
       "2 2013 12    31  NA        705           NA        NA        931          \n",
       "3 2013 12    31  NA        825           NA        NA       1029          \n",
       "4 2013 12    31  NA       1615           NA        NA       1800          \n",
       "5 2013 12    31  NA        600           NA        NA        735          \n",
       "6 2013 12    31  NA        830           NA        NA       1154          \n",
       "  arr_delay carrier flight tailnum origin dest air_time distance hour minute\n",
       "1 NA        UA      1506   NA      EWR    JAC  NA       1874      8   55    \n",
       "2 NA        UA      1729   NA      EWR    DEN  NA       1605      7    5    \n",
       "3 NA        US      1831   NA      JFK    CLT  NA        541      8   25    \n",
       "4 NA        MQ      3301   N844MQ  LGA    RDU  NA        431     16   15    \n",
       "5 NA        UA       219   NA      EWR    ORD  NA        719      6    0    \n",
       "6 NA        UA       443   NA      JFK    LAX  NA       2475      8   30    \n",
       "  time_hour          \n",
       "1 2013-12-31 08:00:00\n",
       "2 2013-12-31 07:00:00\n",
       "3 2013-12-31 08:00:00\n",
       "4 2013-12-31 16:00:00\n",
       "5 2013-12-31 06:00:00\n",
       "6 2013-12-31 08:00:00"
      ]
     },
     "metadata": {},
     "output_type": "display_data"
    }
   ],
   "source": [
    "nov_dec <- filter(flights, month %in% c(11,12))\n",
    "nov_dec %>% tail"
   ]
  },
  {
   "cell_type": "code",
   "execution_count": 11,
   "id": "5dec32bd-a6fe-41da-8824-0ef69ff489f1",
   "metadata": {},
   "outputs": [
    {
     "data": {
      "text/html": [
       "<table class=\"dataframe\">\n",
       "<caption>A tibble: 6 × 19</caption>\n",
       "<thead>\n",
       "\t<tr><th scope=col>year</th><th scope=col>month</th><th scope=col>day</th><th scope=col>dep_time</th><th scope=col>sched_dep_time</th><th scope=col>dep_delay</th><th scope=col>arr_time</th><th scope=col>sched_arr_time</th><th scope=col>arr_delay</th><th scope=col>carrier</th><th scope=col>flight</th><th scope=col>tailnum</th><th scope=col>origin</th><th scope=col>dest</th><th scope=col>air_time</th><th scope=col>distance</th><th scope=col>hour</th><th scope=col>minute</th><th scope=col>time_hour</th></tr>\n",
       "\t<tr><th scope=col>&lt;int&gt;</th><th scope=col>&lt;int&gt;</th><th scope=col>&lt;int&gt;</th><th scope=col>&lt;int&gt;</th><th scope=col>&lt;int&gt;</th><th scope=col>&lt;dbl&gt;</th><th scope=col>&lt;int&gt;</th><th scope=col>&lt;int&gt;</th><th scope=col>&lt;dbl&gt;</th><th scope=col>&lt;chr&gt;</th><th scope=col>&lt;int&gt;</th><th scope=col>&lt;chr&gt;</th><th scope=col>&lt;chr&gt;</th><th scope=col>&lt;chr&gt;</th><th scope=col>&lt;dbl&gt;</th><th scope=col>&lt;dbl&gt;</th><th scope=col>&lt;dbl&gt;</th><th scope=col>&lt;dbl&gt;</th><th scope=col>&lt;dttm&gt;</th></tr>\n",
       "</thead>\n",
       "<tbody>\n",
       "\t<tr><td>2013</td><td>1</td><td>1</td><td>517</td><td>515</td><td> 2</td><td> 830</td><td> 819</td><td> 11</td><td>UA</td><td>1545</td><td>N14228</td><td>EWR</td><td>IAH</td><td>227</td><td>1400</td><td>5</td><td>15</td><td>2013-01-01 05:00:00</td></tr>\n",
       "\t<tr><td>2013</td><td>1</td><td>1</td><td>533</td><td>529</td><td> 4</td><td> 850</td><td> 830</td><td> 20</td><td>UA</td><td>1714</td><td>N24211</td><td>LGA</td><td>IAH</td><td>227</td><td>1416</td><td>5</td><td>29</td><td>2013-01-01 05:00:00</td></tr>\n",
       "\t<tr><td>2013</td><td>1</td><td>1</td><td>542</td><td>540</td><td> 2</td><td> 923</td><td> 850</td><td> 33</td><td>AA</td><td>1141</td><td>N619AA</td><td>JFK</td><td>MIA</td><td>160</td><td>1089</td><td>5</td><td>40</td><td>2013-01-01 05:00:00</td></tr>\n",
       "\t<tr><td>2013</td><td>1</td><td>1</td><td>544</td><td>545</td><td>-1</td><td>1004</td><td>1022</td><td>-18</td><td>B6</td><td> 725</td><td>N804JB</td><td>JFK</td><td>BQN</td><td>183</td><td>1576</td><td>5</td><td>45</td><td>2013-01-01 05:00:00</td></tr>\n",
       "\t<tr><td>2013</td><td>1</td><td>1</td><td>554</td><td>600</td><td>-6</td><td> 812</td><td> 837</td><td>-25</td><td>DL</td><td> 461</td><td>N668DN</td><td>LGA</td><td>ATL</td><td>116</td><td> 762</td><td>6</td><td> 0</td><td>2013-01-01 06:00:00</td></tr>\n",
       "\t<tr><td>2013</td><td>1</td><td>1</td><td>554</td><td>558</td><td>-4</td><td> 740</td><td> 728</td><td> 12</td><td>UA</td><td>1696</td><td>N39463</td><td>EWR</td><td>ORD</td><td>150</td><td> 719</td><td>5</td><td>58</td><td>2013-01-01 05:00:00</td></tr>\n",
       "</tbody>\n",
       "</table>\n"
      ],
      "text/latex": [
       "A tibble: 6 × 19\n",
       "\\begin{tabular}{lllllllllllllllllll}\n",
       " year & month & day & dep\\_time & sched\\_dep\\_time & dep\\_delay & arr\\_time & sched\\_arr\\_time & arr\\_delay & carrier & flight & tailnum & origin & dest & air\\_time & distance & hour & minute & time\\_hour\\\\\n",
       " <int> & <int> & <int> & <int> & <int> & <dbl> & <int> & <int> & <dbl> & <chr> & <int> & <chr> & <chr> & <chr> & <dbl> & <dbl> & <dbl> & <dbl> & <dttm>\\\\\n",
       "\\hline\n",
       "\t 2013 & 1 & 1 & 517 & 515 &  2 &  830 &  819 &  11 & UA & 1545 & N14228 & EWR & IAH & 227 & 1400 & 5 & 15 & 2013-01-01 05:00:00\\\\\n",
       "\t 2013 & 1 & 1 & 533 & 529 &  4 &  850 &  830 &  20 & UA & 1714 & N24211 & LGA & IAH & 227 & 1416 & 5 & 29 & 2013-01-01 05:00:00\\\\\n",
       "\t 2013 & 1 & 1 & 542 & 540 &  2 &  923 &  850 &  33 & AA & 1141 & N619AA & JFK & MIA & 160 & 1089 & 5 & 40 & 2013-01-01 05:00:00\\\\\n",
       "\t 2013 & 1 & 1 & 544 & 545 & -1 & 1004 & 1022 & -18 & B6 &  725 & N804JB & JFK & BQN & 183 & 1576 & 5 & 45 & 2013-01-01 05:00:00\\\\\n",
       "\t 2013 & 1 & 1 & 554 & 600 & -6 &  812 &  837 & -25 & DL &  461 & N668DN & LGA & ATL & 116 &  762 & 6 &  0 & 2013-01-01 06:00:00\\\\\n",
       "\t 2013 & 1 & 1 & 554 & 558 & -4 &  740 &  728 &  12 & UA & 1696 & N39463 & EWR & ORD & 150 &  719 & 5 & 58 & 2013-01-01 05:00:00\\\\\n",
       "\\end{tabular}\n"
      ],
      "text/markdown": [
       "\n",
       "A tibble: 6 × 19\n",
       "\n",
       "| year &lt;int&gt; | month &lt;int&gt; | day &lt;int&gt; | dep_time &lt;int&gt; | sched_dep_time &lt;int&gt; | dep_delay &lt;dbl&gt; | arr_time &lt;int&gt; | sched_arr_time &lt;int&gt; | arr_delay &lt;dbl&gt; | carrier &lt;chr&gt; | flight &lt;int&gt; | tailnum &lt;chr&gt; | origin &lt;chr&gt; | dest &lt;chr&gt; | air_time &lt;dbl&gt; | distance &lt;dbl&gt; | hour &lt;dbl&gt; | minute &lt;dbl&gt; | time_hour &lt;dttm&gt; |\n",
       "|---|---|---|---|---|---|---|---|---|---|---|---|---|---|---|---|---|---|---|\n",
       "| 2013 | 1 | 1 | 517 | 515 |  2 |  830 |  819 |  11 | UA | 1545 | N14228 | EWR | IAH | 227 | 1400 | 5 | 15 | 2013-01-01 05:00:00 |\n",
       "| 2013 | 1 | 1 | 533 | 529 |  4 |  850 |  830 |  20 | UA | 1714 | N24211 | LGA | IAH | 227 | 1416 | 5 | 29 | 2013-01-01 05:00:00 |\n",
       "| 2013 | 1 | 1 | 542 | 540 |  2 |  923 |  850 |  33 | AA | 1141 | N619AA | JFK | MIA | 160 | 1089 | 5 | 40 | 2013-01-01 05:00:00 |\n",
       "| 2013 | 1 | 1 | 544 | 545 | -1 | 1004 | 1022 | -18 | B6 |  725 | N804JB | JFK | BQN | 183 | 1576 | 5 | 45 | 2013-01-01 05:00:00 |\n",
       "| 2013 | 1 | 1 | 554 | 600 | -6 |  812 |  837 | -25 | DL |  461 | N668DN | LGA | ATL | 116 |  762 | 6 |  0 | 2013-01-01 06:00:00 |\n",
       "| 2013 | 1 | 1 | 554 | 558 | -4 |  740 |  728 |  12 | UA | 1696 | N39463 | EWR | ORD | 150 |  719 | 5 | 58 | 2013-01-01 05:00:00 |\n",
       "\n"
      ],
      "text/plain": [
       "  year month day dep_time sched_dep_time dep_delay arr_time sched_arr_time\n",
       "1 2013 1     1   517      515             2         830      819          \n",
       "2 2013 1     1   533      529             4         850      830          \n",
       "3 2013 1     1   542      540             2         923      850          \n",
       "4 2013 1     1   544      545            -1        1004     1022          \n",
       "5 2013 1     1   554      600            -6         812      837          \n",
       "6 2013 1     1   554      558            -4         740      728          \n",
       "  arr_delay carrier flight tailnum origin dest air_time distance hour minute\n",
       "1  11       UA      1545   N14228  EWR    IAH  227      1400     5    15    \n",
       "2  20       UA      1714   N24211  LGA    IAH  227      1416     5    29    \n",
       "3  33       AA      1141   N619AA  JFK    MIA  160      1089     5    40    \n",
       "4 -18       B6       725   N804JB  JFK    BQN  183      1576     5    45    \n",
       "5 -25       DL       461   N668DN  LGA    ATL  116       762     6     0    \n",
       "6  12       UA      1696   N39463  EWR    ORD  150       719     5    58    \n",
       "  time_hour          \n",
       "1 2013-01-01 05:00:00\n",
       "2 2013-01-01 05:00:00\n",
       "3 2013-01-01 05:00:00\n",
       "4 2013-01-01 05:00:00\n",
       "5 2013-01-01 06:00:00\n",
       "6 2013-01-01 05:00:00"
      ]
     },
     "metadata": {},
     "output_type": "display_data"
    }
   ],
   "source": [
    "filter(flights, !(arr_delay > 120 | dep_delay > 120)) %>% head"
   ]
  },
  {
   "cell_type": "code",
   "execution_count": 12,
   "id": "a288a1a8-db38-4b96-a26a-e522e72dc96d",
   "metadata": {},
   "outputs": [],
   "source": [
    "df <- tibble(x = c(1, NA, 3))"
   ]
  },
  {
   "cell_type": "code",
   "execution_count": 13,
   "id": "3bfd2300-218e-4bb9-87e8-af03c3842eb1",
   "metadata": {},
   "outputs": [
    {
     "data": {
      "text/html": [
       "<table class=\"dataframe\">\n",
       "<caption>A tibble: 3 × 1</caption>\n",
       "<thead>\n",
       "\t<tr><th scope=col>x</th></tr>\n",
       "\t<tr><th scope=col>&lt;dbl&gt;</th></tr>\n",
       "</thead>\n",
       "<tbody>\n",
       "\t<tr><td> 1</td></tr>\n",
       "\t<tr><td>NA</td></tr>\n",
       "\t<tr><td> 3</td></tr>\n",
       "</tbody>\n",
       "</table>\n"
      ],
      "text/latex": [
       "A tibble: 3 × 1\n",
       "\\begin{tabular}{l}\n",
       " x\\\\\n",
       " <dbl>\\\\\n",
       "\\hline\n",
       "\t  1\\\\\n",
       "\t NA\\\\\n",
       "\t  3\\\\\n",
       "\\end{tabular}\n"
      ],
      "text/markdown": [
       "\n",
       "A tibble: 3 × 1\n",
       "\n",
       "| x &lt;dbl&gt; |\n",
       "|---|\n",
       "|  1 |\n",
       "| NA |\n",
       "|  3 |\n",
       "\n"
      ],
      "text/plain": [
       "  x \n",
       "1  1\n",
       "2 NA\n",
       "3  3"
      ]
     },
     "metadata": {},
     "output_type": "display_data"
    }
   ],
   "source": [
    "df"
   ]
  },
  {
   "cell_type": "code",
   "execution_count": 14,
   "id": "599a198a-a685-4346-a0fc-240bae5bd15e",
   "metadata": {},
   "outputs": [
    {
     "data": {
      "text/html": [
       "<table class=\"dataframe\">\n",
       "<caption>A tibble: 1 × 1</caption>\n",
       "<thead>\n",
       "\t<tr><th scope=col>x</th></tr>\n",
       "\t<tr><th scope=col>&lt;dbl&gt;</th></tr>\n",
       "</thead>\n",
       "<tbody>\n",
       "\t<tr><td>3</td></tr>\n",
       "</tbody>\n",
       "</table>\n"
      ],
      "text/latex": [
       "A tibble: 1 × 1\n",
       "\\begin{tabular}{l}\n",
       " x\\\\\n",
       " <dbl>\\\\\n",
       "\\hline\n",
       "\t 3\\\\\n",
       "\\end{tabular}\n"
      ],
      "text/markdown": [
       "\n",
       "A tibble: 1 × 1\n",
       "\n",
       "| x &lt;dbl&gt; |\n",
       "|---|\n",
       "| 3 |\n",
       "\n"
      ],
      "text/plain": [
       "  x\n",
       "1 3"
      ]
     },
     "metadata": {},
     "output_type": "display_data"
    }
   ],
   "source": [
    "filter(df, x >1)"
   ]
  },
  {
   "cell_type": "markdown",
   "id": "a0a731c9-daaf-49ff-9e6c-38dce14049e0",
   "metadata": {},
   "source": [
    "`arrange` : `desc`와 같이 정렬할 때 사용하는 `filter`"
   ]
  },
  {
   "cell_type": "code",
   "execution_count": 15,
   "id": "baa3bd72-7d62-4560-9548-e4a2d9d47152",
   "metadata": {},
   "outputs": [
    {
     "data": {
      "text/html": [
       "<table class=\"dataframe\">\n",
       "<caption>A tibble: 6 × 19</caption>\n",
       "<thead>\n",
       "\t<tr><th scope=col>year</th><th scope=col>month</th><th scope=col>day</th><th scope=col>dep_time</th><th scope=col>sched_dep_time</th><th scope=col>dep_delay</th><th scope=col>arr_time</th><th scope=col>sched_arr_time</th><th scope=col>arr_delay</th><th scope=col>carrier</th><th scope=col>flight</th><th scope=col>tailnum</th><th scope=col>origin</th><th scope=col>dest</th><th scope=col>air_time</th><th scope=col>distance</th><th scope=col>hour</th><th scope=col>minute</th><th scope=col>time_hour</th></tr>\n",
       "\t<tr><th scope=col>&lt;int&gt;</th><th scope=col>&lt;int&gt;</th><th scope=col>&lt;int&gt;</th><th scope=col>&lt;int&gt;</th><th scope=col>&lt;int&gt;</th><th scope=col>&lt;dbl&gt;</th><th scope=col>&lt;int&gt;</th><th scope=col>&lt;int&gt;</th><th scope=col>&lt;dbl&gt;</th><th scope=col>&lt;chr&gt;</th><th scope=col>&lt;int&gt;</th><th scope=col>&lt;chr&gt;</th><th scope=col>&lt;chr&gt;</th><th scope=col>&lt;chr&gt;</th><th scope=col>&lt;dbl&gt;</th><th scope=col>&lt;dbl&gt;</th><th scope=col>&lt;dbl&gt;</th><th scope=col>&lt;dbl&gt;</th><th scope=col>&lt;dttm&gt;</th></tr>\n",
       "</thead>\n",
       "<tbody>\n",
       "\t<tr><td>2013</td><td>1</td><td> 9</td><td> 641</td><td> 900</td><td>1301</td><td>1242</td><td>1530</td><td>1272</td><td>HA</td><td>  51</td><td>N384HA</td><td>JFK</td><td>HNL</td><td>640</td><td>4983</td><td> 9</td><td> 0</td><td>2013-01-09 09:00:00</td></tr>\n",
       "\t<tr><td>2013</td><td>6</td><td>15</td><td>1432</td><td>1935</td><td>1137</td><td>1607</td><td>2120</td><td>1127</td><td>MQ</td><td>3535</td><td>N504MQ</td><td>JFK</td><td>CMH</td><td> 74</td><td> 483</td><td>19</td><td>35</td><td>2013-06-15 19:00:00</td></tr>\n",
       "\t<tr><td>2013</td><td>1</td><td>10</td><td>1121</td><td>1635</td><td>1126</td><td>1239</td><td>1810</td><td>1109</td><td>MQ</td><td>3695</td><td>N517MQ</td><td>EWR</td><td>ORD</td><td>111</td><td> 719</td><td>16</td><td>35</td><td>2013-01-10 16:00:00</td></tr>\n",
       "\t<tr><td>2013</td><td>9</td><td>20</td><td>1139</td><td>1845</td><td>1014</td><td>1457</td><td>2210</td><td>1007</td><td>AA</td><td> 177</td><td>N338AA</td><td>JFK</td><td>SFO</td><td>354</td><td>2586</td><td>18</td><td>45</td><td>2013-09-20 18:00:00</td></tr>\n",
       "\t<tr><td>2013</td><td>7</td><td>22</td><td> 845</td><td>1600</td><td>1005</td><td>1044</td><td>1815</td><td> 989</td><td>MQ</td><td>3075</td><td>N665MQ</td><td>JFK</td><td>CVG</td><td> 96</td><td> 589</td><td>16</td><td> 0</td><td>2013-07-22 16:00:00</td></tr>\n",
       "\t<tr><td>2013</td><td>4</td><td>10</td><td>1100</td><td>1900</td><td> 960</td><td>1342</td><td>2211</td><td> 931</td><td>DL</td><td>2391</td><td>N959DL</td><td>JFK</td><td>TPA</td><td>139</td><td>1005</td><td>19</td><td> 0</td><td>2013-04-10 19:00:00</td></tr>\n",
       "</tbody>\n",
       "</table>\n"
      ],
      "text/latex": [
       "A tibble: 6 × 19\n",
       "\\begin{tabular}{lllllllllllllllllll}\n",
       " year & month & day & dep\\_time & sched\\_dep\\_time & dep\\_delay & arr\\_time & sched\\_arr\\_time & arr\\_delay & carrier & flight & tailnum & origin & dest & air\\_time & distance & hour & minute & time\\_hour\\\\\n",
       " <int> & <int> & <int> & <int> & <int> & <dbl> & <int> & <int> & <dbl> & <chr> & <int> & <chr> & <chr> & <chr> & <dbl> & <dbl> & <dbl> & <dbl> & <dttm>\\\\\n",
       "\\hline\n",
       "\t 2013 & 1 &  9 &  641 &  900 & 1301 & 1242 & 1530 & 1272 & HA &   51 & N384HA & JFK & HNL & 640 & 4983 &  9 &  0 & 2013-01-09 09:00:00\\\\\n",
       "\t 2013 & 6 & 15 & 1432 & 1935 & 1137 & 1607 & 2120 & 1127 & MQ & 3535 & N504MQ & JFK & CMH &  74 &  483 & 19 & 35 & 2013-06-15 19:00:00\\\\\n",
       "\t 2013 & 1 & 10 & 1121 & 1635 & 1126 & 1239 & 1810 & 1109 & MQ & 3695 & N517MQ & EWR & ORD & 111 &  719 & 16 & 35 & 2013-01-10 16:00:00\\\\\n",
       "\t 2013 & 9 & 20 & 1139 & 1845 & 1014 & 1457 & 2210 & 1007 & AA &  177 & N338AA & JFK & SFO & 354 & 2586 & 18 & 45 & 2013-09-20 18:00:00\\\\\n",
       "\t 2013 & 7 & 22 &  845 & 1600 & 1005 & 1044 & 1815 &  989 & MQ & 3075 & N665MQ & JFK & CVG &  96 &  589 & 16 &  0 & 2013-07-22 16:00:00\\\\\n",
       "\t 2013 & 4 & 10 & 1100 & 1900 &  960 & 1342 & 2211 &  931 & DL & 2391 & N959DL & JFK & TPA & 139 & 1005 & 19 &  0 & 2013-04-10 19:00:00\\\\\n",
       "\\end{tabular}\n"
      ],
      "text/markdown": [
       "\n",
       "A tibble: 6 × 19\n",
       "\n",
       "| year &lt;int&gt; | month &lt;int&gt; | day &lt;int&gt; | dep_time &lt;int&gt; | sched_dep_time &lt;int&gt; | dep_delay &lt;dbl&gt; | arr_time &lt;int&gt; | sched_arr_time &lt;int&gt; | arr_delay &lt;dbl&gt; | carrier &lt;chr&gt; | flight &lt;int&gt; | tailnum &lt;chr&gt; | origin &lt;chr&gt; | dest &lt;chr&gt; | air_time &lt;dbl&gt; | distance &lt;dbl&gt; | hour &lt;dbl&gt; | minute &lt;dbl&gt; | time_hour &lt;dttm&gt; |\n",
       "|---|---|---|---|---|---|---|---|---|---|---|---|---|---|---|---|---|---|---|\n",
       "| 2013 | 1 |  9 |  641 |  900 | 1301 | 1242 | 1530 | 1272 | HA |   51 | N384HA | JFK | HNL | 640 | 4983 |  9 |  0 | 2013-01-09 09:00:00 |\n",
       "| 2013 | 6 | 15 | 1432 | 1935 | 1137 | 1607 | 2120 | 1127 | MQ | 3535 | N504MQ | JFK | CMH |  74 |  483 | 19 | 35 | 2013-06-15 19:00:00 |\n",
       "| 2013 | 1 | 10 | 1121 | 1635 | 1126 | 1239 | 1810 | 1109 | MQ | 3695 | N517MQ | EWR | ORD | 111 |  719 | 16 | 35 | 2013-01-10 16:00:00 |\n",
       "| 2013 | 9 | 20 | 1139 | 1845 | 1014 | 1457 | 2210 | 1007 | AA |  177 | N338AA | JFK | SFO | 354 | 2586 | 18 | 45 | 2013-09-20 18:00:00 |\n",
       "| 2013 | 7 | 22 |  845 | 1600 | 1005 | 1044 | 1815 |  989 | MQ | 3075 | N665MQ | JFK | CVG |  96 |  589 | 16 |  0 | 2013-07-22 16:00:00 |\n",
       "| 2013 | 4 | 10 | 1100 | 1900 |  960 | 1342 | 2211 |  931 | DL | 2391 | N959DL | JFK | TPA | 139 | 1005 | 19 |  0 | 2013-04-10 19:00:00 |\n",
       "\n"
      ],
      "text/plain": [
       "  year month day dep_time sched_dep_time dep_delay arr_time sched_arr_time\n",
       "1 2013 1      9   641      900           1301      1242     1530          \n",
       "2 2013 6     15  1432     1935           1137      1607     2120          \n",
       "3 2013 1     10  1121     1635           1126      1239     1810          \n",
       "4 2013 9     20  1139     1845           1014      1457     2210          \n",
       "5 2013 7     22   845     1600           1005      1044     1815          \n",
       "6 2013 4     10  1100     1900            960      1342     2211          \n",
       "  arr_delay carrier flight tailnum origin dest air_time distance hour minute\n",
       "1 1272      HA        51   N384HA  JFK    HNL  640      4983      9    0    \n",
       "2 1127      MQ      3535   N504MQ  JFK    CMH   74       483     19   35    \n",
       "3 1109      MQ      3695   N517MQ  EWR    ORD  111       719     16   35    \n",
       "4 1007      AA       177   N338AA  JFK    SFO  354      2586     18   45    \n",
       "5  989      MQ      3075   N665MQ  JFK    CVG   96       589     16    0    \n",
       "6  931      DL      2391   N959DL  JFK    TPA  139      1005     19    0    \n",
       "  time_hour          \n",
       "1 2013-01-09 09:00:00\n",
       "2 2013-06-15 19:00:00\n",
       "3 2013-01-10 16:00:00\n",
       "4 2013-09-20 18:00:00\n",
       "5 2013-07-22 16:00:00\n",
       "6 2013-04-10 19:00:00"
      ]
     },
     "metadata": {},
     "output_type": "display_data"
    }
   ],
   "source": [
    "arrange(flights, desc(arr_delay)) %>% head"
   ]
  },
  {
   "cell_type": "code",
   "execution_count": 16,
   "id": "58aeabee-2f26-4572-9a3f-d7c2dc1bbd9d",
   "metadata": {},
   "outputs": [
    {
     "data": {
      "text/html": [
       "<table class=\"dataframe\">\n",
       "<caption>A tibble: 3 × 1</caption>\n",
       "<thead>\n",
       "\t<tr><th scope=col>x</th></tr>\n",
       "\t<tr><th scope=col>&lt;dbl&gt;</th></tr>\n",
       "</thead>\n",
       "<tbody>\n",
       "\t<tr><td> 2</td></tr>\n",
       "\t<tr><td> 5</td></tr>\n",
       "\t<tr><td>NA</td></tr>\n",
       "</tbody>\n",
       "</table>\n"
      ],
      "text/latex": [
       "A tibble: 3 × 1\n",
       "\\begin{tabular}{l}\n",
       " x\\\\\n",
       " <dbl>\\\\\n",
       "\\hline\n",
       "\t  2\\\\\n",
       "\t  5\\\\\n",
       "\t NA\\\\\n",
       "\\end{tabular}\n"
      ],
      "text/markdown": [
       "\n",
       "A tibble: 3 × 1\n",
       "\n",
       "| x &lt;dbl&gt; |\n",
       "|---|\n",
       "|  2 |\n",
       "|  5 |\n",
       "| NA |\n",
       "\n"
      ],
      "text/plain": [
       "  x \n",
       "1  2\n",
       "2  5\n",
       "3 NA"
      ]
     },
     "metadata": {},
     "output_type": "display_data"
    }
   ],
   "source": [
    "df <- tibble(x = c(5,2, NA))\n",
    "arrange(df, x)"
   ]
  },
  {
   "cell_type": "markdown",
   "id": "fcd5ef92-3910-45dc-8d76-eba06255c6f7",
   "metadata": {},
   "source": [
    "`select` : 관심 있는 열만 보기"
   ]
  },
  {
   "cell_type": "code",
   "execution_count": 17,
   "id": "dbbf4576-17b6-42cb-bdca-e363e0250e1a",
   "metadata": {},
   "outputs": [
    {
     "data": {
      "text/html": [
       "<table class=\"dataframe\">\n",
       "<caption>A tibble: 6 × 3</caption>\n",
       "<thead>\n",
       "\t<tr><th scope=col>year</th><th scope=col>month</th><th scope=col>day</th></tr>\n",
       "\t<tr><th scope=col>&lt;int&gt;</th><th scope=col>&lt;int&gt;</th><th scope=col>&lt;int&gt;</th></tr>\n",
       "</thead>\n",
       "<tbody>\n",
       "\t<tr><td>2013</td><td>1</td><td>1</td></tr>\n",
       "\t<tr><td>2013</td><td>1</td><td>1</td></tr>\n",
       "\t<tr><td>2013</td><td>1</td><td>1</td></tr>\n",
       "\t<tr><td>2013</td><td>1</td><td>1</td></tr>\n",
       "\t<tr><td>2013</td><td>1</td><td>1</td></tr>\n",
       "\t<tr><td>2013</td><td>1</td><td>1</td></tr>\n",
       "</tbody>\n",
       "</table>\n"
      ],
      "text/latex": [
       "A tibble: 6 × 3\n",
       "\\begin{tabular}{lll}\n",
       " year & month & day\\\\\n",
       " <int> & <int> & <int>\\\\\n",
       "\\hline\n",
       "\t 2013 & 1 & 1\\\\\n",
       "\t 2013 & 1 & 1\\\\\n",
       "\t 2013 & 1 & 1\\\\\n",
       "\t 2013 & 1 & 1\\\\\n",
       "\t 2013 & 1 & 1\\\\\n",
       "\t 2013 & 1 & 1\\\\\n",
       "\\end{tabular}\n"
      ],
      "text/markdown": [
       "\n",
       "A tibble: 6 × 3\n",
       "\n",
       "| year &lt;int&gt; | month &lt;int&gt; | day &lt;int&gt; |\n",
       "|---|---|---|\n",
       "| 2013 | 1 | 1 |\n",
       "| 2013 | 1 | 1 |\n",
       "| 2013 | 1 | 1 |\n",
       "| 2013 | 1 | 1 |\n",
       "| 2013 | 1 | 1 |\n",
       "| 2013 | 1 | 1 |\n",
       "\n"
      ],
      "text/plain": [
       "  year month day\n",
       "1 2013 1     1  \n",
       "2 2013 1     1  \n",
       "3 2013 1     1  \n",
       "4 2013 1     1  \n",
       "5 2013 1     1  \n",
       "6 2013 1     1  "
      ]
     },
     "metadata": {},
     "output_type": "display_data"
    }
   ],
   "source": [
    "select(flights, year, month, day) %>% head"
   ]
  },
  {
   "cell_type": "markdown",
   "id": "b8bb9d40-4e13-4bc4-aeec-edc150e58a25",
   "metadata": {},
   "source": [
    "`:`  a ~ b까지"
   ]
  },
  {
   "cell_type": "code",
   "execution_count": 18,
   "id": "8f3ac254-fb79-4fbe-a84b-4b9e98620142",
   "metadata": {},
   "outputs": [
    {
     "data": {
      "text/html": [
       "<table class=\"dataframe\">\n",
       "<caption>A tibble: 6 × 9</caption>\n",
       "<thead>\n",
       "\t<tr><th scope=col>year</th><th scope=col>month</th><th scope=col>day</th><th scope=col>dep_time</th><th scope=col>sched_dep_time</th><th scope=col>dep_delay</th><th scope=col>arr_time</th><th scope=col>sched_arr_time</th><th scope=col>arr_delay</th></tr>\n",
       "\t<tr><th scope=col>&lt;int&gt;</th><th scope=col>&lt;int&gt;</th><th scope=col>&lt;int&gt;</th><th scope=col>&lt;int&gt;</th><th scope=col>&lt;int&gt;</th><th scope=col>&lt;dbl&gt;</th><th scope=col>&lt;int&gt;</th><th scope=col>&lt;int&gt;</th><th scope=col>&lt;dbl&gt;</th></tr>\n",
       "</thead>\n",
       "<tbody>\n",
       "\t<tr><td>2013</td><td>1</td><td>1</td><td>517</td><td>515</td><td> 2</td><td> 830</td><td> 819</td><td> 11</td></tr>\n",
       "\t<tr><td>2013</td><td>1</td><td>1</td><td>533</td><td>529</td><td> 4</td><td> 850</td><td> 830</td><td> 20</td></tr>\n",
       "\t<tr><td>2013</td><td>1</td><td>1</td><td>542</td><td>540</td><td> 2</td><td> 923</td><td> 850</td><td> 33</td></tr>\n",
       "\t<tr><td>2013</td><td>1</td><td>1</td><td>544</td><td>545</td><td>-1</td><td>1004</td><td>1022</td><td>-18</td></tr>\n",
       "\t<tr><td>2013</td><td>1</td><td>1</td><td>554</td><td>600</td><td>-6</td><td> 812</td><td> 837</td><td>-25</td></tr>\n",
       "\t<tr><td>2013</td><td>1</td><td>1</td><td>554</td><td>558</td><td>-4</td><td> 740</td><td> 728</td><td> 12</td></tr>\n",
       "</tbody>\n",
       "</table>\n"
      ],
      "text/latex": [
       "A tibble: 6 × 9\n",
       "\\begin{tabular}{lllllllll}\n",
       " year & month & day & dep\\_time & sched\\_dep\\_time & dep\\_delay & arr\\_time & sched\\_arr\\_time & arr\\_delay\\\\\n",
       " <int> & <int> & <int> & <int> & <int> & <dbl> & <int> & <int> & <dbl>\\\\\n",
       "\\hline\n",
       "\t 2013 & 1 & 1 & 517 & 515 &  2 &  830 &  819 &  11\\\\\n",
       "\t 2013 & 1 & 1 & 533 & 529 &  4 &  850 &  830 &  20\\\\\n",
       "\t 2013 & 1 & 1 & 542 & 540 &  2 &  923 &  850 &  33\\\\\n",
       "\t 2013 & 1 & 1 & 544 & 545 & -1 & 1004 & 1022 & -18\\\\\n",
       "\t 2013 & 1 & 1 & 554 & 600 & -6 &  812 &  837 & -25\\\\\n",
       "\t 2013 & 1 & 1 & 554 & 558 & -4 &  740 &  728 &  12\\\\\n",
       "\\end{tabular}\n"
      ],
      "text/markdown": [
       "\n",
       "A tibble: 6 × 9\n",
       "\n",
       "| year &lt;int&gt; | month &lt;int&gt; | day &lt;int&gt; | dep_time &lt;int&gt; | sched_dep_time &lt;int&gt; | dep_delay &lt;dbl&gt; | arr_time &lt;int&gt; | sched_arr_time &lt;int&gt; | arr_delay &lt;dbl&gt; |\n",
       "|---|---|---|---|---|---|---|---|---|\n",
       "| 2013 | 1 | 1 | 517 | 515 |  2 |  830 |  819 |  11 |\n",
       "| 2013 | 1 | 1 | 533 | 529 |  4 |  850 |  830 |  20 |\n",
       "| 2013 | 1 | 1 | 542 | 540 |  2 |  923 |  850 |  33 |\n",
       "| 2013 | 1 | 1 | 544 | 545 | -1 | 1004 | 1022 | -18 |\n",
       "| 2013 | 1 | 1 | 554 | 600 | -6 |  812 |  837 | -25 |\n",
       "| 2013 | 1 | 1 | 554 | 558 | -4 |  740 |  728 |  12 |\n",
       "\n"
      ],
      "text/plain": [
       "  year month day dep_time sched_dep_time dep_delay arr_time sched_arr_time\n",
       "1 2013 1     1   517      515             2         830      819          \n",
       "2 2013 1     1   533      529             4         850      830          \n",
       "3 2013 1     1   542      540             2         923      850          \n",
       "4 2013 1     1   544      545            -1        1004     1022          \n",
       "5 2013 1     1   554      600            -6         812      837          \n",
       "6 2013 1     1   554      558            -4         740      728          \n",
       "  arr_delay\n",
       "1  11      \n",
       "2  20      \n",
       "3  33      \n",
       "4 -18      \n",
       "5 -25      \n",
       "6  12      "
      ]
     },
     "metadata": {},
     "output_type": "display_data"
    }
   ],
   "source": [
    "select(flights, year:arr_delay) %>% head"
   ]
  },
  {
   "cell_type": "code",
   "execution_count": 19,
   "id": "b6c125a8-0f0a-4145-990a-20222401c734",
   "metadata": {},
   "outputs": [
    {
     "data": {
      "text/html": [
       "<table class=\"dataframe\">\n",
       "<caption>A tibble: 6 × 4</caption>\n",
       "<thead>\n",
       "\t<tr><th scope=col>distance</th><th scope=col>hour</th><th scope=col>minute</th><th scope=col>time_hour</th></tr>\n",
       "\t<tr><th scope=col>&lt;dbl&gt;</th><th scope=col>&lt;dbl&gt;</th><th scope=col>&lt;dbl&gt;</th><th scope=col>&lt;dttm&gt;</th></tr>\n",
       "</thead>\n",
       "<tbody>\n",
       "\t<tr><td>1400</td><td>5</td><td>15</td><td>2013-01-01 05:00:00</td></tr>\n",
       "\t<tr><td>1416</td><td>5</td><td>29</td><td>2013-01-01 05:00:00</td></tr>\n",
       "\t<tr><td>1089</td><td>5</td><td>40</td><td>2013-01-01 05:00:00</td></tr>\n",
       "\t<tr><td>1576</td><td>5</td><td>45</td><td>2013-01-01 05:00:00</td></tr>\n",
       "\t<tr><td> 762</td><td>6</td><td> 0</td><td>2013-01-01 06:00:00</td></tr>\n",
       "\t<tr><td> 719</td><td>5</td><td>58</td><td>2013-01-01 05:00:00</td></tr>\n",
       "</tbody>\n",
       "</table>\n"
      ],
      "text/latex": [
       "A tibble: 6 × 4\n",
       "\\begin{tabular}{llll}\n",
       " distance & hour & minute & time\\_hour\\\\\n",
       " <dbl> & <dbl> & <dbl> & <dttm>\\\\\n",
       "\\hline\n",
       "\t 1400 & 5 & 15 & 2013-01-01 05:00:00\\\\\n",
       "\t 1416 & 5 & 29 & 2013-01-01 05:00:00\\\\\n",
       "\t 1089 & 5 & 40 & 2013-01-01 05:00:00\\\\\n",
       "\t 1576 & 5 & 45 & 2013-01-01 05:00:00\\\\\n",
       "\t  762 & 6 &  0 & 2013-01-01 06:00:00\\\\\n",
       "\t  719 & 5 & 58 & 2013-01-01 05:00:00\\\\\n",
       "\\end{tabular}\n"
      ],
      "text/markdown": [
       "\n",
       "A tibble: 6 × 4\n",
       "\n",
       "| distance &lt;dbl&gt; | hour &lt;dbl&gt; | minute &lt;dbl&gt; | time_hour &lt;dttm&gt; |\n",
       "|---|---|---|---|\n",
       "| 1400 | 5 | 15 | 2013-01-01 05:00:00 |\n",
       "| 1416 | 5 | 29 | 2013-01-01 05:00:00 |\n",
       "| 1089 | 5 | 40 | 2013-01-01 05:00:00 |\n",
       "| 1576 | 5 | 45 | 2013-01-01 05:00:00 |\n",
       "|  762 | 6 |  0 | 2013-01-01 06:00:00 |\n",
       "|  719 | 5 | 58 | 2013-01-01 05:00:00 |\n",
       "\n"
      ],
      "text/plain": [
       "  distance hour minute time_hour          \n",
       "1 1400     5    15     2013-01-01 05:00:00\n",
       "2 1416     5    29     2013-01-01 05:00:00\n",
       "3 1089     5    40     2013-01-01 05:00:00\n",
       "4 1576     5    45     2013-01-01 05:00:00\n",
       "5  762     6     0     2013-01-01 06:00:00\n",
       "6  719     5    58     2013-01-01 05:00:00"
      ]
     },
     "metadata": {},
     "output_type": "display_data"
    }
   ],
   "source": [
    "select(flights, -(year:air_time)) %>% head"
   ]
  },
  {
   "cell_type": "markdown",
   "id": "52023d03-0f83-4003-860b-e3b217c0f18d",
   "metadata": {},
   "source": [
    "`-` 추가"
   ]
  },
  {
   "cell_type": "markdown",
   "id": "f53c9062-fd85-4d02-99bb-39dc7c24d6e6",
   "metadata": {},
   "source": [
    ">  `select()` 안에서 사용할 수 있는 함수들<br>  \n",
    " - `starts_with('abc')` : 'abc'로 시작하는 이름에 매칭<br>   \n",
    " - `ends_with(\"xyz\")` : 'xyz'로 끝나는 이름에 매칭<br>   \n",
    " - `contains('abc')` : 'abc'를 포함한 이름에 매칭<br>   \n",
    " - `num_range('x', 1:3)` : x1,x2,x3에 매칭"
   ]
  },
  {
   "cell_type": "markdown",
   "id": "bbfbe98f-a67b-4862-b200-836207bb707b",
   "metadata": {},
   "source": [
    "`rename` : 변수명 변경"
   ]
  },
  {
   "cell_type": "code",
   "execution_count": 20,
   "id": "3a5afcad-d570-4302-abf5-e50f543a2eb8",
   "metadata": {},
   "outputs": [
    {
     "data": {
      "text/html": [
       "<table class=\"dataframe\">\n",
       "<caption>A tibble: 6 × 19</caption>\n",
       "<thead>\n",
       "\t<tr><th scope=col>year</th><th scope=col>month</th><th scope=col>day</th><th scope=col>dep_time</th><th scope=col>sched_dep_time</th><th scope=col>dep_delay</th><th scope=col>arr_time</th><th scope=col>sched_arr_time</th><th scope=col>arr_delay</th><th scope=col>carrier</th><th scope=col>flight</th><th scope=col>tail_num</th><th scope=col>origin</th><th scope=col>dest</th><th scope=col>air_time</th><th scope=col>distance</th><th scope=col>hour</th><th scope=col>minute</th><th scope=col>time_hour</th></tr>\n",
       "\t<tr><th scope=col>&lt;int&gt;</th><th scope=col>&lt;int&gt;</th><th scope=col>&lt;int&gt;</th><th scope=col>&lt;int&gt;</th><th scope=col>&lt;int&gt;</th><th scope=col>&lt;dbl&gt;</th><th scope=col>&lt;int&gt;</th><th scope=col>&lt;int&gt;</th><th scope=col>&lt;dbl&gt;</th><th scope=col>&lt;chr&gt;</th><th scope=col>&lt;int&gt;</th><th scope=col>&lt;chr&gt;</th><th scope=col>&lt;chr&gt;</th><th scope=col>&lt;chr&gt;</th><th scope=col>&lt;dbl&gt;</th><th scope=col>&lt;dbl&gt;</th><th scope=col>&lt;dbl&gt;</th><th scope=col>&lt;dbl&gt;</th><th scope=col>&lt;dttm&gt;</th></tr>\n",
       "</thead>\n",
       "<tbody>\n",
       "\t<tr><td>2013</td><td>1</td><td>1</td><td>517</td><td>515</td><td> 2</td><td> 830</td><td> 819</td><td> 11</td><td>UA</td><td>1545</td><td>N14228</td><td>EWR</td><td>IAH</td><td>227</td><td>1400</td><td>5</td><td>15</td><td>2013-01-01 05:00:00</td></tr>\n",
       "\t<tr><td>2013</td><td>1</td><td>1</td><td>533</td><td>529</td><td> 4</td><td> 850</td><td> 830</td><td> 20</td><td>UA</td><td>1714</td><td>N24211</td><td>LGA</td><td>IAH</td><td>227</td><td>1416</td><td>5</td><td>29</td><td>2013-01-01 05:00:00</td></tr>\n",
       "\t<tr><td>2013</td><td>1</td><td>1</td><td>542</td><td>540</td><td> 2</td><td> 923</td><td> 850</td><td> 33</td><td>AA</td><td>1141</td><td>N619AA</td><td>JFK</td><td>MIA</td><td>160</td><td>1089</td><td>5</td><td>40</td><td>2013-01-01 05:00:00</td></tr>\n",
       "\t<tr><td>2013</td><td>1</td><td>1</td><td>544</td><td>545</td><td>-1</td><td>1004</td><td>1022</td><td>-18</td><td>B6</td><td> 725</td><td>N804JB</td><td>JFK</td><td>BQN</td><td>183</td><td>1576</td><td>5</td><td>45</td><td>2013-01-01 05:00:00</td></tr>\n",
       "\t<tr><td>2013</td><td>1</td><td>1</td><td>554</td><td>600</td><td>-6</td><td> 812</td><td> 837</td><td>-25</td><td>DL</td><td> 461</td><td>N668DN</td><td>LGA</td><td>ATL</td><td>116</td><td> 762</td><td>6</td><td> 0</td><td>2013-01-01 06:00:00</td></tr>\n",
       "\t<tr><td>2013</td><td>1</td><td>1</td><td>554</td><td>558</td><td>-4</td><td> 740</td><td> 728</td><td> 12</td><td>UA</td><td>1696</td><td>N39463</td><td>EWR</td><td>ORD</td><td>150</td><td> 719</td><td>5</td><td>58</td><td>2013-01-01 05:00:00</td></tr>\n",
       "</tbody>\n",
       "</table>\n"
      ],
      "text/latex": [
       "A tibble: 6 × 19\n",
       "\\begin{tabular}{lllllllllllllllllll}\n",
       " year & month & day & dep\\_time & sched\\_dep\\_time & dep\\_delay & arr\\_time & sched\\_arr\\_time & arr\\_delay & carrier & flight & tail\\_num & origin & dest & air\\_time & distance & hour & minute & time\\_hour\\\\\n",
       " <int> & <int> & <int> & <int> & <int> & <dbl> & <int> & <int> & <dbl> & <chr> & <int> & <chr> & <chr> & <chr> & <dbl> & <dbl> & <dbl> & <dbl> & <dttm>\\\\\n",
       "\\hline\n",
       "\t 2013 & 1 & 1 & 517 & 515 &  2 &  830 &  819 &  11 & UA & 1545 & N14228 & EWR & IAH & 227 & 1400 & 5 & 15 & 2013-01-01 05:00:00\\\\\n",
       "\t 2013 & 1 & 1 & 533 & 529 &  4 &  850 &  830 &  20 & UA & 1714 & N24211 & LGA & IAH & 227 & 1416 & 5 & 29 & 2013-01-01 05:00:00\\\\\n",
       "\t 2013 & 1 & 1 & 542 & 540 &  2 &  923 &  850 &  33 & AA & 1141 & N619AA & JFK & MIA & 160 & 1089 & 5 & 40 & 2013-01-01 05:00:00\\\\\n",
       "\t 2013 & 1 & 1 & 544 & 545 & -1 & 1004 & 1022 & -18 & B6 &  725 & N804JB & JFK & BQN & 183 & 1576 & 5 & 45 & 2013-01-01 05:00:00\\\\\n",
       "\t 2013 & 1 & 1 & 554 & 600 & -6 &  812 &  837 & -25 & DL &  461 & N668DN & LGA & ATL & 116 &  762 & 6 &  0 & 2013-01-01 06:00:00\\\\\n",
       "\t 2013 & 1 & 1 & 554 & 558 & -4 &  740 &  728 &  12 & UA & 1696 & N39463 & EWR & ORD & 150 &  719 & 5 & 58 & 2013-01-01 05:00:00\\\\\n",
       "\\end{tabular}\n"
      ],
      "text/markdown": [
       "\n",
       "A tibble: 6 × 19\n",
       "\n",
       "| year &lt;int&gt; | month &lt;int&gt; | day &lt;int&gt; | dep_time &lt;int&gt; | sched_dep_time &lt;int&gt; | dep_delay &lt;dbl&gt; | arr_time &lt;int&gt; | sched_arr_time &lt;int&gt; | arr_delay &lt;dbl&gt; | carrier &lt;chr&gt; | flight &lt;int&gt; | tail_num &lt;chr&gt; | origin &lt;chr&gt; | dest &lt;chr&gt; | air_time &lt;dbl&gt; | distance &lt;dbl&gt; | hour &lt;dbl&gt; | minute &lt;dbl&gt; | time_hour &lt;dttm&gt; |\n",
       "|---|---|---|---|---|---|---|---|---|---|---|---|---|---|---|---|---|---|---|\n",
       "| 2013 | 1 | 1 | 517 | 515 |  2 |  830 |  819 |  11 | UA | 1545 | N14228 | EWR | IAH | 227 | 1400 | 5 | 15 | 2013-01-01 05:00:00 |\n",
       "| 2013 | 1 | 1 | 533 | 529 |  4 |  850 |  830 |  20 | UA | 1714 | N24211 | LGA | IAH | 227 | 1416 | 5 | 29 | 2013-01-01 05:00:00 |\n",
       "| 2013 | 1 | 1 | 542 | 540 |  2 |  923 |  850 |  33 | AA | 1141 | N619AA | JFK | MIA | 160 | 1089 | 5 | 40 | 2013-01-01 05:00:00 |\n",
       "| 2013 | 1 | 1 | 544 | 545 | -1 | 1004 | 1022 | -18 | B6 |  725 | N804JB | JFK | BQN | 183 | 1576 | 5 | 45 | 2013-01-01 05:00:00 |\n",
       "| 2013 | 1 | 1 | 554 | 600 | -6 |  812 |  837 | -25 | DL |  461 | N668DN | LGA | ATL | 116 |  762 | 6 |  0 | 2013-01-01 06:00:00 |\n",
       "| 2013 | 1 | 1 | 554 | 558 | -4 |  740 |  728 |  12 | UA | 1696 | N39463 | EWR | ORD | 150 |  719 | 5 | 58 | 2013-01-01 05:00:00 |\n",
       "\n"
      ],
      "text/plain": [
       "  year month day dep_time sched_dep_time dep_delay arr_time sched_arr_time\n",
       "1 2013 1     1   517      515             2         830      819          \n",
       "2 2013 1     1   533      529             4         850      830          \n",
       "3 2013 1     1   542      540             2         923      850          \n",
       "4 2013 1     1   544      545            -1        1004     1022          \n",
       "5 2013 1     1   554      600            -6         812      837          \n",
       "6 2013 1     1   554      558            -4         740      728          \n",
       "  arr_delay carrier flight tail_num origin dest air_time distance hour minute\n",
       "1  11       UA      1545   N14228   EWR    IAH  227      1400     5    15    \n",
       "2  20       UA      1714   N24211   LGA    IAH  227      1416     5    29    \n",
       "3  33       AA      1141   N619AA   JFK    MIA  160      1089     5    40    \n",
       "4 -18       B6       725   N804JB   JFK    BQN  183      1576     5    45    \n",
       "5 -25       DL       461   N668DN   LGA    ATL  116       762     6     0    \n",
       "6  12       UA      1696   N39463   EWR    ORD  150       719     5    58    \n",
       "  time_hour          \n",
       "1 2013-01-01 05:00:00\n",
       "2 2013-01-01 05:00:00\n",
       "3 2013-01-01 05:00:00\n",
       "4 2013-01-01 05:00:00\n",
       "5 2013-01-01 06:00:00\n",
       "6 2013-01-01 05:00:00"
      ]
     },
     "metadata": {},
     "output_type": "display_data"
    }
   ],
   "source": [
    "rename(flights, tail_num = tailnum) %>% head"
   ]
  },
  {
   "cell_type": "markdown",
   "id": "4eaf0707-3b31-439f-932b-cbd4c5b14619",
   "metadata": {},
   "source": [
    "`everything`: 몇 개의 변수를 데이터프레임 시작 부분으로 옮기고 싶을 때 사용"
   ]
  },
  {
   "cell_type": "code",
   "execution_count": 21,
   "id": "881da390-bff6-4e57-8b47-8b641d9cd4ee",
   "metadata": {},
   "outputs": [
    {
     "data": {
      "text/html": [
       "<table class=\"dataframe\">\n",
       "<caption>A tibble: 6 × 19</caption>\n",
       "<thead>\n",
       "\t<tr><th scope=col>time_hour</th><th scope=col>air_time</th><th scope=col>year</th><th scope=col>month</th><th scope=col>day</th><th scope=col>dep_time</th><th scope=col>sched_dep_time</th><th scope=col>dep_delay</th><th scope=col>arr_time</th><th scope=col>sched_arr_time</th><th scope=col>arr_delay</th><th scope=col>carrier</th><th scope=col>flight</th><th scope=col>tailnum</th><th scope=col>origin</th><th scope=col>dest</th><th scope=col>distance</th><th scope=col>hour</th><th scope=col>minute</th></tr>\n",
       "\t<tr><th scope=col>&lt;dttm&gt;</th><th scope=col>&lt;dbl&gt;</th><th scope=col>&lt;int&gt;</th><th scope=col>&lt;int&gt;</th><th scope=col>&lt;int&gt;</th><th scope=col>&lt;int&gt;</th><th scope=col>&lt;int&gt;</th><th scope=col>&lt;dbl&gt;</th><th scope=col>&lt;int&gt;</th><th scope=col>&lt;int&gt;</th><th scope=col>&lt;dbl&gt;</th><th scope=col>&lt;chr&gt;</th><th scope=col>&lt;int&gt;</th><th scope=col>&lt;chr&gt;</th><th scope=col>&lt;chr&gt;</th><th scope=col>&lt;chr&gt;</th><th scope=col>&lt;dbl&gt;</th><th scope=col>&lt;dbl&gt;</th><th scope=col>&lt;dbl&gt;</th></tr>\n",
       "</thead>\n",
       "<tbody>\n",
       "\t<tr><td>2013-01-01 05:00:00</td><td>227</td><td>2013</td><td>1</td><td>1</td><td>517</td><td>515</td><td> 2</td><td> 830</td><td> 819</td><td> 11</td><td>UA</td><td>1545</td><td>N14228</td><td>EWR</td><td>IAH</td><td>1400</td><td>5</td><td>15</td></tr>\n",
       "\t<tr><td>2013-01-01 05:00:00</td><td>227</td><td>2013</td><td>1</td><td>1</td><td>533</td><td>529</td><td> 4</td><td> 850</td><td> 830</td><td> 20</td><td>UA</td><td>1714</td><td>N24211</td><td>LGA</td><td>IAH</td><td>1416</td><td>5</td><td>29</td></tr>\n",
       "\t<tr><td>2013-01-01 05:00:00</td><td>160</td><td>2013</td><td>1</td><td>1</td><td>542</td><td>540</td><td> 2</td><td> 923</td><td> 850</td><td> 33</td><td>AA</td><td>1141</td><td>N619AA</td><td>JFK</td><td>MIA</td><td>1089</td><td>5</td><td>40</td></tr>\n",
       "\t<tr><td>2013-01-01 05:00:00</td><td>183</td><td>2013</td><td>1</td><td>1</td><td>544</td><td>545</td><td>-1</td><td>1004</td><td>1022</td><td>-18</td><td>B6</td><td> 725</td><td>N804JB</td><td>JFK</td><td>BQN</td><td>1576</td><td>5</td><td>45</td></tr>\n",
       "\t<tr><td>2013-01-01 06:00:00</td><td>116</td><td>2013</td><td>1</td><td>1</td><td>554</td><td>600</td><td>-6</td><td> 812</td><td> 837</td><td>-25</td><td>DL</td><td> 461</td><td>N668DN</td><td>LGA</td><td>ATL</td><td> 762</td><td>6</td><td> 0</td></tr>\n",
       "\t<tr><td>2013-01-01 05:00:00</td><td>150</td><td>2013</td><td>1</td><td>1</td><td>554</td><td>558</td><td>-4</td><td> 740</td><td> 728</td><td> 12</td><td>UA</td><td>1696</td><td>N39463</td><td>EWR</td><td>ORD</td><td> 719</td><td>5</td><td>58</td></tr>\n",
       "</tbody>\n",
       "</table>\n"
      ],
      "text/latex": [
       "A tibble: 6 × 19\n",
       "\\begin{tabular}{lllllllllllllllllll}\n",
       " time\\_hour & air\\_time & year & month & day & dep\\_time & sched\\_dep\\_time & dep\\_delay & arr\\_time & sched\\_arr\\_time & arr\\_delay & carrier & flight & tailnum & origin & dest & distance & hour & minute\\\\\n",
       " <dttm> & <dbl> & <int> & <int> & <int> & <int> & <int> & <dbl> & <int> & <int> & <dbl> & <chr> & <int> & <chr> & <chr> & <chr> & <dbl> & <dbl> & <dbl>\\\\\n",
       "\\hline\n",
       "\t 2013-01-01 05:00:00 & 227 & 2013 & 1 & 1 & 517 & 515 &  2 &  830 &  819 &  11 & UA & 1545 & N14228 & EWR & IAH & 1400 & 5 & 15\\\\\n",
       "\t 2013-01-01 05:00:00 & 227 & 2013 & 1 & 1 & 533 & 529 &  4 &  850 &  830 &  20 & UA & 1714 & N24211 & LGA & IAH & 1416 & 5 & 29\\\\\n",
       "\t 2013-01-01 05:00:00 & 160 & 2013 & 1 & 1 & 542 & 540 &  2 &  923 &  850 &  33 & AA & 1141 & N619AA & JFK & MIA & 1089 & 5 & 40\\\\\n",
       "\t 2013-01-01 05:00:00 & 183 & 2013 & 1 & 1 & 544 & 545 & -1 & 1004 & 1022 & -18 & B6 &  725 & N804JB & JFK & BQN & 1576 & 5 & 45\\\\\n",
       "\t 2013-01-01 06:00:00 & 116 & 2013 & 1 & 1 & 554 & 600 & -6 &  812 &  837 & -25 & DL &  461 & N668DN & LGA & ATL &  762 & 6 &  0\\\\\n",
       "\t 2013-01-01 05:00:00 & 150 & 2013 & 1 & 1 & 554 & 558 & -4 &  740 &  728 &  12 & UA & 1696 & N39463 & EWR & ORD &  719 & 5 & 58\\\\\n",
       "\\end{tabular}\n"
      ],
      "text/markdown": [
       "\n",
       "A tibble: 6 × 19\n",
       "\n",
       "| time_hour &lt;dttm&gt; | air_time &lt;dbl&gt; | year &lt;int&gt; | month &lt;int&gt; | day &lt;int&gt; | dep_time &lt;int&gt; | sched_dep_time &lt;int&gt; | dep_delay &lt;dbl&gt; | arr_time &lt;int&gt; | sched_arr_time &lt;int&gt; | arr_delay &lt;dbl&gt; | carrier &lt;chr&gt; | flight &lt;int&gt; | tailnum &lt;chr&gt; | origin &lt;chr&gt; | dest &lt;chr&gt; | distance &lt;dbl&gt; | hour &lt;dbl&gt; | minute &lt;dbl&gt; |\n",
       "|---|---|---|---|---|---|---|---|---|---|---|---|---|---|---|---|---|---|---|\n",
       "| 2013-01-01 05:00:00 | 227 | 2013 | 1 | 1 | 517 | 515 |  2 |  830 |  819 |  11 | UA | 1545 | N14228 | EWR | IAH | 1400 | 5 | 15 |\n",
       "| 2013-01-01 05:00:00 | 227 | 2013 | 1 | 1 | 533 | 529 |  4 |  850 |  830 |  20 | UA | 1714 | N24211 | LGA | IAH | 1416 | 5 | 29 |\n",
       "| 2013-01-01 05:00:00 | 160 | 2013 | 1 | 1 | 542 | 540 |  2 |  923 |  850 |  33 | AA | 1141 | N619AA | JFK | MIA | 1089 | 5 | 40 |\n",
       "| 2013-01-01 05:00:00 | 183 | 2013 | 1 | 1 | 544 | 545 | -1 | 1004 | 1022 | -18 | B6 |  725 | N804JB | JFK | BQN | 1576 | 5 | 45 |\n",
       "| 2013-01-01 06:00:00 | 116 | 2013 | 1 | 1 | 554 | 600 | -6 |  812 |  837 | -25 | DL |  461 | N668DN | LGA | ATL |  762 | 6 |  0 |\n",
       "| 2013-01-01 05:00:00 | 150 | 2013 | 1 | 1 | 554 | 558 | -4 |  740 |  728 |  12 | UA | 1696 | N39463 | EWR | ORD |  719 | 5 | 58 |\n",
       "\n"
      ],
      "text/plain": [
       "  time_hour           air_time year month day dep_time sched_dep_time dep_delay\n",
       "1 2013-01-01 05:00:00 227      2013 1     1   517      515             2       \n",
       "2 2013-01-01 05:00:00 227      2013 1     1   533      529             4       \n",
       "3 2013-01-01 05:00:00 160      2013 1     1   542      540             2       \n",
       "4 2013-01-01 05:00:00 183      2013 1     1   544      545            -1       \n",
       "5 2013-01-01 06:00:00 116      2013 1     1   554      600            -6       \n",
       "6 2013-01-01 05:00:00 150      2013 1     1   554      558            -4       \n",
       "  arr_time sched_arr_time arr_delay carrier flight tailnum origin dest distance\n",
       "1  830      819            11       UA      1545   N14228  EWR    IAH  1400    \n",
       "2  850      830            20       UA      1714   N24211  LGA    IAH  1416    \n",
       "3  923      850            33       AA      1141   N619AA  JFK    MIA  1089    \n",
       "4 1004     1022           -18       B6       725   N804JB  JFK    BQN  1576    \n",
       "5  812      837           -25       DL       461   N668DN  LGA    ATL   762    \n",
       "6  740      728            12       UA      1696   N39463  EWR    ORD   719    \n",
       "  hour minute\n",
       "1 5    15    \n",
       "2 5    29    \n",
       "3 5    40    \n",
       "4 5    45    \n",
       "5 6     0    \n",
       "6 5    58    "
      ]
     },
     "metadata": {},
     "output_type": "display_data"
    }
   ],
   "source": [
    "select(flights, time_hour, air_time, everything()) %>% head"
   ]
  },
  {
   "cell_type": "code",
   "execution_count": 22,
   "id": "a2352add-5916-4ac1-9c97-714aa1621aad",
   "metadata": {},
   "outputs": [],
   "source": [
    "flights_sml <- select(flights,\n",
    "                      year:day,\n",
    "                      ends_with('delay'),\n",
    "                      distance,\n",
    "                      air_time\n",
    "                      )"
   ]
  },
  {
   "cell_type": "markdown",
   "id": "9b355d49-0fd5-4cff-891c-a407ea7dbb63",
   "metadata": {},
   "source": [
    "`mutate` : 새로운 변수 데이터셋 마지막에 추가"
   ]
  },
  {
   "cell_type": "code",
   "execution_count": 23,
   "id": "4adb494f-dab1-4659-9294-968c45b225a2",
   "metadata": {},
   "outputs": [
    {
     "data": {
      "text/html": [
       "<table class=\"dataframe\">\n",
       "<caption>A tibble: 6 × 9</caption>\n",
       "<thead>\n",
       "\t<tr><th scope=col>year</th><th scope=col>month</th><th scope=col>day</th><th scope=col>dep_delay</th><th scope=col>arr_delay</th><th scope=col>distance</th><th scope=col>air_time</th><th scope=col>gain</th><th scope=col>speed</th></tr>\n",
       "\t<tr><th scope=col>&lt;int&gt;</th><th scope=col>&lt;int&gt;</th><th scope=col>&lt;int&gt;</th><th scope=col>&lt;dbl&gt;</th><th scope=col>&lt;dbl&gt;</th><th scope=col>&lt;dbl&gt;</th><th scope=col>&lt;dbl&gt;</th><th scope=col>&lt;dbl&gt;</th><th scope=col>&lt;dbl&gt;</th></tr>\n",
       "</thead>\n",
       "<tbody>\n",
       "\t<tr><td>2013</td><td>1</td><td>1</td><td> 2</td><td> 11</td><td>1400</td><td>227</td><td>  9</td><td>370.0441</td></tr>\n",
       "\t<tr><td>2013</td><td>1</td><td>1</td><td> 4</td><td> 20</td><td>1416</td><td>227</td><td> 16</td><td>374.2731</td></tr>\n",
       "\t<tr><td>2013</td><td>1</td><td>1</td><td> 2</td><td> 33</td><td>1089</td><td>160</td><td> 31</td><td>408.3750</td></tr>\n",
       "\t<tr><td>2013</td><td>1</td><td>1</td><td>-1</td><td>-18</td><td>1576</td><td>183</td><td>-17</td><td>516.7213</td></tr>\n",
       "\t<tr><td>2013</td><td>1</td><td>1</td><td>-6</td><td>-25</td><td> 762</td><td>116</td><td>-19</td><td>394.1379</td></tr>\n",
       "\t<tr><td>2013</td><td>1</td><td>1</td><td>-4</td><td> 12</td><td> 719</td><td>150</td><td> 16</td><td>287.6000</td></tr>\n",
       "</tbody>\n",
       "</table>\n"
      ],
      "text/latex": [
       "A tibble: 6 × 9\n",
       "\\begin{tabular}{lllllllll}\n",
       " year & month & day & dep\\_delay & arr\\_delay & distance & air\\_time & gain & speed\\\\\n",
       " <int> & <int> & <int> & <dbl> & <dbl> & <dbl> & <dbl> & <dbl> & <dbl>\\\\\n",
       "\\hline\n",
       "\t 2013 & 1 & 1 &  2 &  11 & 1400 & 227 &   9 & 370.0441\\\\\n",
       "\t 2013 & 1 & 1 &  4 &  20 & 1416 & 227 &  16 & 374.2731\\\\\n",
       "\t 2013 & 1 & 1 &  2 &  33 & 1089 & 160 &  31 & 408.3750\\\\\n",
       "\t 2013 & 1 & 1 & -1 & -18 & 1576 & 183 & -17 & 516.7213\\\\\n",
       "\t 2013 & 1 & 1 & -6 & -25 &  762 & 116 & -19 & 394.1379\\\\\n",
       "\t 2013 & 1 & 1 & -4 &  12 &  719 & 150 &  16 & 287.6000\\\\\n",
       "\\end{tabular}\n"
      ],
      "text/markdown": [
       "\n",
       "A tibble: 6 × 9\n",
       "\n",
       "| year &lt;int&gt; | month &lt;int&gt; | day &lt;int&gt; | dep_delay &lt;dbl&gt; | arr_delay &lt;dbl&gt; | distance &lt;dbl&gt; | air_time &lt;dbl&gt; | gain &lt;dbl&gt; | speed &lt;dbl&gt; |\n",
       "|---|---|---|---|---|---|---|---|---|\n",
       "| 2013 | 1 | 1 |  2 |  11 | 1400 | 227 |   9 | 370.0441 |\n",
       "| 2013 | 1 | 1 |  4 |  20 | 1416 | 227 |  16 | 374.2731 |\n",
       "| 2013 | 1 | 1 |  2 |  33 | 1089 | 160 |  31 | 408.3750 |\n",
       "| 2013 | 1 | 1 | -1 | -18 | 1576 | 183 | -17 | 516.7213 |\n",
       "| 2013 | 1 | 1 | -6 | -25 |  762 | 116 | -19 | 394.1379 |\n",
       "| 2013 | 1 | 1 | -4 |  12 |  719 | 150 |  16 | 287.6000 |\n",
       "\n"
      ],
      "text/plain": [
       "  year month day dep_delay arr_delay distance air_time gain speed   \n",
       "1 2013 1     1    2         11       1400     227        9  370.0441\n",
       "2 2013 1     1    4         20       1416     227       16  374.2731\n",
       "3 2013 1     1    2         33       1089     160       31  408.3750\n",
       "4 2013 1     1   -1        -18       1576     183      -17  516.7213\n",
       "5 2013 1     1   -6        -25        762     116      -19  394.1379\n",
       "6 2013 1     1   -4         12        719     150       16  287.6000"
      ]
     },
     "metadata": {},
     "output_type": "display_data"
    }
   ],
   "source": [
    "mutate(flights_sml,\n",
    "       gain = arr_delay - dep_delay,\n",
    "       speed = distance / air_time * 60) %>% head"
   ]
  },
  {
   "cell_type": "markdown",
   "id": "43264ec4-9dce-4485-84e0-0e2d58f8bf07",
   "metadata": {},
   "source": [
    "`transmute` : mutate에서 새 변수만 남기기"
   ]
  },
  {
   "cell_type": "code",
   "execution_count": 24,
   "id": "558e6f52-512a-42c1-b786-68fa349cd919",
   "metadata": {},
   "outputs": [
    {
     "data": {
      "text/html": [
       "<table class=\"dataframe\">\n",
       "<caption>A tibble: 6 × 3</caption>\n",
       "<thead>\n",
       "\t<tr><th scope=col>gain</th><th scope=col>hours</th><th scope=col>gain_per_hour</th></tr>\n",
       "\t<tr><th scope=col>&lt;dbl&gt;</th><th scope=col>&lt;dbl&gt;</th><th scope=col>&lt;dbl&gt;</th></tr>\n",
       "</thead>\n",
       "<tbody>\n",
       "\t<tr><td>  9</td><td>3.783333</td><td> 1.800000</td></tr>\n",
       "\t<tr><td> 16</td><td>3.783333</td><td> 3.200000</td></tr>\n",
       "\t<tr><td> 31</td><td>2.666667</td><td> 6.200000</td></tr>\n",
       "\t<tr><td>-17</td><td>3.050000</td><td>-3.400000</td></tr>\n",
       "\t<tr><td>-19</td><td>1.933333</td><td>-3.166667</td></tr>\n",
       "\t<tr><td> 16</td><td>2.500000</td><td> 3.200000</td></tr>\n",
       "</tbody>\n",
       "</table>\n"
      ],
      "text/latex": [
       "A tibble: 6 × 3\n",
       "\\begin{tabular}{lll}\n",
       " gain & hours & gain\\_per\\_hour\\\\\n",
       " <dbl> & <dbl> & <dbl>\\\\\n",
       "\\hline\n",
       "\t   9 & 3.783333 &  1.800000\\\\\n",
       "\t  16 & 3.783333 &  3.200000\\\\\n",
       "\t  31 & 2.666667 &  6.200000\\\\\n",
       "\t -17 & 3.050000 & -3.400000\\\\\n",
       "\t -19 & 1.933333 & -3.166667\\\\\n",
       "\t  16 & 2.500000 &  3.200000\\\\\n",
       "\\end{tabular}\n"
      ],
      "text/markdown": [
       "\n",
       "A tibble: 6 × 3\n",
       "\n",
       "| gain &lt;dbl&gt; | hours &lt;dbl&gt; | gain_per_hour &lt;dbl&gt; |\n",
       "|---|---|---|\n",
       "|   9 | 3.783333 |  1.800000 |\n",
       "|  16 | 3.783333 |  3.200000 |\n",
       "|  31 | 2.666667 |  6.200000 |\n",
       "| -17 | 3.050000 | -3.400000 |\n",
       "| -19 | 1.933333 | -3.166667 |\n",
       "|  16 | 2.500000 |  3.200000 |\n",
       "\n"
      ],
      "text/plain": [
       "  gain hours    gain_per_hour\n",
       "1   9  3.783333  1.800000    \n",
       "2  16  3.783333  3.200000    \n",
       "3  31  2.666667  6.200000    \n",
       "4 -17  3.050000 -3.400000    \n",
       "5 -19  1.933333 -3.166667    \n",
       "6  16  2.500000  3.200000    "
      ]
     },
     "metadata": {},
     "output_type": "display_data"
    }
   ],
   "source": [
    "transmute(flights,\n",
    "          gain = arr_delay - dep_delay,\n",
    "          hours = air_time / 60,\n",
    "          gain_per_hour = gain / hour) %>% head"
   ]
  },
  {
   "cell_type": "markdown",
   "id": "8f314536-d112-48c3-9414-453287bb1599",
   "metadata": {},
   "source": [
    "`%/%` : 나누고 정수만 표기  \n",
    "`%%` : 나머지  \n",
    "`lag` : 한 칸 밀기  \n",
    "`lead` : 한 칸 당기기"
   ]
  },
  {
   "cell_type": "code",
   "execution_count": 25,
   "id": "9e443a5d-3681-4476-b959-ae516800c35e",
   "metadata": {},
   "outputs": [
    {
     "data": {
      "text/html": [
       "<style>\n",
       ".list-inline {list-style: none; margin:0; padding: 0}\n",
       ".list-inline>li {display: inline-block}\n",
       ".list-inline>li:not(:last-child)::after {content: \"\\00b7\"; padding: 0 .5ex}\n",
       "</style>\n",
       "<ol class=list-inline><li>&lt;NA&gt;</li><li>1</li><li>2</li><li>3</li><li>4</li><li>5</li><li>6</li><li>7</li><li>8</li><li>9</li></ol>\n"
      ],
      "text/latex": [
       "\\begin{enumerate*}\n",
       "\\item <NA>\n",
       "\\item 1\n",
       "\\item 2\n",
       "\\item 3\n",
       "\\item 4\n",
       "\\item 5\n",
       "\\item 6\n",
       "\\item 7\n",
       "\\item 8\n",
       "\\item 9\n",
       "\\end{enumerate*}\n"
      ],
      "text/markdown": [
       "1. &lt;NA&gt;\n",
       "2. 1\n",
       "3. 2\n",
       "4. 3\n",
       "5. 4\n",
       "6. 5\n",
       "7. 6\n",
       "8. 7\n",
       "9. 8\n",
       "10. 9\n",
       "\n",
       "\n"
      ],
      "text/plain": [
       " [1] NA  1  2  3  4  5  6  7  8  9"
      ]
     },
     "metadata": {},
     "output_type": "display_data"
    },
    {
     "data": {
      "text/html": [
       "<style>\n",
       ".list-inline {list-style: none; margin:0; padding: 0}\n",
       ".list-inline>li {display: inline-block}\n",
       ".list-inline>li:not(:last-child)::after {content: \"\\00b7\"; padding: 0 .5ex}\n",
       "</style>\n",
       "<ol class=list-inline><li>2</li><li>3</li><li>4</li><li>5</li><li>6</li><li>7</li><li>8</li><li>9</li><li>10</li><li>&lt;NA&gt;</li></ol>\n"
      ],
      "text/latex": [
       "\\begin{enumerate*}\n",
       "\\item 2\n",
       "\\item 3\n",
       "\\item 4\n",
       "\\item 5\n",
       "\\item 6\n",
       "\\item 7\n",
       "\\item 8\n",
       "\\item 9\n",
       "\\item 10\n",
       "\\item <NA>\n",
       "\\end{enumerate*}\n"
      ],
      "text/markdown": [
       "1. 2\n",
       "2. 3\n",
       "3. 4\n",
       "4. 5\n",
       "5. 6\n",
       "6. 7\n",
       "7. 8\n",
       "8. 9\n",
       "9. 10\n",
       "10. &lt;NA&gt;\n",
       "\n",
       "\n"
      ],
      "text/plain": [
       " [1]  2  3  4  5  6  7  8  9 10 NA"
      ]
     },
     "metadata": {},
     "output_type": "display_data"
    }
   ],
   "source": [
    "x <- 1:10\n",
    "lag(x)\n",
    "lead(x)"
   ]
  },
  {
   "cell_type": "markdown",
   "id": "062ffb5f-fb4b-49b0-98a3-f9d7f20cdca9",
   "metadata": {},
   "source": [
    "`cumsum` : 누적 합  \n",
    "`cummean` : 누적 평균"
   ]
  },
  {
   "cell_type": "code",
   "execution_count": 26,
   "id": "bcadeb14-338c-48ca-bbb8-c057cf56ce02",
   "metadata": {},
   "outputs": [
    {
     "data": {
      "text/html": [
       "<style>\n",
       ".list-inline {list-style: none; margin:0; padding: 0}\n",
       ".list-inline>li {display: inline-block}\n",
       ".list-inline>li:not(:last-child)::after {content: \"\\00b7\"; padding: 0 .5ex}\n",
       "</style>\n",
       "<ol class=list-inline><li>1</li><li>3</li><li>6</li><li>10</li><li>15</li><li>21</li><li>28</li><li>36</li><li>45</li><li>55</li></ol>\n"
      ],
      "text/latex": [
       "\\begin{enumerate*}\n",
       "\\item 1\n",
       "\\item 3\n",
       "\\item 6\n",
       "\\item 10\n",
       "\\item 15\n",
       "\\item 21\n",
       "\\item 28\n",
       "\\item 36\n",
       "\\item 45\n",
       "\\item 55\n",
       "\\end{enumerate*}\n"
      ],
      "text/markdown": [
       "1. 1\n",
       "2. 3\n",
       "3. 6\n",
       "4. 10\n",
       "5. 15\n",
       "6. 21\n",
       "7. 28\n",
       "8. 36\n",
       "9. 45\n",
       "10. 55\n",
       "\n",
       "\n"
      ],
      "text/plain": [
       " [1]  1  3  6 10 15 21 28 36 45 55"
      ]
     },
     "metadata": {},
     "output_type": "display_data"
    }
   ],
   "source": [
    "cumsum(x)"
   ]
  },
  {
   "cell_type": "code",
   "execution_count": 27,
   "id": "ad9a55f1-4b5b-47b7-899c-b765c31aa4cd",
   "metadata": {},
   "outputs": [
    {
     "data": {
      "text/html": [
       "<style>\n",
       ".list-inline {list-style: none; margin:0; padding: 0}\n",
       ".list-inline>li {display: inline-block}\n",
       ".list-inline>li:not(:last-child)::after {content: \"\\00b7\"; padding: 0 .5ex}\n",
       "</style>\n",
       "<ol class=list-inline><li>1</li><li>1.5</li><li>2</li><li>2.5</li><li>3</li><li>3.5</li><li>4</li><li>4.5</li><li>5</li><li>5.5</li></ol>\n"
      ],
      "text/latex": [
       "\\begin{enumerate*}\n",
       "\\item 1\n",
       "\\item 1.5\n",
       "\\item 2\n",
       "\\item 2.5\n",
       "\\item 3\n",
       "\\item 3.5\n",
       "\\item 4\n",
       "\\item 4.5\n",
       "\\item 5\n",
       "\\item 5.5\n",
       "\\end{enumerate*}\n"
      ],
      "text/markdown": [
       "1. 1\n",
       "2. 1.5\n",
       "3. 2\n",
       "4. 2.5\n",
       "5. 3\n",
       "6. 3.5\n",
       "7. 4\n",
       "8. 4.5\n",
       "9. 5\n",
       "10. 5.5\n",
       "\n",
       "\n"
      ],
      "text/plain": [
       " [1] 1.0 1.5 2.0 2.5 3.0 3.5 4.0 4.5 5.0 5.5"
      ]
     },
     "metadata": {},
     "output_type": "display_data"
    }
   ],
   "source": [
    "cummean(x)"
   ]
  },
  {
   "cell_type": "markdown",
   "id": "d9ca9721-d1db-4d71-a10e-e5e96a11c820",
   "metadata": {},
   "source": [
    "#### 6. summarize로 그룹화 요약"
   ]
  },
  {
   "cell_type": "code",
   "execution_count": 28,
   "id": "59d74ad6-5bb2-41f2-858f-4e8703cf17af",
   "metadata": {},
   "outputs": [
    {
     "data": {
      "text/html": [
       "<table class=\"dataframe\">\n",
       "<caption>A tibble: 1 × 1</caption>\n",
       "<thead>\n",
       "\t<tr><th scope=col>delay</th></tr>\n",
       "\t<tr><th scope=col>&lt;dbl&gt;</th></tr>\n",
       "</thead>\n",
       "<tbody>\n",
       "\t<tr><td>12.63907</td></tr>\n",
       "</tbody>\n",
       "</table>\n"
      ],
      "text/latex": [
       "A tibble: 1 × 1\n",
       "\\begin{tabular}{l}\n",
       " delay\\\\\n",
       " <dbl>\\\\\n",
       "\\hline\n",
       "\t 12.63907\\\\\n",
       "\\end{tabular}\n"
      ],
      "text/markdown": [
       "\n",
       "A tibble: 1 × 1\n",
       "\n",
       "| delay &lt;dbl&gt; |\n",
       "|---|\n",
       "| 12.63907 |\n",
       "\n"
      ],
      "text/plain": [
       "  delay   \n",
       "1 12.63907"
      ]
     },
     "metadata": {},
     "output_type": "display_data"
    }
   ],
   "source": [
    "summarize(flights, delay = mean(dep_delay, na.rm = TRUE))"
   ]
  },
  {
   "cell_type": "markdown",
   "id": "5f8d2d4d-6ac5-4a3e-808a-772a50b82a4a",
   "metadata": {},
   "source": [
    "- `summarise`는  `group_by`와 함께 써야 유용"
   ]
  },
  {
   "cell_type": "code",
   "execution_count": 29,
   "id": "5d0a0a49-7bc4-4286-b421-7fbdedf50835",
   "metadata": {},
   "outputs": [],
   "source": [
    "by_day <- group_by(flights, year, month, day)"
   ]
  },
  {
   "cell_type": "code",
   "execution_count": 30,
   "id": "38e19225-fbf4-4a39-9312-1fbb667f0cda",
   "metadata": {},
   "outputs": [
    {
     "name": "stderr",
     "output_type": "stream",
     "text": [
      "\u001b[1m\u001b[22m`summarise()` has grouped output by 'year', 'month'. You can override using the\n",
      "`.groups` argument.\n"
     ]
    },
    {
     "data": {
      "text/html": [
       "<table class=\"dataframe\">\n",
       "<caption>A grouped_df: 365 × 4</caption>\n",
       "<thead>\n",
       "\t<tr><th scope=col>year</th><th scope=col>month</th><th scope=col>day</th><th scope=col>delay</th></tr>\n",
       "\t<tr><th scope=col>&lt;int&gt;</th><th scope=col>&lt;int&gt;</th><th scope=col>&lt;int&gt;</th><th scope=col>&lt;dbl&gt;</th></tr>\n",
       "</thead>\n",
       "<tbody>\n",
       "\t<tr><td>2013</td><td>1</td><td> 1</td><td>11.548926</td></tr>\n",
       "\t<tr><td>2013</td><td>1</td><td> 2</td><td>13.858824</td></tr>\n",
       "\t<tr><td>2013</td><td>1</td><td> 3</td><td>10.987832</td></tr>\n",
       "\t<tr><td>2013</td><td>1</td><td> 4</td><td> 8.951595</td></tr>\n",
       "\t<tr><td>2013</td><td>1</td><td> 5</td><td> 5.732218</td></tr>\n",
       "\t<tr><td>2013</td><td>1</td><td> 6</td><td> 7.148014</td></tr>\n",
       "\t<tr><td>2013</td><td>1</td><td> 7</td><td> 5.417204</td></tr>\n",
       "\t<tr><td>2013</td><td>1</td><td> 8</td><td> 2.553073</td></tr>\n",
       "\t<tr><td>2013</td><td>1</td><td> 9</td><td> 2.276477</td></tr>\n",
       "\t<tr><td>2013</td><td>1</td><td>10</td><td> 2.844995</td></tr>\n",
       "\t<tr><td>2013</td><td>1</td><td>11</td><td> 2.817193</td></tr>\n",
       "\t<tr><td>2013</td><td>1</td><td>12</td><td> 1.596491</td></tr>\n",
       "\t<tr><td>2013</td><td>1</td><td>13</td><td>19.873153</td></tr>\n",
       "\t<tr><td>2013</td><td>1</td><td>14</td><td> 2.792657</td></tr>\n",
       "\t<tr><td>2013</td><td>1</td><td>15</td><td> 0.123723</td></tr>\n",
       "\t<tr><td>2013</td><td>1</td><td>16</td><td>24.612865</td></tr>\n",
       "\t<tr><td>2013</td><td>1</td><td>17</td><td> 7.648148</td></tr>\n",
       "\t<tr><td>2013</td><td>1</td><td>18</td><td> 6.765864</td></tr>\n",
       "\t<tr><td>2013</td><td>1</td><td>19</td><td> 3.475483</td></tr>\n",
       "\t<tr><td>2013</td><td>1</td><td>20</td><td> 6.783887</td></tr>\n",
       "\t<tr><td>2013</td><td>1</td><td>21</td><td> 7.831858</td></tr>\n",
       "\t<tr><td>2013</td><td>1</td><td>22</td><td>12.499435</td></tr>\n",
       "\t<tr><td>2013</td><td>1</td><td>23</td><td>10.610360</td></tr>\n",
       "\t<tr><td>2013</td><td>1</td><td>24</td><td>19.465423</td></tr>\n",
       "\t<tr><td>2013</td><td>1</td><td>25</td><td>21.898534</td></tr>\n",
       "\t<tr><td>2013</td><td>1</td><td>26</td><td> 7.213115</td></tr>\n",
       "\t<tr><td>2013</td><td>1</td><td>27</td><td> 8.377943</td></tr>\n",
       "\t<tr><td>2013</td><td>1</td><td>28</td><td>15.138533</td></tr>\n",
       "\t<tr><td>2013</td><td>1</td><td>29</td><td> 2.497149</td></tr>\n",
       "\t<tr><td>2013</td><td>1</td><td>30</td><td>28.623441</td></tr>\n",
       "\t<tr><td>⋮</td><td>⋮</td><td>⋮</td><td>⋮</td></tr>\n",
       "\t<tr><td>2013</td><td>12</td><td> 2</td><td> 9.021978</td></tr>\n",
       "\t<tr><td>2013</td><td>12</td><td> 3</td><td> 5.975258</td></tr>\n",
       "\t<tr><td>2013</td><td>12</td><td> 4</td><td> 5.366316</td></tr>\n",
       "\t<tr><td>2013</td><td>12</td><td> 5</td><td>52.327990</td></tr>\n",
       "\t<tr><td>2013</td><td>12</td><td> 6</td><td>16.134509</td></tr>\n",
       "\t<tr><td>2013</td><td>12</td><td> 7</td><td> 4.860327</td></tr>\n",
       "\t<tr><td>2013</td><td>12</td><td> 8</td><td>21.515337</td></tr>\n",
       "\t<tr><td>2013</td><td>12</td><td> 9</td><td>34.800221</td></tr>\n",
       "\t<tr><td>2013</td><td>12</td><td>10</td><td>26.465494</td></tr>\n",
       "\t<tr><td>2013</td><td>12</td><td>11</td><td> 7.058263</td></tr>\n",
       "\t<tr><td>2013</td><td>12</td><td>12</td><td> 7.527518</td></tr>\n",
       "\t<tr><td>2013</td><td>12</td><td>13</td><td> 5.256995</td></tr>\n",
       "\t<tr><td>2013</td><td>12</td><td>14</td><td>28.361552</td></tr>\n",
       "\t<tr><td>2013</td><td>12</td><td>15</td><td>19.573871</td></tr>\n",
       "\t<tr><td>2013</td><td>12</td><td>16</td><td>11.741127</td></tr>\n",
       "\t<tr><td>2013</td><td>12</td><td>17</td><td>40.705602</td></tr>\n",
       "\t<tr><td>2013</td><td>12</td><td>18</td><td>14.008395</td></tr>\n",
       "\t<tr><td>2013</td><td>12</td><td>19</td><td>16.372165</td></tr>\n",
       "\t<tr><td>2013</td><td>12</td><td>20</td><td>17.266254</td></tr>\n",
       "\t<tr><td>2013</td><td>12</td><td>21</td><td>20.344956</td></tr>\n",
       "\t<tr><td>2013</td><td>12</td><td>22</td><td>29.239865</td></tr>\n",
       "\t<tr><td>2013</td><td>12</td><td>23</td><td>32.254149</td></tr>\n",
       "\t<tr><td>2013</td><td>12</td><td>24</td><td> 6.765957</td></tr>\n",
       "\t<tr><td>2013</td><td>12</td><td>25</td><td> 7.552448</td></tr>\n",
       "\t<tr><td>2013</td><td>12</td><td>26</td><td>14.417204</td></tr>\n",
       "\t<tr><td>2013</td><td>12</td><td>27</td><td>10.937630</td></tr>\n",
       "\t<tr><td>2013</td><td>12</td><td>28</td><td> 7.981550</td></tr>\n",
       "\t<tr><td>2013</td><td>12</td><td>29</td><td>22.309551</td></tr>\n",
       "\t<tr><td>2013</td><td>12</td><td>30</td><td>10.698113</td></tr>\n",
       "\t<tr><td>2013</td><td>12</td><td>31</td><td> 6.996053</td></tr>\n",
       "</tbody>\n",
       "</table>\n"
      ],
      "text/latex": [
       "A grouped\\_df: 365 × 4\n",
       "\\begin{tabular}{llll}\n",
       " year & month & day & delay\\\\\n",
       " <int> & <int> & <int> & <dbl>\\\\\n",
       "\\hline\n",
       "\t 2013 & 1 &  1 & 11.548926\\\\\n",
       "\t 2013 & 1 &  2 & 13.858824\\\\\n",
       "\t 2013 & 1 &  3 & 10.987832\\\\\n",
       "\t 2013 & 1 &  4 &  8.951595\\\\\n",
       "\t 2013 & 1 &  5 &  5.732218\\\\\n",
       "\t 2013 & 1 &  6 &  7.148014\\\\\n",
       "\t 2013 & 1 &  7 &  5.417204\\\\\n",
       "\t 2013 & 1 &  8 &  2.553073\\\\\n",
       "\t 2013 & 1 &  9 &  2.276477\\\\\n",
       "\t 2013 & 1 & 10 &  2.844995\\\\\n",
       "\t 2013 & 1 & 11 &  2.817193\\\\\n",
       "\t 2013 & 1 & 12 &  1.596491\\\\\n",
       "\t 2013 & 1 & 13 & 19.873153\\\\\n",
       "\t 2013 & 1 & 14 &  2.792657\\\\\n",
       "\t 2013 & 1 & 15 &  0.123723\\\\\n",
       "\t 2013 & 1 & 16 & 24.612865\\\\\n",
       "\t 2013 & 1 & 17 &  7.648148\\\\\n",
       "\t 2013 & 1 & 18 &  6.765864\\\\\n",
       "\t 2013 & 1 & 19 &  3.475483\\\\\n",
       "\t 2013 & 1 & 20 &  6.783887\\\\\n",
       "\t 2013 & 1 & 21 &  7.831858\\\\\n",
       "\t 2013 & 1 & 22 & 12.499435\\\\\n",
       "\t 2013 & 1 & 23 & 10.610360\\\\\n",
       "\t 2013 & 1 & 24 & 19.465423\\\\\n",
       "\t 2013 & 1 & 25 & 21.898534\\\\\n",
       "\t 2013 & 1 & 26 &  7.213115\\\\\n",
       "\t 2013 & 1 & 27 &  8.377943\\\\\n",
       "\t 2013 & 1 & 28 & 15.138533\\\\\n",
       "\t 2013 & 1 & 29 &  2.497149\\\\\n",
       "\t 2013 & 1 & 30 & 28.623441\\\\\n",
       "\t ⋮ & ⋮ & ⋮ & ⋮\\\\\n",
       "\t 2013 & 12 &  2 &  9.021978\\\\\n",
       "\t 2013 & 12 &  3 &  5.975258\\\\\n",
       "\t 2013 & 12 &  4 &  5.366316\\\\\n",
       "\t 2013 & 12 &  5 & 52.327990\\\\\n",
       "\t 2013 & 12 &  6 & 16.134509\\\\\n",
       "\t 2013 & 12 &  7 &  4.860327\\\\\n",
       "\t 2013 & 12 &  8 & 21.515337\\\\\n",
       "\t 2013 & 12 &  9 & 34.800221\\\\\n",
       "\t 2013 & 12 & 10 & 26.465494\\\\\n",
       "\t 2013 & 12 & 11 &  7.058263\\\\\n",
       "\t 2013 & 12 & 12 &  7.527518\\\\\n",
       "\t 2013 & 12 & 13 &  5.256995\\\\\n",
       "\t 2013 & 12 & 14 & 28.361552\\\\\n",
       "\t 2013 & 12 & 15 & 19.573871\\\\\n",
       "\t 2013 & 12 & 16 & 11.741127\\\\\n",
       "\t 2013 & 12 & 17 & 40.705602\\\\\n",
       "\t 2013 & 12 & 18 & 14.008395\\\\\n",
       "\t 2013 & 12 & 19 & 16.372165\\\\\n",
       "\t 2013 & 12 & 20 & 17.266254\\\\\n",
       "\t 2013 & 12 & 21 & 20.344956\\\\\n",
       "\t 2013 & 12 & 22 & 29.239865\\\\\n",
       "\t 2013 & 12 & 23 & 32.254149\\\\\n",
       "\t 2013 & 12 & 24 &  6.765957\\\\\n",
       "\t 2013 & 12 & 25 &  7.552448\\\\\n",
       "\t 2013 & 12 & 26 & 14.417204\\\\\n",
       "\t 2013 & 12 & 27 & 10.937630\\\\\n",
       "\t 2013 & 12 & 28 &  7.981550\\\\\n",
       "\t 2013 & 12 & 29 & 22.309551\\\\\n",
       "\t 2013 & 12 & 30 & 10.698113\\\\\n",
       "\t 2013 & 12 & 31 &  6.996053\\\\\n",
       "\\end{tabular}\n"
      ],
      "text/markdown": [
       "\n",
       "A grouped_df: 365 × 4\n",
       "\n",
       "| year &lt;int&gt; | month &lt;int&gt; | day &lt;int&gt; | delay &lt;dbl&gt; |\n",
       "|---|---|---|---|\n",
       "| 2013 | 1 |  1 | 11.548926 |\n",
       "| 2013 | 1 |  2 | 13.858824 |\n",
       "| 2013 | 1 |  3 | 10.987832 |\n",
       "| 2013 | 1 |  4 |  8.951595 |\n",
       "| 2013 | 1 |  5 |  5.732218 |\n",
       "| 2013 | 1 |  6 |  7.148014 |\n",
       "| 2013 | 1 |  7 |  5.417204 |\n",
       "| 2013 | 1 |  8 |  2.553073 |\n",
       "| 2013 | 1 |  9 |  2.276477 |\n",
       "| 2013 | 1 | 10 |  2.844995 |\n",
       "| 2013 | 1 | 11 |  2.817193 |\n",
       "| 2013 | 1 | 12 |  1.596491 |\n",
       "| 2013 | 1 | 13 | 19.873153 |\n",
       "| 2013 | 1 | 14 |  2.792657 |\n",
       "| 2013 | 1 | 15 |  0.123723 |\n",
       "| 2013 | 1 | 16 | 24.612865 |\n",
       "| 2013 | 1 | 17 |  7.648148 |\n",
       "| 2013 | 1 | 18 |  6.765864 |\n",
       "| 2013 | 1 | 19 |  3.475483 |\n",
       "| 2013 | 1 | 20 |  6.783887 |\n",
       "| 2013 | 1 | 21 |  7.831858 |\n",
       "| 2013 | 1 | 22 | 12.499435 |\n",
       "| 2013 | 1 | 23 | 10.610360 |\n",
       "| 2013 | 1 | 24 | 19.465423 |\n",
       "| 2013 | 1 | 25 | 21.898534 |\n",
       "| 2013 | 1 | 26 |  7.213115 |\n",
       "| 2013 | 1 | 27 |  8.377943 |\n",
       "| 2013 | 1 | 28 | 15.138533 |\n",
       "| 2013 | 1 | 29 |  2.497149 |\n",
       "| 2013 | 1 | 30 | 28.623441 |\n",
       "| ⋮ | ⋮ | ⋮ | ⋮ |\n",
       "| 2013 | 12 |  2 |  9.021978 |\n",
       "| 2013 | 12 |  3 |  5.975258 |\n",
       "| 2013 | 12 |  4 |  5.366316 |\n",
       "| 2013 | 12 |  5 | 52.327990 |\n",
       "| 2013 | 12 |  6 | 16.134509 |\n",
       "| 2013 | 12 |  7 |  4.860327 |\n",
       "| 2013 | 12 |  8 | 21.515337 |\n",
       "| 2013 | 12 |  9 | 34.800221 |\n",
       "| 2013 | 12 | 10 | 26.465494 |\n",
       "| 2013 | 12 | 11 |  7.058263 |\n",
       "| 2013 | 12 | 12 |  7.527518 |\n",
       "| 2013 | 12 | 13 |  5.256995 |\n",
       "| 2013 | 12 | 14 | 28.361552 |\n",
       "| 2013 | 12 | 15 | 19.573871 |\n",
       "| 2013 | 12 | 16 | 11.741127 |\n",
       "| 2013 | 12 | 17 | 40.705602 |\n",
       "| 2013 | 12 | 18 | 14.008395 |\n",
       "| 2013 | 12 | 19 | 16.372165 |\n",
       "| 2013 | 12 | 20 | 17.266254 |\n",
       "| 2013 | 12 | 21 | 20.344956 |\n",
       "| 2013 | 12 | 22 | 29.239865 |\n",
       "| 2013 | 12 | 23 | 32.254149 |\n",
       "| 2013 | 12 | 24 |  6.765957 |\n",
       "| 2013 | 12 | 25 |  7.552448 |\n",
       "| 2013 | 12 | 26 | 14.417204 |\n",
       "| 2013 | 12 | 27 | 10.937630 |\n",
       "| 2013 | 12 | 28 |  7.981550 |\n",
       "| 2013 | 12 | 29 | 22.309551 |\n",
       "| 2013 | 12 | 30 | 10.698113 |\n",
       "| 2013 | 12 | 31 |  6.996053 |\n",
       "\n"
      ],
      "text/plain": [
       "    year month day delay    \n",
       "1   2013 1      1  11.548926\n",
       "2   2013 1      2  13.858824\n",
       "3   2013 1      3  10.987832\n",
       "4   2013 1      4   8.951595\n",
       "5   2013 1      5   5.732218\n",
       "6   2013 1      6   7.148014\n",
       "7   2013 1      7   5.417204\n",
       "8   2013 1      8   2.553073\n",
       "9   2013 1      9   2.276477\n",
       "10  2013 1     10   2.844995\n",
       "11  2013 1     11   2.817193\n",
       "12  2013 1     12   1.596491\n",
       "13  2013 1     13  19.873153\n",
       "14  2013 1     14   2.792657\n",
       "15  2013 1     15   0.123723\n",
       "16  2013 1     16  24.612865\n",
       "17  2013 1     17   7.648148\n",
       "18  2013 1     18   6.765864\n",
       "19  2013 1     19   3.475483\n",
       "20  2013 1     20   6.783887\n",
       "21  2013 1     21   7.831858\n",
       "22  2013 1     22  12.499435\n",
       "23  2013 1     23  10.610360\n",
       "24  2013 1     24  19.465423\n",
       "25  2013 1     25  21.898534\n",
       "26  2013 1     26   7.213115\n",
       "27  2013 1     27   8.377943\n",
       "28  2013 1     28  15.138533\n",
       "29  2013 1     29   2.497149\n",
       "30  2013 1     30  28.623441\n",
       "⋮   ⋮    ⋮     ⋮   ⋮        \n",
       "336 2013 12     2   9.021978\n",
       "337 2013 12     3   5.975258\n",
       "338 2013 12     4   5.366316\n",
       "339 2013 12     5  52.327990\n",
       "340 2013 12     6  16.134509\n",
       "341 2013 12     7   4.860327\n",
       "342 2013 12     8  21.515337\n",
       "343 2013 12     9  34.800221\n",
       "344 2013 12    10  26.465494\n",
       "345 2013 12    11   7.058263\n",
       "346 2013 12    12   7.527518\n",
       "347 2013 12    13   5.256995\n",
       "348 2013 12    14  28.361552\n",
       "349 2013 12    15  19.573871\n",
       "350 2013 12    16  11.741127\n",
       "351 2013 12    17  40.705602\n",
       "352 2013 12    18  14.008395\n",
       "353 2013 12    19  16.372165\n",
       "354 2013 12    20  17.266254\n",
       "355 2013 12    21  20.344956\n",
       "356 2013 12    22  29.239865\n",
       "357 2013 12    23  32.254149\n",
       "358 2013 12    24   6.765957\n",
       "359 2013 12    25   7.552448\n",
       "360 2013 12    26  14.417204\n",
       "361 2013 12    27  10.937630\n",
       "362 2013 12    28   7.981550\n",
       "363 2013 12    29  22.309551\n",
       "364 2013 12    30  10.698113\n",
       "365 2013 12    31   6.996053"
      ]
     },
     "metadata": {},
     "output_type": "display_data"
    }
   ],
   "source": [
    "summarize(by_day, delay = mean(dep_delay, na.rm = TRUE))"
   ]
  },
  {
   "cell_type": "code",
   "execution_count": 31,
   "id": "624ece7c-0605-4a23-9142-72d1e9ea4d5e",
   "metadata": {},
   "outputs": [],
   "source": [
    "by_dest <- group_by(flights, dest)\n",
    "delay <- summarize(by_dest,\n",
    "                   count = n(),\n",
    "                   dist = mean(distance, na.rm = TRUE),\n",
    "                   delay = mean(arr_delay, na.rm = TRUE)\n",
    "                   )"
   ]
  },
  {
   "cell_type": "code",
   "execution_count": 32,
   "id": "a89bd7fe-42dd-483c-bf0b-1f44f06169c3",
   "metadata": {},
   "outputs": [
    {
     "data": {
      "text/html": [
       "<table class=\"dataframe\">\n",
       "<caption>A tibble: 6 × 4</caption>\n",
       "<thead>\n",
       "\t<tr><th scope=col>dest</th><th scope=col>count</th><th scope=col>dist</th><th scope=col>delay</th></tr>\n",
       "\t<tr><th scope=col>&lt;chr&gt;</th><th scope=col>&lt;int&gt;</th><th scope=col>&lt;dbl&gt;</th><th scope=col>&lt;dbl&gt;</th></tr>\n",
       "</thead>\n",
       "<tbody>\n",
       "\t<tr><td>ABQ</td><td>  254</td><td>1826.0000</td><td> 4.381890</td></tr>\n",
       "\t<tr><td>ACK</td><td>  265</td><td> 199.0000</td><td> 4.852273</td></tr>\n",
       "\t<tr><td>ALB</td><td>  439</td><td> 143.0000</td><td>14.397129</td></tr>\n",
       "\t<tr><td>ANC</td><td>    8</td><td>3370.0000</td><td>-2.500000</td></tr>\n",
       "\t<tr><td>ATL</td><td>17215</td><td> 757.1082</td><td>11.300113</td></tr>\n",
       "\t<tr><td>AUS</td><td> 2439</td><td>1514.2530</td><td> 6.019909</td></tr>\n",
       "</tbody>\n",
       "</table>\n"
      ],
      "text/latex": [
       "A tibble: 6 × 4\n",
       "\\begin{tabular}{llll}\n",
       " dest & count & dist & delay\\\\\n",
       " <chr> & <int> & <dbl> & <dbl>\\\\\n",
       "\\hline\n",
       "\t ABQ &   254 & 1826.0000 &  4.381890\\\\\n",
       "\t ACK &   265 &  199.0000 &  4.852273\\\\\n",
       "\t ALB &   439 &  143.0000 & 14.397129\\\\\n",
       "\t ANC &     8 & 3370.0000 & -2.500000\\\\\n",
       "\t ATL & 17215 &  757.1082 & 11.300113\\\\\n",
       "\t AUS &  2439 & 1514.2530 &  6.019909\\\\\n",
       "\\end{tabular}\n"
      ],
      "text/markdown": [
       "\n",
       "A tibble: 6 × 4\n",
       "\n",
       "| dest &lt;chr&gt; | count &lt;int&gt; | dist &lt;dbl&gt; | delay &lt;dbl&gt; |\n",
       "|---|---|---|---|\n",
       "| ABQ |   254 | 1826.0000 |  4.381890 |\n",
       "| ACK |   265 |  199.0000 |  4.852273 |\n",
       "| ALB |   439 |  143.0000 | 14.397129 |\n",
       "| ANC |     8 | 3370.0000 | -2.500000 |\n",
       "| ATL | 17215 |  757.1082 | 11.300113 |\n",
       "| AUS |  2439 | 1514.2530 |  6.019909 |\n",
       "\n"
      ],
      "text/plain": [
       "  dest count dist      delay    \n",
       "1 ABQ    254 1826.0000  4.381890\n",
       "2 ACK    265  199.0000  4.852273\n",
       "3 ALB    439  143.0000 14.397129\n",
       "4 ANC      8 3370.0000 -2.500000\n",
       "5 ATL  17215  757.1082 11.300113\n",
       "6 AUS   2439 1514.2530  6.019909"
      ]
     },
     "metadata": {},
     "output_type": "display_data"
    }
   ],
   "source": [
    "delay %>% head"
   ]
  },
  {
   "cell_type": "code",
   "execution_count": 33,
   "id": "167e1491-c0ce-4d59-8b36-8e31e0c379ed",
   "metadata": {},
   "outputs": [
    {
     "data": {
      "text/html": [
       "<table class=\"dataframe\">\n",
       "<caption>A tibble: 6 × 4</caption>\n",
       "<thead>\n",
       "\t<tr><th scope=col>dest</th><th scope=col>count</th><th scope=col>dist</th><th scope=col>delay</th></tr>\n",
       "\t<tr><th scope=col>&lt;chr&gt;</th><th scope=col>&lt;int&gt;</th><th scope=col>&lt;dbl&gt;</th><th scope=col>&lt;dbl&gt;</th></tr>\n",
       "</thead>\n",
       "<tbody>\n",
       "\t<tr><td>ABQ</td><td>  254</td><td>1826.0000</td><td> 4.381890</td></tr>\n",
       "\t<tr><td>ACK</td><td>  265</td><td> 199.0000</td><td> 4.852273</td></tr>\n",
       "\t<tr><td>ALB</td><td>  439</td><td> 143.0000</td><td>14.397129</td></tr>\n",
       "\t<tr><td>ATL</td><td>17215</td><td> 757.1082</td><td>11.300113</td></tr>\n",
       "\t<tr><td>AUS</td><td> 2439</td><td>1514.2530</td><td> 6.019909</td></tr>\n",
       "\t<tr><td>AVL</td><td>  275</td><td> 583.5818</td><td> 8.003831</td></tr>\n",
       "</tbody>\n",
       "</table>\n"
      ],
      "text/latex": [
       "A tibble: 6 × 4\n",
       "\\begin{tabular}{llll}\n",
       " dest & count & dist & delay\\\\\n",
       " <chr> & <int> & <dbl> & <dbl>\\\\\n",
       "\\hline\n",
       "\t ABQ &   254 & 1826.0000 &  4.381890\\\\\n",
       "\t ACK &   265 &  199.0000 &  4.852273\\\\\n",
       "\t ALB &   439 &  143.0000 & 14.397129\\\\\n",
       "\t ATL & 17215 &  757.1082 & 11.300113\\\\\n",
       "\t AUS &  2439 & 1514.2530 &  6.019909\\\\\n",
       "\t AVL &   275 &  583.5818 &  8.003831\\\\\n",
       "\\end{tabular}\n"
      ],
      "text/markdown": [
       "\n",
       "A tibble: 6 × 4\n",
       "\n",
       "| dest &lt;chr&gt; | count &lt;int&gt; | dist &lt;dbl&gt; | delay &lt;dbl&gt; |\n",
       "|---|---|---|---|\n",
       "| ABQ |   254 | 1826.0000 |  4.381890 |\n",
       "| ACK |   265 |  199.0000 |  4.852273 |\n",
       "| ALB |   439 |  143.0000 | 14.397129 |\n",
       "| ATL | 17215 |  757.1082 | 11.300113 |\n",
       "| AUS |  2439 | 1514.2530 |  6.019909 |\n",
       "| AVL |   275 |  583.5818 |  8.003831 |\n",
       "\n"
      ],
      "text/plain": [
       "  dest count dist      delay    \n",
       "1 ABQ    254 1826.0000  4.381890\n",
       "2 ACK    265  199.0000  4.852273\n",
       "3 ALB    439  143.0000 14.397129\n",
       "4 ATL  17215  757.1082 11.300113\n",
       "5 AUS   2439 1514.2530  6.019909\n",
       "6 AVL    275  583.5818  8.003831"
      ]
     },
     "metadata": {},
     "output_type": "display_data"
    }
   ],
   "source": [
    "delay <- filter(delay, count > 20, dest != \"HNL\")\n",
    "delay %>% head"
   ]
  },
  {
   "cell_type": "code",
   "execution_count": 34,
   "id": "fff17969-7f88-48b6-9f66-1093645cf67c",
   "metadata": {},
   "outputs": [
    {
     "name": "stderr",
     "output_type": "stream",
     "text": [
      "`geom_smooth()` using method = 'loess' and formula 'y ~ x'\n",
      "\n"
     ]
    },
    {
     "data": {
      "image/png": "[encoded data removed]",
      "text/plain": [
       "plot without title"
      ]
     },
     "metadata": {
      "image/png": {
       "height": 420,
       "width": 420
      }
     },
     "output_type": "display_data"
    }
   ],
   "source": [
    "ggplot(data = delay, mapping = aes(x = dist, y = delay)) + \n",
    "geom_point(aes(size = count), alpha = 1/3) +\n",
    "geom_smooth(se = FALSE)"
   ]
  },
  {
   "cell_type": "code",
   "execution_count": 35,
   "id": "ed75dfd8-a3fd-4e83-a884-7d6fcc7c2e48",
   "metadata": {},
   "outputs": [],
   "source": [
    "delays <- flights %>%\n",
    "group_by(dest) %>%\n",
    "summarize(\n",
    "    count = n(),\n",
    "    dist = mean(distance, na.rm = TRUE),\n",
    "    delay = mean(arr_delay, na.rm = TRUE)\n",
    "    ) %>%\n",
    "filter(count > 20, dest != \"HNL\")"
   ]
  },
  {
   "cell_type": "code",
   "execution_count": 36,
   "id": "083acec5-c3b7-4724-a959-9c225daf3ec5",
   "metadata": {},
   "outputs": [
    {
     "data": {
      "text/html": [
       "<table class=\"dataframe\">\n",
       "<caption>A tibble: 6 × 4</caption>\n",
       "<thead>\n",
       "\t<tr><th scope=col>dest</th><th scope=col>count</th><th scope=col>dist</th><th scope=col>delay</th></tr>\n",
       "\t<tr><th scope=col>&lt;chr&gt;</th><th scope=col>&lt;int&gt;</th><th scope=col>&lt;dbl&gt;</th><th scope=col>&lt;dbl&gt;</th></tr>\n",
       "</thead>\n",
       "<tbody>\n",
       "\t<tr><td>ABQ</td><td>  254</td><td>1826.0000</td><td> 4.381890</td></tr>\n",
       "\t<tr><td>ACK</td><td>  265</td><td> 199.0000</td><td> 4.852273</td></tr>\n",
       "\t<tr><td>ALB</td><td>  439</td><td> 143.0000</td><td>14.397129</td></tr>\n",
       "\t<tr><td>ATL</td><td>17215</td><td> 757.1082</td><td>11.300113</td></tr>\n",
       "\t<tr><td>AUS</td><td> 2439</td><td>1514.2530</td><td> 6.019909</td></tr>\n",
       "\t<tr><td>AVL</td><td>  275</td><td> 583.5818</td><td> 8.003831</td></tr>\n",
       "</tbody>\n",
       "</table>\n"
      ],
      "text/latex": [
       "A tibble: 6 × 4\n",
       "\\begin{tabular}{llll}\n",
       " dest & count & dist & delay\\\\\n",
       " <chr> & <int> & <dbl> & <dbl>\\\\\n",
       "\\hline\n",
       "\t ABQ &   254 & 1826.0000 &  4.381890\\\\\n",
       "\t ACK &   265 &  199.0000 &  4.852273\\\\\n",
       "\t ALB &   439 &  143.0000 & 14.397129\\\\\n",
       "\t ATL & 17215 &  757.1082 & 11.300113\\\\\n",
       "\t AUS &  2439 & 1514.2530 &  6.019909\\\\\n",
       "\t AVL &   275 &  583.5818 &  8.003831\\\\\n",
       "\\end{tabular}\n"
      ],
      "text/markdown": [
       "\n",
       "A tibble: 6 × 4\n",
       "\n",
       "| dest &lt;chr&gt; | count &lt;int&gt; | dist &lt;dbl&gt; | delay &lt;dbl&gt; |\n",
       "|---|---|---|---|\n",
       "| ABQ |   254 | 1826.0000 |  4.381890 |\n",
       "| ACK |   265 |  199.0000 |  4.852273 |\n",
       "| ALB |   439 |  143.0000 | 14.397129 |\n",
       "| ATL | 17215 |  757.1082 | 11.300113 |\n",
       "| AUS |  2439 | 1514.2530 |  6.019909 |\n",
       "| AVL |   275 |  583.5818 |  8.003831 |\n",
       "\n"
      ],
      "text/plain": [
       "  dest count dist      delay    \n",
       "1 ABQ    254 1826.0000  4.381890\n",
       "2 ACK    265  199.0000  4.852273\n",
       "3 ALB    439  143.0000 14.397129\n",
       "4 ATL  17215  757.1082 11.300113\n",
       "5 AUS   2439 1514.2530  6.019909\n",
       "6 AVL    275  583.5818  8.003831"
      ]
     },
     "metadata": {},
     "output_type": "display_data"
    }
   ],
   "source": [
    "delays %>% head"
   ]
  },
  {
   "cell_type": "code",
   "execution_count": 37,
   "id": "66bb862e-4fcb-43be-98f0-fe86bf3302a3",
   "metadata": {},
   "outputs": [
    {
     "name": "stderr",
     "output_type": "stream",
     "text": [
      "\u001b[1m\u001b[22m`summarise()` has grouped output by 'year', 'month'. You can override using the\n",
      "`.groups` argument.\n"
     ]
    },
    {
     "data": {
      "text/html": [
       "<table class=\"dataframe\">\n",
       "<caption>A grouped_df: 6 × 4</caption>\n",
       "<thead>\n",
       "\t<tr><th scope=col>year</th><th scope=col>month</th><th scope=col>day</th><th scope=col>mean</th></tr>\n",
       "\t<tr><th scope=col>&lt;int&gt;</th><th scope=col>&lt;int&gt;</th><th scope=col>&lt;int&gt;</th><th scope=col>&lt;dbl&gt;</th></tr>\n",
       "</thead>\n",
       "<tbody>\n",
       "\t<tr><td>2013</td><td>1</td><td>1</td><td>11.548926</td></tr>\n",
       "\t<tr><td>2013</td><td>1</td><td>2</td><td>13.858824</td></tr>\n",
       "\t<tr><td>2013</td><td>1</td><td>3</td><td>10.987832</td></tr>\n",
       "\t<tr><td>2013</td><td>1</td><td>4</td><td> 8.951595</td></tr>\n",
       "\t<tr><td>2013</td><td>1</td><td>5</td><td> 5.732218</td></tr>\n",
       "\t<tr><td>2013</td><td>1</td><td>6</td><td> 7.148014</td></tr>\n",
       "</tbody>\n",
       "</table>\n"
      ],
      "text/latex": [
       "A grouped\\_df: 6 × 4\n",
       "\\begin{tabular}{llll}\n",
       " year & month & day & mean\\\\\n",
       " <int> & <int> & <int> & <dbl>\\\\\n",
       "\\hline\n",
       "\t 2013 & 1 & 1 & 11.548926\\\\\n",
       "\t 2013 & 1 & 2 & 13.858824\\\\\n",
       "\t 2013 & 1 & 3 & 10.987832\\\\\n",
       "\t 2013 & 1 & 4 &  8.951595\\\\\n",
       "\t 2013 & 1 & 5 &  5.732218\\\\\n",
       "\t 2013 & 1 & 6 &  7.148014\\\\\n",
       "\\end{tabular}\n"
      ],
      "text/markdown": [
       "\n",
       "A grouped_df: 6 × 4\n",
       "\n",
       "| year &lt;int&gt; | month &lt;int&gt; | day &lt;int&gt; | mean &lt;dbl&gt; |\n",
       "|---|---|---|---|\n",
       "| 2013 | 1 | 1 | 11.548926 |\n",
       "| 2013 | 1 | 2 | 13.858824 |\n",
       "| 2013 | 1 | 3 | 10.987832 |\n",
       "| 2013 | 1 | 4 |  8.951595 |\n",
       "| 2013 | 1 | 5 |  5.732218 |\n",
       "| 2013 | 1 | 6 |  7.148014 |\n",
       "\n"
      ],
      "text/plain": [
       "  year month day mean     \n",
       "1 2013 1     1   11.548926\n",
       "2 2013 1     2   13.858824\n",
       "3 2013 1     3   10.987832\n",
       "4 2013 1     4    8.951595\n",
       "5 2013 1     5    5.732218\n",
       "6 2013 1     6    7.148014"
      ]
     },
     "metadata": {},
     "output_type": "display_data"
    }
   ],
   "source": [
    "flights %>% \n",
    "group_by(year, month, day) %>%\n",
    "summarize(mean = mean(dep_delay, na.rm = TRUE)) %>% head"
   ]
  },
  {
   "cell_type": "code",
   "execution_count": 38,
   "id": "2680c35f-7d2d-4d1d-9603-ee636b47068a",
   "metadata": {},
   "outputs": [
    {
     "data": {
      "text/html": [
       "<table class=\"dataframe\">\n",
       "<caption>A tibble: 6 × 19</caption>\n",
       "<thead>\n",
       "\t<tr><th scope=col>year</th><th scope=col>month</th><th scope=col>day</th><th scope=col>dep_time</th><th scope=col>sched_dep_time</th><th scope=col>dep_delay</th><th scope=col>arr_time</th><th scope=col>sched_arr_time</th><th scope=col>arr_delay</th><th scope=col>carrier</th><th scope=col>flight</th><th scope=col>tailnum</th><th scope=col>origin</th><th scope=col>dest</th><th scope=col>air_time</th><th scope=col>distance</th><th scope=col>hour</th><th scope=col>minute</th><th scope=col>time_hour</th></tr>\n",
       "\t<tr><th scope=col>&lt;int&gt;</th><th scope=col>&lt;int&gt;</th><th scope=col>&lt;int&gt;</th><th scope=col>&lt;int&gt;</th><th scope=col>&lt;int&gt;</th><th scope=col>&lt;dbl&gt;</th><th scope=col>&lt;int&gt;</th><th scope=col>&lt;int&gt;</th><th scope=col>&lt;dbl&gt;</th><th scope=col>&lt;chr&gt;</th><th scope=col>&lt;int&gt;</th><th scope=col>&lt;chr&gt;</th><th scope=col>&lt;chr&gt;</th><th scope=col>&lt;chr&gt;</th><th scope=col>&lt;dbl&gt;</th><th scope=col>&lt;dbl&gt;</th><th scope=col>&lt;dbl&gt;</th><th scope=col>&lt;dbl&gt;</th><th scope=col>&lt;dttm&gt;</th></tr>\n",
       "</thead>\n",
       "<tbody>\n",
       "\t<tr><td>2013</td><td>1</td><td>1</td><td>517</td><td>515</td><td> 2</td><td> 830</td><td> 819</td><td> 11</td><td>UA</td><td>1545</td><td>N14228</td><td>EWR</td><td>IAH</td><td>227</td><td>1400</td><td>5</td><td>15</td><td>2013-01-01 05:00:00</td></tr>\n",
       "\t<tr><td>2013</td><td>1</td><td>1</td><td>533</td><td>529</td><td> 4</td><td> 850</td><td> 830</td><td> 20</td><td>UA</td><td>1714</td><td>N24211</td><td>LGA</td><td>IAH</td><td>227</td><td>1416</td><td>5</td><td>29</td><td>2013-01-01 05:00:00</td></tr>\n",
       "\t<tr><td>2013</td><td>1</td><td>1</td><td>542</td><td>540</td><td> 2</td><td> 923</td><td> 850</td><td> 33</td><td>AA</td><td>1141</td><td>N619AA</td><td>JFK</td><td>MIA</td><td>160</td><td>1089</td><td>5</td><td>40</td><td>2013-01-01 05:00:00</td></tr>\n",
       "\t<tr><td>2013</td><td>1</td><td>1</td><td>544</td><td>545</td><td>-1</td><td>1004</td><td>1022</td><td>-18</td><td>B6</td><td> 725</td><td>N804JB</td><td>JFK</td><td>BQN</td><td>183</td><td>1576</td><td>5</td><td>45</td><td>2013-01-01 05:00:00</td></tr>\n",
       "\t<tr><td>2013</td><td>1</td><td>1</td><td>554</td><td>600</td><td>-6</td><td> 812</td><td> 837</td><td>-25</td><td>DL</td><td> 461</td><td>N668DN</td><td>LGA</td><td>ATL</td><td>116</td><td> 762</td><td>6</td><td> 0</td><td>2013-01-01 06:00:00</td></tr>\n",
       "\t<tr><td>2013</td><td>1</td><td>1</td><td>554</td><td>558</td><td>-4</td><td> 740</td><td> 728</td><td> 12</td><td>UA</td><td>1696</td><td>N39463</td><td>EWR</td><td>ORD</td><td>150</td><td> 719</td><td>5</td><td>58</td><td>2013-01-01 05:00:00</td></tr>\n",
       "</tbody>\n",
       "</table>\n"
      ],
      "text/latex": [
       "A tibble: 6 × 19\n",
       "\\begin{tabular}{lllllllllllllllllll}\n",
       " year & month & day & dep\\_time & sched\\_dep\\_time & dep\\_delay & arr\\_time & sched\\_arr\\_time & arr\\_delay & carrier & flight & tailnum & origin & dest & air\\_time & distance & hour & minute & time\\_hour\\\\\n",
       " <int> & <int> & <int> & <int> & <int> & <dbl> & <int> & <int> & <dbl> & <chr> & <int> & <chr> & <chr> & <chr> & <dbl> & <dbl> & <dbl> & <dbl> & <dttm>\\\\\n",
       "\\hline\n",
       "\t 2013 & 1 & 1 & 517 & 515 &  2 &  830 &  819 &  11 & UA & 1545 & N14228 & EWR & IAH & 227 & 1400 & 5 & 15 & 2013-01-01 05:00:00\\\\\n",
       "\t 2013 & 1 & 1 & 533 & 529 &  4 &  850 &  830 &  20 & UA & 1714 & N24211 & LGA & IAH & 227 & 1416 & 5 & 29 & 2013-01-01 05:00:00\\\\\n",
       "\t 2013 & 1 & 1 & 542 & 540 &  2 &  923 &  850 &  33 & AA & 1141 & N619AA & JFK & MIA & 160 & 1089 & 5 & 40 & 2013-01-01 05:00:00\\\\\n",
       "\t 2013 & 1 & 1 & 544 & 545 & -1 & 1004 & 1022 & -18 & B6 &  725 & N804JB & JFK & BQN & 183 & 1576 & 5 & 45 & 2013-01-01 05:00:00\\\\\n",
       "\t 2013 & 1 & 1 & 554 & 600 & -6 &  812 &  837 & -25 & DL &  461 & N668DN & LGA & ATL & 116 &  762 & 6 &  0 & 2013-01-01 06:00:00\\\\\n",
       "\t 2013 & 1 & 1 & 554 & 558 & -4 &  740 &  728 &  12 & UA & 1696 & N39463 & EWR & ORD & 150 &  719 & 5 & 58 & 2013-01-01 05:00:00\\\\\n",
       "\\end{tabular}\n"
      ],
      "text/markdown": [
       "\n",
       "A tibble: 6 × 19\n",
       "\n",
       "| year &lt;int&gt; | month &lt;int&gt; | day &lt;int&gt; | dep_time &lt;int&gt; | sched_dep_time &lt;int&gt; | dep_delay &lt;dbl&gt; | arr_time &lt;int&gt; | sched_arr_time &lt;int&gt; | arr_delay &lt;dbl&gt; | carrier &lt;chr&gt; | flight &lt;int&gt; | tailnum &lt;chr&gt; | origin &lt;chr&gt; | dest &lt;chr&gt; | air_time &lt;dbl&gt; | distance &lt;dbl&gt; | hour &lt;dbl&gt; | minute &lt;dbl&gt; | time_hour &lt;dttm&gt; |\n",
       "|---|---|---|---|---|---|---|---|---|---|---|---|---|---|---|---|---|---|---|\n",
       "| 2013 | 1 | 1 | 517 | 515 |  2 |  830 |  819 |  11 | UA | 1545 | N14228 | EWR | IAH | 227 | 1400 | 5 | 15 | 2013-01-01 05:00:00 |\n",
       "| 2013 | 1 | 1 | 533 | 529 |  4 |  850 |  830 |  20 | UA | 1714 | N24211 | LGA | IAH | 227 | 1416 | 5 | 29 | 2013-01-01 05:00:00 |\n",
       "| 2013 | 1 | 1 | 542 | 540 |  2 |  923 |  850 |  33 | AA | 1141 | N619AA | JFK | MIA | 160 | 1089 | 5 | 40 | 2013-01-01 05:00:00 |\n",
       "| 2013 | 1 | 1 | 544 | 545 | -1 | 1004 | 1022 | -18 | B6 |  725 | N804JB | JFK | BQN | 183 | 1576 | 5 | 45 | 2013-01-01 05:00:00 |\n",
       "| 2013 | 1 | 1 | 554 | 600 | -6 |  812 |  837 | -25 | DL |  461 | N668DN | LGA | ATL | 116 |  762 | 6 |  0 | 2013-01-01 06:00:00 |\n",
       "| 2013 | 1 | 1 | 554 | 558 | -4 |  740 |  728 |  12 | UA | 1696 | N39463 | EWR | ORD | 150 |  719 | 5 | 58 | 2013-01-01 05:00:00 |\n",
       "\n"
      ],
      "text/plain": [
       "  year month day dep_time sched_dep_time dep_delay arr_time sched_arr_time\n",
       "1 2013 1     1   517      515             2         830      819          \n",
       "2 2013 1     1   533      529             4         850      830          \n",
       "3 2013 1     1   542      540             2         923      850          \n",
       "4 2013 1     1   544      545            -1        1004     1022          \n",
       "5 2013 1     1   554      600            -6         812      837          \n",
       "6 2013 1     1   554      558            -4         740      728          \n",
       "  arr_delay carrier flight tailnum origin dest air_time distance hour minute\n",
       "1  11       UA      1545   N14228  EWR    IAH  227      1400     5    15    \n",
       "2  20       UA      1714   N24211  LGA    IAH  227      1416     5    29    \n",
       "3  33       AA      1141   N619AA  JFK    MIA  160      1089     5    40    \n",
       "4 -18       B6       725   N804JB  JFK    BQN  183      1576     5    45    \n",
       "5 -25       DL       461   N668DN  LGA    ATL  116       762     6     0    \n",
       "6  12       UA      1696   N39463  EWR    ORD  150       719     5    58    \n",
       "  time_hour          \n",
       "1 2013-01-01 05:00:00\n",
       "2 2013-01-01 05:00:00\n",
       "3 2013-01-01 05:00:00\n",
       "4 2013-01-01 05:00:00\n",
       "5 2013-01-01 06:00:00\n",
       "6 2013-01-01 05:00:00"
      ]
     },
     "metadata": {},
     "output_type": "display_data"
    }
   ],
   "source": [
    "not_cancelled <- flights %>%\n",
    "filter(!is.na(dep_delay), !is.na(arr_delay))\n",
    "not_cancelled %>% head"
   ]
  },
  {
   "cell_type": "code",
   "execution_count": 39,
   "id": "a3710e95-a89d-49fd-b65a-f7c287f3427a",
   "metadata": {},
   "outputs": [
    {
     "name": "stderr",
     "output_type": "stream",
     "text": [
      "\u001b[1m\u001b[22m`summarise()` has grouped output by 'year', 'month'. You can override using the\n",
      "`.groups` argument.\n"
     ]
    },
    {
     "data": {
      "text/html": [
       "<table class=\"dataframe\">\n",
       "<caption>A grouped_df: 6 × 4</caption>\n",
       "<thead>\n",
       "\t<tr><th scope=col>year</th><th scope=col>month</th><th scope=col>day</th><th scope=col>mean</th></tr>\n",
       "\t<tr><th scope=col>&lt;int&gt;</th><th scope=col>&lt;int&gt;</th><th scope=col>&lt;int&gt;</th><th scope=col>&lt;dbl&gt;</th></tr>\n",
       "</thead>\n",
       "<tbody>\n",
       "\t<tr><td>2013</td><td>1</td><td>1</td><td>11.435620</td></tr>\n",
       "\t<tr><td>2013</td><td>1</td><td>2</td><td>13.677802</td></tr>\n",
       "\t<tr><td>2013</td><td>1</td><td>3</td><td>10.907778</td></tr>\n",
       "\t<tr><td>2013</td><td>1</td><td>4</td><td> 8.965859</td></tr>\n",
       "\t<tr><td>2013</td><td>1</td><td>5</td><td> 5.732218</td></tr>\n",
       "\t<tr><td>2013</td><td>1</td><td>6</td><td> 7.145959</td></tr>\n",
       "</tbody>\n",
       "</table>\n"
      ],
      "text/latex": [
       "A grouped\\_df: 6 × 4\n",
       "\\begin{tabular}{llll}\n",
       " year & month & day & mean\\\\\n",
       " <int> & <int> & <int> & <dbl>\\\\\n",
       "\\hline\n",
       "\t 2013 & 1 & 1 & 11.435620\\\\\n",
       "\t 2013 & 1 & 2 & 13.677802\\\\\n",
       "\t 2013 & 1 & 3 & 10.907778\\\\\n",
       "\t 2013 & 1 & 4 &  8.965859\\\\\n",
       "\t 2013 & 1 & 5 &  5.732218\\\\\n",
       "\t 2013 & 1 & 6 &  7.145959\\\\\n",
       "\\end{tabular}\n"
      ],
      "text/markdown": [
       "\n",
       "A grouped_df: 6 × 4\n",
       "\n",
       "| year &lt;int&gt; | month &lt;int&gt; | day &lt;int&gt; | mean &lt;dbl&gt; |\n",
       "|---|---|---|---|\n",
       "| 2013 | 1 | 1 | 11.435620 |\n",
       "| 2013 | 1 | 2 | 13.677802 |\n",
       "| 2013 | 1 | 3 | 10.907778 |\n",
       "| 2013 | 1 | 4 |  8.965859 |\n",
       "| 2013 | 1 | 5 |  5.732218 |\n",
       "| 2013 | 1 | 6 |  7.145959 |\n",
       "\n"
      ],
      "text/plain": [
       "  year month day mean     \n",
       "1 2013 1     1   11.435620\n",
       "2 2013 1     2   13.677802\n",
       "3 2013 1     3   10.907778\n",
       "4 2013 1     4    8.965859\n",
       "5 2013 1     5    5.732218\n",
       "6 2013 1     6    7.145959"
      ]
     },
     "metadata": {},
     "output_type": "display_data"
    }
   ],
   "source": [
    "not_cancelled %>% \n",
    "group_by(year, month, day) %>%\n",
    "summarize(mean = mean(dep_delay)) %>% head"
   ]
  },
  {
   "cell_type": "code",
   "execution_count": 40,
   "id": "cbf93fc2-64fd-4466-b307-0d6905855093",
   "metadata": {},
   "outputs": [],
   "source": [
    "delays <- not_cancelled %>%\n",
    "group_by(tailnum) %>%\n",
    "summarize(\n",
    "    delay = mean(arr_delay)\n",
    "    )"
   ]
  },
  {
   "cell_type": "code",
   "execution_count": 44,
   "id": "2193c13b-d23a-4989-a158-942096d2c9a3",
   "metadata": {},
   "outputs": [
    {
     "data": {
      "text/html": [
       "<table class=\"dataframe\">\n",
       "<caption>A tibble: 6 × 2</caption>\n",
       "<thead>\n",
       "\t<tr><th scope=col>tailnum</th><th scope=col>delay</th></tr>\n",
       "\t<tr><th scope=col>&lt;chr&gt;</th><th scope=col>&lt;dbl&gt;</th></tr>\n",
       "</thead>\n",
       "<tbody>\n",
       "\t<tr><td>D942DN</td><td>31.500000</td></tr>\n",
       "\t<tr><td>N0EGMQ</td><td> 9.982955</td></tr>\n",
       "\t<tr><td>N10156</td><td>12.717241</td></tr>\n",
       "\t<tr><td>N102UW</td><td> 2.937500</td></tr>\n",
       "\t<tr><td>N103US</td><td>-6.934783</td></tr>\n",
       "\t<tr><td>N104UW</td><td> 1.804348</td></tr>\n",
       "</tbody>\n",
       "</table>\n"
      ],
      "text/latex": [
       "A tibble: 6 × 2\n",
       "\\begin{tabular}{ll}\n",
       " tailnum & delay\\\\\n",
       " <chr> & <dbl>\\\\\n",
       "\\hline\n",
       "\t D942DN & 31.500000\\\\\n",
       "\t N0EGMQ &  9.982955\\\\\n",
       "\t N10156 & 12.717241\\\\\n",
       "\t N102UW &  2.937500\\\\\n",
       "\t N103US & -6.934783\\\\\n",
       "\t N104UW &  1.804348\\\\\n",
       "\\end{tabular}\n"
      ],
      "text/markdown": [
       "\n",
       "A tibble: 6 × 2\n",
       "\n",
       "| tailnum &lt;chr&gt; | delay &lt;dbl&gt; |\n",
       "|---|---|\n",
       "| D942DN | 31.500000 |\n",
       "| N0EGMQ |  9.982955 |\n",
       "| N10156 | 12.717241 |\n",
       "| N102UW |  2.937500 |\n",
       "| N103US | -6.934783 |\n",
       "| N104UW |  1.804348 |\n",
       "\n"
      ],
      "text/plain": [
       "  tailnum delay    \n",
       "1 D942DN  31.500000\n",
       "2 N0EGMQ   9.982955\n",
       "3 N10156  12.717241\n",
       "4 N102UW   2.937500\n",
       "5 N103US  -6.934783\n",
       "6 N104UW   1.804348"
      ]
     },
     "metadata": {},
     "output_type": "display_data"
    }
   ],
   "source": [
    "delays %>% head # tailnum : 비행기 등록번호"
   ]
  },
  {
   "cell_type": "markdown",
   "id": "c922b3e9-db4b-4b8a-8de2-8306e6acf1ab",
   "metadata": {},
   "source": [
    "`geom_freqpoly` : 요약된 수치 값들의 분포를 보여주는(알아서 구간 `cut`하고 `histplot`내주는)"
   ]
  },
  {
   "cell_type": "code",
   "execution_count": 46,
   "id": "e8771ea3-ad59-487f-8827-2fbbc6852e8b",
   "metadata": {},
   "outputs": [
    {
     "data": {
      "image/png": "[encoded data removed]",
      "text/plain": [
       "plot without title"
      ]
     },
     "metadata": {
      "image/png": {
       "height": 420,
       "width": 420
      }
     },
     "output_type": "display_data"
    }
   ],
   "source": [
    "ggplot(data = delays, mapping = aes(x = delay)) +\n",
    "geom_freqpoly(binwidth = 10)"
   ]
  },
  {
   "cell_type": "markdown",
   "id": "8471f45f-e3fa-475f-a0d5-d5c5b6a24074",
   "metadata": {},
   "source": [
    "-  애초에 평균으로 요약된 데이터로 구한 plot으로 특정 한공기 종류는 도착 지연시간 평균이 300분을 넘어가는 것을 볼 수 있다."
   ]
  },
  {
   "cell_type": "code",
   "execution_count": 49,
   "id": "4e2e8166-b3d1-4322-a679-216fd7e2dc84",
   "metadata": {},
   "outputs": [],
   "source": [
    "delays <- not_cancelled %>%\n",
    "    group_by(tailnum) %>%\n",
    "    summarize(\n",
    "        delay = mean(arr_delay, na.rm=TRUE),\n",
    "        n = n()\n",
    "        )"
   ]
  },
  {
   "cell_type": "code",
   "execution_count": 54,
   "id": "2e92dca3-8ec4-465e-921f-bb3f7dc2f83b",
   "metadata": {},
   "outputs": [
    {
     "data": {
      "text/html": [
       "<table class=\"dataframe\">\n",
       "<caption>A tibble: 6 × 3</caption>\n",
       "<thead>\n",
       "\t<tr><th scope=col>tailnum</th><th scope=col>delay</th><th scope=col>n</th></tr>\n",
       "\t<tr><th scope=col>&lt;chr&gt;</th><th scope=col>&lt;dbl&gt;</th><th scope=col>&lt;int&gt;</th></tr>\n",
       "</thead>\n",
       "<tbody>\n",
       "\t<tr><td>D942DN</td><td>31.500000</td><td>  4</td></tr>\n",
       "\t<tr><td>N0EGMQ</td><td> 9.982955</td><td>352</td></tr>\n",
       "\t<tr><td>N10156</td><td>12.717241</td><td>145</td></tr>\n",
       "\t<tr><td>N102UW</td><td> 2.937500</td><td> 48</td></tr>\n",
       "\t<tr><td>N103US</td><td>-6.934783</td><td> 46</td></tr>\n",
       "\t<tr><td>N104UW</td><td> 1.804348</td><td> 46</td></tr>\n",
       "</tbody>\n",
       "</table>\n"
      ],
      "text/latex": [
       "A tibble: 6 × 3\n",
       "\\begin{tabular}{lll}\n",
       " tailnum & delay & n\\\\\n",
       " <chr> & <dbl> & <int>\\\\\n",
       "\\hline\n",
       "\t D942DN & 31.500000 &   4\\\\\n",
       "\t N0EGMQ &  9.982955 & 352\\\\\n",
       "\t N10156 & 12.717241 & 145\\\\\n",
       "\t N102UW &  2.937500 &  48\\\\\n",
       "\t N103US & -6.934783 &  46\\\\\n",
       "\t N104UW &  1.804348 &  46\\\\\n",
       "\\end{tabular}\n"
      ],
      "text/markdown": [
       "\n",
       "A tibble: 6 × 3\n",
       "\n",
       "| tailnum &lt;chr&gt; | delay &lt;dbl&gt; | n &lt;int&gt; |\n",
       "|---|---|---|\n",
       "| D942DN | 31.500000 |   4 |\n",
       "| N0EGMQ |  9.982955 | 352 |\n",
       "| N10156 | 12.717241 | 145 |\n",
       "| N102UW |  2.937500 |  48 |\n",
       "| N103US | -6.934783 |  46 |\n",
       "| N104UW |  1.804348 |  46 |\n",
       "\n"
      ],
      "text/plain": [
       "  tailnum delay     n  \n",
       "1 D942DN  31.500000   4\n",
       "2 N0EGMQ   9.982955 352\n",
       "3 N10156  12.717241 145\n",
       "4 N102UW   2.937500  48\n",
       "5 N103US  -6.934783  46\n",
       "6 N104UW   1.804348  46"
      ]
     },
     "metadata": {},
     "output_type": "display_data"
    }
   ],
   "source": [
    "delays %>% head # n만 추가"
   ]
  },
  {
   "cell_type": "code",
   "execution_count": 57,
   "id": "d3c48e73-2fba-48aa-b77b-279a3017517c",
   "metadata": {},
   "outputs": [
    {
     "data": {
      "image/png": "[encoded data removed]",
      "text/plain": [
       "plot without title"
      ]
     },
     "metadata": {
      "image/png": {
       "height": 420,
       "width": 420
      }
     },
     "output_type": "display_data"
    }
   ],
   "source": [
    "ggplot(data = delays, mapping = aes(x = n, y = delay)) +\n",
    "geom_point(alpha = 0.1)"
   ]
  },
  {
   "cell_type": "markdown",
   "id": "200ca2dd-a2ff-4b25-8845-e006c5f7c9ed",
   "metadata": {},
   "source": [
    "- 해석 : n은 해당 비행기 기종의 운행 횟수를 나타낸 것으로 운행횟수가 많이질수록 평균 지연시간의 변동폭이 적어짐을 알 수 있다.(평균이기에)  \n",
    "            반대로 평균 운행횟수가 적은 경우 변동폭이 비교적 더 큼."
   ]
  },
  {
   "cell_type": "code",
   "execution_count": 64,
   "id": "76251ed5-304b-42e5-9f4a-0163a799e665",
   "metadata": {},
   "outputs": [
    {
     "name": "stderr",
     "output_type": "stream",
     "text": [
      "\u001b[1m\u001b[22m`summarise()` has grouped output by 'year', 'month'. You can override using the\n",
      "`.groups` argument.\n"
     ]
    },
    {
     "data": {
      "text/html": [
       "<table class=\"dataframe\">\n",
       "<caption>A grouped_df: 6 × 5</caption>\n",
       "<thead>\n",
       "\t<tr><th scope=col>year</th><th scope=col>month</th><th scope=col>day</th><th scope=col>avg_delay1</th><th scope=col>avg_delay2</th></tr>\n",
       "\t<tr><th scope=col>&lt;int&gt;</th><th scope=col>&lt;int&gt;</th><th scope=col>&lt;int&gt;</th><th scope=col>&lt;dbl&gt;</th><th scope=col>&lt;dbl&gt;</th></tr>\n",
       "</thead>\n",
       "<tbody>\n",
       "\t<tr><td>2013</td><td>1</td><td>1</td><td>12.651023</td><td>32.48156</td></tr>\n",
       "\t<tr><td>2013</td><td>1</td><td>2</td><td>12.692888</td><td>32.02991</td></tr>\n",
       "\t<tr><td>2013</td><td>1</td><td>3</td><td> 5.733333</td><td>27.66087</td></tr>\n",
       "\t<tr><td>2013</td><td>1</td><td>4</td><td>-1.932819</td><td>28.30976</td></tr>\n",
       "\t<tr><td>2013</td><td>1</td><td>5</td><td>-1.525802</td><td>22.55882</td></tr>\n",
       "\t<tr><td>2013</td><td>1</td><td>6</td><td> 4.236429</td><td>24.37270</td></tr>\n",
       "</tbody>\n",
       "</table>\n"
      ],
      "text/latex": [
       "A grouped\\_df: 6 × 5\n",
       "\\begin{tabular}{lllll}\n",
       " year & month & day & avg\\_delay1 & avg\\_delay2\\\\\n",
       " <int> & <int> & <int> & <dbl> & <dbl>\\\\\n",
       "\\hline\n",
       "\t 2013 & 1 & 1 & 12.651023 & 32.48156\\\\\n",
       "\t 2013 & 1 & 2 & 12.692888 & 32.02991\\\\\n",
       "\t 2013 & 1 & 3 &  5.733333 & 27.66087\\\\\n",
       "\t 2013 & 1 & 4 & -1.932819 & 28.30976\\\\\n",
       "\t 2013 & 1 & 5 & -1.525802 & 22.55882\\\\\n",
       "\t 2013 & 1 & 6 &  4.236429 & 24.37270\\\\\n",
       "\\end{tabular}\n"
      ],
      "text/markdown": [
       "\n",
       "A grouped_df: 6 × 5\n",
       "\n",
       "| year &lt;int&gt; | month &lt;int&gt; | day &lt;int&gt; | avg_delay1 &lt;dbl&gt; | avg_delay2 &lt;dbl&gt; |\n",
       "|---|---|---|---|---|\n",
       "| 2013 | 1 | 1 | 12.651023 | 32.48156 |\n",
       "| 2013 | 1 | 2 | 12.692888 | 32.02991 |\n",
       "| 2013 | 1 | 3 |  5.733333 | 27.66087 |\n",
       "| 2013 | 1 | 4 | -1.932819 | 28.30976 |\n",
       "| 2013 | 1 | 5 | -1.525802 | 22.55882 |\n",
       "| 2013 | 1 | 6 |  4.236429 | 24.37270 |\n",
       "\n"
      ],
      "text/plain": [
       "  year month day avg_delay1 avg_delay2\n",
       "1 2013 1     1   12.651023  32.48156  \n",
       "2 2013 1     2   12.692888  32.02991  \n",
       "3 2013 1     3    5.733333  27.66087  \n",
       "4 2013 1     4   -1.932819  28.30976  \n",
       "5 2013 1     5   -1.525802  22.55882  \n",
       "6 2013 1     6    4.236429  24.37270  "
      ]
     },
     "metadata": {},
     "output_type": "display_data"
    }
   ],
   "source": [
    "not_cancelled %>% \n",
    "group_by(year, month, day) %>%\n",
    "summarize(\n",
    "    avg_delay1 = mean(arr_delay),\n",
    "    avg_delay2 = mean(arr_delay[arr_delay > 0])\n",
    "    ) %>% head"
   ]
  },
  {
   "cell_type": "code",
   "execution_count": 66,
   "id": "84fd2c3d-a9c1-4df7-8dd5-0ca6acb27341",
   "metadata": {},
   "outputs": [
    {
     "data": {
      "text/html": [
       "<table class=\"dataframe\">\n",
       "<caption>A tibble: 6 × 2</caption>\n",
       "<thead>\n",
       "\t<tr><th scope=col>dest</th><th scope=col>distance_sd</th></tr>\n",
       "\t<tr><th scope=col>&lt;chr&gt;</th><th scope=col>&lt;dbl&gt;</th></tr>\n",
       "</thead>\n",
       "<tbody>\n",
       "\t<tr><td>EGE</td><td>10.542765</td></tr>\n",
       "\t<tr><td>SAN</td><td>10.350094</td></tr>\n",
       "\t<tr><td>SFO</td><td>10.216017</td></tr>\n",
       "\t<tr><td>HNL</td><td>10.004197</td></tr>\n",
       "\t<tr><td>SEA</td><td> 9.977993</td></tr>\n",
       "\t<tr><td>LAS</td><td> 9.907786</td></tr>\n",
       "</tbody>\n",
       "</table>\n"
      ],
      "text/latex": [
       "A tibble: 6 × 2\n",
       "\\begin{tabular}{ll}\n",
       " dest & distance\\_sd\\\\\n",
       " <chr> & <dbl>\\\\\n",
       "\\hline\n",
       "\t EGE & 10.542765\\\\\n",
       "\t SAN & 10.350094\\\\\n",
       "\t SFO & 10.216017\\\\\n",
       "\t HNL & 10.004197\\\\\n",
       "\t SEA &  9.977993\\\\\n",
       "\t LAS &  9.907786\\\\\n",
       "\\end{tabular}\n"
      ],
      "text/markdown": [
       "\n",
       "A tibble: 6 × 2\n",
       "\n",
       "| dest &lt;chr&gt; | distance_sd &lt;dbl&gt; |\n",
       "|---|---|\n",
       "| EGE | 10.542765 |\n",
       "| SAN | 10.350094 |\n",
       "| SFO | 10.216017 |\n",
       "| HNL | 10.004197 |\n",
       "| SEA |  9.977993 |\n",
       "| LAS |  9.907786 |\n",
       "\n"
      ],
      "text/plain": [
       "  dest distance_sd\n",
       "1 EGE  10.542765  \n",
       "2 SAN  10.350094  \n",
       "3 SFO  10.216017  \n",
       "4 HNL  10.004197  \n",
       "5 SEA   9.977993  \n",
       "6 LAS   9.907786  "
      ]
     },
     "metadata": {},
     "output_type": "display_data"
    }
   ],
   "source": [
    "not_cancelled %>% \n",
    "group_by(dest) %>% \n",
    "summarize(distance_sd = sd(distance)) %>%\n",
    "arrange(desc(distance_sd)) %>% head"
   ]
  },
  {
   "cell_type": "code",
   "execution_count": 68,
   "id": "852475ee-cec4-4c1e-9edc-0d67b9d163f9",
   "metadata": {},
   "outputs": [
    {
     "name": "stderr",
     "output_type": "stream",
     "text": [
      "\u001b[1m\u001b[22m`summarise()` has grouped output by 'year', 'month'. You can override using the\n",
      "`.groups` argument.\n"
     ]
    },
    {
     "data": {
      "text/html": [
       "<table class=\"dataframe\">\n",
       "<caption>A grouped_df: 6 × 5</caption>\n",
       "<thead>\n",
       "\t<tr><th scope=col>year</th><th scope=col>month</th><th scope=col>day</th><th scope=col>first</th><th scope=col>last</th></tr>\n",
       "\t<tr><th scope=col>&lt;int&gt;</th><th scope=col>&lt;int&gt;</th><th scope=col>&lt;int&gt;</th><th scope=col>&lt;int&gt;</th><th scope=col>&lt;int&gt;</th></tr>\n",
       "</thead>\n",
       "<tbody>\n",
       "\t<tr><td>2013</td><td>1</td><td>1</td><td>517</td><td>2356</td></tr>\n",
       "\t<tr><td>2013</td><td>1</td><td>2</td><td> 42</td><td>2354</td></tr>\n",
       "\t<tr><td>2013</td><td>1</td><td>3</td><td> 32</td><td>2349</td></tr>\n",
       "\t<tr><td>2013</td><td>1</td><td>4</td><td> 25</td><td>2358</td></tr>\n",
       "\t<tr><td>2013</td><td>1</td><td>5</td><td> 14</td><td>2357</td></tr>\n",
       "\t<tr><td>2013</td><td>1</td><td>6</td><td> 16</td><td>2355</td></tr>\n",
       "</tbody>\n",
       "</table>\n"
      ],
      "text/latex": [
       "A grouped\\_df: 6 × 5\n",
       "\\begin{tabular}{lllll}\n",
       " year & month & day & first & last\\\\\n",
       " <int> & <int> & <int> & <int> & <int>\\\\\n",
       "\\hline\n",
       "\t 2013 & 1 & 1 & 517 & 2356\\\\\n",
       "\t 2013 & 1 & 2 &  42 & 2354\\\\\n",
       "\t 2013 & 1 & 3 &  32 & 2349\\\\\n",
       "\t 2013 & 1 & 4 &  25 & 2358\\\\\n",
       "\t 2013 & 1 & 5 &  14 & 2357\\\\\n",
       "\t 2013 & 1 & 6 &  16 & 2355\\\\\n",
       "\\end{tabular}\n"
      ],
      "text/markdown": [
       "\n",
       "A grouped_df: 6 × 5\n",
       "\n",
       "| year &lt;int&gt; | month &lt;int&gt; | day &lt;int&gt; | first &lt;int&gt; | last &lt;int&gt; |\n",
       "|---|---|---|---|---|\n",
       "| 2013 | 1 | 1 | 517 | 2356 |\n",
       "| 2013 | 1 | 2 |  42 | 2354 |\n",
       "| 2013 | 1 | 3 |  32 | 2349 |\n",
       "| 2013 | 1 | 4 |  25 | 2358 |\n",
       "| 2013 | 1 | 5 |  14 | 2357 |\n",
       "| 2013 | 1 | 6 |  16 | 2355 |\n",
       "\n"
      ],
      "text/plain": [
       "  year month day first last\n",
       "1 2013 1     1   517   2356\n",
       "2 2013 1     2    42   2354\n",
       "3 2013 1     3    32   2349\n",
       "4 2013 1     4    25   2358\n",
       "5 2013 1     5    14   2357\n",
       "6 2013 1     6    16   2355"
      ]
     },
     "metadata": {},
     "output_type": "display_data"
    }
   ],
   "source": [
    "not_cancelled %>% \n",
    "group_by(year, month, day) %>%\n",
    "summarize(\n",
    "    first = min(dep_time),\n",
    "    last = max(dep_time)\n",
    "    ) %>% head"
   ]
  },
  {
   "cell_type": "markdown",
   "id": "ea61818c-ee90-434e-b84c-1019ad45b367",
   "metadata": {},
   "source": [
    "`range` : 범위를 알려주는 함수<br>\n",
    "최솟값과 최댓값을 표시"
   ]
  },
  {
   "cell_type": "code",
   "execution_count": 72,
   "id": "e706f152-5e16-41bf-a12e-99ae033f075a",
   "metadata": {},
   "outputs": [
    {
     "data": {
      "text/html": [
       "<table class=\"dataframe\">\n",
       "<caption>A grouped_df: 6 × 20</caption>\n",
       "<thead>\n",
       "\t<tr><th scope=col>year</th><th scope=col>month</th><th scope=col>day</th><th scope=col>dep_time</th><th scope=col>sched_dep_time</th><th scope=col>dep_delay</th><th scope=col>arr_time</th><th scope=col>sched_arr_time</th><th scope=col>arr_delay</th><th scope=col>carrier</th><th scope=col>flight</th><th scope=col>tailnum</th><th scope=col>origin</th><th scope=col>dest</th><th scope=col>air_time</th><th scope=col>distance</th><th scope=col>hour</th><th scope=col>minute</th><th scope=col>time_hour</th><th scope=col>r</th></tr>\n",
       "\t<tr><th scope=col>&lt;int&gt;</th><th scope=col>&lt;int&gt;</th><th scope=col>&lt;int&gt;</th><th scope=col>&lt;int&gt;</th><th scope=col>&lt;int&gt;</th><th scope=col>&lt;dbl&gt;</th><th scope=col>&lt;int&gt;</th><th scope=col>&lt;int&gt;</th><th scope=col>&lt;dbl&gt;</th><th scope=col>&lt;chr&gt;</th><th scope=col>&lt;int&gt;</th><th scope=col>&lt;chr&gt;</th><th scope=col>&lt;chr&gt;</th><th scope=col>&lt;chr&gt;</th><th scope=col>&lt;dbl&gt;</th><th scope=col>&lt;dbl&gt;</th><th scope=col>&lt;dbl&gt;</th><th scope=col>&lt;dbl&gt;</th><th scope=col>&lt;dttm&gt;</th><th scope=col>&lt;int&gt;</th></tr>\n",
       "</thead>\n",
       "<tbody>\n",
       "\t<tr><td>2013</td><td>1</td><td>1</td><td> 517</td><td> 515</td><td>  2</td><td>830</td><td>819</td><td> 11</td><td>UA</td><td>1545</td><td>N14228</td><td>EWR</td><td>IAH</td><td>227</td><td>1400</td><td> 5</td><td>15</td><td>2013-01-01 05:00:00</td><td>831</td></tr>\n",
       "\t<tr><td>2013</td><td>1</td><td>1</td><td>2356</td><td>2359</td><td> -3</td><td>425</td><td>437</td><td>-12</td><td>B6</td><td> 727</td><td>N588JB</td><td>JFK</td><td>BQN</td><td>186</td><td>1576</td><td>23</td><td>59</td><td>2013-01-01 23:00:00</td><td>  1</td></tr>\n",
       "\t<tr><td>2013</td><td>1</td><td>2</td><td>  42</td><td>2359</td><td> 43</td><td>518</td><td>442</td><td> 36</td><td>B6</td><td> 707</td><td>N580JB</td><td>JFK</td><td>SJU</td><td>189</td><td>1598</td><td>23</td><td>59</td><td>2013-01-02 23:00:00</td><td>928</td></tr>\n",
       "\t<tr><td>2013</td><td>1</td><td>2</td><td>2354</td><td>2359</td><td> -5</td><td>413</td><td>437</td><td>-24</td><td>B6</td><td> 727</td><td>N789JB</td><td>JFK</td><td>BQN</td><td>180</td><td>1576</td><td>23</td><td>59</td><td>2013-01-02 23:00:00</td><td>  1</td></tr>\n",
       "\t<tr><td>2013</td><td>1</td><td>3</td><td>  32</td><td>2359</td><td> 33</td><td>504</td><td>442</td><td> 22</td><td>B6</td><td> 707</td><td>N763JB</td><td>JFK</td><td>SJU</td><td>193</td><td>1598</td><td>23</td><td>59</td><td>2013-01-03 23:00:00</td><td>900</td></tr>\n",
       "\t<tr><td>2013</td><td>1</td><td>3</td><td>2349</td><td>2359</td><td>-10</td><td>434</td><td>445</td><td>-11</td><td>B6</td><td> 739</td><td>N729JB</td><td>JFK</td><td>PSE</td><td>199</td><td>1617</td><td>23</td><td>59</td><td>2013-01-03 23:00:00</td><td>  1</td></tr>\n",
       "</tbody>\n",
       "</table>\n"
      ],
      "text/latex": [
       "A grouped\\_df: 6 × 20\n",
       "\\begin{tabular}{llllllllllllllllllll}\n",
       " year & month & day & dep\\_time & sched\\_dep\\_time & dep\\_delay & arr\\_time & sched\\_arr\\_time & arr\\_delay & carrier & flight & tailnum & origin & dest & air\\_time & distance & hour & minute & time\\_hour & r\\\\\n",
       " <int> & <int> & <int> & <int> & <int> & <dbl> & <int> & <int> & <dbl> & <chr> & <int> & <chr> & <chr> & <chr> & <dbl> & <dbl> & <dbl> & <dbl> & <dttm> & <int>\\\\\n",
       "\\hline\n",
       "\t 2013 & 1 & 1 &  517 &  515 &   2 & 830 & 819 &  11 & UA & 1545 & N14228 & EWR & IAH & 227 & 1400 &  5 & 15 & 2013-01-01 05:00:00 & 831\\\\\n",
       "\t 2013 & 1 & 1 & 2356 & 2359 &  -3 & 425 & 437 & -12 & B6 &  727 & N588JB & JFK & BQN & 186 & 1576 & 23 & 59 & 2013-01-01 23:00:00 &   1\\\\\n",
       "\t 2013 & 1 & 2 &   42 & 2359 &  43 & 518 & 442 &  36 & B6 &  707 & N580JB & JFK & SJU & 189 & 1598 & 23 & 59 & 2013-01-02 23:00:00 & 928\\\\\n",
       "\t 2013 & 1 & 2 & 2354 & 2359 &  -5 & 413 & 437 & -24 & B6 &  727 & N789JB & JFK & BQN & 180 & 1576 & 23 & 59 & 2013-01-02 23:00:00 &   1\\\\\n",
       "\t 2013 & 1 & 3 &   32 & 2359 &  33 & 504 & 442 &  22 & B6 &  707 & N763JB & JFK & SJU & 193 & 1598 & 23 & 59 & 2013-01-03 23:00:00 & 900\\\\\n",
       "\t 2013 & 1 & 3 & 2349 & 2359 & -10 & 434 & 445 & -11 & B6 &  739 & N729JB & JFK & PSE & 199 & 1617 & 23 & 59 & 2013-01-03 23:00:00 &   1\\\\\n",
       "\\end{tabular}\n"
      ],
      "text/markdown": [
       "\n",
       "A grouped_df: 6 × 20\n",
       "\n",
       "| year &lt;int&gt; | month &lt;int&gt; | day &lt;int&gt; | dep_time &lt;int&gt; | sched_dep_time &lt;int&gt; | dep_delay &lt;dbl&gt; | arr_time &lt;int&gt; | sched_arr_time &lt;int&gt; | arr_delay &lt;dbl&gt; | carrier &lt;chr&gt; | flight &lt;int&gt; | tailnum &lt;chr&gt; | origin &lt;chr&gt; | dest &lt;chr&gt; | air_time &lt;dbl&gt; | distance &lt;dbl&gt; | hour &lt;dbl&gt; | minute &lt;dbl&gt; | time_hour &lt;dttm&gt; | r &lt;int&gt; |\n",
       "|---|---|---|---|---|---|---|---|---|---|---|---|---|---|---|---|---|---|---|---|\n",
       "| 2013 | 1 | 1 |  517 |  515 |   2 | 830 | 819 |  11 | UA | 1545 | N14228 | EWR | IAH | 227 | 1400 |  5 | 15 | 2013-01-01 05:00:00 | 831 |\n",
       "| 2013 | 1 | 1 | 2356 | 2359 |  -3 | 425 | 437 | -12 | B6 |  727 | N588JB | JFK | BQN | 186 | 1576 | 23 | 59 | 2013-01-01 23:00:00 |   1 |\n",
       "| 2013 | 1 | 2 |   42 | 2359 |  43 | 518 | 442 |  36 | B6 |  707 | N580JB | JFK | SJU | 189 | 1598 | 23 | 59 | 2013-01-02 23:00:00 | 928 |\n",
       "| 2013 | 1 | 2 | 2354 | 2359 |  -5 | 413 | 437 | -24 | B6 |  727 | N789JB | JFK | BQN | 180 | 1576 | 23 | 59 | 2013-01-02 23:00:00 |   1 |\n",
       "| 2013 | 1 | 3 |   32 | 2359 |  33 | 504 | 442 |  22 | B6 |  707 | N763JB | JFK | SJU | 193 | 1598 | 23 | 59 | 2013-01-03 23:00:00 | 900 |\n",
       "| 2013 | 1 | 3 | 2349 | 2359 | -10 | 434 | 445 | -11 | B6 |  739 | N729JB | JFK | PSE | 199 | 1617 | 23 | 59 | 2013-01-03 23:00:00 |   1 |\n",
       "\n"
      ],
      "text/plain": [
       "  year month day dep_time sched_dep_time dep_delay arr_time sched_arr_time\n",
       "1 2013 1     1    517      515             2       830      819           \n",
       "2 2013 1     1   2356     2359            -3       425      437           \n",
       "3 2013 1     2     42     2359            43       518      442           \n",
       "4 2013 1     2   2354     2359            -5       413      437           \n",
       "5 2013 1     3     32     2359            33       504      442           \n",
       "6 2013 1     3   2349     2359           -10       434      445           \n",
       "  arr_delay carrier flight tailnum origin dest air_time distance hour minute\n",
       "1  11       UA      1545   N14228  EWR    IAH  227      1400      5   15    \n",
       "2 -12       B6       727   N588JB  JFK    BQN  186      1576     23   59    \n",
       "3  36       B6       707   N580JB  JFK    SJU  189      1598     23   59    \n",
       "4 -24       B6       727   N789JB  JFK    BQN  180      1576     23   59    \n",
       "5  22       B6       707   N763JB  JFK    SJU  193      1598     23   59    \n",
       "6 -11       B6       739   N729JB  JFK    PSE  199      1617     23   59    \n",
       "  time_hour           r  \n",
       "1 2013-01-01 05:00:00 831\n",
       "2 2013-01-01 23:00:00   1\n",
       "3 2013-01-02 23:00:00 928\n",
       "4 2013-01-02 23:00:00   1\n",
       "5 2013-01-03 23:00:00 900\n",
       "6 2013-01-03 23:00:00   1"
      ]
     },
     "metadata": {},
     "output_type": "display_data"
    }
   ],
   "source": [
    "not_cancelled %>%\n",
    "group_by(year, month, day) %>%\n",
    "mutate(r = min_rank(desc(dep_time))) %>%\n",
    "filter(r %in% range(r)) %>% head"
   ]
  },
  {
   "cell_type": "markdown",
   "id": "c29ad65c-9ac9-4cd0-a491-0c42bd02aa39",
   "metadata": {},
   "source": [
    "`n_distinct` : 유일값 개수 카운트<br>\n",
    "여기서는 각 도착지마다의 항공사의 종류 갯수를 나타냄"
   ]
  },
  {
   "cell_type": "code",
   "execution_count": 91,
   "id": "1ab77e70-9d49-4bb8-b70a-832d57a8e198",
   "metadata": {},
   "outputs": [
    {
     "data": {
      "text/html": [
       "<table class=\"dataframe\">\n",
       "<caption>A tibble: 6 × 2</caption>\n",
       "<thead>\n",
       "\t<tr><th scope=col>dest</th><th scope=col>carriers</th></tr>\n",
       "\t<tr><th scope=col>&lt;chr&gt;</th><th scope=col>&lt;int&gt;</th></tr>\n",
       "</thead>\n",
       "<tbody>\n",
       "\t<tr><td>ATL</td><td>7</td></tr>\n",
       "\t<tr><td>BOS</td><td>7</td></tr>\n",
       "\t<tr><td>CLT</td><td>7</td></tr>\n",
       "\t<tr><td>ORD</td><td>7</td></tr>\n",
       "\t<tr><td>TPA</td><td>7</td></tr>\n",
       "\t<tr><td>AUS</td><td>6</td></tr>\n",
       "</tbody>\n",
       "</table>\n"
      ],
      "text/latex": [
       "A tibble: 6 × 2\n",
       "\\begin{tabular}{ll}\n",
       " dest & carriers\\\\\n",
       " <chr> & <int>\\\\\n",
       "\\hline\n",
       "\t ATL & 7\\\\\n",
       "\t BOS & 7\\\\\n",
       "\t CLT & 7\\\\\n",
       "\t ORD & 7\\\\\n",
       "\t TPA & 7\\\\\n",
       "\t AUS & 6\\\\\n",
       "\\end{tabular}\n"
      ],
      "text/markdown": [
       "\n",
       "A tibble: 6 × 2\n",
       "\n",
       "| dest &lt;chr&gt; | carriers &lt;int&gt; |\n",
       "|---|---|\n",
       "| ATL | 7 |\n",
       "| BOS | 7 |\n",
       "| CLT | 7 |\n",
       "| ORD | 7 |\n",
       "| TPA | 7 |\n",
       "| AUS | 6 |\n",
       "\n"
      ],
      "text/plain": [
       "  dest carriers\n",
       "1 ATL  7       \n",
       "2 BOS  7       \n",
       "3 CLT  7       \n",
       "4 ORD  7       \n",
       "5 TPA  7       \n",
       "6 AUS  6       "
      ]
     },
     "metadata": {},
     "output_type": "display_data"
    }
   ],
   "source": [
    "not_cancelled %>%\n",
    "group_by(dest) %>%\n",
    "summarize(carriers = n_distinct(carrier)) %>%\n",
    "arrange(desc(carriers)) %>% head"
   ]
  },
  {
   "cell_type": "markdown",
   "id": "52367f82-a010-4f9d-8bca-efb5f4ac456d",
   "metadata": {},
   "source": [
    "`-` 이건 각 지역으로 가는 도착 총 항공편 수"
   ]
  },
  {
   "cell_type": "code",
   "execution_count": 93,
   "id": "88ce569c-10bd-4330-a69b-37641e57b620",
   "metadata": {},
   "outputs": [
    {
     "data": {
      "text/html": [
       "<table class=\"dataframe\">\n",
       "<caption>A tibble: 6 × 2</caption>\n",
       "<thead>\n",
       "\t<tr><th scope=col>dest</th><th scope=col>n</th></tr>\n",
       "\t<tr><th scope=col>&lt;chr&gt;</th><th scope=col>&lt;int&gt;</th></tr>\n",
       "</thead>\n",
       "<tbody>\n",
       "\t<tr><td>ABQ</td><td>  254</td></tr>\n",
       "\t<tr><td>ACK</td><td>  264</td></tr>\n",
       "\t<tr><td>ALB</td><td>  418</td></tr>\n",
       "\t<tr><td>ANC</td><td>    8</td></tr>\n",
       "\t<tr><td>ATL</td><td>16837</td></tr>\n",
       "\t<tr><td>AUS</td><td> 2411</td></tr>\n",
       "</tbody>\n",
       "</table>\n"
      ],
      "text/latex": [
       "A tibble: 6 × 2\n",
       "\\begin{tabular}{ll}\n",
       " dest & n\\\\\n",
       " <chr> & <int>\\\\\n",
       "\\hline\n",
       "\t ABQ &   254\\\\\n",
       "\t ACK &   264\\\\\n",
       "\t ALB &   418\\\\\n",
       "\t ANC &     8\\\\\n",
       "\t ATL & 16837\\\\\n",
       "\t AUS &  2411\\\\\n",
       "\\end{tabular}\n"
      ],
      "text/markdown": [
       "\n",
       "A tibble: 6 × 2\n",
       "\n",
       "| dest &lt;chr&gt; | n &lt;int&gt; |\n",
       "|---|---|\n",
       "| ABQ |   254 |\n",
       "| ACK |   264 |\n",
       "| ALB |   418 |\n",
       "| ANC |     8 |\n",
       "| ATL | 16837 |\n",
       "| AUS |  2411 |\n",
       "\n"
      ],
      "text/plain": [
       "  dest n    \n",
       "1 ABQ    254\n",
       "2 ACK    264\n",
       "3 ALB    418\n",
       "4 ANC      8\n",
       "5 ATL  16837\n",
       "6 AUS   2411"
      ]
     },
     "metadata": {},
     "output_type": "display_data"
    }
   ],
   "source": [
    "not_cancelled %>%\n",
    "count(dest) %>% head"
   ]
  },
  {
   "cell_type": "markdown",
   "id": "49d8400f-3589-43ee-aeb7-81fb0f06fc1c",
   "metadata": {},
   "source": [
    "`-` 해당 항공기가 비행한 총 마일 수"
   ]
  },
  {
   "cell_type": "markdown",
   "id": "a8fdccf2-7206-4949-9581-5779a4cc4a6e",
   "metadata": {},
   "source": [
    "`wt` : weight약자로 `count()`에서 사용시 가중 합을 의미"
   ]
  },
  {
   "cell_type": "code",
   "execution_count": 105,
   "id": "96f0f39e-9fb6-4ec3-b26e-9f538fb0a913",
   "metadata": {},
   "outputs": [
    {
     "data": {
      "text/html": [
       "<table class=\"dataframe\">\n",
       "<caption>A tibble: 6 × 2</caption>\n",
       "<thead>\n",
       "\t<tr><th scope=col>tailnum</th><th scope=col>n</th></tr>\n",
       "\t<tr><th scope=col>&lt;chr&gt;</th><th scope=col>&lt;dbl&gt;</th></tr>\n",
       "</thead>\n",
       "<tbody>\n",
       "\t<tr><td>D942DN</td><td>  3418</td></tr>\n",
       "\t<tr><td>N0EGMQ</td><td>239143</td></tr>\n",
       "\t<tr><td>N10156</td><td>109664</td></tr>\n",
       "\t<tr><td>N102UW</td><td> 25722</td></tr>\n",
       "\t<tr><td>N103US</td><td> 24619</td></tr>\n",
       "\t<tr><td>N104UW</td><td> 24616</td></tr>\n",
       "</tbody>\n",
       "</table>\n"
      ],
      "text/latex": [
       "A tibble: 6 × 2\n",
       "\\begin{tabular}{ll}\n",
       " tailnum & n\\\\\n",
       " <chr> & <dbl>\\\\\n",
       "\\hline\n",
       "\t D942DN &   3418\\\\\n",
       "\t N0EGMQ & 239143\\\\\n",
       "\t N10156 & 109664\\\\\n",
       "\t N102UW &  25722\\\\\n",
       "\t N103US &  24619\\\\\n",
       "\t N104UW &  24616\\\\\n",
       "\\end{tabular}\n"
      ],
      "text/markdown": [
       "\n",
       "A tibble: 6 × 2\n",
       "\n",
       "| tailnum &lt;chr&gt; | n &lt;dbl&gt; |\n",
       "|---|---|\n",
       "| D942DN |   3418 |\n",
       "| N0EGMQ | 239143 |\n",
       "| N10156 | 109664 |\n",
       "| N102UW |  25722 |\n",
       "| N103US |  24619 |\n",
       "| N104UW |  24616 |\n",
       "\n"
      ],
      "text/plain": [
       "  tailnum n     \n",
       "1 D942DN    3418\n",
       "2 N0EGMQ  239143\n",
       "3 N10156  109664\n",
       "4 N102UW   25722\n",
       "5 N103US   24619\n",
       "6 N104UW   24616"
      ]
     },
     "metadata": {},
     "output_type": "display_data"
    }
   ],
   "source": [
    "not_cancelled %>%\n",
    "count(tailnum, wt = distance) %>% head"
   ]
  },
  {
   "cell_type": "code",
   "execution_count": null,
   "id": "7d648387-1711-4ceb-bf37-1220ae2d2ffb",
   "metadata": {},
   "outputs": [],
   "source": []
  }
 ],
 "metadata": {
  "kernelspec": {
   "display_name": "R",
   "language": "R",
   "name": "ir"
  },
  "language_info": {
   "codemirror_mode": "r",
   "file_extension": ".r",
   "mimetype": "text/x-r-source",
   "name": "R",
   "pygments_lexer": "r",
   "version": "4.1.3"
  }
 },
 "nbformat": 4,
 "nbformat_minor": 5
}
